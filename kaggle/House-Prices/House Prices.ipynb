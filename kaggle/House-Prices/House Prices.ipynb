{
 "cells": [
  {
   "cell_type": "markdown",
   "metadata": {},
   "source": [
    "# House Prices: Advanced Regression Techniques\n",
    "\n",
    "> Date:2019-09-13,Author:Ho Loong"
   ]
  },
  {
   "cell_type": "markdown",
   "metadata": {},
   "source": [
    "# 1. 定义问题\n",
    "\n",
    "[Kaggle:House Prices](https://www.kaggle.com/c/house-prices-advanced-regression-techniques/data)\n",
    "\n",
    "* Supervise/Unsupervise:Supervise\n",
    "* Classification/Regression:Regression\n",
    "* Eval:RMSE\n",
    "* Train Data:'./input/train.csv', len=1460\n",
    "* Test Data:'./input/test.csv', len=1460"
   ]
  },
  {
   "cell_type": "markdown",
   "metadata": {},
   "source": [
    "# 2. 数据来源\n",
    "\n",
    "Kaggle provide data."
   ]
  },
  {
   "cell_type": "markdown",
   "metadata": {},
   "source": [
    "# 3. 加载库"
   ]
  },
  {
   "cell_type": "markdown",
   "metadata": {},
   "source": [
    "## 3.1 通用库"
   ]
  },
  {
   "cell_type": "code",
   "execution_count": 121,
   "metadata": {},
   "outputs": [],
   "source": [
    "import sys,os,time,datetime\n",
    "from collections import Counter\n",
    "\n",
    "import numpy as np\n",
    "import pandas as pd\n",
    "import seaborn as sns\n",
    "\n",
    "#ignore warnings\n",
    "import warnings\n",
    "warnings.filterwarnings('ignore')"
   ]
  },
  {
   "cell_type": "markdown",
   "metadata": {},
   "source": [
    "### 3.2 ML库"
   ]
  },
  {
   "cell_type": "code",
   "execution_count": 168,
   "metadata": {},
   "outputs": [],
   "source": [
    "#Common Model Algorithms\n",
    "from sklearn import ensemble\n",
    "from xgboost import XGBRegressor\n",
    "\n",
    "#Common Model Helpers\n",
    "from sklearn.preprocessing import LabelEncoder, OneHotEncoder, OrdinalEncoder, StandardScaler, Binarizer, KBinsDiscretizer\n",
    "from sklearn import feature_selection\n",
    "from sklearn import model_selection\n",
    "from sklearn import metrics\n",
    "from sklearn.metrics import make_scorer, mean_squared_error\n",
    "from sklearn.decomposition import PCA\n",
    "from sklearn.model_selection import learning_curve\n",
    "from sklearn.feature_selection import VarianceThreshold\n",
    "\n",
    "#Visualization\n",
    "import matplotlib as mpl\n",
    "import matplotlib.pyplot as plt\n",
    "import matplotlib.pylab as pylab\n",
    "import seaborn as sns\n",
    "\n",
    "#Configure Visualization Defaults\n",
    "%matplotlib inline\n",
    "mpl.style.use('ggplot')\n",
    "sns.set_style('white')\n",
    "pylab.rcParams['figure.figsize'] = 12,8\n",
    "\n",
    "le = LabelEncoder()"
   ]
  },
  {
   "cell_type": "markdown",
   "metadata": {},
   "source": [
    "# 4. 数据基本信息"
   ]
  },
  {
   "cell_type": "code",
   "execution_count": 3,
   "metadata": {},
   "outputs": [],
   "source": [
    "def concat_df(train_data, test_data):\n",
    "    # Returns a concatenated df of training and test set on axis 0\n",
    "    return pd.concat([train_data, test_data], sort=True).reset_index(drop=True)\n",
    "\n",
    "def divide_df(all_data):\n",
    "    # Returns divided dfs of training and test set\n",
    "    return all_data.loc[:1459], all_data.loc[1460:].drop(['SalePrice'], axis=1)"
   ]
  },
  {
   "cell_type": "markdown",
   "metadata": {},
   "source": [
    "## 4.1 基本信息"
   ]
  },
  {
   "cell_type": "code",
   "execution_count": 4,
   "metadata": {
    "scrolled": true
   },
   "outputs": [
    {
     "name": "stdout",
     "output_type": "stream",
     "text": [
      "<class 'pandas.core.frame.DataFrame'>\n",
      "RangeIndex: 1460 entries, 0 to 1459\n",
      "Data columns (total 81 columns):\n",
      "Id               1460 non-null int64\n",
      "MSSubClass       1460 non-null int64\n",
      "MSZoning         1460 non-null object\n",
      "LotFrontage      1201 non-null float64\n",
      "LotArea          1460 non-null int64\n",
      "Street           1460 non-null object\n",
      "Alley            91 non-null object\n",
      "LotShape         1460 non-null object\n",
      "LandContour      1460 non-null object\n",
      "Utilities        1460 non-null object\n",
      "LotConfig        1460 non-null object\n",
      "LandSlope        1460 non-null object\n",
      "Neighborhood     1460 non-null object\n",
      "Condition1       1460 non-null object\n",
      "Condition2       1460 non-null object\n",
      "BldgType         1460 non-null object\n",
      "HouseStyle       1460 non-null object\n",
      "OverallQual      1460 non-null int64\n",
      "OverallCond      1460 non-null int64\n",
      "YearBuilt        1460 non-null int64\n",
      "YearRemodAdd     1460 non-null int64\n",
      "RoofStyle        1460 non-null object\n",
      "RoofMatl         1460 non-null object\n",
      "Exterior1st      1460 non-null object\n",
      "Exterior2nd      1460 non-null object\n",
      "MasVnrType       1452 non-null object\n",
      "MasVnrArea       1452 non-null float64\n",
      "ExterQual        1460 non-null object\n",
      "ExterCond        1460 non-null object\n",
      "Foundation       1460 non-null object\n",
      "BsmtQual         1423 non-null object\n",
      "BsmtCond         1423 non-null object\n",
      "BsmtExposure     1422 non-null object\n",
      "BsmtFinType1     1423 non-null object\n",
      "BsmtFinSF1       1460 non-null int64\n",
      "BsmtFinType2     1422 non-null object\n",
      "BsmtFinSF2       1460 non-null int64\n",
      "BsmtUnfSF        1460 non-null int64\n",
      "TotalBsmtSF      1460 non-null int64\n",
      "Heating          1460 non-null object\n",
      "HeatingQC        1460 non-null object\n",
      "CentralAir       1460 non-null object\n",
      "Electrical       1459 non-null object\n",
      "1stFlrSF         1460 non-null int64\n",
      "2ndFlrSF         1460 non-null int64\n",
      "LowQualFinSF     1460 non-null int64\n",
      "GrLivArea        1460 non-null int64\n",
      "BsmtFullBath     1460 non-null int64\n",
      "BsmtHalfBath     1460 non-null int64\n",
      "FullBath         1460 non-null int64\n",
      "HalfBath         1460 non-null int64\n",
      "BedroomAbvGr     1460 non-null int64\n",
      "KitchenAbvGr     1460 non-null int64\n",
      "KitchenQual      1460 non-null object\n",
      "TotRmsAbvGrd     1460 non-null int64\n",
      "Functional       1460 non-null object\n",
      "Fireplaces       1460 non-null int64\n",
      "FireplaceQu      770 non-null object\n",
      "GarageType       1379 non-null object\n",
      "GarageYrBlt      1379 non-null float64\n",
      "GarageFinish     1379 non-null object\n",
      "GarageCars       1460 non-null int64\n",
      "GarageArea       1460 non-null int64\n",
      "GarageQual       1379 non-null object\n",
      "GarageCond       1379 non-null object\n",
      "PavedDrive       1460 non-null object\n",
      "WoodDeckSF       1460 non-null int64\n",
      "OpenPorchSF      1460 non-null int64\n",
      "EnclosedPorch    1460 non-null int64\n",
      "3SsnPorch        1460 non-null int64\n",
      "ScreenPorch      1460 non-null int64\n",
      "PoolArea         1460 non-null int64\n",
      "PoolQC           7 non-null object\n",
      "Fence            281 non-null object\n",
      "MiscFeature      54 non-null object\n",
      "MiscVal          1460 non-null int64\n",
      "MoSold           1460 non-null int64\n",
      "YrSold           1460 non-null int64\n",
      "SaleType         1460 non-null object\n",
      "SaleCondition    1460 non-null object\n",
      "SalePrice        1460 non-null int64\n",
      "dtypes: float64(3), int64(35), object(43)\n",
      "memory usage: 924.0+ KB\n",
      "None\n",
      "----------------------------------------------------------------------------------------------------\n",
      "<class 'pandas.core.frame.DataFrame'>\n",
      "RangeIndex: 1459 entries, 0 to 1458\n",
      "Data columns (total 80 columns):\n",
      "Id               1459 non-null int64\n",
      "MSSubClass       1459 non-null int64\n",
      "MSZoning         1455 non-null object\n",
      "LotFrontage      1232 non-null float64\n",
      "LotArea          1459 non-null int64\n",
      "Street           1459 non-null object\n",
      "Alley            107 non-null object\n",
      "LotShape         1459 non-null object\n",
      "LandContour      1459 non-null object\n",
      "Utilities        1457 non-null object\n",
      "LotConfig        1459 non-null object\n",
      "LandSlope        1459 non-null object\n",
      "Neighborhood     1459 non-null object\n",
      "Condition1       1459 non-null object\n",
      "Condition2       1459 non-null object\n",
      "BldgType         1459 non-null object\n",
      "HouseStyle       1459 non-null object\n",
      "OverallQual      1459 non-null int64\n",
      "OverallCond      1459 non-null int64\n",
      "YearBuilt        1459 non-null int64\n",
      "YearRemodAdd     1459 non-null int64\n",
      "RoofStyle        1459 non-null object\n",
      "RoofMatl         1459 non-null object\n",
      "Exterior1st      1458 non-null object\n",
      "Exterior2nd      1458 non-null object\n",
      "MasVnrType       1443 non-null object\n",
      "MasVnrArea       1444 non-null float64\n",
      "ExterQual        1459 non-null object\n",
      "ExterCond        1459 non-null object\n",
      "Foundation       1459 non-null object\n",
      "BsmtQual         1415 non-null object\n",
      "BsmtCond         1414 non-null object\n",
      "BsmtExposure     1415 non-null object\n",
      "BsmtFinType1     1417 non-null object\n",
      "BsmtFinSF1       1458 non-null float64\n",
      "BsmtFinType2     1417 non-null object\n",
      "BsmtFinSF2       1458 non-null float64\n",
      "BsmtUnfSF        1458 non-null float64\n",
      "TotalBsmtSF      1458 non-null float64\n",
      "Heating          1459 non-null object\n",
      "HeatingQC        1459 non-null object\n",
      "CentralAir       1459 non-null object\n",
      "Electrical       1459 non-null object\n",
      "1stFlrSF         1459 non-null int64\n",
      "2ndFlrSF         1459 non-null int64\n",
      "LowQualFinSF     1459 non-null int64\n",
      "GrLivArea        1459 non-null int64\n",
      "BsmtFullBath     1457 non-null float64\n",
      "BsmtHalfBath     1457 non-null float64\n",
      "FullBath         1459 non-null int64\n",
      "HalfBath         1459 non-null int64\n",
      "BedroomAbvGr     1459 non-null int64\n",
      "KitchenAbvGr     1459 non-null int64\n",
      "KitchenQual      1458 non-null object\n",
      "TotRmsAbvGrd     1459 non-null int64\n",
      "Functional       1457 non-null object\n",
      "Fireplaces       1459 non-null int64\n",
      "FireplaceQu      729 non-null object\n",
      "GarageType       1383 non-null object\n",
      "GarageYrBlt      1381 non-null float64\n",
      "GarageFinish     1381 non-null object\n",
      "GarageCars       1458 non-null float64\n",
      "GarageArea       1458 non-null float64\n",
      "GarageQual       1381 non-null object\n",
      "GarageCond       1381 non-null object\n",
      "PavedDrive       1459 non-null object\n",
      "WoodDeckSF       1459 non-null int64\n",
      "OpenPorchSF      1459 non-null int64\n",
      "EnclosedPorch    1459 non-null int64\n",
      "3SsnPorch        1459 non-null int64\n",
      "ScreenPorch      1459 non-null int64\n",
      "PoolArea         1459 non-null int64\n",
      "PoolQC           3 non-null object\n",
      "Fence            290 non-null object\n",
      "MiscFeature      51 non-null object\n",
      "MiscVal          1459 non-null int64\n",
      "MoSold           1459 non-null int64\n",
      "YrSold           1459 non-null int64\n",
      "SaleType         1458 non-null object\n",
      "SaleCondition    1459 non-null object\n",
      "dtypes: float64(11), int64(26), object(43)\n",
      "memory usage: 911.9+ KB\n",
      "None\n",
      "----------------------------------------------------------------------------------------------------\n",
      "        Id  MSSubClass MSZoning  LotFrontage  LotArea Street Alley LotShape  \\\n",
      "1168  1169          70       RL        120.0    13728   Pave   NaN      Reg   \n",
      "266    267          60       RL         70.0    11207   Pave   NaN      IR1   \n",
      "101    102          60       RL         77.0     9206   Pave   NaN      Reg   \n",
      "\n",
      "     LandContour Utilities  ... PoolArea PoolQC Fence MiscFeature MiscVal  \\\n",
      "1168         Lvl    AllPub  ...        0    NaN   NaN         NaN       0   \n",
      "266          HLS    AllPub  ...        0    NaN   NaN         NaN       0   \n",
      "101          Lvl    AllPub  ...        0    NaN   NaN         NaN       0   \n",
      "\n",
      "     MoSold YrSold  SaleType  SaleCondition  SalePrice  \n",
      "1168      7   2008        WD         Normal     235000  \n",
      "266       6   2006        WD         Normal     185000  \n",
      "101       6   2010        WD         Normal     178000  \n",
      "\n",
      "[3 rows x 81 columns]\n"
     ]
    }
   ],
   "source": [
    "train_data = pd.read_csv('./input/train.csv')\n",
    "test_data = pd.read_csv('./input/test.csv')\n",
    "\n",
    "all_data = concat_df(train_data, test_data)\n",
    "\n",
    "train_data.name = 'TrainSet'\n",
    "test_data.name = 'TestSet'\n",
    "all_data.name = 'AllSet'\n",
    "\n",
    "print train_data.info()\n",
    "print '-'*100\n",
    "print test_data.info()\n",
    "print '-'*100\n",
    "print train_data.sample(3)"
   ]
  },
  {
   "cell_type": "code",
   "execution_count": 5,
   "metadata": {},
   "outputs": [
    {
     "data": {
      "text/html": [
       "<div>\n",
       "<style scoped>\n",
       "    .dataframe tbody tr th:only-of-type {\n",
       "        vertical-align: middle;\n",
       "    }\n",
       "\n",
       "    .dataframe tbody tr th {\n",
       "        vertical-align: top;\n",
       "    }\n",
       "\n",
       "    .dataframe thead th {\n",
       "        text-align: right;\n",
       "    }\n",
       "</style>\n",
       "<table border=\"1\" class=\"dataframe\">\n",
       "  <thead>\n",
       "    <tr style=\"text-align: right;\">\n",
       "      <th></th>\n",
       "      <th>1stFlrSF</th>\n",
       "      <th>2ndFlrSF</th>\n",
       "      <th>3SsnPorch</th>\n",
       "      <th>Alley</th>\n",
       "      <th>BedroomAbvGr</th>\n",
       "      <th>BldgType</th>\n",
       "      <th>BsmtCond</th>\n",
       "      <th>BsmtExposure</th>\n",
       "      <th>BsmtFinSF1</th>\n",
       "      <th>BsmtFinSF2</th>\n",
       "      <th>...</th>\n",
       "      <th>SaleType</th>\n",
       "      <th>ScreenPorch</th>\n",
       "      <th>Street</th>\n",
       "      <th>TotRmsAbvGrd</th>\n",
       "      <th>TotalBsmtSF</th>\n",
       "      <th>Utilities</th>\n",
       "      <th>WoodDeckSF</th>\n",
       "      <th>YearBuilt</th>\n",
       "      <th>YearRemodAdd</th>\n",
       "      <th>YrSold</th>\n",
       "    </tr>\n",
       "  </thead>\n",
       "  <tbody>\n",
       "    <tr>\n",
       "      <th>1159</th>\n",
       "      <td>943</td>\n",
       "      <td>933</td>\n",
       "      <td>0</td>\n",
       "      <td>NaN</td>\n",
       "      <td>4</td>\n",
       "      <td>1Fam</td>\n",
       "      <td>TA</td>\n",
       "      <td>No</td>\n",
       "      <td>442.0</td>\n",
       "      <td>0.0</td>\n",
       "      <td>...</td>\n",
       "      <td>WD</td>\n",
       "      <td>0</td>\n",
       "      <td>Pave</td>\n",
       "      <td>8</td>\n",
       "      <td>901.0</td>\n",
       "      <td>AllPub</td>\n",
       "      <td>0</td>\n",
       "      <td>1974</td>\n",
       "      <td>1974</td>\n",
       "      <td>2008</td>\n",
       "    </tr>\n",
       "    <tr>\n",
       "      <th>1686</th>\n",
       "      <td>744</td>\n",
       "      <td>630</td>\n",
       "      <td>0</td>\n",
       "      <td>NaN</td>\n",
       "      <td>3</td>\n",
       "      <td>1Fam</td>\n",
       "      <td>TA</td>\n",
       "      <td>Mn</td>\n",
       "      <td>0.0</td>\n",
       "      <td>0.0</td>\n",
       "      <td>...</td>\n",
       "      <td>WD</td>\n",
       "      <td>0</td>\n",
       "      <td>Pave</td>\n",
       "      <td>6</td>\n",
       "      <td>384.0</td>\n",
       "      <td>AllPub</td>\n",
       "      <td>100</td>\n",
       "      <td>2004</td>\n",
       "      <td>2005</td>\n",
       "      <td>2009</td>\n",
       "    </tr>\n",
       "    <tr>\n",
       "      <th>459</th>\n",
       "      <td>979</td>\n",
       "      <td>224</td>\n",
       "      <td>0</td>\n",
       "      <td>NaN</td>\n",
       "      <td>3</td>\n",
       "      <td>1Fam</td>\n",
       "      <td>TA</td>\n",
       "      <td>No</td>\n",
       "      <td>185.0</td>\n",
       "      <td>0.0</td>\n",
       "      <td>...</td>\n",
       "      <td>WD</td>\n",
       "      <td>0</td>\n",
       "      <td>Pave</td>\n",
       "      <td>5</td>\n",
       "      <td>709.0</td>\n",
       "      <td>AllPub</td>\n",
       "      <td>0</td>\n",
       "      <td>1950</td>\n",
       "      <td>1950</td>\n",
       "      <td>2009</td>\n",
       "    </tr>\n",
       "  </tbody>\n",
       "</table>\n",
       "<p>3 rows × 81 columns</p>\n",
       "</div>"
      ],
      "text/plain": [
       "      1stFlrSF  2ndFlrSF  3SsnPorch Alley  BedroomAbvGr BldgType BsmtCond  \\\n",
       "1159       943       933          0   NaN             4     1Fam       TA   \n",
       "1686       744       630          0   NaN             3     1Fam       TA   \n",
       "459        979       224          0   NaN             3     1Fam       TA   \n",
       "\n",
       "     BsmtExposure  BsmtFinSF1  BsmtFinSF2  ... SaleType ScreenPorch  Street  \\\n",
       "1159           No       442.0         0.0  ...       WD           0    Pave   \n",
       "1686           Mn         0.0         0.0  ...       WD           0    Pave   \n",
       "459            No       185.0         0.0  ...       WD           0    Pave   \n",
       "\n",
       "      TotRmsAbvGrd TotalBsmtSF  Utilities WoodDeckSF YearBuilt YearRemodAdd  \\\n",
       "1159             8       901.0     AllPub          0      1974         1974   \n",
       "1686             6       384.0     AllPub        100      2004         2005   \n",
       "459              5       709.0     AllPub          0      1950         1950   \n",
       "\n",
       "     YrSold  \n",
       "1159   2008  \n",
       "1686   2009  \n",
       "459    2009  \n",
       "\n",
       "[3 rows x 81 columns]"
      ]
     },
     "execution_count": 5,
     "metadata": {},
     "output_type": "execute_result"
    }
   ],
   "source": [
    "all_data.sample(3)"
   ]
  },
  {
   "cell_type": "markdown",
   "metadata": {},
   "source": [
    "## 4.2 字段说明"
   ]
  },
  {
   "cell_type": "markdown",
   "metadata": {},
   "source": [
    "特征说明：\n",
    "\n",
    "特征名 | 描述 | 类型 | 模式 | 取值 | 缺失情况 | 思考\n",
    "--|--|--|--|--|--|--\n",
    "Id|唯一标识符|整型|无序离散|1~2919，不重复|无缺失|测试集中的Id在结果文件中要使用，其他没有用处|\n",
    "--|--|--|--|--|--|--\n",
    "MSSubClass|房屋类型|整型|无序离散|60,20,70....|无缺失|房屋类型无疑是对结果影响巨大的因素，尝试挖掘对应类型英文前缀有组的关系可以聚合分析，另外对应的数字的关系尚不可知，可以查一下或者可视化分析|\n",
    "MSZoning|房屋所处区域分类|字符串|无序离散|A,C,FV....|无缺失|对结果影响很大，需要挖掘，可能需要聚合，结合MSSubClass|\n",
    "LotArea|面积|整型|连续|N平方英尺|无缺失|跟售价应该是线性关系，可视化找分割点、峰值，qcut、LabelEncode|\n",
    "LotShape|房屋形状|字符串|半有序离散|Reg,R1,R2,R3|无缺失|按理说应该是左偏分布，毕竟户型方正很重要|\n",
    "LotFrontage|距离街道直线距离|浮点型|连续|N英尺|缺失200+/1400+|对结果影响较大，可以可视化看分割点、峰值，以及qcut处理|\n",
    "Street|临近道路类型|字符串|无序枚举|Gravel,Paved|无缺失|因为只有两个取值，因此可以直接LabelEncode、OneHot，考虑跟LotFrontage组合|\n",
    "Alley|临近胡同类型|字符串|无序枚举|Gravel,Paved,nan|缺失1300+/1400+|该字段缺失是因为没有临近胡同，因此作为一个单独类别填充，可以考虑根据是否有胡同聚合看看信息量|\n",
    "LandContour|地面平整程度|字符串|半有序离散|Lvl,Bnk,HLS,Low|无缺失|理应左偏|\n",
    "LandSlope|地面坡度|字符串|半有序离散|Gtl,Mod,Sev|无缺失|理应左偏|\n",
    "Utilities|可用公共设施|字符串|半有序离散|AllPub,NoSewr,NoSeWa,ELO|无缺失|理应左偏|\n",
    "LotConfig|配置|字符串|无序离散|Inside内部,Cornel街角,CulDSac死胡同,FR2两面临街,FR3三面临街|无缺失|可视化看差异|\n",
    "Neighborhood|所处社区|字符串|无序离散|社区名|无缺失|可视化看差异，适当聚合，可以考虑结合MSZoning做社区区域细分分析|\n",
    "Condition1|房屋优势条件1|字符串|无序离散|接近主干道、公园....|无缺失|一般离散分析|\n",
    "Condition2|房屋优势条件2|字符串|无序离散|接近主干道、公园....|无缺失|一般离散分析，与1一致，这两个可以组合可视化|\n",
    "BldgType|房屋类型|字符串|无序离散|独户、联排....|无缺失|考虑跟MSSubClass结合|\n",
    "HouseStype|装修风格|字符串|无序离散|几楼几底|无缺失|一般离散分析|\n",
    "OverallQual|材料装修评级|整型|有序离散|10~1|无缺失|离散分析，看看是否需要聚合接近的值|\n",
    "OverallCond|整体状况评级|整型|有序离散|10~1|无缺失|离散分析，看看是否需要聚合接近的值|\n",
    "YearBuilt|修建年份|整型|连续|年份|无缺失|构建房龄字段，连续分析，观察分割点、峰值，看是否需要qcut处理|\n",
    "YearRemodAdd|重装年份|整型|连续|年份|无缺失|构建重装字段，连续分析，观察分割点、峰值，看是否需要qcut处理|\n",
    "RoofStype|屋顶类型|字符串|无序离散|Flat,Gable,Gambrel,Hip,Mansard,Shed|无缺失|一般离散分析|\n",
    "RoofMatl|屋顶材料|字符串|无序离散|8中材料|无缺失|结合屋顶风格分析、聚合|\n",
    "Exterior1st|房屋外层材料|字符串|无序离散|N中材料|无缺失|一般离散分析|\n",
    "Exterior2nd|同上，如果有两种材料|字符串|无序离散|N中材料|无缺失|结合1一起分析|\n",
    "MasVnrType|地砖材料|字符串|无序离散|4中材料+nan|缺失8/1400+|一般离散分析|\n",
    "MasVnrArea|地砖面积|浮点型|连续|面积|缺失8/1400+|缺失可以用0填充表示没有，可视化qcut后可以结合类型分析|\n",
    "ExterQual|外部材料质量|字符串|有序离散|Ex,Gd,TA,Fa,Po|无缺失|结合材料类型分析|\n",
    "ExterCond|外部材料现状|字符串|有序离散|Ex,Gd,TA,Fa,Po|无缺失|结合外部材料相关分析聚合|\n",
    "Foundation|基本材料类型|字符串|无序离散|砖,瓦,石头....|无缺失|一般离散分析|\n",
    "--|--|--|--|--|--|--\n",
    "BsmtQual|地下室高度评价|字符串|有序离散|Ex,Gd,TA,Fa,Po,nan|缺失37/1400+|缺失表示无地下室，作为单独类别分析|\n",
    "BsmtCond|地下室整体情况|字符串|有序离散|Ex,Gd,TA,Fa,Po,nan|缺失37/1400+|缺失表示无地下室，地下室相关特征组合一起分析|\n",
    "BsmtExposure|地下室曝光情况|字符串|有序离散|Gd,Av,Mn,No,nan|缺失38/1400+|缺失表示无地下室|\n",
    "BsmtFinType1|地下室1完工面积等级|字符串|有序离散|GLQ,ALQ,BLQ,Rec,LwQ,Unf,nan|缺失37/1400+|缺失表示无地下室|\n",
    "BsmtFinSF1|1完工面积|整型|连续|面积|无缺失|一般连续分析|\n",
    "BsmtFinType2|地下室2完工面积等级|字符串|有序离散|GLQ,ALQ,BLQ,Rec,LwQ,Unf,nan|缺失38/1400+|缺失表示无地下室|\n",
    "BsmtFinSF2|2完工面积|整型|连续|面积|无缺失|一般连续分析|\n",
    "BsmtUnfSF|地下室未完面积|整型|连续|面积|无缺失|一般连续分析|\n",
    "TotalBsmtSF|地下室总面积|整型|连续|面积|无缺失|一般连续分析|\n",
    "--|--|--|--|--|--|--\n",
    "Heating|暖气方式|字符串|无序离散|Floor,GasA,GasW,Grav,OthW,Wall|无缺失|一般离散分析|\n",
    "HeatingQC|暖气评价|字符串|有序离散|Ex,Gd,TA,Fa,Po|无缺失|结合Heating分析|\n",
    "CentralAir|空调|字符串|无序离散|Y,N|无缺失|有无，直接映射到0/1后分析，不需要OneHot|\n",
    "Electrical|电气系统|字符串|半有序离散|SBrKr,FuseA,FuseF,FuseP,Mix|缺失1/1400+|根据暖气空调同一个社区类型的房屋来填充，应该是偏斜分布图|\n",
    "1stFlrSF|一楼面积|整型|连续|面积|无缺失|与房屋类型、面积等结合分析，一般连续分析|\n",
    "2ndFlrSF|二楼面积|整型|连续|面积|无缺失|与房屋类型、面积等结合分析，一般连续分析|\n",
    "LowQualFinSF|低质量部分面积|整型|连续|面积|无缺失|与房屋类型、面积等结合分析，一般连续分析|\n",
    "GrLivArea|地上生活区面积|整型|连续|面积|无缺失|与房屋类型、面积等结合分析，一般连续分析|\n",
    "BsmtFullBath|地下室全浴室个数|整型|连续|个数|无缺失|与房屋类型、面积等结合分析，一般连续分析|\n",
    "BsmtHalfBath|地下室半浴室个数|整型|连续|个数|无缺失|与房屋类型、面积等结合分析，一般连续分析|\n",
    "FullBath|全浴室个数|整型|连续|个数|无缺失|与房屋类型、面积等结合分析，一般连续分析|\n",
    "HalfBath|半浴室个数|整型|连续|个数|无缺失|与房屋类型、面积等结合分析，一般连续分析|\n",
    "BedroomAbvGr|地上卧室个数|整型|连续|个数|无缺失|与房屋类型、面积等结合分析，一般连续分析|\n",
    "KitchenAbvGr|地上厨房个数|整型|连续|个数|无缺失|与房屋类型、面积等结合分析，一般连续分析|\n",
    "KitchenQual|厨房质量|字符串|有序离散|Ex,Gd,TA,Fa,Po|无缺失|与厨房结合分析，一般离散分析|\n",
    "TotRmsAbvGrd|地上房间个数（不包括卧室）|整型|连续|个数|无缺失|与房屋类型、面积等结合分析，一般连续分析，构建房间总数、几室几厅几卫|\n",
    "Functional|家庭设施情况|字符串|有序离散|Typ,Min1,Min2,Mod,Maj1,Maj2,Sev,Sal|无缺失|一般离散分析|\n",
    "Fireplaces|壁炉数量|整型|连续|个数|无缺失|一般连续分析|\n",
    "FireplaceQu|壁炉质量|字符串|有序离散|Ex,Gd,TA,Fa,Po,nan|缺失700+/1400+|缺失表示没有壁炉，单独类别即可，结合壁炉数量分析|\n",
    "--|--|--|--|--|--|--\n",
    "GarageType|车库位置|字符串|无序离散|2Type,Attchd,Basment,BuiltIn,CarPort,Detchd,nan|缺失80+/1400+|缺失表示没有车库，车库相关的组合一起分析|\n",
    "GarageYrBlt|车库建造年份|浮点型|连续|年份|缺失80+/1400+|缺失表示没有，构建车库年龄|\n",
    "GarageFinish|车库内部情况|字符串|有序离散|Fin,RFn,Unf,nan|缺失80+/1400+|缺失表示没有|\n",
    "GarageCars|车库能放几辆车|整型|连续|个数|无缺失|没有车库为0|\n",
    "GarageArea|车库面积|整型|连续|面积|无缺失|没有车库为0|\n",
    "GarageQual|车库质量|字符串|有序离散|Ex,Gd,TA,Fa,Po,nan|缺失80+/1400+|缺失表示没有|\n",
    "GarageCond|车库状况|字符串|有序离散|Ex,Gd,TA,Fa,Po,nan|缺失80+/1400+|缺失表示没有|\n",
    "--|--|--|--|--|--|--\n",
    "PavedDrive|车道铺面情况|字符串|有序离散|Y,P,R|无缺失|一般离散分析|\n",
    "WoodDeckSF|木地板面积|整型|连续|面积|无缺失|一般连续分析|\n",
    "OpenPorchSF|开放式门廊面积|整型|连续|面积|无缺失|一般连续分析|\n",
    "EnclosedPorch|围挡走廊面积|整型|连续|面积|无缺失|一般连续分析|\n",
    "3SsnPorch|三季门廊面积|整型|连续|面积|无缺失|一般连续分析|\n",
    "ScreenPorch|屏风廊面积|整型|连续|面积|无缺失|一般连续分析|\n",
    "PoolArea|泳池面积|整型|连续|面积|无缺失|一般连续分析|\n",
    "PoolQC|泳池质量|字符串|有序离散|Ex,Gd,TA,Fa,nan|缺失1400+/1400+|结合泳池面积分析，训练数据只有7个房屋有泳池|\n",
    "Fence|围栏质量|字符串|半有序离散|GdPrv,MnPrv,GdWo,MnWw,nan|缺失1200+/1400+|一般离散分析|\n",
    "MiscFeature|杂项|字符串|无序离散|杂项|缺失1400+/1400+|杂项，结合下面价值分析|\n",
    "MiscVal|杂项价值|整型|连续|美元|无缺失|结合杂项分析|\n",
    "--|--|--|--|--|--|--\n",
    "MoSold|售出月份|整型|连续|月份|无缺失|结合年份|\n",
    "YrSold|售出年份|整型|连续|年份|无缺失|结合月份，结合房屋、重装、车库等修建时间，生成时长特征，另外可以分析同期销售情况|\n",
    "SaleType|付款方式|字符串|半有序离散|类别字符串|无缺失|总价应该是跟付款方式有关的，例如全款总价会低一些，贷款会高一些，重要指标|\n",
    "SaleCondition|销售条件|字符串|半有序离散|条件字符串|无缺失|异常情况对应的总价是否是异常的需要可视化时格外关注|\n",
    "--|--|--|--|--|--|--\n",
    "SalePrice|售价|整型|连续|美元|无缺失|只存在于训练数据，属于测试数据的目标预测值|\n",
    "\n",
    "PS：特征间组合还要看相关性后再决定；\n",
    "\n",
    "PPS：1平方英尺大约等于0.09平米；"
   ]
  },
  {
   "cell_type": "markdown",
   "metadata": {},
   "source": [
    "## 4.3 其他特征与目标特征关系TODO"
   ]
  },
  {
   "cell_type": "markdown",
   "metadata": {},
   "source": [
    "## 4.4 数据分布TODO"
   ]
  },
  {
   "cell_type": "markdown",
   "metadata": {},
   "source": [
    "## 4.5 小结TODO"
   ]
  },
  {
   "cell_type": "markdown",
   "metadata": {},
   "source": [
    "# 5. 数据预处理"
   ]
  },
  {
   "cell_type": "code",
   "execution_count": 6,
   "metadata": {},
   "outputs": [],
   "source": [
    "# 连续特征\n",
    "ContinuousFeatures = ['LotArea','LotFrontage','MasVnrArea','BsmtFinSF1','BsmtFinSF2','BsmtUnfSF','TotalBsmtSF','1stFlrSF','2ndFlrSF','LowQualFinSF','GrLivArea','BsmtFullBath','BsmtHalfBath','FullBath','HalfBath','BedroomAbvGr','KitchenAbvGr','TotRmsAbvGrd','Fireplaces','GarageCars','GarageArea','WoodDeckSF','OpenPorchSF','EnclosedPorch','3SsnPorch','ScreenPorch','PoolArea','MiscVal']\n",
    "\n",
    "# 离散特征\n",
    "CategoricalFeatures = ['MSSubClass','MSZoning','LotShape','Street','Alley','LandContour','LandSlope','Utilities','LotConfig','Neighborhood','Condition1','Condition2','BldgType','HouseStyle','OverallQual','OverallCond','YearBuilt','YearRemodAdd','RoofStyle','RoofMatl','Exterior1st','Exterior2nd','MasVnrType','ExterQual','ExterCond','Foundation','BsmtQual','BsmtCond','BsmtExposure','BsmtFinType1','BsmtFinType2','Heating','CentralAir','Electrical','KitchenQual','Functional','FireplaceQu','GarageType','GarageYrBlt','GarageFinish','GarageQual','GarageCond','PavedDrive','PoolQC','Fence','MiscFeature','MoSold','YrSold','SaleType','SaleCondition']\n",
    "\n",
    "# 目标特征\n",
    "TargetFeature = 'SalePrice'\n",
    "\n",
    "# 需要手动指定映射关系的离散特征\n",
    "CategoricalOrderFeatures = ['LotShape','LandContour','LandSlope','Utilities','OverallQual','OverallCond','ExterQual','ExterCond','BsmtQual','BsmtCond','BsmtExposure','BsmtFinType1','BsmtFinType2','HeatingQC','Electrical','KitchenQual','Functional','FireplaceQu','GarageFinish','GarageQual','GarageCond','PavedDrive','PoolQC','Fence','SaleType','SaleCondition']\n",
    "\n",
    "# 日期时间相关\n",
    "TimeSerieFeatures = ['YearBuilt','YearRemodAdd','GarageYrBlt','YrSold','MoSold']\n",
    "\n",
    "# 房屋性质、位置、社区、社区类型、街道相关\n",
    "# 面积、房间个数、地下室、车库、厨房相关\n",
    "# 房屋内饰、装修、地板、材料、电力、公共设施、空调壁炉等相关\n",
    "# 售卖相关"
   ]
  },
  {
   "cell_type": "code",
   "execution_count": 7,
   "metadata": {},
   "outputs": [],
   "source": [
    "def heatmap(df, target_cols, ignore_cols):\n",
    "    cols = list(df.columns)\n",
    "#     for col in target_cols:\n",
    "#         del cols[cols.index(col)]\n",
    "#     for col in ignore_cols:\n",
    "#         del cols[cols.index(col)]\n",
    "    for i in range(0,len(cols),10):\n",
    "        tmp = df[cols[i:i+10]]\n",
    "    \n",
    "        _ , ax = plt.subplots(figsize =(15, 15))\n",
    "        colormap = sns.diverging_palette(220, 10, as_cmap = True)\n",
    "\n",
    "        _ = sns.heatmap(\n",
    "            tmp.corr(), \n",
    "            cmap = colormap,\n",
    "            square=True, \n",
    "            cbar_kws={'shrink':.9 }, \n",
    "            ax=ax,\n",
    "            annot=True, \n",
    "            linewidths=0.1,vmax=1.0, linecolor='white',\n",
    "            annot_kws={'fontsize':12 }\n",
    "        )\n",
    "    \n",
    "    plt.title('House Prices Correlation of Features', y=1.05, size=15)"
   ]
  },
  {
   "cell_type": "code",
   "execution_count": 8,
   "metadata": {},
   "outputs": [],
   "source": [
    "def corr_df(df_all, target, min_=0.1):\n",
    "    df_all_corr = df_all.corr().abs().unstack().sort_values(kind=\"quicksort\", ascending=False).reset_index()\n",
    "    df_all_corr.rename(columns={\"level_0\": \"Target\", \"level_1\": \"Source\", 0: 'Correlation Coefficient'}, inplace=True)\n",
    "    return df_all_corr[df_all_corr['Target'] == target][df_all_corr['Source'] != target][df_all_corr['Correlation Coefficient'].abs()>=min_]"
   ]
  },
  {
   "cell_type": "code",
   "execution_count": 9,
   "metadata": {},
   "outputs": [],
   "source": [
    "def entropy(D):\n",
    "    count_array=np.array(Counter(D).values())\n",
    "    P=count_array/float(count_array.sum())\n",
    "    H=np.dot(-P,np.log2(P))\n",
    "    return H\n",
    "\n",
    "def condition_entropy(D,A):\n",
    "    A=np.array(A)\n",
    "    D=np.array(D)\n",
    "    H_da=0\n",
    "    for i in np.unique(A):\n",
    "        index_i=np.ravel(np.argwhere(A==i))\n",
    "        Di=D[index_i]\n",
    "        H_Di=entropy(Di)\n",
    "        pi=float(Di.size)/D.size\n",
    "        H_da=H_da+pi*H_Di\n",
    "    return H_da\n",
    "\n",
    "def gain(y, x):\n",
    "    return entropy(y) - condition_entropy(y, x)\n",
    "\n",
    "def gain_ratio(y, x):\n",
    "    '''\n",
    "    说明：计算y和x的信息增益比，注意这里是除以x的信息增益，也就是对x的取值的离散度计算一个惩罚值，最明显的就是ID字段\n",
    "    '''\n",
    "    return gain(y,x) / entropy(x)\n",
    "\n",
    "def gain_df(df, target):\n",
    "    dict_ = {}\n",
    "    y = df[target]\n",
    "    if y.dtype=='object':\n",
    "        y = le.fit_transform(y)\n",
    "    for col in df.columns:\n",
    "        if col == target:\n",
    "            continue\n",
    "        x = df[col]\n",
    "        if x.dtype=='object':\n",
    "            x = le.fit_transform(x)\n",
    "        dict_[col] = (gain(y,x),gain_ratio(y,x))\n",
    "    return sorted(dict_.items(),key=lambda v:v[1][1],reverse=True)"
   ]
  },
  {
   "cell_type": "code",
   "execution_count": 10,
   "metadata": {},
   "outputs": [],
   "source": [
    "def barplot(col_data):\n",
    "    vc = col_data.value_counts()\n",
    "    sns.barplot(x=list(vc.index), y=list(vc.values), palette=\"rocket\")"
   ]
  },
  {
   "cell_type": "markdown",
   "metadata": {},
   "source": [
    "## 5.0 处理缺失值\n",
    "\n",
    "部分算法不允许有缺失值，且缺失的原因多种多样，通常需要对缺失进行处理，缺失值的填充需要尽可能从业务出发，参考相似性高的其他特征来填充，且填充方式要灵活；\n",
    "\n",
    "- Imputer；\n",
    "- FunctionTransformer；\n",
    "\n",
    "这里缺失值的填充是较为灵活复杂的，无法直接使用Imputer来填充，构建一个类，提供fit、transform、fit_transform方法来填充各个列，方便后续加入到Pipe中；"
   ]
  },
  {
   "cell_type": "code",
   "execution_count": 11,
   "metadata": {
    "scrolled": false
   },
   "outputs": [
    {
     "name": "stdout",
     "output_type": "stream",
     "text": [
      "All data columns with null values:\n",
      "\n",
      "GarageArea         1\n",
      "SaleType           1\n",
      "KitchenQual        1\n",
      "BsmtFinSF1         1\n",
      "BsmtFinSF2         1\n",
      "GarageCars         1\n",
      "TotalBsmtSF        1\n",
      "Exterior2nd        1\n",
      "Exterior1st        1\n",
      "BsmtUnfSF          1\n",
      "Electrical         1\n",
      "Functional         2\n",
      "Utilities          2\n",
      "BsmtHalfBath       2\n",
      "BsmtFullBath       2\n",
      "MSZoning           4\n",
      "MasVnrArea        23\n",
      "MasVnrType        24\n",
      "BsmtFinType1      79\n",
      "BsmtFinType2      80\n",
      "BsmtQual          81\n",
      "BsmtCond          82\n",
      "BsmtExposure      82\n",
      "GarageType       157\n",
      "GarageYrBlt      159\n",
      "GarageFinish     159\n",
      "GarageCond       159\n",
      "GarageQual       159\n",
      "LotFrontage      486\n",
      "FireplaceQu     1420\n",
      "SalePrice       1459\n",
      "Fence           2348\n",
      "Alley           2721\n",
      "MiscFeature     2814\n",
      "PoolQC          2909\n",
      "dtype: int64\n",
      "['GarageArea', 'SaleType', 'KitchenQual', 'BsmtFinSF1', 'BsmtFinSF2', 'GarageCars', 'TotalBsmtSF', 'Exterior2nd', 'Exterior1st', 'BsmtUnfSF', 'Electrical', 'Functional', 'Utilities', 'BsmtHalfBath', 'BsmtFullBath', 'MSZoning', 'MasVnrArea', 'MasVnrType', 'BsmtFinType1', 'BsmtFinType2', 'BsmtQual', 'BsmtCond', 'BsmtExposure', 'GarageType', 'GarageYrBlt', 'GarageFinish', 'GarageCond', 'GarageQual', 'LotFrontage', 'FireplaceQu', 'SalePrice', 'Fence', 'Alley', 'MiscFeature', 'PoolQC']\n"
     ]
    }
   ],
   "source": [
    "print 'All data columns with null values:\\n'\n",
    "missing_data = all_data.isnull().sum()[all_data.isnull().sum()>0].sort_values()\n",
    "missing_cols = list(missing_data.index)\n",
    "print missing_data\n",
    "print missing_cols"
   ]
  },
  {
   "cell_type": "markdown",
   "metadata": {},
   "source": [
    "**缺失数据分析**\n",
    "\n",
    "缺失通常有两个原因，一个是技术性缺失，一个是合理性缺失，通常技术性缺失需要通过某些方式来填充或者无法填充可能会丢弃，具体看该字段缺失情况以及是否与目标字段相关性强，而合理性缺失通常用一个特殊值来表示缺失，即缺失也是一种取值，或者压根不补充都是可以的；\n",
    "\n",
    "处理过程由缺失数量少的一组一组的开始依次进行；"
   ]
  },
  {
   "cell_type": "markdown",
   "metadata": {},
   "source": [
    "### 5.1.1 Garage部分\n",
    "\n",
    "- GarageArea：1；\n",
    "- GarageCars：1；\n",
    "- GarageType：157；\n",
    "- GarageYrBlt：159；\n",
    "- GarageFinish：159；\n",
    "- GarageCond：159；\n",
    "- GarageQual：159；"
   ]
  },
  {
   "cell_type": "code",
   "execution_count": 12,
   "metadata": {},
   "outputs": [
    {
     "data": {
      "text/plain": [
       "['GarageArea',\n",
       " 'GarageCars',\n",
       " 'GarageCond',\n",
       " 'GarageFinish',\n",
       " 'GarageQual',\n",
       " 'GarageType',\n",
       " 'GarageYrBlt']"
      ]
     },
     "execution_count": 12,
     "metadata": {},
     "output_type": "execute_result"
    }
   ],
   "source": [
    "garage_list = [col for col in all_data.columns.tolist() if col.startswith('Garage')]\n",
    "garage_list"
   ]
  },
  {
   "cell_type": "markdown",
   "metadata": {},
   "source": [
    "#### GarageArea、GarageCars\n",
    "\n",
    "这两个都是缺失了一个值，可以看到是同一条数据缺失了Area和Cars，且Garage相关的只有一个Type有值，值为Detchd，表示Detached from home，即与家分离的车库，可以看到其他Detchd的数据其他字段是有值的，因此这个应该是技术性缺失，需要填充；"
   ]
  },
  {
   "cell_type": "code",
   "execution_count": 13,
   "metadata": {},
   "outputs": [
    {
     "data": {
      "text/html": [
       "<div>\n",
       "<style scoped>\n",
       "    .dataframe tbody tr th:only-of-type {\n",
       "        vertical-align: middle;\n",
       "    }\n",
       "\n",
       "    .dataframe tbody tr th {\n",
       "        vertical-align: top;\n",
       "    }\n",
       "\n",
       "    .dataframe thead th {\n",
       "        text-align: right;\n",
       "    }\n",
       "</style>\n",
       "<table border=\"1\" class=\"dataframe\">\n",
       "  <thead>\n",
       "    <tr style=\"text-align: right;\">\n",
       "      <th></th>\n",
       "      <th>GarageArea</th>\n",
       "      <th>GarageCars</th>\n",
       "      <th>GarageCond</th>\n",
       "      <th>GarageFinish</th>\n",
       "      <th>GarageQual</th>\n",
       "      <th>GarageType</th>\n",
       "      <th>GarageYrBlt</th>\n",
       "    </tr>\n",
       "  </thead>\n",
       "  <tbody>\n",
       "    <tr>\n",
       "      <th>2576</th>\n",
       "      <td>NaN</td>\n",
       "      <td>NaN</td>\n",
       "      <td>NaN</td>\n",
       "      <td>NaN</td>\n",
       "      <td>NaN</td>\n",
       "      <td>Detchd</td>\n",
       "      <td>NaN</td>\n",
       "    </tr>\n",
       "  </tbody>\n",
       "</table>\n",
       "</div>"
      ],
      "text/plain": [
       "      GarageArea  GarageCars GarageCond GarageFinish GarageQual GarageType  \\\n",
       "2576         NaN         NaN        NaN          NaN        NaN     Detchd   \n",
       "\n",
       "      GarageYrBlt  \n",
       "2576          NaN  "
      ]
     },
     "execution_count": 13,
     "metadata": {},
     "output_type": "execute_result"
    }
   ],
   "source": [
    "garage_data = all_data[garage_list][pd.isnull(all_data.GarageArea)]\n",
    "garage_data"
   ]
  },
  {
   "cell_type": "code",
   "execution_count": 14,
   "metadata": {},
   "outputs": [
    {
     "data": {
      "text/html": [
       "<div>\n",
       "<style scoped>\n",
       "    .dataframe tbody tr th:only-of-type {\n",
       "        vertical-align: middle;\n",
       "    }\n",
       "\n",
       "    .dataframe tbody tr th {\n",
       "        vertical-align: top;\n",
       "    }\n",
       "\n",
       "    .dataframe thead th {\n",
       "        text-align: right;\n",
       "    }\n",
       "</style>\n",
       "<table border=\"1\" class=\"dataframe\">\n",
       "  <thead>\n",
       "    <tr style=\"text-align: right;\">\n",
       "      <th></th>\n",
       "      <th>GarageArea</th>\n",
       "      <th>GarageCars</th>\n",
       "      <th>GarageCond</th>\n",
       "      <th>GarageFinish</th>\n",
       "      <th>GarageQual</th>\n",
       "      <th>GarageType</th>\n",
       "      <th>GarageYrBlt</th>\n",
       "    </tr>\n",
       "  </thead>\n",
       "  <tbody>\n",
       "    <tr>\n",
       "      <th>235</th>\n",
       "      <td>264.0</td>\n",
       "      <td>1.0</td>\n",
       "      <td>TA</td>\n",
       "      <td>Unf</td>\n",
       "      <td>TA</td>\n",
       "      <td>Detchd</td>\n",
       "      <td>1971.0</td>\n",
       "    </tr>\n",
       "    <tr>\n",
       "      <th>2200</th>\n",
       "      <td>400.0</td>\n",
       "      <td>2.0</td>\n",
       "      <td>TA</td>\n",
       "      <td>Unf</td>\n",
       "      <td>TA</td>\n",
       "      <td>Detchd</td>\n",
       "      <td>1994.0</td>\n",
       "    </tr>\n",
       "    <tr>\n",
       "      <th>1900</th>\n",
       "      <td>440.0</td>\n",
       "      <td>2.0</td>\n",
       "      <td>TA</td>\n",
       "      <td>Unf</td>\n",
       "      <td>TA</td>\n",
       "      <td>Detchd</td>\n",
       "      <td>1961.0</td>\n",
       "    </tr>\n",
       "  </tbody>\n",
       "</table>\n",
       "</div>"
      ],
      "text/plain": [
       "      GarageArea  GarageCars GarageCond GarageFinish GarageQual GarageType  \\\n",
       "235        264.0         1.0         TA          Unf         TA     Detchd   \n",
       "2200       400.0         2.0         TA          Unf         TA     Detchd   \n",
       "1900       440.0         2.0         TA          Unf         TA     Detchd   \n",
       "\n",
       "      GarageYrBlt  \n",
       "235        1971.0  \n",
       "2200       1994.0  \n",
       "1900       1961.0  "
      ]
     },
     "execution_count": 14,
     "metadata": {},
     "output_type": "execute_result"
    }
   ],
   "source": [
    "all_data[garage_list][all_data.GarageType == 'Detchd'].sample(3)"
   ]
  },
  {
   "cell_type": "markdown",
   "metadata": {},
   "source": [
    "计算相关性，寻找可能用于填充GarageArea和GarageCars的特征，因为Area和Cars相关性很高，因此计算其中一个就可以了，从结果上看相关性最高的5个字段，只有三个有值，分别是TotalBsmtSF地下室总面积、1stFlrSF一楼面积、OverallQual材料装修评级，其中OverallQual最高，那么就使用该字段填充area，再用area填充cars；"
   ]
  },
  {
   "cell_type": "code",
   "execution_count": 15,
   "metadata": {},
   "outputs": [
    {
     "data": {
      "text/html": [
       "<div>\n",
       "<style scoped>\n",
       "    .dataframe tbody tr th:only-of-type {\n",
       "        vertical-align: middle;\n",
       "    }\n",
       "\n",
       "    .dataframe tbody tr th {\n",
       "        vertical-align: top;\n",
       "    }\n",
       "\n",
       "    .dataframe thead th {\n",
       "        text-align: right;\n",
       "    }\n",
       "</style>\n",
       "<table border=\"1\" class=\"dataframe\">\n",
       "  <thead>\n",
       "    <tr style=\"text-align: right;\">\n",
       "      <th></th>\n",
       "      <th>Target</th>\n",
       "      <th>Source</th>\n",
       "      <th>Correlation Coefficient</th>\n",
       "    </tr>\n",
       "  </thead>\n",
       "  <tbody>\n",
       "    <tr>\n",
       "      <th>39</th>\n",
       "      <td>GarageArea</td>\n",
       "      <td>GarageCars</td>\n",
       "      <td>0.889700</td>\n",
       "    </tr>\n",
       "    <tr>\n",
       "      <th>63</th>\n",
       "      <td>GarageArea</td>\n",
       "      <td>SalePrice</td>\n",
       "      <td>0.623431</td>\n",
       "    </tr>\n",
       "    <tr>\n",
       "      <th>87</th>\n",
       "      <td>GarageArea</td>\n",
       "      <td>OverallQual</td>\n",
       "      <td>0.565122</td>\n",
       "    </tr>\n",
       "    <tr>\n",
       "      <th>93</th>\n",
       "      <td>GarageArea</td>\n",
       "      <td>GarageYrBlt</td>\n",
       "      <td>0.555836</td>\n",
       "    </tr>\n",
       "    <tr>\n",
       "      <th>117</th>\n",
       "      <td>GarageArea</td>\n",
       "      <td>1stFlrSF</td>\n",
       "      <td>0.492011</td>\n",
       "    </tr>\n",
       "    <tr>\n",
       "      <th>125</th>\n",
       "      <td>GarageArea</td>\n",
       "      <td>TotalBsmtSF</td>\n",
       "      <td>0.486067</td>\n",
       "    </tr>\n",
       "  </tbody>\n",
       "</table>\n",
       "</div>"
      ],
      "text/plain": [
       "         Target       Source  Correlation Coefficient\n",
       "39   GarageArea   GarageCars                 0.889700\n",
       "63   GarageArea    SalePrice                 0.623431\n",
       "87   GarageArea  OverallQual                 0.565122\n",
       "93   GarageArea  GarageYrBlt                 0.555836\n",
       "117  GarageArea     1stFlrSF                 0.492011\n",
       "125  GarageArea  TotalBsmtSF                 0.486067"
      ]
     },
     "execution_count": 15,
     "metadata": {},
     "output_type": "execute_result"
    }
   ],
   "source": [
    "corr_df(all_data, 'GarageArea', 0.2)[:6]"
   ]
  },
  {
   "cell_type": "code",
   "execution_count": 16,
   "metadata": {},
   "outputs": [
    {
     "data": {
      "text/html": [
       "<div>\n",
       "<style scoped>\n",
       "    .dataframe tbody tr th:only-of-type {\n",
       "        vertical-align: middle;\n",
       "    }\n",
       "\n",
       "    .dataframe tbody tr th {\n",
       "        vertical-align: top;\n",
       "    }\n",
       "\n",
       "    .dataframe thead th {\n",
       "        text-align: right;\n",
       "    }\n",
       "</style>\n",
       "<table border=\"1\" class=\"dataframe\">\n",
       "  <thead>\n",
       "    <tr style=\"text-align: right;\">\n",
       "      <th></th>\n",
       "      <th>OverallQual</th>\n",
       "      <th>GarageArea</th>\n",
       "      <th>GarageCars</th>\n",
       "      <th>GarageCond</th>\n",
       "      <th>GarageFinish</th>\n",
       "      <th>GarageQual</th>\n",
       "      <th>GarageType</th>\n",
       "      <th>GarageYrBlt</th>\n",
       "    </tr>\n",
       "  </thead>\n",
       "  <tbody>\n",
       "    <tr>\n",
       "      <th>2576</th>\n",
       "      <td>5</td>\n",
       "      <td>NaN</td>\n",
       "      <td>NaN</td>\n",
       "      <td>NaN</td>\n",
       "      <td>NaN</td>\n",
       "      <td>NaN</td>\n",
       "      <td>Detchd</td>\n",
       "      <td>NaN</td>\n",
       "    </tr>\n",
       "  </tbody>\n",
       "</table>\n",
       "</div>"
      ],
      "text/plain": [
       "      OverallQual  GarageArea  GarageCars GarageCond GarageFinish GarageQual  \\\n",
       "2576            5         NaN         NaN        NaN          NaN        NaN   \n",
       "\n",
       "     GarageType  GarageYrBlt  \n",
       "2576     Detchd          NaN  "
      ]
     },
     "execution_count": 16,
     "metadata": {},
     "output_type": "execute_result"
    }
   ],
   "source": [
    "all_data[['OverallQual']+garage_list][pd.isnull(all_data.GarageArea)]"
   ]
  },
  {
   "cell_type": "code",
   "execution_count": 17,
   "metadata": {},
   "outputs": [
    {
     "name": "stdout",
     "output_type": "stream",
     "text": [
      "Median area of OQ 7: 514.0\n",
      "Median area of OQ 6: 442.0\n",
      "Median area of OQ 8: 670.0\n",
      "Median area of OQ 5: 352.0\n",
      "Median area of OQ 9: 768.0\n",
      "Median area of OQ 4: 296.5\n",
      "Median area of OQ 10: 846.0\n",
      "Median area of OQ 3: 245.0\n",
      "Median area of OQ 1: 135.0\n",
      "Median area of OQ 2: 256.0\n",
      "Median area of all: 480.0\n"
     ]
    }
   ],
   "source": [
    "area_by_overallqual = all_data.groupby(['OverallQual']).median()['GarageArea']\n",
    "\n",
    "for oq in all_data.OverallQual.unique():\n",
    "    print('Median area of OQ {}: {}'.format(oq, area_by_overallqual[oq]))\n",
    "print('Median area of all: {}'.format(all_data['GarageArea'].median()))"
   ]
  },
  {
   "cell_type": "code",
   "execution_count": 18,
   "metadata": {},
   "outputs": [
    {
     "data": {
      "text/html": [
       "<div>\n",
       "<style scoped>\n",
       "    .dataframe tbody tr th:only-of-type {\n",
       "        vertical-align: middle;\n",
       "    }\n",
       "\n",
       "    .dataframe tbody tr th {\n",
       "        vertical-align: top;\n",
       "    }\n",
       "\n",
       "    .dataframe thead th {\n",
       "        text-align: right;\n",
       "    }\n",
       "</style>\n",
       "<table border=\"1\" class=\"dataframe\">\n",
       "  <thead>\n",
       "    <tr style=\"text-align: right;\">\n",
       "      <th></th>\n",
       "      <th>OverallQual</th>\n",
       "      <th>GarageType</th>\n",
       "      <th>GarageArea</th>\n",
       "    </tr>\n",
       "  </thead>\n",
       "  <tbody>\n",
       "    <tr>\n",
       "      <th>2576</th>\n",
       "      <td>5</td>\n",
       "      <td>Detchd</td>\n",
       "      <td>352.0</td>\n",
       "    </tr>\n",
       "  </tbody>\n",
       "</table>\n",
       "</div>"
      ],
      "text/plain": [
       "      OverallQual GarageType  GarageArea\n",
       "2576            5     Detchd       352.0"
      ]
     },
     "execution_count": 18,
     "metadata": {},
     "output_type": "execute_result"
    }
   ],
   "source": [
    "all_data['GarageArea'] = all_data.groupby(['OverallQual'])['GarageArea'].apply(lambda x: x.fillna(x.median()))\n",
    "all_data[['OverallQual']+['GarageType','GarageArea']][pd.isnull(all_data.GarageCars)]"
   ]
  },
  {
   "cell_type": "code",
   "execution_count": 19,
   "metadata": {},
   "outputs": [
    {
     "name": "stdout",
     "output_type": "stream",
     "text": [
      "Median cars of OQ 7: 2.0\n",
      "Median cars of OQ 6: 2.0\n",
      "Median cars of OQ 8: 2.0\n",
      "Median cars of OQ 5: 1.0\n",
      "Median cars of OQ 9: 3.0\n",
      "Median cars of OQ 4: 1.0\n",
      "Median cars of OQ 10: 3.0\n",
      "Median cars of OQ 3: 1.0\n",
      "Median cars of OQ 1: 0.5\n",
      "Median cars of OQ 2: 1.0\n",
      "Median cars of all: 2.0\n"
     ]
    }
   ],
   "source": [
    "cars_by_overallqual = all_data.groupby(['OverallQual']).median()['GarageCars']\n",
    "\n",
    "for oq in all_data.OverallQual.unique():\n",
    "    print('Median cars of OQ {}: {}'.format(oq, cars_by_overallqual[oq]))\n",
    "print('Median cars of all: {}'.format(all_data['GarageCars'].median()))"
   ]
  },
  {
   "cell_type": "code",
   "execution_count": 20,
   "metadata": {},
   "outputs": [
    {
     "data": {
      "text/plain": [
       "OverallQual         5\n",
       "GarageType     Detchd\n",
       "GarageCars          1\n",
       "Name: 2576, dtype: object"
      ]
     },
     "execution_count": 20,
     "metadata": {},
     "output_type": "execute_result"
    }
   ],
   "source": [
    "all_data['GarageCars'] = all_data.groupby(['OverallQual'])['GarageCars'].apply(lambda x: x.fillna(x.median()))\n",
    "all_data[['OverallQual']+['GarageType','GarageCars']].iloc[2576]"
   ]
  },
  {
   "cell_type": "markdown",
   "metadata": {},
   "source": [
    "#### GarageType、GarageYrBlt、GarageFinish、GarageCond、GarageQual\n",
    "\n",
    "Type缺失157个，其余缺失159个，也就是有两个是有Type而没有其他四个字段的，这两个要关注一下，其余157个考虑直接用None替代；"
   ]
  },
  {
   "cell_type": "code",
   "execution_count": 21,
   "metadata": {},
   "outputs": [
    {
     "data": {
      "text/html": [
       "<div>\n",
       "<style scoped>\n",
       "    .dataframe tbody tr th:only-of-type {\n",
       "        vertical-align: middle;\n",
       "    }\n",
       "\n",
       "    .dataframe tbody tr th {\n",
       "        vertical-align: top;\n",
       "    }\n",
       "\n",
       "    .dataframe thead th {\n",
       "        text-align: right;\n",
       "    }\n",
       "</style>\n",
       "<table border=\"1\" class=\"dataframe\">\n",
       "  <thead>\n",
       "    <tr style=\"text-align: right;\">\n",
       "      <th></th>\n",
       "      <th>GarageArea</th>\n",
       "      <th>GarageCars</th>\n",
       "      <th>GarageCond</th>\n",
       "      <th>GarageFinish</th>\n",
       "      <th>GarageQual</th>\n",
       "      <th>GarageType</th>\n",
       "      <th>GarageYrBlt</th>\n",
       "    </tr>\n",
       "  </thead>\n",
       "  <tbody>\n",
       "    <tr>\n",
       "      <th>2126</th>\n",
       "      <td>360.0</td>\n",
       "      <td>1.0</td>\n",
       "      <td>NaN</td>\n",
       "      <td>NaN</td>\n",
       "      <td>NaN</td>\n",
       "      <td>Detchd</td>\n",
       "      <td>NaN</td>\n",
       "    </tr>\n",
       "    <tr>\n",
       "      <th>2576</th>\n",
       "      <td>352.0</td>\n",
       "      <td>1.0</td>\n",
       "      <td>NaN</td>\n",
       "      <td>NaN</td>\n",
       "      <td>NaN</td>\n",
       "      <td>Detchd</td>\n",
       "      <td>NaN</td>\n",
       "    </tr>\n",
       "  </tbody>\n",
       "</table>\n",
       "</div>"
      ],
      "text/plain": [
       "      GarageArea  GarageCars GarageCond GarageFinish GarageQual GarageType  \\\n",
       "2126       360.0         1.0        NaN          NaN        NaN     Detchd   \n",
       "2576       352.0         1.0        NaN          NaN        NaN     Detchd   \n",
       "\n",
       "      GarageYrBlt  \n",
       "2126          NaN  \n",
       "2576          NaN  "
      ]
     },
     "execution_count": 21,
     "metadata": {},
     "output_type": "execute_result"
    }
   ],
   "source": [
    "all_data[garage_list][pd.isnull(all_data.GarageFinish)][all_data.GarageArea>0]"
   ]
  },
  {
   "cell_type": "markdown",
   "metadata": {},
   "source": [
    "可以看到，这两个特别的点又是Detchd的，也就是与家分离的车库，那么对这两个的填充，就基于Detchd；"
   ]
  },
  {
   "cell_type": "code",
   "execution_count": 22,
   "metadata": {},
   "outputs": [
    {
     "name": "stdout",
     "output_type": "stream",
     "text": [
      "GarageCond\n",
      "Po     12\n",
      "Fa     67\n",
      "TA    692\n",
      "Name: Id, dtype: int64\n",
      "GarageFinish\n",
      "Fin     24\n",
      "RFn     34\n",
      "Unf    719\n",
      "Name: Id, dtype: int64\n",
      "GarageQual\n",
      "Po      5\n",
      "Fa     97\n",
      "TA    667\n",
      "Name: Id, dtype: int64\n"
     ]
    }
   ],
   "source": [
    "print all_data[all_data.GarageType=='Detchd'].groupby('GarageCond')['Id'].count().sort_values()[-3:]\n",
    "print all_data[all_data.GarageType=='Detchd'].groupby('GarageFinish')['Id'].count().sort_values()[-3:]\n",
    "print all_data[all_data.GarageType=='Detchd'].groupby('GarageQual')['Id'].count().sort_values()[-3:]\n",
    "#print all_data[all_data.OverallQual==5][all_data.GarageType=='Detchd'][all_data.GarageFinish=='Unf'].groupby('GarageYrBlt')['Id'].count().sort_values()"
   ]
  },
  {
   "cell_type": "code",
   "execution_count": 23,
   "metadata": {},
   "outputs": [],
   "source": [
    "all_data[all_data.GarageArea>0][pd.isnull(all_data.GarageCond)]['GarageCond'] = 'TA'\n",
    "all_data[all_data.GarageArea>0][pd.isnull(all_data.GarageFinish)]['GarageFinish'] = 'Unf'\n",
    "all_data[all_data.GarageArea>0][pd.isnull(all_data.GarageQual)]['GarageQual'] = 'TA'"
   ]
  },
  {
   "cell_type": "markdown",
   "metadata": {},
   "source": [
    "对于GarageYrBlt，因此得到的数据过于零散，通过相关性来填充，能够看到，跟房屋建造年限有关，因此使用该字段进行填充；"
   ]
  },
  {
   "cell_type": "code",
   "execution_count": 24,
   "metadata": {},
   "outputs": [
    {
     "data": {
      "text/html": [
       "<div>\n",
       "<style scoped>\n",
       "    .dataframe tbody tr th:only-of-type {\n",
       "        vertical-align: middle;\n",
       "    }\n",
       "\n",
       "    .dataframe tbody tr th {\n",
       "        vertical-align: top;\n",
       "    }\n",
       "\n",
       "    .dataframe thead th {\n",
       "        text-align: right;\n",
       "    }\n",
       "</style>\n",
       "<table border=\"1\" class=\"dataframe\">\n",
       "  <thead>\n",
       "    <tr style=\"text-align: right;\">\n",
       "      <th></th>\n",
       "      <th>Target</th>\n",
       "      <th>Source</th>\n",
       "      <th>Correlation Coefficient</th>\n",
       "    </tr>\n",
       "  </thead>\n",
       "  <tbody>\n",
       "    <tr>\n",
       "      <th>40</th>\n",
       "      <td>GarageYrBlt</td>\n",
       "      <td>YearBuilt</td>\n",
       "      <td>0.834812</td>\n",
       "    </tr>\n",
       "    <tr>\n",
       "      <th>55</th>\n",
       "      <td>GarageYrBlt</td>\n",
       "      <td>YearRemodAdd</td>\n",
       "      <td>0.652365</td>\n",
       "    </tr>\n",
       "    <tr>\n",
       "      <th>76</th>\n",
       "      <td>GarageYrBlt</td>\n",
       "      <td>GarageCars</td>\n",
       "      <td>0.587712</td>\n",
       "    </tr>\n",
       "    <tr>\n",
       "      <th>82</th>\n",
       "      <td>GarageYrBlt</td>\n",
       "      <td>OverallQual</td>\n",
       "      <td>0.571803</td>\n",
       "    </tr>\n",
       "    <tr>\n",
       "      <th>92</th>\n",
       "      <td>GarageYrBlt</td>\n",
       "      <td>GarageArea</td>\n",
       "      <td>0.555836</td>\n",
       "    </tr>\n",
       "  </tbody>\n",
       "</table>\n",
       "</div>"
      ],
      "text/plain": [
       "         Target        Source  Correlation Coefficient\n",
       "40  GarageYrBlt     YearBuilt                 0.834812\n",
       "55  GarageYrBlt  YearRemodAdd                 0.652365\n",
       "76  GarageYrBlt    GarageCars                 0.587712\n",
       "82  GarageYrBlt   OverallQual                 0.571803\n",
       "92  GarageYrBlt    GarageArea                 0.555836"
      ]
     },
     "execution_count": 24,
     "metadata": {},
     "output_type": "execute_result"
    }
   ],
   "source": [
    "corr_df(all_data, 'GarageYrBlt', min_=0.2)[:5]"
   ]
  },
  {
   "cell_type": "code",
   "execution_count": 25,
   "metadata": {},
   "outputs": [
    {
     "name": "stdout",
     "output_type": "stream",
     "text": [
      "Median cars of OQ 2003: 2003.0\n",
      "Median cars of OQ 1976: 1976.0\n",
      "Median cars of OQ 2001: 2001.0\n",
      "Median cars of OQ 1915: 1950.0\n",
      "Median cars of OQ 2000: 2000.0\n",
      "Median cars of OQ 1993: 1993.0\n",
      "Median cars of OQ 2004: 2004.0\n",
      "Median cars of OQ 1973: 1973.0\n",
      "Median cars of OQ 1931: 1931.0\n",
      "Median cars of OQ 1939: 1939.0\n",
      "Median cars of OQ 1965: 1965.0\n",
      "Median cars of OQ 2005: 2005.0\n",
      "Median cars of OQ 1962: 1962.0\n",
      "Median cars of OQ 2006: 2006.0\n",
      "Median cars of OQ 1960: 1960.0\n",
      "Median cars of OQ 1929: 1970.5\n",
      "Median cars of OQ 1970: 1970.0\n",
      "Median cars of OQ 1967: 1967.0\n",
      "Median cars of OQ 1958: 1958.0\n",
      "Median cars of OQ 1930: 1930.0\n",
      "Median cars of OQ 2002: 2002.0\n",
      "Median cars of OQ 1968: 1968.0\n",
      "Median cars of OQ 2007: 2007.0\n",
      "Median cars of OQ 1951: 1951.0\n",
      "Median cars of OQ 1957: 1957.0\n",
      "Median cars of OQ 1927: 1927.0\n",
      "Median cars of OQ 1920: 1925.0\n",
      "Median cars of OQ 1966: 1966.0\n",
      "Median cars of OQ 1959: 1959.0\n",
      "Median cars of OQ 1994: 1994.0\n",
      "Median cars of OQ 1954: 1954.0\n",
      "Median cars of OQ 1953: 1953.0\n",
      "Median cars of OQ 1955: 1955.0\n",
      "Median cars of OQ 1983: 1983.0\n",
      "Median cars of OQ 1975: 1975.0\n",
      "Median cars of OQ 1997: 1997.0\n",
      "Median cars of OQ 1934: 1939.0\n",
      "Median cars of OQ 1963: 1963.0\n",
      "Median cars of OQ 1981: 1981.0\n",
      "Median cars of OQ 1964: 1964.0\n",
      "Median cars of OQ 1999: 1999.0\n",
      "Median cars of OQ 1972: 1972.0\n",
      "Median cars of OQ 1921: 1950.0\n",
      "Median cars of OQ 1945: 1945.0\n",
      "Median cars of OQ 1982: 1983.0\n",
      "Median cars of OQ 1998: 1998.0\n",
      "Median cars of OQ 1956: 1956.0\n",
      "Median cars of OQ 1948: 1948.0\n",
      "Median cars of OQ 1910: 1950.0\n",
      "Median cars of OQ 1995: 1995.0\n",
      "Median cars of OQ 1991: 1991.0\n",
      "Median cars of OQ 2009: 2009.0\n",
      "Median cars of OQ 1950: 1950.0\n",
      "Median cars of OQ 1961: 1961.0\n",
      "Median cars of OQ 1977: 1977.0\n",
      "Median cars of OQ 1985: 1985.0\n",
      "Median cars of OQ 1979: 1979.0\n",
      "Median cars of OQ 1885: 1962.5\n",
      "Median cars of OQ 1919: 1940.0\n",
      "Median cars of OQ 1990: 1990.0\n",
      "Median cars of OQ 1969: 1969.0\n",
      "Median cars of OQ 1935: 1939.0\n",
      "Median cars of OQ 1988: 1988.0\n",
      "Median cars of OQ 1971: 1971.0\n",
      "Median cars of OQ 1952: 1952.0\n",
      "Median cars of OQ 1936: 1936.0\n",
      "Median cars of OQ 1923: 1923.0\n",
      "Median cars of OQ 1924: 1924.0\n",
      "Median cars of OQ 1984: 1984.0\n",
      "Median cars of OQ 1926: 1926.0\n",
      "Median cars of OQ 1940: 1940.0\n",
      "Median cars of OQ 1941: 1941.0\n",
      "Median cars of OQ 1987: 1987.0\n",
      "Median cars of OQ 1986: 1986.0\n",
      "Median cars of OQ 2008: 2008.0\n",
      "Median cars of OQ 1908: 1947.0\n",
      "Median cars of OQ 1892: 1989.0\n",
      "Median cars of OQ 1916: 1916.0\n",
      "Median cars of OQ 1932: 1963.0\n",
      "Median cars of OQ 1918: 1950.0\n",
      "Median cars of OQ 1912: 1997.0\n",
      "Median cars of OQ 1947: 1947.0\n",
      "Median cars of OQ 1925: 1934.0\n",
      "Median cars of OQ 1900: 1942.5\n",
      "Median cars of OQ 1980: 1980.0\n",
      "Median cars of OQ 1989: 1989.0\n",
      "Median cars of OQ 1992: 1992.0\n",
      "Median cars of OQ 1949: 1949.0\n",
      "Median cars of OQ 1880: 1937.0\n",
      "Median cars of OQ 1928: 1929.0\n",
      "Median cars of OQ 1978: 1978.0\n",
      "Median cars of OQ 1922: 1922.0\n",
      "Median cars of OQ 1996: 1996.0\n",
      "Median cars of OQ 2010: 2010.0\n",
      "Median cars of OQ 1946: 1946.0\n",
      "Median cars of OQ 1913: 1990.0\n",
      "Median cars of OQ 1937: 1939.0\n",
      "Median cars of OQ 1942: 1942.0\n",
      "Median cars of OQ 1938: 1938.0\n",
      "Median cars of OQ 1974: 1974.0\n",
      "Median cars of OQ 1893: 1988.0\n",
      "Median cars of OQ 1914: 1926.0\n",
      "Median cars of OQ 1906: 1906.0\n",
      "Median cars of OQ 1890: 1963.0\n",
      "Median cars of OQ 1898: 1910.0\n",
      "Median cars of OQ 1904: 1983.0\n",
      "Median cars of OQ 1882: 1925.0\n",
      "Median cars of OQ 1875: nan\n",
      "Median cars of OQ 1911: nan\n",
      "Median cars of OQ 1917: 1917.0\n",
      "Median cars of OQ 1872: nan\n",
      "Median cars of OQ 1905: 1966.5\n",
      "Median cars of OQ 1907: nan\n",
      "Median cars of OQ 1896: 1896.0\n",
      "Median cars of OQ 1902: nan\n",
      "Median cars of OQ 1895: 1895.0\n",
      "Median cars of OQ 1879: 1950.0\n",
      "Median cars of OQ 1901: 1920.0\n",
      "Median cars of all: 1979.0\n"
     ]
    }
   ],
   "source": [
    "yrblt_by_yearbuilt = all_data.groupby(['YearBuilt']).median()['GarageYrBlt']\n",
    "\n",
    "for oq in all_data.YearBuilt.unique():\n",
    "    print('Median cars of OQ {}: {}'.format(oq, yrblt_by_yearbuilt[oq]))\n",
    "print('Median cars of all: {}'.format(all_data['GarageYrBlt'].median()))"
   ]
  },
  {
   "cell_type": "code",
   "execution_count": 26,
   "metadata": {},
   "outputs": [
    {
     "data": {
      "text/html": [
       "<div>\n",
       "<style scoped>\n",
       "    .dataframe tbody tr th:only-of-type {\n",
       "        vertical-align: middle;\n",
       "    }\n",
       "\n",
       "    .dataframe tbody tr th {\n",
       "        vertical-align: top;\n",
       "    }\n",
       "\n",
       "    .dataframe thead th {\n",
       "        text-align: right;\n",
       "    }\n",
       "</style>\n",
       "<table border=\"1\" class=\"dataframe\">\n",
       "  <thead>\n",
       "    <tr style=\"text-align: right;\">\n",
       "      <th></th>\n",
       "      <th>YearBuilt</th>\n",
       "      <th>GarageYrBlt</th>\n",
       "    </tr>\n",
       "  </thead>\n",
       "  <tbody>\n",
       "    <tr>\n",
       "      <th>2126</th>\n",
       "      <td>1910</td>\n",
       "      <td>1950.0</td>\n",
       "    </tr>\n",
       "    <tr>\n",
       "      <th>2576</th>\n",
       "      <td>1923</td>\n",
       "      <td>1923.0</td>\n",
       "    </tr>\n",
       "  </tbody>\n",
       "</table>\n",
       "</div>"
      ],
      "text/plain": [
       "      YearBuilt  GarageYrBlt\n",
       "2126       1910       1950.0\n",
       "2576       1923       1923.0"
      ]
     },
     "execution_count": 26,
     "metadata": {},
     "output_type": "execute_result"
    }
   ],
   "source": [
    "all_data['GarageYrBlt'] = all_data.groupby(['YearBuilt'])['GarageYrBlt'].apply(lambda x: x.fillna(x.median()))\n",
    "all_data[['YearBuilt','GarageYrBlt']].iloc[[2126,2576]]"
   ]
  },
  {
   "cell_type": "markdown",
   "metadata": {},
   "source": [
    "下面检查另外157个缺失是否都是因为没有车库导致的，如果是那么用'None'填充，通过打印可以看到157个都满足面积为0，因此这157个case都是没有车库，那么GarageType填充为'None'、GarageYrBlt填充为0（填充为0表示没有车库的车库建造年限字段，后续注意，另外在qcut时，0会跟最老的年限合到一起，可以理解为很久的车库跟没有一样，这样处理应该合理一些）、GarageFinish填充为'None'、GarageCond填充为'None'、GarageQua填充为'None'；"
   ]
  },
  {
   "cell_type": "code",
   "execution_count": 27,
   "metadata": {},
   "outputs": [
    {
     "name": "stdout",
     "output_type": "stream",
     "text": [
      "Size of finish is nan, area=0, cars=0 157\n"
     ]
    }
   ],
   "source": [
    "print 'Size of finish is nan, area=0, cars=0',len(all_data[garage_list][pd.isnull(all_data.GarageFinish)][all_data.GarageArea<=0.0][all_data.GarageCars==0.0])"
   ]
  },
  {
   "cell_type": "code",
   "execution_count": 28,
   "metadata": {},
   "outputs": [],
   "source": [
    "all_data.GarageType.fillna('None', inplace=True)\n",
    "all_data.GarageFinish.fillna('None', inplace=True)\n",
    "all_data.GarageCond.fillna('None', inplace=True)\n",
    "all_data.GarageQual.fillna('None', inplace=True)\n",
    "all_data.GarageYrBlt.fillna(0, inplace=True)"
   ]
  },
  {
   "cell_type": "markdown",
   "metadata": {},
   "source": [
    "#### 检查下Garage下是否还有nan\n",
    "\n",
    "可以看到已经全部被填充了；"
   ]
  },
  {
   "cell_type": "code",
   "execution_count": 29,
   "metadata": {},
   "outputs": [
    {
     "data": {
      "text/plain": [
       "Series([], dtype: int64)"
      ]
     },
     "execution_count": 29,
     "metadata": {},
     "output_type": "execute_result"
    }
   ],
   "source": [
    "all_data[garage_list].isnull().sum()[all_data.isnull().sum()>0].sort_values()"
   ]
  },
  {
   "cell_type": "markdown",
   "metadata": {},
   "source": [
    "### 5.1.2 Bsmt部分\n",
    "\n",
    "- TotalBsmtSF：1，地下室面积\n",
    "- BsmtFinSF1：1，1完工面积\n",
    "- BsmtFinSF2：1，2完工面积\n",
    "- BsmtUnfSF：1，地下室未完面积\n",
    "- BsmtHalfBath：2，地下室半浴室个数\n",
    "- BsmtFullBath：2，地下室全浴室个数\n",
    "- BsmtFinType1：79，地下室1完工面积等级\n",
    "- BsmtFinType2：80，地下室2完工面积等级\n",
    "- BsmtQual：81，地下室高度评价\n",
    "- BsmtCond：82，地下室整体情况\n",
    "- BsmtExposure：82，地下室曝光情况"
   ]
  },
  {
   "cell_type": "code",
   "execution_count": 30,
   "metadata": {},
   "outputs": [
    {
     "data": {
      "text/plain": [
       "['BsmtCond',\n",
       " 'BsmtExposure',\n",
       " 'BsmtFinSF1',\n",
       " 'BsmtFinSF2',\n",
       " 'BsmtFinType1',\n",
       " 'BsmtFinType2',\n",
       " 'BsmtFullBath',\n",
       " 'BsmtHalfBath',\n",
       " 'BsmtQual',\n",
       " 'BsmtUnfSF',\n",
       " 'TotalBsmtSF']"
      ]
     },
     "execution_count": 30,
     "metadata": {},
     "output_type": "execute_result"
    }
   ],
   "source": [
    "bsmt_list = [col for col in all_data.columns.tolist() if col.find('Bsmt')!=-1]\n",
    "bsmt_list"
   ]
  },
  {
   "cell_type": "markdown",
   "metadata": {},
   "source": [
    "#### BsmtFinType1、BsmtFinType2、BsmtQual、BsmtCond、BsmtExposure\n",
    "\n",
    "从这五个开始因为在文档中说明，这5个字段为null表示没有车库，而这五个的缺失不是一致的，最少的是Type1为79，最多为Cond和Exposure为82，因此先从Type1开始，看到这79个地下室相关均为NaN和0，因此直接填充即可，字符枚举用'None'，数值用0；"
   ]
  },
  {
   "cell_type": "code",
   "execution_count": 31,
   "metadata": {},
   "outputs": [
    {
     "data": {
      "text/html": [
       "<div>\n",
       "<style scoped>\n",
       "    .dataframe tbody tr th:only-of-type {\n",
       "        vertical-align: middle;\n",
       "    }\n",
       "\n",
       "    .dataframe tbody tr th {\n",
       "        vertical-align: top;\n",
       "    }\n",
       "\n",
       "    .dataframe thead th {\n",
       "        text-align: right;\n",
       "    }\n",
       "</style>\n",
       "<table border=\"1\" class=\"dataframe\">\n",
       "  <thead>\n",
       "    <tr style=\"text-align: right;\">\n",
       "      <th></th>\n",
       "      <th>BsmtCond</th>\n",
       "      <th>BsmtExposure</th>\n",
       "      <th>BsmtFinSF1</th>\n",
       "      <th>BsmtFinSF2</th>\n",
       "      <th>BsmtFinType1</th>\n",
       "      <th>BsmtFinType2</th>\n",
       "      <th>BsmtFullBath</th>\n",
       "      <th>BsmtHalfBath</th>\n",
       "      <th>BsmtQual</th>\n",
       "      <th>BsmtUnfSF</th>\n",
       "      <th>TotalBsmtSF</th>\n",
       "    </tr>\n",
       "  </thead>\n",
       "  <tbody>\n",
       "    <tr>\n",
       "      <th>17</th>\n",
       "      <td>NaN</td>\n",
       "      <td>NaN</td>\n",
       "      <td>0.0</td>\n",
       "      <td>0.0</td>\n",
       "      <td>NaN</td>\n",
       "      <td>NaN</td>\n",
       "      <td>0.0</td>\n",
       "      <td>0.0</td>\n",
       "      <td>NaN</td>\n",
       "      <td>0.0</td>\n",
       "      <td>0.0</td>\n",
       "    </tr>\n",
       "    <tr>\n",
       "      <th>39</th>\n",
       "      <td>NaN</td>\n",
       "      <td>NaN</td>\n",
       "      <td>0.0</td>\n",
       "      <td>0.0</td>\n",
       "      <td>NaN</td>\n",
       "      <td>NaN</td>\n",
       "      <td>0.0</td>\n",
       "      <td>0.0</td>\n",
       "      <td>NaN</td>\n",
       "      <td>0.0</td>\n",
       "      <td>0.0</td>\n",
       "    </tr>\n",
       "    <tr>\n",
       "      <th>90</th>\n",
       "      <td>NaN</td>\n",
       "      <td>NaN</td>\n",
       "      <td>0.0</td>\n",
       "      <td>0.0</td>\n",
       "      <td>NaN</td>\n",
       "      <td>NaN</td>\n",
       "      <td>0.0</td>\n",
       "      <td>0.0</td>\n",
       "      <td>NaN</td>\n",
       "      <td>0.0</td>\n",
       "      <td>0.0</td>\n",
       "    </tr>\n",
       "    <tr>\n",
       "      <th>102</th>\n",
       "      <td>NaN</td>\n",
       "      <td>NaN</td>\n",
       "      <td>0.0</td>\n",
       "      <td>0.0</td>\n",
       "      <td>NaN</td>\n",
       "      <td>NaN</td>\n",
       "      <td>0.0</td>\n",
       "      <td>0.0</td>\n",
       "      <td>NaN</td>\n",
       "      <td>0.0</td>\n",
       "      <td>0.0</td>\n",
       "    </tr>\n",
       "    <tr>\n",
       "      <th>156</th>\n",
       "      <td>NaN</td>\n",
       "      <td>NaN</td>\n",
       "      <td>0.0</td>\n",
       "      <td>0.0</td>\n",
       "      <td>NaN</td>\n",
       "      <td>NaN</td>\n",
       "      <td>0.0</td>\n",
       "      <td>0.0</td>\n",
       "      <td>NaN</td>\n",
       "      <td>0.0</td>\n",
       "      <td>0.0</td>\n",
       "    </tr>\n",
       "    <tr>\n",
       "      <th>182</th>\n",
       "      <td>NaN</td>\n",
       "      <td>NaN</td>\n",
       "      <td>0.0</td>\n",
       "      <td>0.0</td>\n",
       "      <td>NaN</td>\n",
       "      <td>NaN</td>\n",
       "      <td>0.0</td>\n",
       "      <td>0.0</td>\n",
       "      <td>NaN</td>\n",
       "      <td>0.0</td>\n",
       "      <td>0.0</td>\n",
       "    </tr>\n",
       "    <tr>\n",
       "      <th>259</th>\n",
       "      <td>NaN</td>\n",
       "      <td>NaN</td>\n",
       "      <td>0.0</td>\n",
       "      <td>0.0</td>\n",
       "      <td>NaN</td>\n",
       "      <td>NaN</td>\n",
       "      <td>0.0</td>\n",
       "      <td>0.0</td>\n",
       "      <td>NaN</td>\n",
       "      <td>0.0</td>\n",
       "      <td>0.0</td>\n",
       "    </tr>\n",
       "    <tr>\n",
       "      <th>342</th>\n",
       "      <td>NaN</td>\n",
       "      <td>NaN</td>\n",
       "      <td>0.0</td>\n",
       "      <td>0.0</td>\n",
       "      <td>NaN</td>\n",
       "      <td>NaN</td>\n",
       "      <td>0.0</td>\n",
       "      <td>0.0</td>\n",
       "      <td>NaN</td>\n",
       "      <td>0.0</td>\n",
       "      <td>0.0</td>\n",
       "    </tr>\n",
       "    <tr>\n",
       "      <th>362</th>\n",
       "      <td>NaN</td>\n",
       "      <td>NaN</td>\n",
       "      <td>0.0</td>\n",
       "      <td>0.0</td>\n",
       "      <td>NaN</td>\n",
       "      <td>NaN</td>\n",
       "      <td>0.0</td>\n",
       "      <td>0.0</td>\n",
       "      <td>NaN</td>\n",
       "      <td>0.0</td>\n",
       "      <td>0.0</td>\n",
       "    </tr>\n",
       "    <tr>\n",
       "      <th>371</th>\n",
       "      <td>NaN</td>\n",
       "      <td>NaN</td>\n",
       "      <td>0.0</td>\n",
       "      <td>0.0</td>\n",
       "      <td>NaN</td>\n",
       "      <td>NaN</td>\n",
       "      <td>0.0</td>\n",
       "      <td>0.0</td>\n",
       "      <td>NaN</td>\n",
       "      <td>0.0</td>\n",
       "      <td>0.0</td>\n",
       "    </tr>\n",
       "    <tr>\n",
       "      <th>392</th>\n",
       "      <td>NaN</td>\n",
       "      <td>NaN</td>\n",
       "      <td>0.0</td>\n",
       "      <td>0.0</td>\n",
       "      <td>NaN</td>\n",
       "      <td>NaN</td>\n",
       "      <td>0.0</td>\n",
       "      <td>0.0</td>\n",
       "      <td>NaN</td>\n",
       "      <td>0.0</td>\n",
       "      <td>0.0</td>\n",
       "    </tr>\n",
       "    <tr>\n",
       "      <th>520</th>\n",
       "      <td>NaN</td>\n",
       "      <td>NaN</td>\n",
       "      <td>0.0</td>\n",
       "      <td>0.0</td>\n",
       "      <td>NaN</td>\n",
       "      <td>NaN</td>\n",
       "      <td>0.0</td>\n",
       "      <td>0.0</td>\n",
       "      <td>NaN</td>\n",
       "      <td>0.0</td>\n",
       "      <td>0.0</td>\n",
       "    </tr>\n",
       "    <tr>\n",
       "      <th>532</th>\n",
       "      <td>NaN</td>\n",
       "      <td>NaN</td>\n",
       "      <td>0.0</td>\n",
       "      <td>0.0</td>\n",
       "      <td>NaN</td>\n",
       "      <td>NaN</td>\n",
       "      <td>0.0</td>\n",
       "      <td>0.0</td>\n",
       "      <td>NaN</td>\n",
       "      <td>0.0</td>\n",
       "      <td>0.0</td>\n",
       "    </tr>\n",
       "    <tr>\n",
       "      <th>533</th>\n",
       "      <td>NaN</td>\n",
       "      <td>NaN</td>\n",
       "      <td>0.0</td>\n",
       "      <td>0.0</td>\n",
       "      <td>NaN</td>\n",
       "      <td>NaN</td>\n",
       "      <td>0.0</td>\n",
       "      <td>0.0</td>\n",
       "      <td>NaN</td>\n",
       "      <td>0.0</td>\n",
       "      <td>0.0</td>\n",
       "    </tr>\n",
       "    <tr>\n",
       "      <th>553</th>\n",
       "      <td>NaN</td>\n",
       "      <td>NaN</td>\n",
       "      <td>0.0</td>\n",
       "      <td>0.0</td>\n",
       "      <td>NaN</td>\n",
       "      <td>NaN</td>\n",
       "      <td>0.0</td>\n",
       "      <td>0.0</td>\n",
       "      <td>NaN</td>\n",
       "      <td>0.0</td>\n",
       "      <td>0.0</td>\n",
       "    </tr>\n",
       "    <tr>\n",
       "      <th>646</th>\n",
       "      <td>NaN</td>\n",
       "      <td>NaN</td>\n",
       "      <td>0.0</td>\n",
       "      <td>0.0</td>\n",
       "      <td>NaN</td>\n",
       "      <td>NaN</td>\n",
       "      <td>0.0</td>\n",
       "      <td>0.0</td>\n",
       "      <td>NaN</td>\n",
       "      <td>0.0</td>\n",
       "      <td>0.0</td>\n",
       "    </tr>\n",
       "    <tr>\n",
       "      <th>705</th>\n",
       "      <td>NaN</td>\n",
       "      <td>NaN</td>\n",
       "      <td>0.0</td>\n",
       "      <td>0.0</td>\n",
       "      <td>NaN</td>\n",
       "      <td>NaN</td>\n",
       "      <td>0.0</td>\n",
       "      <td>0.0</td>\n",
       "      <td>NaN</td>\n",
       "      <td>0.0</td>\n",
       "      <td>0.0</td>\n",
       "    </tr>\n",
       "    <tr>\n",
       "      <th>736</th>\n",
       "      <td>NaN</td>\n",
       "      <td>NaN</td>\n",
       "      <td>0.0</td>\n",
       "      <td>0.0</td>\n",
       "      <td>NaN</td>\n",
       "      <td>NaN</td>\n",
       "      <td>0.0</td>\n",
       "      <td>0.0</td>\n",
       "      <td>NaN</td>\n",
       "      <td>0.0</td>\n",
       "      <td>0.0</td>\n",
       "    </tr>\n",
       "    <tr>\n",
       "      <th>749</th>\n",
       "      <td>NaN</td>\n",
       "      <td>NaN</td>\n",
       "      <td>0.0</td>\n",
       "      <td>0.0</td>\n",
       "      <td>NaN</td>\n",
       "      <td>NaN</td>\n",
       "      <td>0.0</td>\n",
       "      <td>0.0</td>\n",
       "      <td>NaN</td>\n",
       "      <td>0.0</td>\n",
       "      <td>0.0</td>\n",
       "    </tr>\n",
       "    <tr>\n",
       "      <th>778</th>\n",
       "      <td>NaN</td>\n",
       "      <td>NaN</td>\n",
       "      <td>0.0</td>\n",
       "      <td>0.0</td>\n",
       "      <td>NaN</td>\n",
       "      <td>NaN</td>\n",
       "      <td>0.0</td>\n",
       "      <td>0.0</td>\n",
       "      <td>NaN</td>\n",
       "      <td>0.0</td>\n",
       "      <td>0.0</td>\n",
       "    </tr>\n",
       "    <tr>\n",
       "      <th>868</th>\n",
       "      <td>NaN</td>\n",
       "      <td>NaN</td>\n",
       "      <td>0.0</td>\n",
       "      <td>0.0</td>\n",
       "      <td>NaN</td>\n",
       "      <td>NaN</td>\n",
       "      <td>0.0</td>\n",
       "      <td>0.0</td>\n",
       "      <td>NaN</td>\n",
       "      <td>0.0</td>\n",
       "      <td>0.0</td>\n",
       "    </tr>\n",
       "    <tr>\n",
       "      <th>894</th>\n",
       "      <td>NaN</td>\n",
       "      <td>NaN</td>\n",
       "      <td>0.0</td>\n",
       "      <td>0.0</td>\n",
       "      <td>NaN</td>\n",
       "      <td>NaN</td>\n",
       "      <td>0.0</td>\n",
       "      <td>0.0</td>\n",
       "      <td>NaN</td>\n",
       "      <td>0.0</td>\n",
       "      <td>0.0</td>\n",
       "    </tr>\n",
       "    <tr>\n",
       "      <th>897</th>\n",
       "      <td>NaN</td>\n",
       "      <td>NaN</td>\n",
       "      <td>0.0</td>\n",
       "      <td>0.0</td>\n",
       "      <td>NaN</td>\n",
       "      <td>NaN</td>\n",
       "      <td>0.0</td>\n",
       "      <td>0.0</td>\n",
       "      <td>NaN</td>\n",
       "      <td>0.0</td>\n",
       "      <td>0.0</td>\n",
       "    </tr>\n",
       "    <tr>\n",
       "      <th>984</th>\n",
       "      <td>NaN</td>\n",
       "      <td>NaN</td>\n",
       "      <td>0.0</td>\n",
       "      <td>0.0</td>\n",
       "      <td>NaN</td>\n",
       "      <td>NaN</td>\n",
       "      <td>0.0</td>\n",
       "      <td>0.0</td>\n",
       "      <td>NaN</td>\n",
       "      <td>0.0</td>\n",
       "      <td>0.0</td>\n",
       "    </tr>\n",
       "    <tr>\n",
       "      <th>1000</th>\n",
       "      <td>NaN</td>\n",
       "      <td>NaN</td>\n",
       "      <td>0.0</td>\n",
       "      <td>0.0</td>\n",
       "      <td>NaN</td>\n",
       "      <td>NaN</td>\n",
       "      <td>0.0</td>\n",
       "      <td>0.0</td>\n",
       "      <td>NaN</td>\n",
       "      <td>0.0</td>\n",
       "      <td>0.0</td>\n",
       "    </tr>\n",
       "    <tr>\n",
       "      <th>1011</th>\n",
       "      <td>NaN</td>\n",
       "      <td>NaN</td>\n",
       "      <td>0.0</td>\n",
       "      <td>0.0</td>\n",
       "      <td>NaN</td>\n",
       "      <td>NaN</td>\n",
       "      <td>0.0</td>\n",
       "      <td>0.0</td>\n",
       "      <td>NaN</td>\n",
       "      <td>0.0</td>\n",
       "      <td>0.0</td>\n",
       "    </tr>\n",
       "    <tr>\n",
       "      <th>1035</th>\n",
       "      <td>NaN</td>\n",
       "      <td>NaN</td>\n",
       "      <td>0.0</td>\n",
       "      <td>0.0</td>\n",
       "      <td>NaN</td>\n",
       "      <td>NaN</td>\n",
       "      <td>0.0</td>\n",
       "      <td>0.0</td>\n",
       "      <td>NaN</td>\n",
       "      <td>0.0</td>\n",
       "      <td>0.0</td>\n",
       "    </tr>\n",
       "    <tr>\n",
       "      <th>1045</th>\n",
       "      <td>NaN</td>\n",
       "      <td>NaN</td>\n",
       "      <td>0.0</td>\n",
       "      <td>0.0</td>\n",
       "      <td>NaN</td>\n",
       "      <td>NaN</td>\n",
       "      <td>0.0</td>\n",
       "      <td>0.0</td>\n",
       "      <td>NaN</td>\n",
       "      <td>0.0</td>\n",
       "      <td>0.0</td>\n",
       "    </tr>\n",
       "    <tr>\n",
       "      <th>1048</th>\n",
       "      <td>NaN</td>\n",
       "      <td>NaN</td>\n",
       "      <td>0.0</td>\n",
       "      <td>0.0</td>\n",
       "      <td>NaN</td>\n",
       "      <td>NaN</td>\n",
       "      <td>0.0</td>\n",
       "      <td>0.0</td>\n",
       "      <td>NaN</td>\n",
       "      <td>0.0</td>\n",
       "      <td>0.0</td>\n",
       "    </tr>\n",
       "    <tr>\n",
       "      <th>1049</th>\n",
       "      <td>NaN</td>\n",
       "      <td>NaN</td>\n",
       "      <td>0.0</td>\n",
       "      <td>0.0</td>\n",
       "      <td>NaN</td>\n",
       "      <td>NaN</td>\n",
       "      <td>0.0</td>\n",
       "      <td>0.0</td>\n",
       "      <td>NaN</td>\n",
       "      <td>0.0</td>\n",
       "      <td>0.0</td>\n",
       "    </tr>\n",
       "    <tr>\n",
       "      <th>...</th>\n",
       "      <td>...</td>\n",
       "      <td>...</td>\n",
       "      <td>...</td>\n",
       "      <td>...</td>\n",
       "      <td>...</td>\n",
       "      <td>...</td>\n",
       "      <td>...</td>\n",
       "      <td>...</td>\n",
       "      <td>...</td>\n",
       "      <td>...</td>\n",
       "      <td>...</td>\n",
       "    </tr>\n",
       "    <tr>\n",
       "      <th>2050</th>\n",
       "      <td>NaN</td>\n",
       "      <td>NaN</td>\n",
       "      <td>0.0</td>\n",
       "      <td>0.0</td>\n",
       "      <td>NaN</td>\n",
       "      <td>NaN</td>\n",
       "      <td>0.0</td>\n",
       "      <td>0.0</td>\n",
       "      <td>NaN</td>\n",
       "      <td>0.0</td>\n",
       "      <td>0.0</td>\n",
       "    </tr>\n",
       "    <tr>\n",
       "      <th>2066</th>\n",
       "      <td>NaN</td>\n",
       "      <td>NaN</td>\n",
       "      <td>0.0</td>\n",
       "      <td>0.0</td>\n",
       "      <td>NaN</td>\n",
       "      <td>NaN</td>\n",
       "      <td>0.0</td>\n",
       "      <td>0.0</td>\n",
       "      <td>NaN</td>\n",
       "      <td>0.0</td>\n",
       "      <td>0.0</td>\n",
       "    </tr>\n",
       "    <tr>\n",
       "      <th>2068</th>\n",
       "      <td>NaN</td>\n",
       "      <td>NaN</td>\n",
       "      <td>0.0</td>\n",
       "      <td>0.0</td>\n",
       "      <td>NaN</td>\n",
       "      <td>NaN</td>\n",
       "      <td>0.0</td>\n",
       "      <td>0.0</td>\n",
       "      <td>NaN</td>\n",
       "      <td>0.0</td>\n",
       "      <td>0.0</td>\n",
       "    </tr>\n",
       "    <tr>\n",
       "      <th>2120</th>\n",
       "      <td>NaN</td>\n",
       "      <td>NaN</td>\n",
       "      <td>NaN</td>\n",
       "      <td>NaN</td>\n",
       "      <td>NaN</td>\n",
       "      <td>NaN</td>\n",
       "      <td>NaN</td>\n",
       "      <td>NaN</td>\n",
       "      <td>NaN</td>\n",
       "      <td>NaN</td>\n",
       "      <td>NaN</td>\n",
       "    </tr>\n",
       "    <tr>\n",
       "      <th>2122</th>\n",
       "      <td>NaN</td>\n",
       "      <td>NaN</td>\n",
       "      <td>0.0</td>\n",
       "      <td>0.0</td>\n",
       "      <td>NaN</td>\n",
       "      <td>NaN</td>\n",
       "      <td>0.0</td>\n",
       "      <td>0.0</td>\n",
       "      <td>NaN</td>\n",
       "      <td>0.0</td>\n",
       "      <td>0.0</td>\n",
       "    </tr>\n",
       "    <tr>\n",
       "      <th>2188</th>\n",
       "      <td>NaN</td>\n",
       "      <td>NaN</td>\n",
       "      <td>0.0</td>\n",
       "      <td>0.0</td>\n",
       "      <td>NaN</td>\n",
       "      <td>NaN</td>\n",
       "      <td>NaN</td>\n",
       "      <td>NaN</td>\n",
       "      <td>NaN</td>\n",
       "      <td>0.0</td>\n",
       "      <td>0.0</td>\n",
       "    </tr>\n",
       "    <tr>\n",
       "      <th>2189</th>\n",
       "      <td>NaN</td>\n",
       "      <td>NaN</td>\n",
       "      <td>0.0</td>\n",
       "      <td>0.0</td>\n",
       "      <td>NaN</td>\n",
       "      <td>NaN</td>\n",
       "      <td>0.0</td>\n",
       "      <td>0.0</td>\n",
       "      <td>NaN</td>\n",
       "      <td>0.0</td>\n",
       "      <td>0.0</td>\n",
       "    </tr>\n",
       "    <tr>\n",
       "      <th>2190</th>\n",
       "      <td>NaN</td>\n",
       "      <td>NaN</td>\n",
       "      <td>0.0</td>\n",
       "      <td>0.0</td>\n",
       "      <td>NaN</td>\n",
       "      <td>NaN</td>\n",
       "      <td>0.0</td>\n",
       "      <td>0.0</td>\n",
       "      <td>NaN</td>\n",
       "      <td>0.0</td>\n",
       "      <td>0.0</td>\n",
       "    </tr>\n",
       "    <tr>\n",
       "      <th>2193</th>\n",
       "      <td>NaN</td>\n",
       "      <td>NaN</td>\n",
       "      <td>0.0</td>\n",
       "      <td>0.0</td>\n",
       "      <td>NaN</td>\n",
       "      <td>NaN</td>\n",
       "      <td>0.0</td>\n",
       "      <td>0.0</td>\n",
       "      <td>NaN</td>\n",
       "      <td>0.0</td>\n",
       "      <td>0.0</td>\n",
       "    </tr>\n",
       "    <tr>\n",
       "      <th>2216</th>\n",
       "      <td>NaN</td>\n",
       "      <td>NaN</td>\n",
       "      <td>0.0</td>\n",
       "      <td>0.0</td>\n",
       "      <td>NaN</td>\n",
       "      <td>NaN</td>\n",
       "      <td>0.0</td>\n",
       "      <td>0.0</td>\n",
       "      <td>NaN</td>\n",
       "      <td>0.0</td>\n",
       "      <td>0.0</td>\n",
       "    </tr>\n",
       "    <tr>\n",
       "      <th>2224</th>\n",
       "      <td>NaN</td>\n",
       "      <td>NaN</td>\n",
       "      <td>0.0</td>\n",
       "      <td>0.0</td>\n",
       "      <td>NaN</td>\n",
       "      <td>NaN</td>\n",
       "      <td>0.0</td>\n",
       "      <td>0.0</td>\n",
       "      <td>NaN</td>\n",
       "      <td>0.0</td>\n",
       "      <td>0.0</td>\n",
       "    </tr>\n",
       "    <tr>\n",
       "      <th>2387</th>\n",
       "      <td>NaN</td>\n",
       "      <td>NaN</td>\n",
       "      <td>0.0</td>\n",
       "      <td>0.0</td>\n",
       "      <td>NaN</td>\n",
       "      <td>NaN</td>\n",
       "      <td>0.0</td>\n",
       "      <td>0.0</td>\n",
       "      <td>NaN</td>\n",
       "      <td>0.0</td>\n",
       "      <td>0.0</td>\n",
       "    </tr>\n",
       "    <tr>\n",
       "      <th>2435</th>\n",
       "      <td>NaN</td>\n",
       "      <td>NaN</td>\n",
       "      <td>0.0</td>\n",
       "      <td>0.0</td>\n",
       "      <td>NaN</td>\n",
       "      <td>NaN</td>\n",
       "      <td>0.0</td>\n",
       "      <td>0.0</td>\n",
       "      <td>NaN</td>\n",
       "      <td>0.0</td>\n",
       "      <td>0.0</td>\n",
       "    </tr>\n",
       "    <tr>\n",
       "      <th>2452</th>\n",
       "      <td>NaN</td>\n",
       "      <td>NaN</td>\n",
       "      <td>0.0</td>\n",
       "      <td>0.0</td>\n",
       "      <td>NaN</td>\n",
       "      <td>NaN</td>\n",
       "      <td>0.0</td>\n",
       "      <td>0.0</td>\n",
       "      <td>NaN</td>\n",
       "      <td>0.0</td>\n",
       "      <td>0.0</td>\n",
       "    </tr>\n",
       "    <tr>\n",
       "      <th>2453</th>\n",
       "      <td>NaN</td>\n",
       "      <td>NaN</td>\n",
       "      <td>0.0</td>\n",
       "      <td>0.0</td>\n",
       "      <td>NaN</td>\n",
       "      <td>NaN</td>\n",
       "      <td>0.0</td>\n",
       "      <td>0.0</td>\n",
       "      <td>NaN</td>\n",
       "      <td>0.0</td>\n",
       "      <td>0.0</td>\n",
       "    </tr>\n",
       "    <tr>\n",
       "      <th>2490</th>\n",
       "      <td>NaN</td>\n",
       "      <td>NaN</td>\n",
       "      <td>0.0</td>\n",
       "      <td>0.0</td>\n",
       "      <td>NaN</td>\n",
       "      <td>NaN</td>\n",
       "      <td>0.0</td>\n",
       "      <td>0.0</td>\n",
       "      <td>NaN</td>\n",
       "      <td>0.0</td>\n",
       "      <td>0.0</td>\n",
       "    </tr>\n",
       "    <tr>\n",
       "      <th>2498</th>\n",
       "      <td>NaN</td>\n",
       "      <td>NaN</td>\n",
       "      <td>0.0</td>\n",
       "      <td>0.0</td>\n",
       "      <td>NaN</td>\n",
       "      <td>NaN</td>\n",
       "      <td>0.0</td>\n",
       "      <td>0.0</td>\n",
       "      <td>NaN</td>\n",
       "      <td>0.0</td>\n",
       "      <td>0.0</td>\n",
       "    </tr>\n",
       "    <tr>\n",
       "      <th>2547</th>\n",
       "      <td>NaN</td>\n",
       "      <td>NaN</td>\n",
       "      <td>0.0</td>\n",
       "      <td>0.0</td>\n",
       "      <td>NaN</td>\n",
       "      <td>NaN</td>\n",
       "      <td>0.0</td>\n",
       "      <td>0.0</td>\n",
       "      <td>NaN</td>\n",
       "      <td>0.0</td>\n",
       "      <td>0.0</td>\n",
       "    </tr>\n",
       "    <tr>\n",
       "      <th>2552</th>\n",
       "      <td>NaN</td>\n",
       "      <td>NaN</td>\n",
       "      <td>0.0</td>\n",
       "      <td>0.0</td>\n",
       "      <td>NaN</td>\n",
       "      <td>NaN</td>\n",
       "      <td>0.0</td>\n",
       "      <td>0.0</td>\n",
       "      <td>NaN</td>\n",
       "      <td>0.0</td>\n",
       "      <td>0.0</td>\n",
       "    </tr>\n",
       "    <tr>\n",
       "      <th>2564</th>\n",
       "      <td>NaN</td>\n",
       "      <td>NaN</td>\n",
       "      <td>0.0</td>\n",
       "      <td>0.0</td>\n",
       "      <td>NaN</td>\n",
       "      <td>NaN</td>\n",
       "      <td>0.0</td>\n",
       "      <td>0.0</td>\n",
       "      <td>NaN</td>\n",
       "      <td>0.0</td>\n",
       "      <td>0.0</td>\n",
       "    </tr>\n",
       "    <tr>\n",
       "      <th>2578</th>\n",
       "      <td>NaN</td>\n",
       "      <td>NaN</td>\n",
       "      <td>0.0</td>\n",
       "      <td>0.0</td>\n",
       "      <td>NaN</td>\n",
       "      <td>NaN</td>\n",
       "      <td>0.0</td>\n",
       "      <td>0.0</td>\n",
       "      <td>NaN</td>\n",
       "      <td>0.0</td>\n",
       "      <td>0.0</td>\n",
       "    </tr>\n",
       "    <tr>\n",
       "      <th>2599</th>\n",
       "      <td>NaN</td>\n",
       "      <td>NaN</td>\n",
       "      <td>0.0</td>\n",
       "      <td>0.0</td>\n",
       "      <td>NaN</td>\n",
       "      <td>NaN</td>\n",
       "      <td>0.0</td>\n",
       "      <td>0.0</td>\n",
       "      <td>NaN</td>\n",
       "      <td>0.0</td>\n",
       "      <td>0.0</td>\n",
       "    </tr>\n",
       "    <tr>\n",
       "      <th>2702</th>\n",
       "      <td>NaN</td>\n",
       "      <td>NaN</td>\n",
       "      <td>0.0</td>\n",
       "      <td>0.0</td>\n",
       "      <td>NaN</td>\n",
       "      <td>NaN</td>\n",
       "      <td>0.0</td>\n",
       "      <td>0.0</td>\n",
       "      <td>NaN</td>\n",
       "      <td>0.0</td>\n",
       "      <td>0.0</td>\n",
       "    </tr>\n",
       "    <tr>\n",
       "      <th>2763</th>\n",
       "      <td>NaN</td>\n",
       "      <td>NaN</td>\n",
       "      <td>0.0</td>\n",
       "      <td>0.0</td>\n",
       "      <td>NaN</td>\n",
       "      <td>NaN</td>\n",
       "      <td>0.0</td>\n",
       "      <td>0.0</td>\n",
       "      <td>NaN</td>\n",
       "      <td>0.0</td>\n",
       "      <td>0.0</td>\n",
       "    </tr>\n",
       "    <tr>\n",
       "      <th>2766</th>\n",
       "      <td>NaN</td>\n",
       "      <td>NaN</td>\n",
       "      <td>0.0</td>\n",
       "      <td>0.0</td>\n",
       "      <td>NaN</td>\n",
       "      <td>NaN</td>\n",
       "      <td>0.0</td>\n",
       "      <td>0.0</td>\n",
       "      <td>NaN</td>\n",
       "      <td>0.0</td>\n",
       "      <td>0.0</td>\n",
       "    </tr>\n",
       "    <tr>\n",
       "      <th>2803</th>\n",
       "      <td>NaN</td>\n",
       "      <td>NaN</td>\n",
       "      <td>0.0</td>\n",
       "      <td>0.0</td>\n",
       "      <td>NaN</td>\n",
       "      <td>NaN</td>\n",
       "      <td>0.0</td>\n",
       "      <td>0.0</td>\n",
       "      <td>NaN</td>\n",
       "      <td>0.0</td>\n",
       "      <td>0.0</td>\n",
       "    </tr>\n",
       "    <tr>\n",
       "      <th>2804</th>\n",
       "      <td>NaN</td>\n",
       "      <td>NaN</td>\n",
       "      <td>0.0</td>\n",
       "      <td>0.0</td>\n",
       "      <td>NaN</td>\n",
       "      <td>NaN</td>\n",
       "      <td>0.0</td>\n",
       "      <td>0.0</td>\n",
       "      <td>NaN</td>\n",
       "      <td>0.0</td>\n",
       "      <td>0.0</td>\n",
       "    </tr>\n",
       "    <tr>\n",
       "      <th>2824</th>\n",
       "      <td>NaN</td>\n",
       "      <td>NaN</td>\n",
       "      <td>0.0</td>\n",
       "      <td>0.0</td>\n",
       "      <td>NaN</td>\n",
       "      <td>NaN</td>\n",
       "      <td>0.0</td>\n",
       "      <td>0.0</td>\n",
       "      <td>NaN</td>\n",
       "      <td>0.0</td>\n",
       "      <td>0.0</td>\n",
       "    </tr>\n",
       "    <tr>\n",
       "      <th>2891</th>\n",
       "      <td>NaN</td>\n",
       "      <td>NaN</td>\n",
       "      <td>0.0</td>\n",
       "      <td>0.0</td>\n",
       "      <td>NaN</td>\n",
       "      <td>NaN</td>\n",
       "      <td>0.0</td>\n",
       "      <td>0.0</td>\n",
       "      <td>NaN</td>\n",
       "      <td>0.0</td>\n",
       "      <td>0.0</td>\n",
       "    </tr>\n",
       "    <tr>\n",
       "      <th>2904</th>\n",
       "      <td>NaN</td>\n",
       "      <td>NaN</td>\n",
       "      <td>0.0</td>\n",
       "      <td>0.0</td>\n",
       "      <td>NaN</td>\n",
       "      <td>NaN</td>\n",
       "      <td>0.0</td>\n",
       "      <td>0.0</td>\n",
       "      <td>NaN</td>\n",
       "      <td>0.0</td>\n",
       "      <td>0.0</td>\n",
       "    </tr>\n",
       "  </tbody>\n",
       "</table>\n",
       "<p>79 rows × 11 columns</p>\n",
       "</div>"
      ],
      "text/plain": [
       "     BsmtCond BsmtExposure  BsmtFinSF1  BsmtFinSF2 BsmtFinType1 BsmtFinType2  \\\n",
       "17        NaN          NaN         0.0         0.0          NaN          NaN   \n",
       "39        NaN          NaN         0.0         0.0          NaN          NaN   \n",
       "90        NaN          NaN         0.0         0.0          NaN          NaN   \n",
       "102       NaN          NaN         0.0         0.0          NaN          NaN   \n",
       "156       NaN          NaN         0.0         0.0          NaN          NaN   \n",
       "182       NaN          NaN         0.0         0.0          NaN          NaN   \n",
       "259       NaN          NaN         0.0         0.0          NaN          NaN   \n",
       "342       NaN          NaN         0.0         0.0          NaN          NaN   \n",
       "362       NaN          NaN         0.0         0.0          NaN          NaN   \n",
       "371       NaN          NaN         0.0         0.0          NaN          NaN   \n",
       "392       NaN          NaN         0.0         0.0          NaN          NaN   \n",
       "520       NaN          NaN         0.0         0.0          NaN          NaN   \n",
       "532       NaN          NaN         0.0         0.0          NaN          NaN   \n",
       "533       NaN          NaN         0.0         0.0          NaN          NaN   \n",
       "553       NaN          NaN         0.0         0.0          NaN          NaN   \n",
       "646       NaN          NaN         0.0         0.0          NaN          NaN   \n",
       "705       NaN          NaN         0.0         0.0          NaN          NaN   \n",
       "736       NaN          NaN         0.0         0.0          NaN          NaN   \n",
       "749       NaN          NaN         0.0         0.0          NaN          NaN   \n",
       "778       NaN          NaN         0.0         0.0          NaN          NaN   \n",
       "868       NaN          NaN         0.0         0.0          NaN          NaN   \n",
       "894       NaN          NaN         0.0         0.0          NaN          NaN   \n",
       "897       NaN          NaN         0.0         0.0          NaN          NaN   \n",
       "984       NaN          NaN         0.0         0.0          NaN          NaN   \n",
       "1000      NaN          NaN         0.0         0.0          NaN          NaN   \n",
       "1011      NaN          NaN         0.0         0.0          NaN          NaN   \n",
       "1035      NaN          NaN         0.0         0.0          NaN          NaN   \n",
       "1045      NaN          NaN         0.0         0.0          NaN          NaN   \n",
       "1048      NaN          NaN         0.0         0.0          NaN          NaN   \n",
       "1049      NaN          NaN         0.0         0.0          NaN          NaN   \n",
       "...       ...          ...         ...         ...          ...          ...   \n",
       "2050      NaN          NaN         0.0         0.0          NaN          NaN   \n",
       "2066      NaN          NaN         0.0         0.0          NaN          NaN   \n",
       "2068      NaN          NaN         0.0         0.0          NaN          NaN   \n",
       "2120      NaN          NaN         NaN         NaN          NaN          NaN   \n",
       "2122      NaN          NaN         0.0         0.0          NaN          NaN   \n",
       "2188      NaN          NaN         0.0         0.0          NaN          NaN   \n",
       "2189      NaN          NaN         0.0         0.0          NaN          NaN   \n",
       "2190      NaN          NaN         0.0         0.0          NaN          NaN   \n",
       "2193      NaN          NaN         0.0         0.0          NaN          NaN   \n",
       "2216      NaN          NaN         0.0         0.0          NaN          NaN   \n",
       "2224      NaN          NaN         0.0         0.0          NaN          NaN   \n",
       "2387      NaN          NaN         0.0         0.0          NaN          NaN   \n",
       "2435      NaN          NaN         0.0         0.0          NaN          NaN   \n",
       "2452      NaN          NaN         0.0         0.0          NaN          NaN   \n",
       "2453      NaN          NaN         0.0         0.0          NaN          NaN   \n",
       "2490      NaN          NaN         0.0         0.0          NaN          NaN   \n",
       "2498      NaN          NaN         0.0         0.0          NaN          NaN   \n",
       "2547      NaN          NaN         0.0         0.0          NaN          NaN   \n",
       "2552      NaN          NaN         0.0         0.0          NaN          NaN   \n",
       "2564      NaN          NaN         0.0         0.0          NaN          NaN   \n",
       "2578      NaN          NaN         0.0         0.0          NaN          NaN   \n",
       "2599      NaN          NaN         0.0         0.0          NaN          NaN   \n",
       "2702      NaN          NaN         0.0         0.0          NaN          NaN   \n",
       "2763      NaN          NaN         0.0         0.0          NaN          NaN   \n",
       "2766      NaN          NaN         0.0         0.0          NaN          NaN   \n",
       "2803      NaN          NaN         0.0         0.0          NaN          NaN   \n",
       "2804      NaN          NaN         0.0         0.0          NaN          NaN   \n",
       "2824      NaN          NaN         0.0         0.0          NaN          NaN   \n",
       "2891      NaN          NaN         0.0         0.0          NaN          NaN   \n",
       "2904      NaN          NaN         0.0         0.0          NaN          NaN   \n",
       "\n",
       "      BsmtFullBath  BsmtHalfBath BsmtQual  BsmtUnfSF  TotalBsmtSF  \n",
       "17             0.0           0.0      NaN        0.0          0.0  \n",
       "39             0.0           0.0      NaN        0.0          0.0  \n",
       "90             0.0           0.0      NaN        0.0          0.0  \n",
       "102            0.0           0.0      NaN        0.0          0.0  \n",
       "156            0.0           0.0      NaN        0.0          0.0  \n",
       "182            0.0           0.0      NaN        0.0          0.0  \n",
       "259            0.0           0.0      NaN        0.0          0.0  \n",
       "342            0.0           0.0      NaN        0.0          0.0  \n",
       "362            0.0           0.0      NaN        0.0          0.0  \n",
       "371            0.0           0.0      NaN        0.0          0.0  \n",
       "392            0.0           0.0      NaN        0.0          0.0  \n",
       "520            0.0           0.0      NaN        0.0          0.0  \n",
       "532            0.0           0.0      NaN        0.0          0.0  \n",
       "533            0.0           0.0      NaN        0.0          0.0  \n",
       "553            0.0           0.0      NaN        0.0          0.0  \n",
       "646            0.0           0.0      NaN        0.0          0.0  \n",
       "705            0.0           0.0      NaN        0.0          0.0  \n",
       "736            0.0           0.0      NaN        0.0          0.0  \n",
       "749            0.0           0.0      NaN        0.0          0.0  \n",
       "778            0.0           0.0      NaN        0.0          0.0  \n",
       "868            0.0           0.0      NaN        0.0          0.0  \n",
       "894            0.0           0.0      NaN        0.0          0.0  \n",
       "897            0.0           0.0      NaN        0.0          0.0  \n",
       "984            0.0           0.0      NaN        0.0          0.0  \n",
       "1000           0.0           0.0      NaN        0.0          0.0  \n",
       "1011           0.0           0.0      NaN        0.0          0.0  \n",
       "1035           0.0           0.0      NaN        0.0          0.0  \n",
       "1045           0.0           0.0      NaN        0.0          0.0  \n",
       "1048           0.0           0.0      NaN        0.0          0.0  \n",
       "1049           0.0           0.0      NaN        0.0          0.0  \n",
       "...            ...           ...      ...        ...          ...  \n",
       "2050           0.0           0.0      NaN        0.0          0.0  \n",
       "2066           0.0           0.0      NaN        0.0          0.0  \n",
       "2068           0.0           0.0      NaN        0.0          0.0  \n",
       "2120           NaN           NaN      NaN        NaN          NaN  \n",
       "2122           0.0           0.0      NaN        0.0          0.0  \n",
       "2188           NaN           NaN      NaN        0.0          0.0  \n",
       "2189           0.0           0.0      NaN        0.0          0.0  \n",
       "2190           0.0           0.0      NaN        0.0          0.0  \n",
       "2193           0.0           0.0      NaN        0.0          0.0  \n",
       "2216           0.0           0.0      NaN        0.0          0.0  \n",
       "2224           0.0           0.0      NaN        0.0          0.0  \n",
       "2387           0.0           0.0      NaN        0.0          0.0  \n",
       "2435           0.0           0.0      NaN        0.0          0.0  \n",
       "2452           0.0           0.0      NaN        0.0          0.0  \n",
       "2453           0.0           0.0      NaN        0.0          0.0  \n",
       "2490           0.0           0.0      NaN        0.0          0.0  \n",
       "2498           0.0           0.0      NaN        0.0          0.0  \n",
       "2547           0.0           0.0      NaN        0.0          0.0  \n",
       "2552           0.0           0.0      NaN        0.0          0.0  \n",
       "2564           0.0           0.0      NaN        0.0          0.0  \n",
       "2578           0.0           0.0      NaN        0.0          0.0  \n",
       "2599           0.0           0.0      NaN        0.0          0.0  \n",
       "2702           0.0           0.0      NaN        0.0          0.0  \n",
       "2763           0.0           0.0      NaN        0.0          0.0  \n",
       "2766           0.0           0.0      NaN        0.0          0.0  \n",
       "2803           0.0           0.0      NaN        0.0          0.0  \n",
       "2804           0.0           0.0      NaN        0.0          0.0  \n",
       "2824           0.0           0.0      NaN        0.0          0.0  \n",
       "2891           0.0           0.0      NaN        0.0          0.0  \n",
       "2904           0.0           0.0      NaN        0.0          0.0  \n",
       "\n",
       "[79 rows x 11 columns]"
      ]
     },
     "execution_count": 31,
     "metadata": {},
     "output_type": "execute_result"
    }
   ],
   "source": [
    "all_data[bsmt_list][pd.isnull(all_data.BsmtFinType1)]"
   ]
  },
  {
   "cell_type": "code",
   "execution_count": 32,
   "metadata": {},
   "outputs": [],
   "source": [
    "all_data['TotalBsmtSF'][pd.isnull(all_data.BsmtFinType1)] = 0.0\n",
    "all_data['BsmtFinSF1'][pd.isnull(all_data.BsmtFinType1)] = 0.0\n",
    "all_data['BsmtFinSF2'][pd.isnull(all_data.BsmtFinType1)] = 0.0\n",
    "all_data['BsmtUnfSF'][pd.isnull(all_data.BsmtFinType1)] = 0.0\n",
    "all_data['BsmtFullBath'][pd.isnull(all_data.BsmtFinType1)] = 0.0\n",
    "all_data['BsmtHalfBath'][pd.isnull(all_data.BsmtFinType1)] = 0.0\n",
    "\n",
    "all_data['BsmtCond'][pd.isnull(all_data.BsmtFinType1)] = 'None'\n",
    "all_data['BsmtExposure'][pd.isnull(all_data.BsmtFinType1)] = 'None'\n",
    "all_data['BsmtFinType2'][pd.isnull(all_data.BsmtFinType1)] = 'None'\n",
    "all_data['BsmtQual'][pd.isnull(all_data.BsmtFinType1)] = 'None'\n",
    "# 注意此处：对Type1的操作要放到最后，因为条件中依赖了Type1\n",
    "all_data['BsmtFinType1'][pd.isnull(all_data.BsmtFinType1)] = 'None'"
   ]
  },
  {
   "cell_type": "code",
   "execution_count": 33,
   "metadata": {},
   "outputs": [
    {
     "data": {
      "text/plain": [
       "0"
      ]
     },
     "execution_count": 33,
     "metadata": {},
     "output_type": "execute_result"
    }
   ],
   "source": [
    "len(all_data[bsmt_list][pd.isnull(all_data.BsmtFinType1)])"
   ]
  },
  {
   "cell_type": "code",
   "execution_count": 34,
   "metadata": {},
   "outputs": [
    {
     "data": {
      "text/plain": [
       "BsmtCond        3\n",
       "BsmtExposure    3\n",
       "BsmtFinSF1      0\n",
       "BsmtFinSF2      0\n",
       "BsmtFinType1    0\n",
       "BsmtFinType2    1\n",
       "BsmtFullBath    0\n",
       "BsmtHalfBath    0\n",
       "BsmtQual        2\n",
       "BsmtUnfSF       0\n",
       "TotalBsmtSF     0\n",
       "dtype: int64"
      ]
     },
     "execution_count": 34,
     "metadata": {},
     "output_type": "execute_result"
    }
   ],
   "source": [
    "all_data[bsmt_list].isnull().sum()"
   ]
  },
  {
   "cell_type": "markdown",
   "metadata": {},
   "source": [
    "#### BsmtCond 3、BsmtExposure 3、BsmtQual 2、BsmtFinType2 1\n",
    "\n",
    "看到剩下的全是离散型特征有少许缺失，需要依次处理：\n",
    "- BsmtFinType2：只缺失一条，且看到BsmtUnfSF大于0，且一个Type为GLQ的情况下Type2都是Ulf，10个sample也可以证明这一点，而此处Type1为GLQ，因此Type2为Unf；\n",
    "- BsmtExposure：缺失的三条，都属于地下室还没开始建的情况，用'No'填充即可，因为并不是没有地下室；\n",
    "- BsmtQual：缺失两条，根据年份来填充；\n",
    "- BsmtCOnd：缺失三条，根据年份来填充；\n",
    "\n",
    "TODO：这里Qual、Cond没有找到很好的填充方法，先使用众数填充；"
   ]
  },
  {
   "cell_type": "code",
   "execution_count": 35,
   "metadata": {},
   "outputs": [
    {
     "data": {
      "text/html": [
       "<div>\n",
       "<style scoped>\n",
       "    .dataframe tbody tr th:only-of-type {\n",
       "        vertical-align: middle;\n",
       "    }\n",
       "\n",
       "    .dataframe tbody tr th {\n",
       "        vertical-align: top;\n",
       "    }\n",
       "\n",
       "    .dataframe thead th {\n",
       "        text-align: right;\n",
       "    }\n",
       "</style>\n",
       "<table border=\"1\" class=\"dataframe\">\n",
       "  <thead>\n",
       "    <tr style=\"text-align: right;\">\n",
       "      <th></th>\n",
       "      <th>BsmtCond</th>\n",
       "      <th>BsmtExposure</th>\n",
       "      <th>BsmtFinSF1</th>\n",
       "      <th>BsmtFinSF2</th>\n",
       "      <th>BsmtFinType1</th>\n",
       "      <th>BsmtFinType2</th>\n",
       "      <th>BsmtFullBath</th>\n",
       "      <th>BsmtHalfBath</th>\n",
       "      <th>BsmtQual</th>\n",
       "      <th>BsmtUnfSF</th>\n",
       "      <th>TotalBsmtSF</th>\n",
       "    </tr>\n",
       "  </thead>\n",
       "  <tbody>\n",
       "    <tr>\n",
       "      <th>332</th>\n",
       "      <td>TA</td>\n",
       "      <td>No</td>\n",
       "      <td>1124.0</td>\n",
       "      <td>479.0</td>\n",
       "      <td>GLQ</td>\n",
       "      <td>NaN</td>\n",
       "      <td>1.0</td>\n",
       "      <td>0.0</td>\n",
       "      <td>Gd</td>\n",
       "      <td>1603.0</td>\n",
       "      <td>3206.0</td>\n",
       "    </tr>\n",
       "  </tbody>\n",
       "</table>\n",
       "</div>"
      ],
      "text/plain": [
       "    BsmtCond BsmtExposure  BsmtFinSF1  BsmtFinSF2 BsmtFinType1 BsmtFinType2  \\\n",
       "332       TA           No      1124.0       479.0          GLQ          NaN   \n",
       "\n",
       "     BsmtFullBath  BsmtHalfBath BsmtQual  BsmtUnfSF  TotalBsmtSF  \n",
       "332           1.0           0.0       Gd     1603.0       3206.0  "
      ]
     },
     "execution_count": 35,
     "metadata": {},
     "output_type": "execute_result"
    }
   ],
   "source": [
    "all_data[bsmt_list][pd.isnull(all_data.BsmtFinType2)]"
   ]
  },
  {
   "cell_type": "code",
   "execution_count": 36,
   "metadata": {},
   "outputs": [
    {
     "data": {
      "text/html": [
       "<div>\n",
       "<style scoped>\n",
       "    .dataframe tbody tr th:only-of-type {\n",
       "        vertical-align: middle;\n",
       "    }\n",
       "\n",
       "    .dataframe tbody tr th {\n",
       "        vertical-align: top;\n",
       "    }\n",
       "\n",
       "    .dataframe thead th {\n",
       "        text-align: right;\n",
       "    }\n",
       "</style>\n",
       "<table border=\"1\" class=\"dataframe\">\n",
       "  <thead>\n",
       "    <tr style=\"text-align: right;\">\n",
       "      <th></th>\n",
       "      <th>BsmtUnfSF</th>\n",
       "      <th>BsmtFinType1</th>\n",
       "      <th>BsmtFinType2</th>\n",
       "    </tr>\n",
       "  </thead>\n",
       "  <tbody>\n",
       "    <tr>\n",
       "      <th>588</th>\n",
       "      <td>113.0</td>\n",
       "      <td>GLQ</td>\n",
       "      <td>Unf</td>\n",
       "    </tr>\n",
       "    <tr>\n",
       "      <th>1741</th>\n",
       "      <td>249.0</td>\n",
       "      <td>GLQ</td>\n",
       "      <td>Unf</td>\n",
       "    </tr>\n",
       "    <tr>\n",
       "      <th>1870</th>\n",
       "      <td>1474.0</td>\n",
       "      <td>GLQ</td>\n",
       "      <td>Unf</td>\n",
       "    </tr>\n",
       "    <tr>\n",
       "      <th>1887</th>\n",
       "      <td>100.0</td>\n",
       "      <td>GLQ</td>\n",
       "      <td>Unf</td>\n",
       "    </tr>\n",
       "    <tr>\n",
       "      <th>507</th>\n",
       "      <td>1191.0</td>\n",
       "      <td>GLQ</td>\n",
       "      <td>Unf</td>\n",
       "    </tr>\n",
       "    <tr>\n",
       "      <th>618</th>\n",
       "      <td>1774.0</td>\n",
       "      <td>GLQ</td>\n",
       "      <td>Unf</td>\n",
       "    </tr>\n",
       "    <tr>\n",
       "      <th>2565</th>\n",
       "      <td>741.0</td>\n",
       "      <td>GLQ</td>\n",
       "      <td>Unf</td>\n",
       "    </tr>\n",
       "    <tr>\n",
       "      <th>1632</th>\n",
       "      <td>195.0</td>\n",
       "      <td>GLQ</td>\n",
       "      <td>Unf</td>\n",
       "    </tr>\n",
       "    <tr>\n",
       "      <th>1109</th>\n",
       "      <td>797.0</td>\n",
       "      <td>GLQ</td>\n",
       "      <td>Unf</td>\n",
       "    </tr>\n",
       "    <tr>\n",
       "      <th>1697</th>\n",
       "      <td>282.0</td>\n",
       "      <td>GLQ</td>\n",
       "      <td>Unf</td>\n",
       "    </tr>\n",
       "  </tbody>\n",
       "</table>\n",
       "</div>"
      ],
      "text/plain": [
       "      BsmtUnfSF BsmtFinType1 BsmtFinType2\n",
       "588       113.0          GLQ          Unf\n",
       "1741      249.0          GLQ          Unf\n",
       "1870     1474.0          GLQ          Unf\n",
       "1887      100.0          GLQ          Unf\n",
       "507      1191.0          GLQ          Unf\n",
       "618      1774.0          GLQ          Unf\n",
       "2565      741.0          GLQ          Unf\n",
       "1632      195.0          GLQ          Unf\n",
       "1109      797.0          GLQ          Unf\n",
       "1697      282.0          GLQ          Unf"
      ]
     },
     "execution_count": 36,
     "metadata": {},
     "output_type": "execute_result"
    }
   ],
   "source": [
    "all_data[all_data.BsmtUnfSF>0][all_data.BsmtFinType1=='GLQ'].sample(10)[['BsmtUnfSF', 'BsmtFinType1', 'BsmtFinType2']]"
   ]
  },
  {
   "cell_type": "code",
   "execution_count": 37,
   "metadata": {},
   "outputs": [],
   "source": [
    "all_data['BsmtFinType2'][pd.isnull(all_data.BsmtFinType2)] = 'Unf'"
   ]
  },
  {
   "cell_type": "code",
   "execution_count": 38,
   "metadata": {},
   "outputs": [
    {
     "data": {
      "text/html": [
       "<div>\n",
       "<style scoped>\n",
       "    .dataframe tbody tr th:only-of-type {\n",
       "        vertical-align: middle;\n",
       "    }\n",
       "\n",
       "    .dataframe tbody tr th {\n",
       "        vertical-align: top;\n",
       "    }\n",
       "\n",
       "    .dataframe thead th {\n",
       "        text-align: right;\n",
       "    }\n",
       "</style>\n",
       "<table border=\"1\" class=\"dataframe\">\n",
       "  <thead>\n",
       "    <tr style=\"text-align: right;\">\n",
       "      <th></th>\n",
       "      <th>BsmtCond</th>\n",
       "      <th>BsmtExposure</th>\n",
       "      <th>BsmtFinSF1</th>\n",
       "      <th>BsmtFinSF2</th>\n",
       "      <th>BsmtFinType1</th>\n",
       "      <th>BsmtFinType2</th>\n",
       "      <th>BsmtFullBath</th>\n",
       "      <th>BsmtHalfBath</th>\n",
       "      <th>BsmtQual</th>\n",
       "      <th>BsmtUnfSF</th>\n",
       "      <th>TotalBsmtSF</th>\n",
       "    </tr>\n",
       "  </thead>\n",
       "  <tbody>\n",
       "    <tr>\n",
       "      <th>948</th>\n",
       "      <td>TA</td>\n",
       "      <td>NaN</td>\n",
       "      <td>0.0</td>\n",
       "      <td>0.0</td>\n",
       "      <td>Unf</td>\n",
       "      <td>Unf</td>\n",
       "      <td>0.0</td>\n",
       "      <td>0.0</td>\n",
       "      <td>Gd</td>\n",
       "      <td>936.0</td>\n",
       "      <td>936.0</td>\n",
       "    </tr>\n",
       "    <tr>\n",
       "      <th>1487</th>\n",
       "      <td>TA</td>\n",
       "      <td>NaN</td>\n",
       "      <td>0.0</td>\n",
       "      <td>0.0</td>\n",
       "      <td>Unf</td>\n",
       "      <td>Unf</td>\n",
       "      <td>0.0</td>\n",
       "      <td>0.0</td>\n",
       "      <td>Gd</td>\n",
       "      <td>1595.0</td>\n",
       "      <td>1595.0</td>\n",
       "    </tr>\n",
       "    <tr>\n",
       "      <th>2348</th>\n",
       "      <td>TA</td>\n",
       "      <td>NaN</td>\n",
       "      <td>0.0</td>\n",
       "      <td>0.0</td>\n",
       "      <td>Unf</td>\n",
       "      <td>Unf</td>\n",
       "      <td>0.0</td>\n",
       "      <td>0.0</td>\n",
       "      <td>Gd</td>\n",
       "      <td>725.0</td>\n",
       "      <td>725.0</td>\n",
       "    </tr>\n",
       "  </tbody>\n",
       "</table>\n",
       "</div>"
      ],
      "text/plain": [
       "     BsmtCond BsmtExposure  BsmtFinSF1  BsmtFinSF2 BsmtFinType1 BsmtFinType2  \\\n",
       "948        TA          NaN         0.0         0.0          Unf          Unf   \n",
       "1487       TA          NaN         0.0         0.0          Unf          Unf   \n",
       "2348       TA          NaN         0.0         0.0          Unf          Unf   \n",
       "\n",
       "      BsmtFullBath  BsmtHalfBath BsmtQual  BsmtUnfSF  TotalBsmtSF  \n",
       "948            0.0           0.0       Gd      936.0        936.0  \n",
       "1487           0.0           0.0       Gd     1595.0       1595.0  \n",
       "2348           0.0           0.0       Gd      725.0        725.0  "
      ]
     },
     "execution_count": 38,
     "metadata": {},
     "output_type": "execute_result"
    }
   ],
   "source": [
    "all_data[bsmt_list][pd.isnull(all_data.BsmtExposure)]"
   ]
  },
  {
   "cell_type": "code",
   "execution_count": 39,
   "metadata": {},
   "outputs": [],
   "source": [
    "all_data['BsmtExposure'][pd.isnull(all_data.BsmtExposure)] = 'No'"
   ]
  },
  {
   "cell_type": "code",
   "execution_count": 40,
   "metadata": {},
   "outputs": [
    {
     "data": {
      "text/html": [
       "<div>\n",
       "<style scoped>\n",
       "    .dataframe tbody tr th:only-of-type {\n",
       "        vertical-align: middle;\n",
       "    }\n",
       "\n",
       "    .dataframe tbody tr th {\n",
       "        vertical-align: top;\n",
       "    }\n",
       "\n",
       "    .dataframe thead th {\n",
       "        text-align: right;\n",
       "    }\n",
       "</style>\n",
       "<table border=\"1\" class=\"dataframe\">\n",
       "  <thead>\n",
       "    <tr style=\"text-align: right;\">\n",
       "      <th></th>\n",
       "      <th>YearBuilt</th>\n",
       "      <th>YearRemodAdd</th>\n",
       "      <th>GarageYrBlt</th>\n",
       "      <th>BsmtQual</th>\n",
       "    </tr>\n",
       "  </thead>\n",
       "  <tbody>\n",
       "    <tr>\n",
       "      <th>2217</th>\n",
       "      <td>1895</td>\n",
       "      <td>1950</td>\n",
       "      <td>1895.0</td>\n",
       "      <td>NaN</td>\n",
       "    </tr>\n",
       "    <tr>\n",
       "      <th>2218</th>\n",
       "      <td>1910</td>\n",
       "      <td>2000</td>\n",
       "      <td>1910.0</td>\n",
       "      <td>NaN</td>\n",
       "    </tr>\n",
       "  </tbody>\n",
       "</table>\n",
       "</div>"
      ],
      "text/plain": [
       "      YearBuilt  YearRemodAdd  GarageYrBlt BsmtQual\n",
       "2217       1895          1950       1895.0      NaN\n",
       "2218       1910          2000       1910.0      NaN"
      ]
     },
     "execution_count": 40,
     "metadata": {},
     "output_type": "execute_result"
    }
   ],
   "source": [
    "all_data[['YearBuilt','YearRemodAdd','GarageYrBlt','BsmtQual']][pd.isnull(all_data.BsmtQual)]"
   ]
  },
  {
   "cell_type": "code",
   "execution_count": 41,
   "metadata": {},
   "outputs": [
    {
     "data": {
      "text/plain": [
       "Gd    1\n",
       "TA    1\n",
       "Name: BsmtQual, dtype: int64"
      ]
     },
     "execution_count": 41,
     "metadata": {},
     "output_type": "execute_result"
    }
   ],
   "source": [
    "all_data[all_data.YearBuilt == 1895]['BsmtQual'].value_counts()"
   ]
  },
  {
   "cell_type": "code",
   "execution_count": 42,
   "metadata": {},
   "outputs": [
    {
     "data": {
      "text/plain": [
       "TA      27\n",
       "Fa       9\n",
       "Gd       5\n",
       "None     1\n",
       "Name: BsmtQual, dtype: int64"
      ]
     },
     "execution_count": 42,
     "metadata": {},
     "output_type": "execute_result"
    }
   ],
   "source": [
    "all_data[all_data.YearBuilt == 1910]['BsmtQual'].value_counts()"
   ]
  },
  {
   "cell_type": "code",
   "execution_count": 43,
   "metadata": {},
   "outputs": [],
   "source": [
    "all_data['BsmtQual'][pd.isnull(all_data.BsmtQual)] = 'TA'"
   ]
  },
  {
   "cell_type": "code",
   "execution_count": 44,
   "metadata": {},
   "outputs": [
    {
     "data": {
      "text/html": [
       "<div>\n",
       "<style scoped>\n",
       "    .dataframe tbody tr th:only-of-type {\n",
       "        vertical-align: middle;\n",
       "    }\n",
       "\n",
       "    .dataframe tbody tr th {\n",
       "        vertical-align: top;\n",
       "    }\n",
       "\n",
       "    .dataframe thead th {\n",
       "        text-align: right;\n",
       "    }\n",
       "</style>\n",
       "<table border=\"1\" class=\"dataframe\">\n",
       "  <thead>\n",
       "    <tr style=\"text-align: right;\">\n",
       "      <th></th>\n",
       "      <th>YearBuilt</th>\n",
       "      <th>YearRemodAdd</th>\n",
       "      <th>GarageYrBlt</th>\n",
       "      <th>BsmtCond</th>\n",
       "    </tr>\n",
       "  </thead>\n",
       "  <tbody>\n",
       "    <tr>\n",
       "      <th>2040</th>\n",
       "      <td>1976</td>\n",
       "      <td>2007</td>\n",
       "      <td>1976.0</td>\n",
       "      <td>NaN</td>\n",
       "    </tr>\n",
       "    <tr>\n",
       "      <th>2185</th>\n",
       "      <td>1976</td>\n",
       "      <td>1976</td>\n",
       "      <td>1991.0</td>\n",
       "      <td>NaN</td>\n",
       "    </tr>\n",
       "    <tr>\n",
       "      <th>2524</th>\n",
       "      <td>1977</td>\n",
       "      <td>1977</td>\n",
       "      <td>1977.0</td>\n",
       "      <td>NaN</td>\n",
       "    </tr>\n",
       "  </tbody>\n",
       "</table>\n",
       "</div>"
      ],
      "text/plain": [
       "      YearBuilt  YearRemodAdd  GarageYrBlt BsmtCond\n",
       "2040       1976          2007       1976.0      NaN\n",
       "2185       1976          1976       1991.0      NaN\n",
       "2524       1977          1977       1977.0      NaN"
      ]
     },
     "execution_count": 44,
     "metadata": {},
     "output_type": "execute_result"
    }
   ],
   "source": [
    "all_data[['YearBuilt','YearRemodAdd','GarageYrBlt','BsmtCond']][pd.isnull(all_data.BsmtCond)]"
   ]
  },
  {
   "cell_type": "code",
   "execution_count": 45,
   "metadata": {},
   "outputs": [
    {
     "data": {
      "text/plain": [
       "TA      46\n",
       "Gd       5\n",
       "None     1\n",
       "Name: BsmtCond, dtype: int64"
      ]
     },
     "execution_count": 45,
     "metadata": {},
     "output_type": "execute_result"
    }
   ],
   "source": [
    "all_data[all_data.YearBuilt == 1976]['BsmtCond'].value_counts()"
   ]
  },
  {
   "cell_type": "code",
   "execution_count": 46,
   "metadata": {},
   "outputs": [
    {
     "data": {
      "text/plain": [
       "TA      48\n",
       "Gd       5\n",
       "None     3\n",
       "Name: BsmtCond, dtype: int64"
      ]
     },
     "execution_count": 46,
     "metadata": {},
     "output_type": "execute_result"
    }
   ],
   "source": [
    "all_data[all_data.YearBuilt == 1977]['BsmtCond'].value_counts()"
   ]
  },
  {
   "cell_type": "code",
   "execution_count": 47,
   "metadata": {},
   "outputs": [],
   "source": [
    "all_data['BsmtCond'][pd.isnull(all_data.BsmtCond)] = 'TA'"
   ]
  },
  {
   "cell_type": "code",
   "execution_count": 48,
   "metadata": {},
   "outputs": [
    {
     "data": {
      "text/plain": [
       "BsmtCond        0\n",
       "BsmtExposure    0\n",
       "BsmtFinSF1      0\n",
       "BsmtFinSF2      0\n",
       "BsmtFinType1    0\n",
       "BsmtFinType2    0\n",
       "BsmtFullBath    0\n",
       "BsmtHalfBath    0\n",
       "BsmtQual        0\n",
       "BsmtUnfSF       0\n",
       "TotalBsmtSF     0\n",
       "dtype: int64"
      ]
     },
     "execution_count": 48,
     "metadata": {},
     "output_type": "execute_result"
    }
   ],
   "source": [
    "all_data[bsmt_list].isnull().sum()"
   ]
  },
  {
   "cell_type": "markdown",
   "metadata": {},
   "source": [
    "### 5.1.3 其他"
   ]
  },
  {
   "cell_type": "markdown",
   "metadata": {},
   "source": [
    "#### PoolQC\n",
    "\n",
    "该值的nan文档中说明表示没用泳池，我们使用PoolArea来辅助验证一下，因为PoolArea是没有缺失的，看到其中2906个都是0，这写用None来填充即可，但是还有3个Area不是0，这三个要特别处理下；"
   ]
  },
  {
   "cell_type": "code",
   "execution_count": 49,
   "metadata": {},
   "outputs": [
    {
     "data": {
      "text/plain": [
       "2906"
      ]
     },
     "execution_count": 49,
     "metadata": {},
     "output_type": "execute_result"
    }
   ],
   "source": [
    "len(all_data[['PoolArea', 'PoolQC']][pd.isnull(all_data.PoolQC)][all_data.PoolArea==0])"
   ]
  },
  {
   "cell_type": "code",
   "execution_count": 50,
   "metadata": {},
   "outputs": [
    {
     "data": {
      "text/html": [
       "<div>\n",
       "<style scoped>\n",
       "    .dataframe tbody tr th:only-of-type {\n",
       "        vertical-align: middle;\n",
       "    }\n",
       "\n",
       "    .dataframe tbody tr th {\n",
       "        vertical-align: top;\n",
       "    }\n",
       "\n",
       "    .dataframe thead th {\n",
       "        text-align: right;\n",
       "    }\n",
       "</style>\n",
       "<table border=\"1\" class=\"dataframe\">\n",
       "  <thead>\n",
       "    <tr style=\"text-align: right;\">\n",
       "      <th></th>\n",
       "      <th>PoolArea</th>\n",
       "      <th>PoolQC</th>\n",
       "    </tr>\n",
       "  </thead>\n",
       "  <tbody>\n",
       "    <tr>\n",
       "      <th>2420</th>\n",
       "      <td>368</td>\n",
       "      <td>NaN</td>\n",
       "    </tr>\n",
       "    <tr>\n",
       "      <th>2503</th>\n",
       "      <td>444</td>\n",
       "      <td>NaN</td>\n",
       "    </tr>\n",
       "    <tr>\n",
       "      <th>2599</th>\n",
       "      <td>561</td>\n",
       "      <td>NaN</td>\n",
       "    </tr>\n",
       "  </tbody>\n",
       "</table>\n",
       "</div>"
      ],
      "text/plain": [
       "      PoolArea PoolQC\n",
       "2420       368    NaN\n",
       "2503       444    NaN\n",
       "2599       561    NaN"
      ]
     },
     "execution_count": 50,
     "metadata": {},
     "output_type": "execute_result"
    }
   ],
   "source": [
    "all_data[['PoolArea', 'PoolQC']][pd.isnull(all_data.PoolQC)][all_data.PoolArea>0]"
   ]
  },
  {
   "cell_type": "code",
   "execution_count": 51,
   "metadata": {},
   "outputs": [
    {
     "data": {
      "text/html": [
       "<div>\n",
       "<style scoped>\n",
       "    .dataframe tbody tr th:only-of-type {\n",
       "        vertical-align: middle;\n",
       "    }\n",
       "\n",
       "    .dataframe tbody tr th {\n",
       "        vertical-align: top;\n",
       "    }\n",
       "\n",
       "    .dataframe thead th {\n",
       "        text-align: right;\n",
       "    }\n",
       "</style>\n",
       "<table border=\"1\" class=\"dataframe\">\n",
       "  <thead>\n",
       "    <tr style=\"text-align: right;\">\n",
       "      <th></th>\n",
       "      <th>PoolArea</th>\n",
       "    </tr>\n",
       "    <tr>\n",
       "      <th>PoolQC</th>\n",
       "      <th></th>\n",
       "    </tr>\n",
       "  </thead>\n",
       "  <tbody>\n",
       "    <tr>\n",
       "      <th>Ex</th>\n",
       "      <td>370.0</td>\n",
       "    </tr>\n",
       "    <tr>\n",
       "      <th>Fa</th>\n",
       "      <td>583.5</td>\n",
       "    </tr>\n",
       "    <tr>\n",
       "      <th>Gd</th>\n",
       "      <td>657.0</td>\n",
       "    </tr>\n",
       "  </tbody>\n",
       "</table>\n",
       "</div>"
      ],
      "text/plain": [
       "        PoolArea\n",
       "PoolQC          \n",
       "Ex         370.0\n",
       "Fa         583.5\n",
       "Gd         657.0"
      ]
     },
     "execution_count": 51,
     "metadata": {},
     "output_type": "execute_result"
    }
   ],
   "source": [
    "all_data[['PoolArea','PoolQC']].groupby('PoolQC').median()"
   ]
  },
  {
   "cell_type": "code",
   "execution_count": 52,
   "metadata": {},
   "outputs": [],
   "source": [
    "all_data['PoolQC'].iloc[2420] = 'Ex'\n",
    "all_data['PoolQC'].iloc[2503] = 'Ex'\n",
    "all_data['PoolQC'].iloc[2599] = 'Fa'"
   ]
  },
  {
   "cell_type": "code",
   "execution_count": 53,
   "metadata": {},
   "outputs": [],
   "source": [
    "all_data['PoolQC'][pd.isnull(all_data.PoolQC)] = 'None'"
   ]
  },
  {
   "cell_type": "code",
   "execution_count": 54,
   "metadata": {},
   "outputs": [
    {
     "data": {
      "text/html": [
       "<div>\n",
       "<style scoped>\n",
       "    .dataframe tbody tr th:only-of-type {\n",
       "        vertical-align: middle;\n",
       "    }\n",
       "\n",
       "    .dataframe tbody tr th {\n",
       "        vertical-align: top;\n",
       "    }\n",
       "\n",
       "    .dataframe thead th {\n",
       "        text-align: right;\n",
       "    }\n",
       "</style>\n",
       "<table border=\"1\" class=\"dataframe\">\n",
       "  <thead>\n",
       "    <tr style=\"text-align: right;\">\n",
       "      <th></th>\n",
       "      <th>PoolArea</th>\n",
       "      <th>PoolQC</th>\n",
       "    </tr>\n",
       "  </thead>\n",
       "  <tbody>\n",
       "  </tbody>\n",
       "</table>\n",
       "</div>"
      ],
      "text/plain": [
       "Empty DataFrame\n",
       "Columns: [PoolArea, PoolQC]\n",
       "Index: []"
      ]
     },
     "execution_count": 54,
     "metadata": {},
     "output_type": "execute_result"
    }
   ],
   "source": [
    "all_data[['PoolArea', 'PoolQC']][pd.isnull(all_data.PoolQC)]"
   ]
  },
  {
   "cell_type": "markdown",
   "metadata": {},
   "source": [
    "#### MiscFeature\n",
    "\n",
    "结合MiscVal填充，MiscVal为0时，表示没有任何价值，为其他值时，则根据价值对应的Feature值填充，可以看到，为0的有2813个，还有一个要关注下，看到这个特殊的点的val高达17000，而最高的Gar2才8000，最接近，预计为Gar2，其余填充'None'；"
   ]
  },
  {
   "cell_type": "code",
   "execution_count": 55,
   "metadata": {},
   "outputs": [
    {
     "data": {
      "text/plain": [
       "2813"
      ]
     },
     "execution_count": 55,
     "metadata": {},
     "output_type": "execute_result"
    }
   ],
   "source": [
    "len(all_data[['MiscFeature', 'MiscVal']][pd.isnull(all_data.MiscFeature)][all_data.MiscVal==0])"
   ]
  },
  {
   "cell_type": "code",
   "execution_count": 56,
   "metadata": {},
   "outputs": [
    {
     "data": {
      "text/html": [
       "<div>\n",
       "<style scoped>\n",
       "    .dataframe tbody tr th:only-of-type {\n",
       "        vertical-align: middle;\n",
       "    }\n",
       "\n",
       "    .dataframe tbody tr th {\n",
       "        vertical-align: top;\n",
       "    }\n",
       "\n",
       "    .dataframe thead th {\n",
       "        text-align: right;\n",
       "    }\n",
       "</style>\n",
       "<table border=\"1\" class=\"dataframe\">\n",
       "  <thead>\n",
       "    <tr style=\"text-align: right;\">\n",
       "      <th></th>\n",
       "      <th>MiscFeature</th>\n",
       "      <th>MiscVal</th>\n",
       "    </tr>\n",
       "  </thead>\n",
       "  <tbody>\n",
       "    <tr>\n",
       "      <th>2549</th>\n",
       "      <td>NaN</td>\n",
       "      <td>17000</td>\n",
       "    </tr>\n",
       "  </tbody>\n",
       "</table>\n",
       "</div>"
      ],
      "text/plain": [
       "     MiscFeature  MiscVal\n",
       "2549         NaN    17000"
      ]
     },
     "execution_count": 56,
     "metadata": {},
     "output_type": "execute_result"
    }
   ],
   "source": [
    "all_data[['MiscFeature', 'MiscVal']][pd.isnull(all_data.MiscFeature)][all_data.MiscVal>0]"
   ]
  },
  {
   "cell_type": "code",
   "execution_count": 57,
   "metadata": {},
   "outputs": [
    {
     "data": {
      "text/html": [
       "<div>\n",
       "<style scoped>\n",
       "    .dataframe tbody tr th:only-of-type {\n",
       "        vertical-align: middle;\n",
       "    }\n",
       "\n",
       "    .dataframe tbody tr th {\n",
       "        vertical-align: top;\n",
       "    }\n",
       "\n",
       "    .dataframe thead th {\n",
       "        text-align: right;\n",
       "    }\n",
       "</style>\n",
       "<table border=\"1\" class=\"dataframe\">\n",
       "  <thead>\n",
       "    <tr style=\"text-align: right;\">\n",
       "      <th></th>\n",
       "      <th>MiscVal</th>\n",
       "    </tr>\n",
       "    <tr>\n",
       "      <th>MiscFeature</th>\n",
       "      <th></th>\n",
       "    </tr>\n",
       "  </thead>\n",
       "  <tbody>\n",
       "    <tr>\n",
       "      <th>Gar2</th>\n",
       "      <td>8300</td>\n",
       "    </tr>\n",
       "    <tr>\n",
       "      <th>Othr</th>\n",
       "      <td>3250</td>\n",
       "    </tr>\n",
       "    <tr>\n",
       "      <th>Shed</th>\n",
       "      <td>500</td>\n",
       "    </tr>\n",
       "    <tr>\n",
       "      <th>TenC</th>\n",
       "      <td>2000</td>\n",
       "    </tr>\n",
       "  </tbody>\n",
       "</table>\n",
       "</div>"
      ],
      "text/plain": [
       "             MiscVal\n",
       "MiscFeature         \n",
       "Gar2            8300\n",
       "Othr            3250\n",
       "Shed             500\n",
       "TenC            2000"
      ]
     },
     "execution_count": 57,
     "metadata": {},
     "output_type": "execute_result"
    }
   ],
   "source": [
    "all_data[['MiscFeature','MiscVal']].groupby('MiscFeature').median()"
   ]
  },
  {
   "cell_type": "code",
   "execution_count": 58,
   "metadata": {},
   "outputs": [],
   "source": [
    "all_data['MiscFeature'].iloc[2549] = 'Gar2'"
   ]
  },
  {
   "cell_type": "code",
   "execution_count": 59,
   "metadata": {},
   "outputs": [],
   "source": [
    "all_data['MiscFeature'][pd.isnull(all_data.MiscFeature)] = 'None'"
   ]
  },
  {
   "cell_type": "code",
   "execution_count": 60,
   "metadata": {},
   "outputs": [
    {
     "data": {
      "text/html": [
       "<div>\n",
       "<style scoped>\n",
       "    .dataframe tbody tr th:only-of-type {\n",
       "        vertical-align: middle;\n",
       "    }\n",
       "\n",
       "    .dataframe tbody tr th {\n",
       "        vertical-align: top;\n",
       "    }\n",
       "\n",
       "    .dataframe thead th {\n",
       "        text-align: right;\n",
       "    }\n",
       "</style>\n",
       "<table border=\"1\" class=\"dataframe\">\n",
       "  <thead>\n",
       "    <tr style=\"text-align: right;\">\n",
       "      <th></th>\n",
       "      <th>MiscFeature</th>\n",
       "      <th>MiscVal</th>\n",
       "    </tr>\n",
       "  </thead>\n",
       "  <tbody>\n",
       "  </tbody>\n",
       "</table>\n",
       "</div>"
      ],
      "text/plain": [
       "Empty DataFrame\n",
       "Columns: [MiscFeature, MiscVal]\n",
       "Index: []"
      ]
     },
     "execution_count": 60,
     "metadata": {},
     "output_type": "execute_result"
    }
   ],
   "source": [
    "all_data[['MiscFeature', 'MiscVal']][pd.isnull(all_data.MiscFeature)]"
   ]
  },
  {
   "cell_type": "markdown",
   "metadata": {},
   "source": [
    "#### FireplaceQu\n",
    "\n",
    "结合Fireplaces填充，places为0，填充为'None'；"
   ]
  },
  {
   "cell_type": "code",
   "execution_count": 61,
   "metadata": {},
   "outputs": [
    {
     "data": {
      "text/plain": [
       "1420"
      ]
     },
     "execution_count": 61,
     "metadata": {},
     "output_type": "execute_result"
    }
   ],
   "source": [
    "len(all_data[['FireplaceQu', 'Fireplaces']][pd.isnull(all_data.FireplaceQu)][all_data.Fireplaces==0])"
   ]
  },
  {
   "cell_type": "code",
   "execution_count": 62,
   "metadata": {},
   "outputs": [],
   "source": [
    "all_data['FireplaceQu'][pd.isnull(all_data.FireplaceQu)] = 'None'"
   ]
  },
  {
   "cell_type": "code",
   "execution_count": 63,
   "metadata": {},
   "outputs": [
    {
     "data": {
      "text/html": [
       "<div>\n",
       "<style scoped>\n",
       "    .dataframe tbody tr th:only-of-type {\n",
       "        vertical-align: middle;\n",
       "    }\n",
       "\n",
       "    .dataframe tbody tr th {\n",
       "        vertical-align: top;\n",
       "    }\n",
       "\n",
       "    .dataframe thead th {\n",
       "        text-align: right;\n",
       "    }\n",
       "</style>\n",
       "<table border=\"1\" class=\"dataframe\">\n",
       "  <thead>\n",
       "    <tr style=\"text-align: right;\">\n",
       "      <th></th>\n",
       "      <th>FireplaceQu</th>\n",
       "      <th>Fireplaces</th>\n",
       "    </tr>\n",
       "  </thead>\n",
       "  <tbody>\n",
       "  </tbody>\n",
       "</table>\n",
       "</div>"
      ],
      "text/plain": [
       "Empty DataFrame\n",
       "Columns: [FireplaceQu, Fireplaces]\n",
       "Index: []"
      ]
     },
     "execution_count": 63,
     "metadata": {},
     "output_type": "execute_result"
    }
   ],
   "source": [
    "all_data[['FireplaceQu', 'Fireplaces']][pd.isnull(all_data.FireplaceQu)]"
   ]
  },
  {
   "cell_type": "markdown",
   "metadata": {},
   "source": [
    "#### Fence、Alley\n",
    "\n",
    "这两个没有其他直接关联的字段，而文档中说明了nan表示没有，因此直接填充为'None'；"
   ]
  },
  {
   "cell_type": "code",
   "execution_count": 64,
   "metadata": {},
   "outputs": [],
   "source": [
    "all_data['Fence'][pd.isnull(all_data.Fence)] = 'None'"
   ]
  },
  {
   "cell_type": "code",
   "execution_count": 65,
   "metadata": {},
   "outputs": [],
   "source": [
    "all_data['Alley'][pd.isnull(all_data.Alley)] = 'None'"
   ]
  },
  {
   "cell_type": "markdown",
   "metadata": {},
   "source": [
    "#### Electrical\n",
    "\n",
    "电力系统缺失1，使用其他跟电力相关字段填充，比如CentralAir、Utilities、暖气等，看到同样暖气、空调、资源情况，对应的都是SBrkr，因此用SBrkr填充即可；"
   ]
  },
  {
   "cell_type": "code",
   "execution_count": 66,
   "metadata": {},
   "outputs": [
    {
     "data": {
      "text/html": [
       "<div>\n",
       "<style scoped>\n",
       "    .dataframe tbody tr th:only-of-type {\n",
       "        vertical-align: middle;\n",
       "    }\n",
       "\n",
       "    .dataframe tbody tr th {\n",
       "        vertical-align: top;\n",
       "    }\n",
       "\n",
       "    .dataframe thead th {\n",
       "        text-align: right;\n",
       "    }\n",
       "</style>\n",
       "<table border=\"1\" class=\"dataframe\">\n",
       "  <thead>\n",
       "    <tr style=\"text-align: right;\">\n",
       "      <th></th>\n",
       "      <th>Electrical</th>\n",
       "      <th>CentralAir</th>\n",
       "      <th>Utilities</th>\n",
       "      <th>Heating</th>\n",
       "    </tr>\n",
       "  </thead>\n",
       "  <tbody>\n",
       "    <tr>\n",
       "      <th>1379</th>\n",
       "      <td>NaN</td>\n",
       "      <td>Y</td>\n",
       "      <td>AllPub</td>\n",
       "      <td>GasA</td>\n",
       "    </tr>\n",
       "  </tbody>\n",
       "</table>\n",
       "</div>"
      ],
      "text/plain": [
       "     Electrical CentralAir Utilities Heating\n",
       "1379        NaN          Y    AllPub    GasA"
      ]
     },
     "execution_count": 66,
     "metadata": {},
     "output_type": "execute_result"
    }
   ],
   "source": [
    "all_data[['Electrical','CentralAir','Utilities','Heating']][pd.isnull(all_data.Electrical)]"
   ]
  },
  {
   "cell_type": "code",
   "execution_count": 67,
   "metadata": {},
   "outputs": [
    {
     "data": {
      "text/html": [
       "<div>\n",
       "<style scoped>\n",
       "    .dataframe tbody tr th:only-of-type {\n",
       "        vertical-align: middle;\n",
       "    }\n",
       "\n",
       "    .dataframe tbody tr th {\n",
       "        vertical-align: top;\n",
       "    }\n",
       "\n",
       "    .dataframe thead th {\n",
       "        text-align: right;\n",
       "    }\n",
       "</style>\n",
       "<table border=\"1\" class=\"dataframe\">\n",
       "  <thead>\n",
       "    <tr style=\"text-align: right;\">\n",
       "      <th></th>\n",
       "      <th>Electrical</th>\n",
       "      <th>CentralAir</th>\n",
       "      <th>Utilities</th>\n",
       "      <th>Heating</th>\n",
       "    </tr>\n",
       "  </thead>\n",
       "  <tbody>\n",
       "    <tr>\n",
       "      <th>967</th>\n",
       "      <td>SBrkr</td>\n",
       "      <td>Y</td>\n",
       "      <td>AllPub</td>\n",
       "      <td>GasA</td>\n",
       "    </tr>\n",
       "    <tr>\n",
       "      <th>1051</th>\n",
       "      <td>SBrkr</td>\n",
       "      <td>Y</td>\n",
       "      <td>AllPub</td>\n",
       "      <td>GasA</td>\n",
       "    </tr>\n",
       "    <tr>\n",
       "      <th>82</th>\n",
       "      <td>SBrkr</td>\n",
       "      <td>Y</td>\n",
       "      <td>AllPub</td>\n",
       "      <td>GasA</td>\n",
       "    </tr>\n",
       "    <tr>\n",
       "      <th>47</th>\n",
       "      <td>SBrkr</td>\n",
       "      <td>Y</td>\n",
       "      <td>AllPub</td>\n",
       "      <td>GasA</td>\n",
       "    </tr>\n",
       "    <tr>\n",
       "      <th>2091</th>\n",
       "      <td>FuseA</td>\n",
       "      <td>Y</td>\n",
       "      <td>AllPub</td>\n",
       "      <td>GasA</td>\n",
       "    </tr>\n",
       "  </tbody>\n",
       "</table>\n",
       "</div>"
      ],
      "text/plain": [
       "     Electrical CentralAir Utilities Heating\n",
       "967       SBrkr          Y    AllPub    GasA\n",
       "1051      SBrkr          Y    AllPub    GasA\n",
       "82        SBrkr          Y    AllPub    GasA\n",
       "47        SBrkr          Y    AllPub    GasA\n",
       "2091      FuseA          Y    AllPub    GasA"
      ]
     },
     "execution_count": 67,
     "metadata": {},
     "output_type": "execute_result"
    }
   ],
   "source": [
    "all_data[['Electrical','CentralAir','Utilities','Heating']][all_data.CentralAir=='Y'].sample(5)"
   ]
  },
  {
   "cell_type": "code",
   "execution_count": 68,
   "metadata": {},
   "outputs": [],
   "source": [
    "all_data['Electrical'][pd.isnull(all_data.Electrical)] = 'SBrkr'"
   ]
  },
  {
   "cell_type": "markdown",
   "metadata": {},
   "source": [
    "#### Utilities\n",
    "缺失2，可用资源类型，煤气、瓦斯等，跟上面的电力系统填充类似的方式，"
   ]
  },
  {
   "cell_type": "code",
   "execution_count": 69,
   "metadata": {},
   "outputs": [
    {
     "data": {
      "text/html": [
       "<div>\n",
       "<style scoped>\n",
       "    .dataframe tbody tr th:only-of-type {\n",
       "        vertical-align: middle;\n",
       "    }\n",
       "\n",
       "    .dataframe tbody tr th {\n",
       "        vertical-align: top;\n",
       "    }\n",
       "\n",
       "    .dataframe thead th {\n",
       "        text-align: right;\n",
       "    }\n",
       "</style>\n",
       "<table border=\"1\" class=\"dataframe\">\n",
       "  <thead>\n",
       "    <tr style=\"text-align: right;\">\n",
       "      <th></th>\n",
       "      <th>Electrical</th>\n",
       "      <th>CentralAir</th>\n",
       "      <th>Utilities</th>\n",
       "      <th>Heating</th>\n",
       "    </tr>\n",
       "  </thead>\n",
       "  <tbody>\n",
       "    <tr>\n",
       "      <th>1915</th>\n",
       "      <td>FuseA</td>\n",
       "      <td>N</td>\n",
       "      <td>NaN</td>\n",
       "      <td>GasA</td>\n",
       "    </tr>\n",
       "    <tr>\n",
       "      <th>1945</th>\n",
       "      <td>FuseA</td>\n",
       "      <td>Y</td>\n",
       "      <td>NaN</td>\n",
       "      <td>GasA</td>\n",
       "    </tr>\n",
       "  </tbody>\n",
       "</table>\n",
       "</div>"
      ],
      "text/plain": [
       "     Electrical CentralAir Utilities Heating\n",
       "1915      FuseA          N       NaN    GasA\n",
       "1945      FuseA          Y       NaN    GasA"
      ]
     },
     "execution_count": 69,
     "metadata": {},
     "output_type": "execute_result"
    }
   ],
   "source": [
    "all_data[['Electrical','CentralAir','Utilities','Heating']][pd.isnull(all_data.Utilities)]"
   ]
  },
  {
   "cell_type": "code",
   "execution_count": 70,
   "metadata": {},
   "outputs": [
    {
     "data": {
      "text/html": [
       "<div>\n",
       "<style scoped>\n",
       "    .dataframe tbody tr th:only-of-type {\n",
       "        vertical-align: middle;\n",
       "    }\n",
       "\n",
       "    .dataframe tbody tr th {\n",
       "        vertical-align: top;\n",
       "    }\n",
       "\n",
       "    .dataframe thead th {\n",
       "        text-align: right;\n",
       "    }\n",
       "</style>\n",
       "<table border=\"1\" class=\"dataframe\">\n",
       "  <thead>\n",
       "    <tr style=\"text-align: right;\">\n",
       "      <th></th>\n",
       "      <th>Electrical</th>\n",
       "      <th>CentralAir</th>\n",
       "      <th>Utilities</th>\n",
       "      <th>Heating</th>\n",
       "    </tr>\n",
       "  </thead>\n",
       "  <tbody>\n",
       "    <tr>\n",
       "      <th>1809</th>\n",
       "      <td>FuseA</td>\n",
       "      <td>Y</td>\n",
       "      <td>AllPub</td>\n",
       "      <td>GasA</td>\n",
       "    </tr>\n",
       "    <tr>\n",
       "      <th>1223</th>\n",
       "      <td>FuseA</td>\n",
       "      <td>N</td>\n",
       "      <td>AllPub</td>\n",
       "      <td>GasA</td>\n",
       "    </tr>\n",
       "    <tr>\n",
       "      <th>976</th>\n",
       "      <td>FuseA</td>\n",
       "      <td>Y</td>\n",
       "      <td>AllPub</td>\n",
       "      <td>GasA</td>\n",
       "    </tr>\n",
       "    <tr>\n",
       "      <th>2574</th>\n",
       "      <td>FuseA</td>\n",
       "      <td>Y</td>\n",
       "      <td>AllPub</td>\n",
       "      <td>GasA</td>\n",
       "    </tr>\n",
       "    <tr>\n",
       "      <th>1119</th>\n",
       "      <td>FuseA</td>\n",
       "      <td>Y</td>\n",
       "      <td>AllPub</td>\n",
       "      <td>GasA</td>\n",
       "    </tr>\n",
       "  </tbody>\n",
       "</table>\n",
       "</div>"
      ],
      "text/plain": [
       "     Electrical CentralAir Utilities Heating\n",
       "1809      FuseA          Y    AllPub    GasA\n",
       "1223      FuseA          N    AllPub    GasA\n",
       "976       FuseA          Y    AllPub    GasA\n",
       "2574      FuseA          Y    AllPub    GasA\n",
       "1119      FuseA          Y    AllPub    GasA"
      ]
     },
     "execution_count": 70,
     "metadata": {},
     "output_type": "execute_result"
    }
   ],
   "source": [
    "all_data[['Electrical','CentralAir','Utilities','Heating']][all_data.Electrical=='FuseA'].sample(5)"
   ]
  },
  {
   "cell_type": "code",
   "execution_count": 71,
   "metadata": {},
   "outputs": [],
   "source": [
    "all_data['Utilities'][pd.isnull(all_data.Utilities)] = 'ALLPub'"
   ]
  },
  {
   "cell_type": "markdown",
   "metadata": {},
   "source": [
    "#### KitchenQual\n",
    "缺失1，厨房质量，利用整体状况来填充；"
   ]
  },
  {
   "cell_type": "code",
   "execution_count": 72,
   "metadata": {},
   "outputs": [
    {
     "data": {
      "text/html": [
       "<div>\n",
       "<style scoped>\n",
       "    .dataframe tbody tr th:only-of-type {\n",
       "        vertical-align: middle;\n",
       "    }\n",
       "\n",
       "    .dataframe tbody tr th {\n",
       "        vertical-align: top;\n",
       "    }\n",
       "\n",
       "    .dataframe thead th {\n",
       "        text-align: right;\n",
       "    }\n",
       "</style>\n",
       "<table border=\"1\" class=\"dataframe\">\n",
       "  <thead>\n",
       "    <tr style=\"text-align: right;\">\n",
       "      <th></th>\n",
       "      <th>KitchenQual</th>\n",
       "      <th>HouseStyle</th>\n",
       "    </tr>\n",
       "  </thead>\n",
       "  <tbody>\n",
       "    <tr>\n",
       "      <th>1555</th>\n",
       "      <td>NaN</td>\n",
       "      <td>1.5Fin</td>\n",
       "    </tr>\n",
       "  </tbody>\n",
       "</table>\n",
       "</div>"
      ],
      "text/plain": [
       "     KitchenQual HouseStyle\n",
       "1555         NaN     1.5Fin"
      ]
     },
     "execution_count": 72,
     "metadata": {},
     "output_type": "execute_result"
    }
   ],
   "source": [
    "all_data[['KitchenQual','HouseStyle']][pd.isnull(all_data.KitchenQual)]"
   ]
  },
  {
   "cell_type": "code",
   "execution_count": 73,
   "metadata": {},
   "outputs": [
    {
     "data": {
      "text/plain": [
       "TA    229\n",
       "Gd     62\n",
       "Fa     18\n",
       "Ex      4\n",
       "Name: KitchenQual, dtype: int64"
      ]
     },
     "execution_count": 73,
     "metadata": {},
     "output_type": "execute_result"
    }
   ],
   "source": [
    "all_data[all_data.HouseStyle=='1.5Fin']['KitchenQual'].value_counts()"
   ]
  },
  {
   "cell_type": "code",
   "execution_count": 74,
   "metadata": {},
   "outputs": [],
   "source": [
    "all_data['KitchenQual'][pd.isnull(all_data.KitchenQual)] = 'TA'"
   ]
  },
  {
   "cell_type": "markdown",
   "metadata": {},
   "source": [
    "#### Exterior\n",
    "\n",
    "外部材料相关，另个都是缺失1，Exterior1st、Exterior2nd，使用Exter相关来填充，可以看到ExterQual、ExterCond均为TA，而TA对应的材料为VinylSd；"
   ]
  },
  {
   "cell_type": "code",
   "execution_count": 75,
   "metadata": {},
   "outputs": [
    {
     "data": {
      "text/html": [
       "<div>\n",
       "<style scoped>\n",
       "    .dataframe tbody tr th:only-of-type {\n",
       "        vertical-align: middle;\n",
       "    }\n",
       "\n",
       "    .dataframe tbody tr th {\n",
       "        vertical-align: top;\n",
       "    }\n",
       "\n",
       "    .dataframe thead th {\n",
       "        text-align: right;\n",
       "    }\n",
       "</style>\n",
       "<table border=\"1\" class=\"dataframe\">\n",
       "  <thead>\n",
       "    <tr style=\"text-align: right;\">\n",
       "      <th></th>\n",
       "      <th>Exterior1st</th>\n",
       "      <th>Exterior2nd</th>\n",
       "      <th>ExterQual</th>\n",
       "      <th>ExterCond</th>\n",
       "    </tr>\n",
       "  </thead>\n",
       "  <tbody>\n",
       "    <tr>\n",
       "      <th>2151</th>\n",
       "      <td>NaN</td>\n",
       "      <td>NaN</td>\n",
       "      <td>TA</td>\n",
       "      <td>TA</td>\n",
       "    </tr>\n",
       "  </tbody>\n",
       "</table>\n",
       "</div>"
      ],
      "text/plain": [
       "     Exterior1st Exterior2nd ExterQual ExterCond\n",
       "2151         NaN         NaN        TA        TA"
      ]
     },
     "execution_count": 75,
     "metadata": {},
     "output_type": "execute_result"
    }
   ],
   "source": [
    "all_data[['Exterior1st','Exterior2nd', 'ExterQual', 'ExterCond']][pd.isnull(all_data.Exterior1st)]"
   ]
  },
  {
   "cell_type": "code",
   "execution_count": 76,
   "metadata": {},
   "outputs": [
    {
     "data": {
      "text/plain": [
       "VinylSd    929\n",
       "HdBoard    400\n",
       "MetalSd    360\n",
       "Wd Sdng    340\n",
       "Plywood    191\n",
       "CemntBd    118\n",
       "BrkFace     78\n",
       "WdShing     48\n",
       "AsbShng     32\n",
       "Stucco      31\n",
       "BrkComm      5\n",
       "Stone        2\n",
       "AsphShn      1\n",
       "ImStucc      1\n",
       "CBlock       1\n",
       "Name: Exterior1st, dtype: int64"
      ]
     },
     "execution_count": 76,
     "metadata": {},
     "output_type": "execute_result"
    }
   ],
   "source": [
    "all_data[all_data.ExterCond=='TA']['Exterior1st'].value_counts()"
   ]
  },
  {
   "cell_type": "code",
   "execution_count": 77,
   "metadata": {},
   "outputs": [
    {
     "data": {
      "text/plain": [
       "VinylSd    915\n",
       "HdBoard    362\n",
       "MetalSd    356\n",
       "Wd Sdng    327\n",
       "Plywood    231\n",
       "CmentBd    117\n",
       "Wd Shng     69\n",
       "BrkFace     42\n",
       "Stucco      40\n",
       "AsbShng     29\n",
       "Brk Cmn     21\n",
       "ImStucc     15\n",
       "Stone        6\n",
       "AsphShn      3\n",
       "CBlock       3\n",
       "Other        1\n",
       "Name: Exterior2nd, dtype: int64"
      ]
     },
     "execution_count": 77,
     "metadata": {},
     "output_type": "execute_result"
    }
   ],
   "source": [
    "all_data[all_data.ExterCond=='TA']['Exterior2nd'].value_counts()"
   ]
  },
  {
   "cell_type": "code",
   "execution_count": 78,
   "metadata": {},
   "outputs": [],
   "source": [
    "all_data['Exterior1st'][pd.isnull(all_data.Exterior1st)] = 'VinylSd'"
   ]
  },
  {
   "cell_type": "code",
   "execution_count": 79,
   "metadata": {},
   "outputs": [],
   "source": [
    "all_data['Exterior2nd'][pd.isnull(all_data.Exterior2nd)] = 'VinylSd'"
   ]
  },
  {
   "cell_type": "markdown",
   "metadata": {},
   "source": [
    "#### SaleType\n",
    "缺失1，销售类型，结合SaleCondition填充；"
   ]
  },
  {
   "cell_type": "code",
   "execution_count": 80,
   "metadata": {},
   "outputs": [
    {
     "data": {
      "text/html": [
       "<div>\n",
       "<style scoped>\n",
       "    .dataframe tbody tr th:only-of-type {\n",
       "        vertical-align: middle;\n",
       "    }\n",
       "\n",
       "    .dataframe tbody tr th {\n",
       "        vertical-align: top;\n",
       "    }\n",
       "\n",
       "    .dataframe thead th {\n",
       "        text-align: right;\n",
       "    }\n",
       "</style>\n",
       "<table border=\"1\" class=\"dataframe\">\n",
       "  <thead>\n",
       "    <tr style=\"text-align: right;\">\n",
       "      <th></th>\n",
       "      <th>SaleType</th>\n",
       "      <th>SaleCondition</th>\n",
       "    </tr>\n",
       "  </thead>\n",
       "  <tbody>\n",
       "    <tr>\n",
       "      <th>2489</th>\n",
       "      <td>NaN</td>\n",
       "      <td>Normal</td>\n",
       "    </tr>\n",
       "  </tbody>\n",
       "</table>\n",
       "</div>"
      ],
      "text/plain": [
       "     SaleType SaleCondition\n",
       "2489      NaN        Normal"
      ]
     },
     "execution_count": 80,
     "metadata": {},
     "output_type": "execute_result"
    }
   ],
   "source": [
    "all_data[['SaleType','SaleCondition']][pd.isnull(all_data.SaleType)]"
   ]
  },
  {
   "cell_type": "code",
   "execution_count": 81,
   "metadata": {},
   "outputs": [
    {
     "data": {
      "text/plain": [
       "WD       2314\n",
       "COD        39\n",
       "ConLD      21\n",
       "CWD        10\n",
       "ConLw       7\n",
       "ConLI       5\n",
       "Con         4\n",
       "Oth         1\n",
       "Name: SaleType, dtype: int64"
      ]
     },
     "execution_count": 81,
     "metadata": {},
     "output_type": "execute_result"
    }
   ],
   "source": [
    "all_data[all_data.SaleCondition=='Normal']['SaleType'].value_counts()"
   ]
  },
  {
   "cell_type": "code",
   "execution_count": 82,
   "metadata": {},
   "outputs": [],
   "source": [
    "all_data['SaleType'][pd.isnull(all_data.SaleType)] = 'WD'"
   ]
  },
  {
   "cell_type": "markdown",
   "metadata": {},
   "source": [
    "#### Functional\n",
    "缺失2，其他功能，暂时没想到跟哪个字段有直接联系，使用最多的值填充；"
   ]
  },
  {
   "cell_type": "code",
   "execution_count": 83,
   "metadata": {},
   "outputs": [
    {
     "data": {
      "text/plain": [
       "Typ     2717\n",
       "Min2      70\n",
       "Min1      65\n",
       "Mod       35\n",
       "Maj1      19\n",
       "Maj2       9\n",
       "Sev        2\n",
       "Name: Functional, dtype: int64"
      ]
     },
     "execution_count": 83,
     "metadata": {},
     "output_type": "execute_result"
    }
   ],
   "source": [
    "all_data.Functional.value_counts()"
   ]
  },
  {
   "cell_type": "code",
   "execution_count": 84,
   "metadata": {},
   "outputs": [],
   "source": [
    "all_data['Functional'][pd.isnull(all_data.Functional)] = 'Typ'"
   ]
  },
  {
   "cell_type": "markdown",
   "metadata": {},
   "source": [
    "#### MasVnr\n",
    "MasVnrArea缺失23，砖石面积，MasVnrType缺失24，砖石类型，用信息增益比来分析相关性，对于Area来说，信息增益比最高为Type，但是由于缺失的Area对应Type也是缺失的，因此考虑使用3SsnPorch三季门廊面积来填充，而Type用Area填充；\n",
    "\n",
    "TODO：考虑使用连续值来填充连续值的更合理的方式；"
   ]
  },
  {
   "cell_type": "code",
   "execution_count": 85,
   "metadata": {},
   "outputs": [
    {
     "data": {
      "text/plain": [
       "[('MasVnrType', (1.1766042833771735, 0.8498058023621885)),\n",
       " ('3SsnPorch', (0.06245989991848511, 0.3934010643201928)),\n",
       " ('Utilities', (0.004950147911600311, 0.39201368810279524)),\n",
       " ('BsmtFinSF1', (2.9043388298496957, 0.38864399177014447)),\n",
       " ('Id', (4.374225911513957, 0.3799954551644431))]"
      ]
     },
     "execution_count": 85,
     "metadata": {},
     "output_type": "execute_result"
    }
   ],
   "source": [
    "gain_df(all_data, 'MasVnrArea')[:5]"
   ]
  },
  {
   "cell_type": "code",
   "execution_count": 86,
   "metadata": {},
   "outputs": [
    {
     "data": {
      "text/plain": [
       "[('MasVnrArea', (1.1766042833771726, 0.268985714770717)),\n",
       " ('Id', (1.3845566600117223, 0.12027847872174008)),\n",
       " ('PoolArea', (0.006255120724070418, 0.10845060580715951)),\n",
       " ('LotArea', (1.1182684281019637, 0.10751958323176128)),\n",
       " ('3SsnPorch', (0.01673708368776272, 0.10541782079342289))]"
      ]
     },
     "execution_count": 86,
     "metadata": {},
     "output_type": "execute_result"
    }
   ],
   "source": [
    "gain_df(all_data, 'MasVnrType')[:5]"
   ]
  },
  {
   "cell_type": "code",
   "execution_count": 87,
   "metadata": {},
   "outputs": [],
   "source": [
    "all_data.MasVnrArea.fillna(0, inplace=True)\n",
    "all_data.MasVnrType.fillna('None', inplace=True)"
   ]
  },
  {
   "cell_type": "markdown",
   "metadata": {},
   "source": [
    "#### MSZoning\n",
    "缺失4，所处区域类型，相关性分析中显示跟Utilities关系最强，使用其进行辅助填充；"
   ]
  },
  {
   "cell_type": "code",
   "execution_count": 88,
   "metadata": {},
   "outputs": [
    {
     "data": {
      "text/plain": [
       "[('Alley', (0.12205195939785807, 0.288272148550156)),\n",
       " ('Street', (0.010339839612538704, 0.2685415556738309)),\n",
       " ('Utilities', (0.0028913383975039952, 0.22897179013633573)),\n",
       " ('Neighborhood', (0.7186844500897326, 0.17062380546854924)),\n",
       " ('LowQualFinSF', (0.027660413651460436, 0.159642121179639))]"
      ]
     },
     "execution_count": 88,
     "metadata": {},
     "output_type": "execute_result"
    }
   ],
   "source": [
    "gain_df(all_data, 'MSZoning')[:5]"
   ]
  },
  {
   "cell_type": "code",
   "execution_count": 89,
   "metadata": {},
   "outputs": [
    {
     "data": {
      "text/html": [
       "<div>\n",
       "<style scoped>\n",
       "    .dataframe tbody tr th:only-of-type {\n",
       "        vertical-align: middle;\n",
       "    }\n",
       "\n",
       "    .dataframe tbody tr th {\n",
       "        vertical-align: top;\n",
       "    }\n",
       "\n",
       "    .dataframe thead th {\n",
       "        text-align: right;\n",
       "    }\n",
       "</style>\n",
       "<table border=\"1\" class=\"dataframe\">\n",
       "  <thead>\n",
       "    <tr style=\"text-align: right;\">\n",
       "      <th></th>\n",
       "      <th>MSZoning</th>\n",
       "      <th>Utilities</th>\n",
       "    </tr>\n",
       "  </thead>\n",
       "  <tbody>\n",
       "    <tr>\n",
       "      <th>1915</th>\n",
       "      <td>NaN</td>\n",
       "      <td>ALLPub</td>\n",
       "    </tr>\n",
       "    <tr>\n",
       "      <th>2216</th>\n",
       "      <td>NaN</td>\n",
       "      <td>AllPub</td>\n",
       "    </tr>\n",
       "    <tr>\n",
       "      <th>2250</th>\n",
       "      <td>NaN</td>\n",
       "      <td>AllPub</td>\n",
       "    </tr>\n",
       "    <tr>\n",
       "      <th>2904</th>\n",
       "      <td>NaN</td>\n",
       "      <td>AllPub</td>\n",
       "    </tr>\n",
       "  </tbody>\n",
       "</table>\n",
       "</div>"
      ],
      "text/plain": [
       "     MSZoning Utilities\n",
       "1915      NaN    ALLPub\n",
       "2216      NaN    AllPub\n",
       "2250      NaN    AllPub\n",
       "2904      NaN    AllPub"
      ]
     },
     "execution_count": 89,
     "metadata": {},
     "output_type": "execute_result"
    }
   ],
   "source": [
    "all_data[['MSZoning', 'Utilities']][pd.isnull(all_data.MSZoning)]"
   ]
  },
  {
   "cell_type": "code",
   "execution_count": 90,
   "metadata": {},
   "outputs": [
    {
     "data": {
      "text/plain": [
       "Utilities  MSZoning\n",
       "ALLPub     RL             1\n",
       "AllPub     RL          2263\n",
       "           RM           460\n",
       "           FV           139\n",
       "           RH            26\n",
       "           C (all)       25\n",
       "NoSeWa     RL             1\n",
       "Name: MSZoning, dtype: int64"
      ]
     },
     "execution_count": 90,
     "metadata": {},
     "output_type": "execute_result"
    }
   ],
   "source": [
    "all_data[['MSZoning', 'Utilities']].groupby('Utilities')['MSZoning'].value_counts()"
   ]
  },
  {
   "cell_type": "code",
   "execution_count": 91,
   "metadata": {},
   "outputs": [],
   "source": [
    "all_data.MSZoning.iloc[1915] = 'RL'\n",
    "all_data.MSZoning.fillna('RL', inplace=True)"
   ]
  },
  {
   "cell_type": "markdown",
   "metadata": {},
   "source": [
    "#### LotFrontage\n",
    "缺失了486，而且该特征对结果的影响是明显的，距离街道直线距离，可以看到跟Utilities的信息增益比达到了0.91之高；"
   ]
  },
  {
   "cell_type": "code",
   "execution_count": 92,
   "metadata": {},
   "outputs": [
    {
     "data": {
      "text/plain": [
       "[('Utilities', (0.011515766788613213, 0.9119602667946397)),\n",
       " ('PoolArea', (0.03780066852191055, 0.65538389776259)),\n",
       " ('LotArea', (6.611176048507531, 0.6356531898283357)),\n",
       " ('Id', (6.990888642339208, 0.6073088051207176)),\n",
       " ('RoofMatl', (0.08325447034331734, 0.6010311942863747))]"
      ]
     },
     "execution_count": 92,
     "metadata": {},
     "output_type": "execute_result"
    }
   ],
   "source": [
    "gain_df(all_data, 'LotFrontage')[:5]"
   ]
  },
  {
   "cell_type": "code",
   "execution_count": 93,
   "metadata": {},
   "outputs": [
    {
     "data": {
      "text/plain": [
       "Utilities\n",
       "ALLPub    109.0\n",
       "AllPub     68.0\n",
       "NoSeWa      NaN\n",
       "Name: LotFrontage, dtype: float64"
      ]
     },
     "execution_count": 93,
     "metadata": {},
     "output_type": "execute_result"
    }
   ],
   "source": [
    "all_data.groupby('Utilities')['LotFrontage'].median()"
   ]
  },
  {
   "cell_type": "code",
   "execution_count": 94,
   "metadata": {},
   "outputs": [],
   "source": [
    "all_data['LotFrontage'] = all_data.groupby('Utilities')['LotFrontage'].apply(lambda x: x.fillna(x.median()))"
   ]
  },
  {
   "cell_type": "code",
   "execution_count": 95,
   "metadata": {},
   "outputs": [],
   "source": [
    "all_data.LotFrontage.fillna(all_data.LotFrontage.median(), inplace=True)"
   ]
  },
  {
   "cell_type": "markdown",
   "metadata": {},
   "source": [
    "### 5.1.4 Check"
   ]
  },
  {
   "cell_type": "code",
   "execution_count": 96,
   "metadata": {},
   "outputs": [
    {
     "name": "stdout",
     "output_type": "stream",
     "text": [
      "All data columns with null values:\n",
      "\n",
      "SalePrice    1459\n",
      "dtype: int64\n"
     ]
    }
   ],
   "source": [
    "print 'All data columns with null values:\\n'\n",
    "missing_data = all_data.isnull().sum()[all_data.isnull().sum()>0].sort_values()\n",
    "missing_cols = list(missing_data.index)\n",
    "print missing_data"
   ]
  },
  {
   "cell_type": "markdown",
   "metadata": {},
   "source": [
    "## 5.1 异常值处理TODO\n",
    "\n",
    "因为本身数据量不大，因此异常值的影响就会比较大，再加上RMSE的结果是受异常数据敏感的，更应该合理处理异常数据；\n",
    "\n",
    "- 两个大于4500平方英尺的房子，售价低于300000；\n",
    "- 一个OverallQual低于5的房子，售价高于200000；"
   ]
  },
  {
   "cell_type": "markdown",
   "metadata": {},
   "source": [
    "## 5.2 二值化、分箱处理TODO\n",
    "\n",
    "对于部分数值型特征，包含的信息可能是冗余的，这种冗余的意义是我们关心的，或者说对结果有影响的仅仅是0和1，而特征提供的确实复杂的连续数值，因此进行设置阈值转换为二值特征；\n",
    "\n",
    "- Binarizer；\n",
    "- KBinsDiscretizer；\n",
    "\n",
    "连续特征离散化的原因：\n",
    "- 离散特征的增加和减少都很容易，易于模型的快速迭代；\n",
    "- 稀疏向量内积乘法运算速度快，计算结果方便存储，容易扩展；\n",
    "- 离散化后的特征对异常数据有很强的鲁棒性，不受异常值干扰；\n",
    "- 逻辑回归属于广义线性模型，表达能力受限，单变量离散化为N个后，每个变量有单独的权重，相当于为模型引入了非线性，能够提升模型表达能力，加大拟合；\n",
    "- 离散化后可以进行特征交叉，加入特征A 离散化为M个值，特征B离散为N个值，那么交叉之后会有M\\*N个变量，进一步引入非线性，提升表达能力；\n",
    "- 特征离散化后，模型会更稳定，比如如果对用户年龄离散化，20-30作为一个区间，不会因为一个用户年龄长了一岁就变成一个完全不同的人；\n",
    "- 特征离散化以后，起到了简化了逻辑回归模型的作用，降低了模型过拟合的风险，相当于拆解了原来的一个特征为多个，使得模型不会过度依赖某一个特征；\n",
    "\n",
    "二值化需要结合业务来做，分箱处理可以直接进行，离散化后的特征虽然失去了部分信息，但是也更加灵活、健壮；"
   ]
  },
  {
   "cell_type": "code",
   "execution_count": 97,
   "metadata": {},
   "outputs": [],
   "source": [
    "# 需要分箱处理的连续特征（类似年份、个数等特征没有做这个处理，本质上个数已经可以认为是一种较离散的连续特征了）\n",
    "kbins_features = ['LotFrontage','LotArea','MasVnrArea','BsmtFinSF1','BsmtFinSF2','BsmtUnfSF','TotalBsmtSF',\n",
    "                  '1stFlrSF','2ndFlrSF','LowQualFinSF','GrLivArea','GarageArea','MiscVal']\n",
    "\n",
    "# 需要二值化的特征，主要是房屋外一些额外装饰门廊、泳池相关\n",
    "bin2_features = ['WoodDeckSF','OpenPorchSF','EnclosedPorch','3SsnPorch','ScreenPorch','PoolArea']"
   ]
  },
  {
   "cell_type": "code",
   "execution_count": 98,
   "metadata": {},
   "outputs": [
    {
     "data": {
      "text/html": [
       "<div>\n",
       "<style scoped>\n",
       "    .dataframe tbody tr th:only-of-type {\n",
       "        vertical-align: middle;\n",
       "    }\n",
       "\n",
       "    .dataframe tbody tr th {\n",
       "        vertical-align: top;\n",
       "    }\n",
       "\n",
       "    .dataframe thead th {\n",
       "        text-align: right;\n",
       "    }\n",
       "</style>\n",
       "<table border=\"1\" class=\"dataframe\">\n",
       "  <thead>\n",
       "    <tr style=\"text-align: right;\">\n",
       "      <th></th>\n",
       "      <th>LotFrontage</th>\n",
       "      <th>LotArea</th>\n",
       "      <th>MasVnrArea</th>\n",
       "      <th>BsmtFinSF1</th>\n",
       "      <th>BsmtFinSF2</th>\n",
       "      <th>BsmtUnfSF</th>\n",
       "      <th>TotalBsmtSF</th>\n",
       "      <th>1stFlrSF</th>\n",
       "      <th>2ndFlrSF</th>\n",
       "      <th>LowQualFinSF</th>\n",
       "      <th>GrLivArea</th>\n",
       "      <th>GarageArea</th>\n",
       "      <th>MiscVal</th>\n",
       "    </tr>\n",
       "  </thead>\n",
       "  <tbody>\n",
       "    <tr>\n",
       "      <th>2084</th>\n",
       "      <td>69.0</td>\n",
       "      <td>7590</td>\n",
       "      <td>0.0</td>\n",
       "      <td>0.0</td>\n",
       "      <td>0.0</td>\n",
       "      <td>1117.0</td>\n",
       "      <td>1117.0</td>\n",
       "      <td>1117</td>\n",
       "      <td>0</td>\n",
       "      <td>0</td>\n",
       "      <td>1117</td>\n",
       "      <td>264.0</td>\n",
       "      <td>0</td>\n",
       "    </tr>\n",
       "    <tr>\n",
       "      <th>2068</th>\n",
       "      <td>60.0</td>\n",
       "      <td>10122</td>\n",
       "      <td>0.0</td>\n",
       "      <td>0.0</td>\n",
       "      <td>0.0</td>\n",
       "      <td>0.0</td>\n",
       "      <td>0.0</td>\n",
       "      <td>869</td>\n",
       "      <td>0</td>\n",
       "      <td>0</td>\n",
       "      <td>869</td>\n",
       "      <td>390.0</td>\n",
       "      <td>0</td>\n",
       "    </tr>\n",
       "    <tr>\n",
       "      <th>2256</th>\n",
       "      <td>60.0</td>\n",
       "      <td>7500</td>\n",
       "      <td>0.0</td>\n",
       "      <td>0.0</td>\n",
       "      <td>0.0</td>\n",
       "      <td>938.0</td>\n",
       "      <td>938.0</td>\n",
       "      <td>957</td>\n",
       "      <td>1342</td>\n",
       "      <td>0</td>\n",
       "      <td>2299</td>\n",
       "      <td>482.0</td>\n",
       "      <td>0</td>\n",
       "    </tr>\n",
       "  </tbody>\n",
       "</table>\n",
       "</div>"
      ],
      "text/plain": [
       "      LotFrontage  LotArea  MasVnrArea  BsmtFinSF1  BsmtFinSF2  BsmtUnfSF  \\\n",
       "2084         69.0     7590         0.0         0.0         0.0     1117.0   \n",
       "2068         60.0    10122         0.0         0.0         0.0        0.0   \n",
       "2256         60.0     7500         0.0         0.0         0.0      938.0   \n",
       "\n",
       "      TotalBsmtSF  1stFlrSF  2ndFlrSF  LowQualFinSF  GrLivArea  GarageArea  \\\n",
       "2084       1117.0      1117         0             0       1117       264.0   \n",
       "2068          0.0       869         0             0        869       390.0   \n",
       "2256        938.0       957      1342             0       2299       482.0   \n",
       "\n",
       "      MiscVal  \n",
       "2084        0  \n",
       "2068        0  \n",
       "2256        0  "
      ]
     },
     "execution_count": 98,
     "metadata": {},
     "output_type": "execute_result"
    }
   ],
   "source": [
    "all_data[kbins_features].sample(3)"
   ]
  },
  {
   "cell_type": "code",
   "execution_count": 99,
   "metadata": {},
   "outputs": [
    {
     "data": {
      "text/html": [
       "<div>\n",
       "<style scoped>\n",
       "    .dataframe tbody tr th:only-of-type {\n",
       "        vertical-align: middle;\n",
       "    }\n",
       "\n",
       "    .dataframe tbody tr th {\n",
       "        vertical-align: top;\n",
       "    }\n",
       "\n",
       "    .dataframe thead th {\n",
       "        text-align: right;\n",
       "    }\n",
       "</style>\n",
       "<table border=\"1\" class=\"dataframe\">\n",
       "  <thead>\n",
       "    <tr style=\"text-align: right;\">\n",
       "      <th></th>\n",
       "      <th>LotFrontage</th>\n",
       "      <th>LotArea</th>\n",
       "      <th>MasVnrArea</th>\n",
       "      <th>BsmtFinSF1</th>\n",
       "      <th>BsmtFinSF2</th>\n",
       "      <th>BsmtUnfSF</th>\n",
       "      <th>TotalBsmtSF</th>\n",
       "      <th>1stFlrSF</th>\n",
       "      <th>2ndFlrSF</th>\n",
       "      <th>LowQualFinSF</th>\n",
       "      <th>GrLivArea</th>\n",
       "      <th>GarageArea</th>\n",
       "      <th>MiscVal</th>\n",
       "    </tr>\n",
       "  </thead>\n",
       "  <tbody>\n",
       "    <tr>\n",
       "      <th>2110</th>\n",
       "      <td>5.0</td>\n",
       "      <td>2.0</td>\n",
       "      <td>0.0</td>\n",
       "      <td>0.0</td>\n",
       "      <td>0.0</td>\n",
       "      <td>6.0</td>\n",
       "      <td>1.0</td>\n",
       "      <td>6.0</td>\n",
       "      <td>1.0</td>\n",
       "      <td>0.0</td>\n",
       "      <td>6.0</td>\n",
       "      <td>1.0</td>\n",
       "      <td>0.0</td>\n",
       "    </tr>\n",
       "    <tr>\n",
       "      <th>1206</th>\n",
       "      <td>5.0</td>\n",
       "      <td>4.0</td>\n",
       "      <td>0.0</td>\n",
       "      <td>5.0</td>\n",
       "      <td>0.0</td>\n",
       "      <td>0.0</td>\n",
       "      <td>5.0</td>\n",
       "      <td>4.0</td>\n",
       "      <td>0.0</td>\n",
       "      <td>0.0</td>\n",
       "      <td>1.0</td>\n",
       "      <td>3.0</td>\n",
       "      <td>0.0</td>\n",
       "    </tr>\n",
       "    <tr>\n",
       "      <th>596</th>\n",
       "      <td>3.0</td>\n",
       "      <td>0.0</td>\n",
       "      <td>0.0</td>\n",
       "      <td>0.0</td>\n",
       "      <td>0.0</td>\n",
       "      <td>6.0</td>\n",
       "      <td>1.0</td>\n",
       "      <td>0.0</td>\n",
       "      <td>2.0</td>\n",
       "      <td>0.0</td>\n",
       "      <td>4.0</td>\n",
       "      <td>0.0</td>\n",
       "      <td>0.0</td>\n",
       "    </tr>\n",
       "  </tbody>\n",
       "</table>\n",
       "</div>"
      ],
      "text/plain": [
       "      LotFrontage  LotArea  MasVnrArea  BsmtFinSF1  BsmtFinSF2  BsmtUnfSF  \\\n",
       "2110          5.0      2.0         0.0         0.0         0.0        6.0   \n",
       "1206          5.0      4.0         0.0         5.0         0.0        0.0   \n",
       "596           3.0      0.0         0.0         0.0         0.0        6.0   \n",
       "\n",
       "      TotalBsmtSF  1stFlrSF  2ndFlrSF  LowQualFinSF  GrLivArea  GarageArea  \\\n",
       "2110          1.0       6.0       1.0           0.0        6.0         1.0   \n",
       "1206          5.0       4.0       0.0           0.0        1.0         3.0   \n",
       "596           1.0       0.0       2.0           0.0        4.0         0.0   \n",
       "\n",
       "      MiscVal  \n",
       "2110      0.0  \n",
       "1206      0.0  \n",
       "596       0.0  "
      ]
     },
     "execution_count": 99,
     "metadata": {},
     "output_type": "execute_result"
    }
   ],
   "source": [
    "all_data[kbins_features] = KBinsDiscretizer(n_bins=10, encode='ordinal').fit_transform(all_data[kbins_features])\n",
    "all_data[kbins_features].sample(3)"
   ]
  },
  {
   "cell_type": "code",
   "execution_count": 100,
   "metadata": {},
   "outputs": [
    {
     "data": {
      "text/html": [
       "<div>\n",
       "<style scoped>\n",
       "    .dataframe tbody tr th:only-of-type {\n",
       "        vertical-align: middle;\n",
       "    }\n",
       "\n",
       "    .dataframe tbody tr th {\n",
       "        vertical-align: top;\n",
       "    }\n",
       "\n",
       "    .dataframe thead th {\n",
       "        text-align: right;\n",
       "    }\n",
       "</style>\n",
       "<table border=\"1\" class=\"dataframe\">\n",
       "  <thead>\n",
       "    <tr style=\"text-align: right;\">\n",
       "      <th></th>\n",
       "      <th>WoodDeckSF</th>\n",
       "      <th>OpenPorchSF</th>\n",
       "      <th>EnclosedPorch</th>\n",
       "      <th>3SsnPorch</th>\n",
       "      <th>ScreenPorch</th>\n",
       "      <th>PoolArea</th>\n",
       "    </tr>\n",
       "  </thead>\n",
       "  <tbody>\n",
       "    <tr>\n",
       "      <th>1279</th>\n",
       "      <td>30</td>\n",
       "      <td>0</td>\n",
       "      <td>164</td>\n",
       "      <td>0</td>\n",
       "      <td>0</td>\n",
       "      <td>0</td>\n",
       "    </tr>\n",
       "    <tr>\n",
       "      <th>2887</th>\n",
       "      <td>96</td>\n",
       "      <td>0</td>\n",
       "      <td>132</td>\n",
       "      <td>0</td>\n",
       "      <td>0</td>\n",
       "      <td>0</td>\n",
       "    </tr>\n",
       "    <tr>\n",
       "      <th>1655</th>\n",
       "      <td>0</td>\n",
       "      <td>28</td>\n",
       "      <td>0</td>\n",
       "      <td>0</td>\n",
       "      <td>0</td>\n",
       "      <td>0</td>\n",
       "    </tr>\n",
       "  </tbody>\n",
       "</table>\n",
       "</div>"
      ],
      "text/plain": [
       "      WoodDeckSF  OpenPorchSF  EnclosedPorch  3SsnPorch  ScreenPorch  PoolArea\n",
       "1279          30            0            164          0            0         0\n",
       "2887          96            0            132          0            0         0\n",
       "1655           0           28              0          0            0         0"
      ]
     },
     "execution_count": 100,
     "metadata": {},
     "output_type": "execute_result"
    }
   ],
   "source": [
    "all_data[bin2_features].sample(3)"
   ]
  },
  {
   "cell_type": "code",
   "execution_count": 101,
   "metadata": {},
   "outputs": [
    {
     "data": {
      "text/html": [
       "<div>\n",
       "<style scoped>\n",
       "    .dataframe tbody tr th:only-of-type {\n",
       "        vertical-align: middle;\n",
       "    }\n",
       "\n",
       "    .dataframe tbody tr th {\n",
       "        vertical-align: top;\n",
       "    }\n",
       "\n",
       "    .dataframe thead th {\n",
       "        text-align: right;\n",
       "    }\n",
       "</style>\n",
       "<table border=\"1\" class=\"dataframe\">\n",
       "  <thead>\n",
       "    <tr style=\"text-align: right;\">\n",
       "      <th></th>\n",
       "      <th>WoodDeckSF</th>\n",
       "      <th>OpenPorchSF</th>\n",
       "      <th>EnclosedPorch</th>\n",
       "      <th>3SsnPorch</th>\n",
       "      <th>ScreenPorch</th>\n",
       "      <th>PoolArea</th>\n",
       "    </tr>\n",
       "  </thead>\n",
       "  <tbody>\n",
       "    <tr>\n",
       "      <th>646</th>\n",
       "      <td>0</td>\n",
       "      <td>1</td>\n",
       "      <td>0</td>\n",
       "      <td>0</td>\n",
       "      <td>0</td>\n",
       "      <td>0</td>\n",
       "    </tr>\n",
       "    <tr>\n",
       "      <th>2812</th>\n",
       "      <td>1</td>\n",
       "      <td>0</td>\n",
       "      <td>0</td>\n",
       "      <td>0</td>\n",
       "      <td>0</td>\n",
       "      <td>0</td>\n",
       "    </tr>\n",
       "    <tr>\n",
       "      <th>553</th>\n",
       "      <td>0</td>\n",
       "      <td>1</td>\n",
       "      <td>0</td>\n",
       "      <td>0</td>\n",
       "      <td>0</td>\n",
       "      <td>0</td>\n",
       "    </tr>\n",
       "  </tbody>\n",
       "</table>\n",
       "</div>"
      ],
      "text/plain": [
       "      WoodDeckSF  OpenPorchSF  EnclosedPorch  3SsnPorch  ScreenPorch  PoolArea\n",
       "646            0            1              0          0            0         0\n",
       "2812           1            0              0          0            0         0\n",
       "553            0            1              0          0            0         0"
      ]
     },
     "execution_count": 101,
     "metadata": {},
     "output_type": "execute_result"
    }
   ],
   "source": [
    "all_data[bin2_features] = Binarizer(threshold=0).fit_transform(all_data[bin2_features])\n",
    "all_data[bin2_features].sample(3)"
   ]
  },
  {
   "cell_type": "markdown",
   "metadata": {},
   "source": [
    "## 5.3 标签化、哑编码\n",
    "\n",
    "即Label、One-Hot编码，将类别特征转换为每个特征取值对应一个特征，即每个新特征都是0/1的二值特征，这里要注意的是对于定序离散特征的处理，比如厨房质量特征，标签化需要手工指定，且不需要One-Hot；\n",
    "\n",
    "- LabelEncode；\n",
    "- OneHotEncode；"
   ]
  },
  {
   "cell_type": "code",
   "execution_count": 102,
   "metadata": {},
   "outputs": [],
   "source": [
    "# 不确定的也放入label&onehot\n",
    "# 需要转为定量且进行哑编码的\n",
    "onehot_features = ['MSSubClass','MSZoning','Street','Alley','LotShape','LandContour','LotConfig',\n",
    "                         'LandSlope','Neighborhood','Condition1','Condition2','BldgType','HouseStyle',\n",
    "                         'RoofStyle','RoofMatl','Exterior1st','Exterior2nd','MasVnrType','Foundation',\n",
    "                         'CentralAir','Functional','PavedDrive','MiscFeature','SaleType','SaleCondition',\n",
    "                          'GarageType','Heating']\n",
    "\n",
    "# 需要转为定量，需要手动指定映射关系的\n",
    "orderlabel_features = ['Utilities','ExterQual','ExterCond','BsmtQual','BsmtCond','BsmtExposure','BsmtFinType1',\n",
    "                        'BsmtFinType2','HeatingQC','Electrical','KitchenQual','FireplaceQu','GarageFinish',\n",
    "                        'GarageQual','GarageCond','PoolQC','Fence']"
   ]
  },
  {
   "cell_type": "code",
   "execution_count": 103,
   "metadata": {},
   "outputs": [
    {
     "data": {
      "text/html": [
       "<div>\n",
       "<style scoped>\n",
       "    .dataframe tbody tr th:only-of-type {\n",
       "        vertical-align: middle;\n",
       "    }\n",
       "\n",
       "    .dataframe tbody tr th {\n",
       "        vertical-align: top;\n",
       "    }\n",
       "\n",
       "    .dataframe thead th {\n",
       "        text-align: right;\n",
       "    }\n",
       "</style>\n",
       "<table border=\"1\" class=\"dataframe\">\n",
       "  <thead>\n",
       "    <tr style=\"text-align: right;\">\n",
       "      <th></th>\n",
       "      <th>MSSubClass</th>\n",
       "      <th>MSZoning</th>\n",
       "      <th>Street</th>\n",
       "      <th>Alley</th>\n",
       "      <th>LotShape</th>\n",
       "      <th>LandContour</th>\n",
       "      <th>LotConfig</th>\n",
       "      <th>LandSlope</th>\n",
       "      <th>Neighborhood</th>\n",
       "      <th>Condition1</th>\n",
       "      <th>...</th>\n",
       "      <th>MasVnrType</th>\n",
       "      <th>Foundation</th>\n",
       "      <th>CentralAir</th>\n",
       "      <th>Functional</th>\n",
       "      <th>PavedDrive</th>\n",
       "      <th>MiscFeature</th>\n",
       "      <th>SaleType</th>\n",
       "      <th>SaleCondition</th>\n",
       "      <th>GarageType</th>\n",
       "      <th>Heating</th>\n",
       "    </tr>\n",
       "  </thead>\n",
       "  <tbody>\n",
       "    <tr>\n",
       "      <th>0</th>\n",
       "      <td>60</td>\n",
       "      <td>RL</td>\n",
       "      <td>Pave</td>\n",
       "      <td>None</td>\n",
       "      <td>Reg</td>\n",
       "      <td>Lvl</td>\n",
       "      <td>Inside</td>\n",
       "      <td>Gtl</td>\n",
       "      <td>CollgCr</td>\n",
       "      <td>Norm</td>\n",
       "      <td>...</td>\n",
       "      <td>BrkFace</td>\n",
       "      <td>PConc</td>\n",
       "      <td>Y</td>\n",
       "      <td>Typ</td>\n",
       "      <td>Y</td>\n",
       "      <td>None</td>\n",
       "      <td>WD</td>\n",
       "      <td>Normal</td>\n",
       "      <td>Attchd</td>\n",
       "      <td>GasA</td>\n",
       "    </tr>\n",
       "    <tr>\n",
       "      <th>1</th>\n",
       "      <td>20</td>\n",
       "      <td>RL</td>\n",
       "      <td>Pave</td>\n",
       "      <td>None</td>\n",
       "      <td>Reg</td>\n",
       "      <td>Lvl</td>\n",
       "      <td>FR2</td>\n",
       "      <td>Gtl</td>\n",
       "      <td>Veenker</td>\n",
       "      <td>Feedr</td>\n",
       "      <td>...</td>\n",
       "      <td>None</td>\n",
       "      <td>CBlock</td>\n",
       "      <td>Y</td>\n",
       "      <td>Typ</td>\n",
       "      <td>Y</td>\n",
       "      <td>None</td>\n",
       "      <td>WD</td>\n",
       "      <td>Normal</td>\n",
       "      <td>Attchd</td>\n",
       "      <td>GasA</td>\n",
       "    </tr>\n",
       "    <tr>\n",
       "      <th>2</th>\n",
       "      <td>60</td>\n",
       "      <td>RL</td>\n",
       "      <td>Pave</td>\n",
       "      <td>None</td>\n",
       "      <td>IR1</td>\n",
       "      <td>Lvl</td>\n",
       "      <td>Inside</td>\n",
       "      <td>Gtl</td>\n",
       "      <td>CollgCr</td>\n",
       "      <td>Norm</td>\n",
       "      <td>...</td>\n",
       "      <td>BrkFace</td>\n",
       "      <td>PConc</td>\n",
       "      <td>Y</td>\n",
       "      <td>Typ</td>\n",
       "      <td>Y</td>\n",
       "      <td>None</td>\n",
       "      <td>WD</td>\n",
       "      <td>Normal</td>\n",
       "      <td>Attchd</td>\n",
       "      <td>GasA</td>\n",
       "    </tr>\n",
       "  </tbody>\n",
       "</table>\n",
       "<p>3 rows × 27 columns</p>\n",
       "</div>"
      ],
      "text/plain": [
       "  MSSubClass MSZoning Street Alley LotShape LandContour LotConfig LandSlope  \\\n",
       "0         60       RL   Pave  None      Reg         Lvl    Inside       Gtl   \n",
       "1         20       RL   Pave  None      Reg         Lvl       FR2       Gtl   \n",
       "2         60       RL   Pave  None      IR1         Lvl    Inside       Gtl   \n",
       "\n",
       "  Neighborhood Condition1  ... MasVnrType Foundation CentralAir Functional  \\\n",
       "0      CollgCr       Norm  ...    BrkFace      PConc          Y        Typ   \n",
       "1      Veenker      Feedr  ...       None     CBlock          Y        Typ   \n",
       "2      CollgCr       Norm  ...    BrkFace      PConc          Y        Typ   \n",
       "\n",
       "  PavedDrive MiscFeature SaleType SaleCondition GarageType Heating  \n",
       "0          Y        None       WD        Normal     Attchd    GasA  \n",
       "1          Y        None       WD        Normal     Attchd    GasA  \n",
       "2          Y        None       WD        Normal     Attchd    GasA  \n",
       "\n",
       "[3 rows x 27 columns]"
      ]
     },
     "execution_count": 103,
     "metadata": {},
     "output_type": "execute_result"
    }
   ],
   "source": [
    "all_data['MSSubClass'] = all_data.MSSubClass.astype(str)\n",
    "all_data[onehot_features].head(3)"
   ]
  },
  {
   "cell_type": "code",
   "execution_count": 104,
   "metadata": {},
   "outputs": [
    {
     "data": {
      "text/html": [
       "<div>\n",
       "<style scoped>\n",
       "    .dataframe tbody tr th:only-of-type {\n",
       "        vertical-align: middle;\n",
       "    }\n",
       "\n",
       "    .dataframe tbody tr th {\n",
       "        vertical-align: top;\n",
       "    }\n",
       "\n",
       "    .dataframe thead th {\n",
       "        text-align: right;\n",
       "    }\n",
       "</style>\n",
       "<table border=\"1\" class=\"dataframe\">\n",
       "  <thead>\n",
       "    <tr style=\"text-align: right;\">\n",
       "      <th></th>\n",
       "      <th>1stFlrSF</th>\n",
       "      <th>2ndFlrSF</th>\n",
       "      <th>3SsnPorch</th>\n",
       "      <th>BedroomAbvGr</th>\n",
       "      <th>BsmtCond</th>\n",
       "      <th>BsmtExposure</th>\n",
       "      <th>BsmtFinSF1</th>\n",
       "      <th>BsmtFinSF2</th>\n",
       "      <th>BsmtFinType1</th>\n",
       "      <th>BsmtFinType2</th>\n",
       "      <th>...</th>\n",
       "      <th>GarageType_BuiltIn</th>\n",
       "      <th>GarageType_CarPort</th>\n",
       "      <th>GarageType_Detchd</th>\n",
       "      <th>GarageType_None</th>\n",
       "      <th>Heating_Floor</th>\n",
       "      <th>Heating_GasA</th>\n",
       "      <th>Heating_GasW</th>\n",
       "      <th>Heating_Grav</th>\n",
       "      <th>Heating_OthW</th>\n",
       "      <th>Heating_Wall</th>\n",
       "    </tr>\n",
       "  </thead>\n",
       "  <tbody>\n",
       "    <tr>\n",
       "      <th>2662</th>\n",
       "      <td>7.0</td>\n",
       "      <td>1.0</td>\n",
       "      <td>0</td>\n",
       "      <td>3</td>\n",
       "      <td>TA</td>\n",
       "      <td>No</td>\n",
       "      <td>5.0</td>\n",
       "      <td>0.0</td>\n",
       "      <td>GLQ</td>\n",
       "      <td>Unf</td>\n",
       "      <td>...</td>\n",
       "      <td>1</td>\n",
       "      <td>0</td>\n",
       "      <td>0</td>\n",
       "      <td>0</td>\n",
       "      <td>0</td>\n",
       "      <td>1</td>\n",
       "      <td>0</td>\n",
       "      <td>0</td>\n",
       "      <td>0</td>\n",
       "      <td>0</td>\n",
       "    </tr>\n",
       "    <tr>\n",
       "      <th>2521</th>\n",
       "      <td>3.0</td>\n",
       "      <td>3.0</td>\n",
       "      <td>0</td>\n",
       "      <td>3</td>\n",
       "      <td>TA</td>\n",
       "      <td>No</td>\n",
       "      <td>5.0</td>\n",
       "      <td>0.0</td>\n",
       "      <td>GLQ</td>\n",
       "      <td>Unf</td>\n",
       "      <td>...</td>\n",
       "      <td>0</td>\n",
       "      <td>0</td>\n",
       "      <td>0</td>\n",
       "      <td>0</td>\n",
       "      <td>0</td>\n",
       "      <td>1</td>\n",
       "      <td>0</td>\n",
       "      <td>0</td>\n",
       "      <td>0</td>\n",
       "      <td>0</td>\n",
       "    </tr>\n",
       "    <tr>\n",
       "      <th>1253</th>\n",
       "      <td>8.0</td>\n",
       "      <td>2.0</td>\n",
       "      <td>0</td>\n",
       "      <td>3</td>\n",
       "      <td>TA</td>\n",
       "      <td>Gd</td>\n",
       "      <td>0.0</td>\n",
       "      <td>1.0</td>\n",
       "      <td>LwQ</td>\n",
       "      <td>ALQ</td>\n",
       "      <td>...</td>\n",
       "      <td>0</td>\n",
       "      <td>0</td>\n",
       "      <td>0</td>\n",
       "      <td>0</td>\n",
       "      <td>0</td>\n",
       "      <td>1</td>\n",
       "      <td>0</td>\n",
       "      <td>0</td>\n",
       "      <td>0</td>\n",
       "      <td>0</td>\n",
       "    </tr>\n",
       "  </tbody>\n",
       "</table>\n",
       "<p>3 rows × 251 columns</p>\n",
       "</div>"
      ],
      "text/plain": [
       "      1stFlrSF  2ndFlrSF  3SsnPorch  BedroomAbvGr BsmtCond BsmtExposure  \\\n",
       "2662       7.0       1.0          0             3       TA           No   \n",
       "2521       3.0       3.0          0             3       TA           No   \n",
       "1253       8.0       2.0          0             3       TA           Gd   \n",
       "\n",
       "      BsmtFinSF1  BsmtFinSF2 BsmtFinType1 BsmtFinType2  ...  \\\n",
       "2662         5.0         0.0          GLQ          Unf  ...   \n",
       "2521         5.0         0.0          GLQ          Unf  ...   \n",
       "1253         0.0         1.0          LwQ          ALQ  ...   \n",
       "\n",
       "      GarageType_BuiltIn  GarageType_CarPort GarageType_Detchd  \\\n",
       "2662                   1                   0                 0   \n",
       "2521                   0                   0                 0   \n",
       "1253                   0                   0                 0   \n",
       "\n",
       "      GarageType_None Heating_Floor  Heating_GasA Heating_GasW Heating_Grav  \\\n",
       "2662                0             0             1            0            0   \n",
       "2521                0             0             1            0            0   \n",
       "1253                0             0             1            0            0   \n",
       "\n",
       "     Heating_OthW Heating_Wall  \n",
       "2662            0            0  \n",
       "2521            0            0  \n",
       "1253            0            0  \n",
       "\n",
       "[3 rows x 251 columns]"
      ]
     },
     "execution_count": 104,
     "metadata": {},
     "output_type": "execute_result"
    }
   ],
   "source": [
    "all_data = pd.get_dummies(all_data, columns=onehot_features)\n",
    "all_data.sample(3)"
   ]
  },
  {
   "cell_type": "code",
   "execution_count": 105,
   "metadata": {},
   "outputs": [
    {
     "data": {
      "text/html": [
       "<div>\n",
       "<style scoped>\n",
       "    .dataframe tbody tr th:only-of-type {\n",
       "        vertical-align: middle;\n",
       "    }\n",
       "\n",
       "    .dataframe tbody tr th {\n",
       "        vertical-align: top;\n",
       "    }\n",
       "\n",
       "    .dataframe thead th {\n",
       "        text-align: right;\n",
       "    }\n",
       "</style>\n",
       "<table border=\"1\" class=\"dataframe\">\n",
       "  <thead>\n",
       "    <tr style=\"text-align: right;\">\n",
       "      <th></th>\n",
       "      <th>Utilities</th>\n",
       "      <th>ExterQual</th>\n",
       "      <th>ExterCond</th>\n",
       "      <th>BsmtQual</th>\n",
       "      <th>BsmtCond</th>\n",
       "      <th>BsmtExposure</th>\n",
       "      <th>BsmtFinType1</th>\n",
       "      <th>BsmtFinType2</th>\n",
       "      <th>HeatingQC</th>\n",
       "      <th>Electrical</th>\n",
       "      <th>KitchenQual</th>\n",
       "      <th>FireplaceQu</th>\n",
       "      <th>GarageFinish</th>\n",
       "      <th>GarageQual</th>\n",
       "      <th>GarageCond</th>\n",
       "      <th>PoolQC</th>\n",
       "      <th>Fence</th>\n",
       "    </tr>\n",
       "  </thead>\n",
       "  <tbody>\n",
       "    <tr>\n",
       "      <th>0</th>\n",
       "      <td>AllPub</td>\n",
       "      <td>Gd</td>\n",
       "      <td>TA</td>\n",
       "      <td>Gd</td>\n",
       "      <td>TA</td>\n",
       "      <td>No</td>\n",
       "      <td>GLQ</td>\n",
       "      <td>Unf</td>\n",
       "      <td>Ex</td>\n",
       "      <td>SBrkr</td>\n",
       "      <td>Gd</td>\n",
       "      <td>None</td>\n",
       "      <td>RFn</td>\n",
       "      <td>TA</td>\n",
       "      <td>TA</td>\n",
       "      <td>None</td>\n",
       "      <td>None</td>\n",
       "    </tr>\n",
       "    <tr>\n",
       "      <th>1</th>\n",
       "      <td>AllPub</td>\n",
       "      <td>TA</td>\n",
       "      <td>TA</td>\n",
       "      <td>Gd</td>\n",
       "      <td>TA</td>\n",
       "      <td>Gd</td>\n",
       "      <td>ALQ</td>\n",
       "      <td>Unf</td>\n",
       "      <td>Ex</td>\n",
       "      <td>SBrkr</td>\n",
       "      <td>TA</td>\n",
       "      <td>TA</td>\n",
       "      <td>RFn</td>\n",
       "      <td>TA</td>\n",
       "      <td>TA</td>\n",
       "      <td>None</td>\n",
       "      <td>None</td>\n",
       "    </tr>\n",
       "    <tr>\n",
       "      <th>2</th>\n",
       "      <td>AllPub</td>\n",
       "      <td>Gd</td>\n",
       "      <td>TA</td>\n",
       "      <td>Gd</td>\n",
       "      <td>TA</td>\n",
       "      <td>Mn</td>\n",
       "      <td>GLQ</td>\n",
       "      <td>Unf</td>\n",
       "      <td>Ex</td>\n",
       "      <td>SBrkr</td>\n",
       "      <td>Gd</td>\n",
       "      <td>TA</td>\n",
       "      <td>RFn</td>\n",
       "      <td>TA</td>\n",
       "      <td>TA</td>\n",
       "      <td>None</td>\n",
       "      <td>None</td>\n",
       "    </tr>\n",
       "  </tbody>\n",
       "</table>\n",
       "</div>"
      ],
      "text/plain": [
       "  Utilities ExterQual ExterCond BsmtQual BsmtCond BsmtExposure BsmtFinType1  \\\n",
       "0    AllPub        Gd        TA       Gd       TA           No          GLQ   \n",
       "1    AllPub        TA        TA       Gd       TA           Gd          ALQ   \n",
       "2    AllPub        Gd        TA       Gd       TA           Mn          GLQ   \n",
       "\n",
       "  BsmtFinType2 HeatingQC Electrical KitchenQual FireplaceQu GarageFinish  \\\n",
       "0          Unf        Ex      SBrkr          Gd        None          RFn   \n",
       "1          Unf        Ex      SBrkr          TA          TA          RFn   \n",
       "2          Unf        Ex      SBrkr          Gd          TA          RFn   \n",
       "\n",
       "  GarageQual GarageCond PoolQC Fence  \n",
       "0         TA         TA   None  None  \n",
       "1         TA         TA   None  None  \n",
       "2         TA         TA   None  None  "
      ]
     },
     "execution_count": 105,
     "metadata": {},
     "output_type": "execute_result"
    }
   ],
   "source": [
    "all_data[orderlabel_features].head(3)"
   ]
  },
  {
   "cell_type": "code",
   "execution_count": 106,
   "metadata": {},
   "outputs": [
    {
     "data": {
      "text/html": [
       "<div>\n",
       "<style scoped>\n",
       "    .dataframe tbody tr th:only-of-type {\n",
       "        vertical-align: middle;\n",
       "    }\n",
       "\n",
       "    .dataframe tbody tr th {\n",
       "        vertical-align: top;\n",
       "    }\n",
       "\n",
       "    .dataframe thead th {\n",
       "        text-align: right;\n",
       "    }\n",
       "</style>\n",
       "<table border=\"1\" class=\"dataframe\">\n",
       "  <thead>\n",
       "    <tr style=\"text-align: right;\">\n",
       "      <th></th>\n",
       "      <th>Utilities</th>\n",
       "      <th>ExterQual</th>\n",
       "      <th>ExterCond</th>\n",
       "      <th>BsmtQual</th>\n",
       "      <th>BsmtCond</th>\n",
       "      <th>BsmtExposure</th>\n",
       "      <th>BsmtFinType1</th>\n",
       "      <th>BsmtFinType2</th>\n",
       "      <th>HeatingQC</th>\n",
       "      <th>Electrical</th>\n",
       "      <th>KitchenQual</th>\n",
       "      <th>FireplaceQu</th>\n",
       "      <th>GarageFinish</th>\n",
       "      <th>GarageQual</th>\n",
       "      <th>GarageCond</th>\n",
       "      <th>PoolQC</th>\n",
       "      <th>Fence</th>\n",
       "    </tr>\n",
       "  </thead>\n",
       "  <tbody>\n",
       "    <tr>\n",
       "      <th>0</th>\n",
       "      <td>3</td>\n",
       "      <td>3</td>\n",
       "      <td>2</td>\n",
       "      <td>3</td>\n",
       "      <td>2</td>\n",
       "      <td>0</td>\n",
       "      <td>5</td>\n",
       "      <td>0</td>\n",
       "      <td>4</td>\n",
       "      <td>4</td>\n",
       "      <td>3</td>\n",
       "      <td>-1</td>\n",
       "      <td>1</td>\n",
       "      <td>2</td>\n",
       "      <td>2</td>\n",
       "      <td>-1</td>\n",
       "      <td>-1</td>\n",
       "    </tr>\n",
       "    <tr>\n",
       "      <th>1</th>\n",
       "      <td>3</td>\n",
       "      <td>2</td>\n",
       "      <td>2</td>\n",
       "      <td>3</td>\n",
       "      <td>2</td>\n",
       "      <td>3</td>\n",
       "      <td>4</td>\n",
       "      <td>0</td>\n",
       "      <td>4</td>\n",
       "      <td>4</td>\n",
       "      <td>2</td>\n",
       "      <td>2</td>\n",
       "      <td>1</td>\n",
       "      <td>2</td>\n",
       "      <td>2</td>\n",
       "      <td>-1</td>\n",
       "      <td>-1</td>\n",
       "    </tr>\n",
       "    <tr>\n",
       "      <th>2</th>\n",
       "      <td>3</td>\n",
       "      <td>3</td>\n",
       "      <td>2</td>\n",
       "      <td>3</td>\n",
       "      <td>2</td>\n",
       "      <td>1</td>\n",
       "      <td>5</td>\n",
       "      <td>0</td>\n",
       "      <td>4</td>\n",
       "      <td>4</td>\n",
       "      <td>3</td>\n",
       "      <td>2</td>\n",
       "      <td>1</td>\n",
       "      <td>2</td>\n",
       "      <td>2</td>\n",
       "      <td>-1</td>\n",
       "      <td>-1</td>\n",
       "    </tr>\n",
       "  </tbody>\n",
       "</table>\n",
       "</div>"
      ],
      "text/plain": [
       "   Utilities  ExterQual  ExterCond  BsmtQual  BsmtCond  BsmtExposure  \\\n",
       "0          3          3          2         3         2             0   \n",
       "1          3          2          2         3         2             3   \n",
       "2          3          3          2         3         2             1   \n",
       "\n",
       "   BsmtFinType1  BsmtFinType2  HeatingQC  Electrical  KitchenQual  \\\n",
       "0             5             0          4           4            3   \n",
       "1             4             0          4           4            2   \n",
       "2             5             0          4           4            3   \n",
       "\n",
       "   FireplaceQu  GarageFinish  GarageQual  GarageCond  PoolQC  Fence  \n",
       "0           -1             1           2           2      -1     -1  \n",
       "1            2             1           2           2      -1     -1  \n",
       "2            2             1           2           2      -1     -1  "
      ]
     },
     "execution_count": 106,
     "metadata": {},
     "output_type": "execute_result"
    }
   ],
   "source": [
    "_dict = {'ELO':0, 'NoSeWa':1, 'NoSewr':2, 'ALLPub':3, 'AllPub':3}\n",
    "all_data.Utilities = all_data.Utilities.apply(lambda t:_dict[t])\n",
    "\n",
    "_dict = {'Po':0, 'Fa':1, 'TA':2, 'Gd':3, 'Ex':4}\n",
    "all_data.ExterQual = all_data.ExterQual.apply(lambda t:_dict[t])\n",
    "\n",
    "_dict = {'Po':0, 'Fa':1, 'TA':2, 'Gd':3, 'Ex':4}\n",
    "all_data.ExterCond = all_data.ExterCond.apply(lambda t:_dict[t])\n",
    "\n",
    "_dict = {'None':-1, 'Po':0, 'Fa':1, 'TA':2, 'Gd':3, 'Ex':4}\n",
    "all_data.BsmtQual = all_data.BsmtQual.apply(lambda t:_dict[t])\n",
    "\n",
    "_dict = {'None':-1, 'Po':0, 'Fa':1, 'TA':2, 'Gd':3, 'Ex':4}\n",
    "all_data.BsmtCond = all_data.BsmtCond.apply(lambda t:_dict[t])\n",
    "\n",
    "_dict = {'None':-1, 'No':0, 'Mn':1, 'Av':2, 'Gd':3}\n",
    "all_data.BsmtExposure = all_data.BsmtExposure.apply(lambda t:_dict[t])\n",
    "\n",
    "_dict = {'None':-1, 'Unf':0, 'LwQ':1, 'Rec':2, 'BLQ':3, 'ALQ':4, 'GLQ':5}\n",
    "all_data.BsmtFinType1 = all_data.BsmtFinType1.apply(lambda t:_dict[t])\n",
    "\n",
    "_dict = {'None':-1, 'Unf':0, 'LwQ':1, 'Rec':2, 'BLQ':3, 'ALQ':4, 'GLQ':5}\n",
    "all_data.BsmtFinType2 = all_data.BsmtFinType2.apply(lambda t:_dict[t])\n",
    "\n",
    "_dict = {'Po':0, 'Fa':1, 'TA':2, 'Gd':3, 'Ex':4}\n",
    "all_data.HeatingQC = all_data.HeatingQC.apply(lambda t:_dict[t])\n",
    "\n",
    "_dict = {'Mix':0, 'FuseP':1, 'FuseF':2, 'FuseA':3, 'SBrkr':4}\n",
    "all_data.Electrical = all_data.Electrical.apply(lambda t:_dict[t])\n",
    "\n",
    "_dict = {'Po':0, 'Fa':1, 'TA':2, 'Gd':3, 'Ex':4}\n",
    "all_data.KitchenQual = all_data.KitchenQual.apply(lambda t:_dict[t])\n",
    "\n",
    "_dict = {'None':-1, 'Po':0, 'Fa':1, 'TA':2, 'Gd':3, 'Ex':4}\n",
    "all_data.FireplaceQu = all_data.FireplaceQu.apply(lambda t:_dict[t])\n",
    "\n",
    "_dict = {'None':-1, 'Unf':0, 'RFn':1, 'Fin':2}\n",
    "all_data.GarageFinish = all_data.GarageFinish.apply(lambda t:_dict[t])\n",
    "\n",
    "_dict = {'None':-1, 'Po':0, 'Fa':1, 'TA':2, 'Gd':3, 'Ex':4}\n",
    "all_data.GarageQual = all_data.GarageQual.apply(lambda t:_dict[t])\n",
    "\n",
    "_dict = {'None':-1, 'Po':0, 'Fa':1, 'TA':2, 'Gd':3, 'Ex':4}\n",
    "all_data.GarageCond = all_data.GarageCond.apply(lambda t:_dict[t])\n",
    "\n",
    "_dict = {'None':-1, 'Po':0, 'Fa':1, 'TA':2, 'Gd':3, 'Ex':4}\n",
    "all_data.PoolQC = all_data.PoolQC.apply(lambda t:_dict[t])\n",
    "\n",
    "_dict = {'None':-1, 'MnWw':0, 'GdWo':1, 'MnPrv':2, 'GdPrv':3}\n",
    "all_data.Fence = all_data.Fence.apply(lambda t:_dict[t])\n",
    "\n",
    "all_data[orderlabel_features].head(3)"
   ]
  },
  {
   "cell_type": "markdown",
   "metadata": {},
   "source": [
    "## 5.4 数据转换 - 偏斜处理TODO\n",
    "\n",
    "简单说目的就是改变数据的原始分布，以达到以下目的：\n",
    "- 数据从无关系 -> 有关系；\n",
    "- 呈偏态分布-->变换后差异拉开；\n",
    "- 让数据符合模型理论所需要的假设，然后对其分析，例如：变换后数据呈正态分布；\n",
    "\n",
    "方式方法：\n",
    "- 基于多项式变换：\n",
    "    - PolynomialFeatures；\n",
    "- 基于指数函数的变换：\n",
    "    - 对数函数一种特殊的指数函数变换；\n",
    "    - FunctionTransformer(log1p)；\n",
    "- Box-Cox：\n",
    "    - 自动寻找最佳正态分布变换函数的方法；\n",
    "    - from scipy.stats import boxcox；\n",
    "    \n",
    "- 目标特征；\n",
    "- 其他面积、尺寸、价值特征；"
   ]
  },
  {
   "cell_type": "markdown",
   "metadata": {},
   "source": [
    "## 5.5 无量纲化\n",
    "\n",
    "原始数值型特征的规格不同，无法直接比较，在部分算法中（比如kNN，即使需要归一化处理）结果会与其规格有关，因此需要进行无量纲化，无量纲化通常是不会改变数据分布的；\n",
    "\n",
    "- 标准化 - 方差缩放：\n",
    "    - 需要特征符合正态分布，标准化后转换为标准正态分布；\n",
    "    - StandardScaler；\n",
    "- 区间缩放法：\n",
    "    - 利用边界信息，将特征缩放到一个范围，比如0~1，不改变分布；\n",
    "    - MinMaxScaler；\n",
    "- 归一化：\n",
    "    - 将特征转化到同一个单位下，在计算相似度时，不会有影响；\n",
    "    - Normalizer；\n",
    "\n",
    "标准化和归一化的区别：\n",
    "- 标准化是基于列的处理，即对每个特征，转换到同一量纲下，公式上看，每个数据点都对结果起作用；\n",
    "- 归一化是基于行的处理，即对每个数据行的相似度计算中，避免不同特征值的范围不同带来的影响，也就是转换到单位向量下，对结果起作用的是极点；\n",
    "\n",
    "场景：\n",
    "- 如果对输出结果范围有要求，用归一化；\n",
    "- 如果数据较为稳定，不存在极端的最大最小值，用归一化；\n",
    "- 如果数据存在异常值和较多噪音，用标准化，可以间接通过中心化避免异常值和极端值的影响；\n",
    "\n",
    "暂时不做该处理；"
   ]
  },
  {
   "cell_type": "markdown",
   "metadata": {},
   "source": [
    "## 5.6 衍生变量TODO\n",
    "\n",
    "业务、业务、业务；\n",
    "\n",
    "- 房龄特征：YrSold-YearBuilt；\n",
    "- 是否为新房；\n",
    "- YearBuildtRemod=YearBuilt+YearRemodAdd；\n",
    "- TotalSF=BsmtFinSF1+BsmtFinSF2+1stFlrSF+2ndFlrSF；\n",
    "- TotalBath=FullBath+HalfBath+BsmtFullBath+BsmtHalfBath；"
   ]
  },
  {
   "cell_type": "code",
   "execution_count": 108,
   "metadata": {},
   "outputs": [
    {
     "data": {
      "text/html": [
       "<div>\n",
       "<style scoped>\n",
       "    .dataframe tbody tr th:only-of-type {\n",
       "        vertical-align: middle;\n",
       "    }\n",
       "\n",
       "    .dataframe tbody tr th {\n",
       "        vertical-align: top;\n",
       "    }\n",
       "\n",
       "    .dataframe thead th {\n",
       "        text-align: right;\n",
       "    }\n",
       "</style>\n",
       "<table border=\"1\" class=\"dataframe\">\n",
       "  <thead>\n",
       "    <tr style=\"text-align: right;\">\n",
       "      <th></th>\n",
       "      <th>Age</th>\n",
       "    </tr>\n",
       "  </thead>\n",
       "  <tbody>\n",
       "    <tr>\n",
       "      <th>2801</th>\n",
       "      <td>55</td>\n",
       "    </tr>\n",
       "    <tr>\n",
       "      <th>2589</th>\n",
       "      <td>20</td>\n",
       "    </tr>\n",
       "    <tr>\n",
       "      <th>371</th>\n",
       "      <td>49</td>\n",
       "    </tr>\n",
       "  </tbody>\n",
       "</table>\n",
       "</div>"
      ],
      "text/plain": [
       "      Age\n",
       "2801   55\n",
       "2589   20\n",
       "371    49"
      ]
     },
     "execution_count": 108,
     "metadata": {},
     "output_type": "execute_result"
    }
   ],
   "source": [
    "all_data['Age'] = all_data.YrSold - all_data.YearBuilt\n",
    "all_data[['Age']].sample(3)"
   ]
  },
  {
   "cell_type": "markdown",
   "metadata": {},
   "source": [
    "# 6. 特征选择\n",
    "\n",
    "当数据预处理完成后，我们需要选择有意义的特征输入机器学习的算法和模型进行训练。通常来说，从两个方面考虑来选择特征：\n",
    "- 特征是否发散：如果一个特征不发散，例如方差接近于0，也就是说样本在这个特征上基本上没有差异，这个特征对于样本的区分并没有什么用；\n",
    "- 特征与目标的相关性：这点比较显见，与目标相关性高的特征，应当优选选择。除方差法外，本文介绍的其他方法均从相关性考虑；\n",
    "\n",
    "根据特征选择的形式又可以将特征选择方法分为3种：\n",
    "- Filter：过滤法，按照发散性或者相关性对各个特征进行评分，设定阈值或者待选择阈值的个数，选择特征；\n",
    "    - 方差选择法：\n",
    "        - 设置方差阈值，对方差小于阈值的特征进行过滤；\n",
    "        - 适用于所有特征；\n",
    "        - VarianceThreshold；\n",
    "    - 相关系数法：\n",
    "        - 计算各个特征对目标值的相关系数以及相关系数的P值；\n",
    "        - 适用于线性相关特征；\n",
    "        - SelectKBest结合相似度计算；\n",
    "    - 卡方检验：\n",
    "        - 检验**定性**自变量对**定性**因变量的相关性；\n",
    "        - 适用于离散变量的相似度计算；\n",
    "        - SelectKBest结合卡方检验；\n",
    "    - 互信息法：\n",
    "        - 评价**定性**自变量对**定性**因变量的相关性的，同卡方检验；\n",
    "        - 适用于离散变量的相似度计算；\n",
    "        - SelectKBest结合最大信息法；\n",
    "- Wrapper：包装法，根据目标函数（通常是预测效果评分），每次选择若干特征，或者排除若干特征；\n",
    "    - 递归特征消除法：\n",
    "        - 使用一个基模型来进行多轮训练，每轮训练后，消除若干权值系数的特征，再基于新的特征集进行下一轮训练；\n",
    "        - RFE；\n",
    "- Embedded：嵌入法，先使用某些机器学习的算法和模型进行训练，得到各个特征的权值系数，根据系数从大到小选择特征，类似于Filter方法，但是是通过训练来确定特征的优劣；\n",
    "    - 基于惩罚项的特征选择法：\n",
    "        - 使用带惩罚项的基模型，除了筛选出特征外，同时也进行了降维；\n",
    "        - SelectFromModel类结合带L1惩罚项的逻辑回归模型；\n",
    "    - 基于树模型的特征选择法：\n",
    "        - 树模型中GBDT也可用来作为基模型进行特征选择；\n",
    "        - SelectFromModel类结合GBDT模型；"
   ]
  },
  {
   "cell_type": "code",
   "execution_count": 165,
   "metadata": {},
   "outputs": [],
   "source": [
    "#TODO 方差选择法，去除低方差特征（street、Utilities、PoolQC）"
   ]
  },
  {
   "cell_type": "markdown",
   "metadata": {},
   "source": [
    "# 7. 降维\n",
    "\n",
    "本质是将原始数据映射到更低纬度的空间，以减少运算量、消除部分冗余数据、去除噪声等；\n",
    "\n",
    "- PCA：\n",
    "    - 根据方差大小进行坐标轴转换，让映射后的样本具有最大的发散性；\n",
    "    - 无监督；\n",
    "    - from sklearn.decomposition import PCA；\n",
    "- LDA：\n",
    "    - 让映射后的样本具有最好的分类性能；\n",
    "    - 有监督；\n",
    "    - from sklearn.lda import LDA；"
   ]
  },
  {
   "cell_type": "markdown",
   "metadata": {},
   "source": [
    "# 8. 建模\n",
    "\n",
    "1. 分离数据；\n",
    "2. 划分出验证数据集；\n",
    "3. 训练模型；\n",
    "4. 自动化调参；\n",
    "5. 交叉验证、学习曲线；"
   ]
  },
  {
   "cell_type": "code",
   "execution_count": 110,
   "metadata": {},
   "outputs": [],
   "source": [
    "train_data, test_data = divide_df(all_data)\n",
    "\n",
    "test_id = test_data.Id.copy()\n",
    "test_data.drop('Id', axis=1, inplace=True)\n",
    "\n",
    "train_target = train_data.SalePrice.copy()\n",
    "train_data.drop(['Id','SalePrice'], axis=1, inplace=True)"
   ]
  },
  {
   "cell_type": "code",
   "execution_count": 169,
   "metadata": {},
   "outputs": [],
   "source": [
    "#TODO 修正性能函数\n",
    "def rmse(y_true, y_pred):\n",
    "#     diff = y_pred - y_true\n",
    "#     sum_sq = sum(diff ** 2)\n",
    "#     n = len(y_pred)\n",
    "\n",
    "#     return np.sqrt(sum_sq / n)\n",
    "    return np.sqrt(mean_squared_error(y_true, y_pred))\n",
    "\n",
    "\n",
    "# scorer to be used in sklearn model fitting\n",
    "rmse_scorer = make_scorer(rmse, greater_is_better=False)"
   ]
  },
  {
   "cell_type": "code",
   "execution_count": 170,
   "metadata": {},
   "outputs": [
    {
     "name": "stdout",
     "output_type": "stream",
     "text": [
      "MLA Fit Time: 2.1855972051620483\n",
      "MLA Train Accuracy Mean: -11157.1513725621\n",
      "MLA Valid Accuracy Mean: -31320.95416199512\n",
      "MLA Test Accuracy 3*STD: 10128.232335061708\n"
     ]
    }
   ],
   "source": [
    "#TODO 模型堆叠、融合，单个模型通常存在过拟合问题，即只能对数据的子集有较好的预测结果，而无法拓展到全部，调整组合多个模型来优化\n",
    "cv_split = model_selection.ShuffleSplit(n_splits = 10, test_size = .2, train_size = .8, random_state = 0)\n",
    "cv_results = model_selection.cross_validate(ensemble.RandomForestRegressor(n_estimators=100), train_data, \n",
    "                                            train_target, cv=cv_split, scoring=rmse_scorer)\n",
    "\n",
    "print 'MLA Fit Time:', cv_results['fit_time'].mean()\n",
    "print 'MLA Train Accuracy Mean:', cv_results['train_score'].mean()\n",
    "print 'MLA Valid Accuracy Mean:', cv_results['test_score'].mean()\n",
    "print 'MLA Test Accuracy 3*STD:', cv_results['test_score'].std()*3"
   ]
  },
  {
   "cell_type": "code",
   "execution_count": 138,
   "metadata": {},
   "outputs": [],
   "source": [
    "train_x, valid_x, train_y, valid_y = model_selection.train_test_split(train_data, train_target, random_state = 0)\n",
    "rfr = ensemble.RandomForestRegressor(n_estimators=100).fit(train_x, train_y)\n",
    "pred_y = rfr.predict(valid_x)"
   ]
  },
  {
   "cell_type": "code",
   "execution_count": 160,
   "metadata": {},
   "outputs": [
    {
     "name": "stdout",
     "output_type": "stream",
     "text": [
      "Error Sum: 173303.42999999988\n"
     ]
    },
    {
     "data": {
      "text/plain": [
       "<matplotlib.axes._subplots.AxesSubplot at 0x7f532af40810>"
      ]
     },
     "execution_count": 160,
     "metadata": {},
     "output_type": "execute_result"
    },
    {
     "data": {
      "image/png": "[encoded data removed]",
      "text/plain": [
       "<matplotlib.figure.Figure at 0x7f532af4dc90>"
      ]
     },
     "metadata": {},
     "output_type": "display_data"
    }
   ],
   "source": [
    "print 'Error Sum:', np.sum(pred_y - valid_y)\n",
    "sns.lineplot(data=pred_y, label='pred')\n",
    "sns.lineplot(data=np.array(valid_y.to_list()), label='valid')"
   ]
  },
  {
   "cell_type": "markdown",
   "metadata": {},
   "source": [
    "# 9. Pipeline优雅的并行处理整个流程\n",
    "\n",
    "- FeatureUnion - 整体并行；\n",
    "- 自定义类集成FeatureUnion - 部分[列]并行；\n",
    "- Pipeline - 流程化；"
   ]
  },
  {
   "cell_type": "markdown",
   "metadata": {},
   "source": [
    "# 10. 持久化"
   ]
  },
  {
   "cell_type": "markdown",
   "metadata": {},
   "source": [
    "# 11. 结果输出\n",
    "\n",
    "使用上一步的Pipeline的结果构建输出文件，上传Kaggle，记录分数；\n",
    "\n",
    "- V-1.0:0.14775, Top 63%;"
   ]
  },
  {
   "cell_type": "code",
   "execution_count": 161,
   "metadata": {},
   "outputs": [],
   "source": [
    "rfr = ensemble.RandomForestRegressor(n_estimators=100).fit(train_data, train_target)\n",
    "result = rfr.predict(test_data)"
   ]
  },
  {
   "cell_type": "code",
   "execution_count": 162,
   "metadata": {},
   "outputs": [],
   "source": [
    "pd.DataFrame({'Id':list(test_id), 'SalePrice':list(result)}).to_csv('output/submission-0914.csv', index=False)"
   ]
  },
  {
   "cell_type": "markdown",
   "metadata": {},
   "source": [
    "# 12. 总结\n",
    "\n",
    "- 模型是使用离散特征还是连续特征，其实是一个“海量离散特征+简单模型” 同 “少量连续特征+复杂模型”的权衡，这也是通常很少直接输入连续特征的原因，因为对模型要求太高，比如要求模型具备自动复杂特征组合的能力，而离散化后的N个特征可以自由组合、单独权重，相当于加入了非线性的特点；\n",
    "- 组合和持久化都会涉及pickle技术，在sklearn的技术文档中有说明，将lambda定义的函数作为FunctionTransformer的自定义转换函数将不能pickle化；\n",
    "\n",
    "参考：[使用sklearn做单机特征工程](https://www.cnblogs.com/jasonfreak/p/5448385.html)，[泰坦尼克高级特征工程](https://www.kaggle.com/gunesevitan/advanced-feature-engineering-tutorial-with-titanic?scriptVersionId=13560724)，[连续特征离散化](https://blog.csdn.net/u010358304/article/details/80693541)，[Sklearn官方文档](https://scikit-learn.org/stable/index.html)"
   ]
  },
  {
   "cell_type": "code",
   "execution_count": null,
   "metadata": {},
   "outputs": [],
   "source": []
  },
  {
   "cell_type": "code",
   "execution_count": null,
   "metadata": {},
   "outputs": [],
   "source": []
  },
  {
   "cell_type": "code",
   "execution_count": null,
   "metadata": {},
   "outputs": [],
   "source": []
  },
  {
   "cell_type": "code",
   "execution_count": null,
   "metadata": {},
   "outputs": [],
   "source": []
  },
  {
   "cell_type": "markdown",
   "metadata": {},
   "source": [
    "===================================================分割线========================================================"
   ]
  },
  {
   "cell_type": "code",
   "execution_count": null,
   "metadata": {},
   "outputs": [],
   "source": []
  },
  {
   "cell_type": "code",
   "execution_count": null,
   "metadata": {},
   "outputs": [],
   "source": []
  },
  {
   "cell_type": "code",
   "execution_count": null,
   "metadata": {},
   "outputs": [],
   "source": []
  },
  {
   "cell_type": "code",
   "execution_count": null,
   "metadata": {},
   "outputs": [],
   "source": []
  },
  {
   "cell_type": "code",
   "execution_count": null,
   "metadata": {},
   "outputs": [],
   "source": []
  },
  {
   "cell_type": "markdown",
   "metadata": {},
   "source": [
    "## 3.4 Double Check Cleaned Data"
   ]
  },
  {
   "cell_type": "code",
   "execution_count": null,
   "metadata": {},
   "outputs": [],
   "source": [
    "print'All data columns with null values: \\n'+str(all_data.isnull().sum())\n",
    "print(\"-\"*100)\n",
    "print all_data.info()\n",
    "print(\"-\"*100)"
   ]
  },
  {
   "cell_type": "markdown",
   "metadata": {},
   "source": [
    "# Step 4:Visualization and FE"
   ]
  },
  {
   "cell_type": "code",
   "execution_count": null,
   "metadata": {},
   "outputs": [],
   "source": [
    "train_data, test_data = divide_df(all_data)\n",
    "print len(train_data)\n",
    "print len(test_data)"
   ]
  },
  {
   "cell_type": "markdown",
   "metadata": {},
   "source": [
    "## 4.1 Visualization\n",
    "\n",
    "\n",
    "![可视化流程](./Visualization.png)\n",
    "需要考虑下面4个问题进行可视化：\n",
    "1. 我有什么数据？\n",
    "    - 房屋销售相关数据：训练集1460条、测试集1459条；\n",
    "    - 房屋相关特征：销售相关、材料相关、地下室、车库、泳池、家私家电等，训练集多一个售价字段；\n",
    "    - 从维度上讲是很全面的，数量虽然不多，但是也足够项目本身使用；\n",
    "2. 关于数据你想了解什么？\n",
    "    - 那些数据对于预测房价起到关键作用；\n",
    "    - 字段之间的关系，是否需要组合拆分；\n",
    "    - 连续字段是否要离散化处理；\n",
    "    - 离散型字段是否要聚合分析；\n",
    "    - 是否有字段要被舍弃；\n",
    "3. 应该使用哪种可视化方式？\n",
    "    - 与目标变量的相关性分析：计算相关系数即可，连续型计算Pearson、离散有序也可以通过Pearson、离散无序可以通过信息增益比；\n",
    "        - 计算相关系数即可，不需要可视化；\n",
    "    - 字段之间关系：相关性，相关性高的进行多变量组合可视化，组合变量计算其与目标变量的相关系数，树类的模型的分裂过程其实本质上也相当于在组合变量，只不过都是二维的组合，无法拓展到更高维度，因为这一点，因此特征的组合不需要过度；\n",
    "        - 计算相关系数即可，不需要可视化；\n",
    "    - 连续特征可视化其与目标变量的关系，是否cut处理后差异更明显，另外部分树模型需要特征均为离散，因此这里也要考虑这一点；\n",
    "        - 柱形图可视化其分布情况；\n",
    "        - 散点图可视化其与目标特征的关系，观察趋势分布等；\n",
    "    - 离散特征同样可视化其与目标变量的关系，看是否需要聚合；\n",
    "        - 柱形图可视化其分布情况；\n",
    "        - 柱形图可视化其与目标特征的关系，对比各个值的情况，是否有足够大的差异可以用于区分目标；\n",
    "    - 这里后面会考虑先使用随机森林跑结果，因此丢弃特征可以只考虑被挖掘后的特征（比如qcut后的连续特征），以及分布非常倾斜的或者跟目标特征没有一点相关性的（这里要谨慎）；\n",
    "        - 柱形图可视化分布情况；\n",
    "4. 看到了什么，有什么意义？\n",
    "    - 连续特征分布可视化：多数特征分布倾斜严重，部分面积分布符合正态分布；\n",
    "    - 离散特征分布可视化：多数特征分布倾斜严重，其余偏斜居多；"
   ]
  },
  {
   "cell_type": "markdown",
   "metadata": {},
   "source": [
    "### 4.1.1 连续特征分布可视化分析\n",
    "\n",
    "连续特征可视化中，重点在于观察数据的分布形态，是否正态，是否左偏右偏等，可以看到有1stFlrSF这种接近正态分布的，有2ndFlrSF这种有一个极致，剩余的数据符合正态分布的，有3SsnProch这种几乎只有一个取值极度偏斜的，有BsmtUnfSF这种典型左偏的，几个分布很极端的可以考虑后续特征工程时不保留，直接丢弃；"
   ]
  },
  {
   "cell_type": "code",
   "execution_count": null,
   "metadata": {},
   "outputs": [],
   "source": [
    "print ContinuousFeatures"
   ]
  },
  {
   "cell_type": "code",
   "execution_count": null,
   "metadata": {},
   "outputs": [],
   "source": [
    "train_data[ContinuousFeatures].hist(bins=30, color='steelblue', edgecolor='black', linewidth=1.0,\n",
    "           xlabelsize=8, ylabelsize=8, grid=False)\n",
    "plt.tight_layout(rect=(0, 0, 1.2, 1.2))"
   ]
  },
  {
   "cell_type": "markdown",
   "metadata": {},
   "source": [
    "### 4.1.2 离散特征分布可视化分析"
   ]
  },
  {
   "cell_type": "code",
   "execution_count": null,
   "metadata": {},
   "outputs": [],
   "source": [
    "print CategoricalFeatures"
   ]
  },
  {
   "cell_type": "code",
   "execution_count": null,
   "metadata": {},
   "outputs": [],
   "source": [
    "cate_labels = [cf+'_label' for cf in CategoricalFeatures]\n",
    "tmp = train_data.copy(deep=True)\n",
    "for cf in CategoricalFeatures:\n",
    "    tmp[cf+'_label'] = le.fit_transform(tmp[cf])\n",
    "tmp[cate_labels].hist(bins=30, color='steelblue', edgecolor='black', linewidth=1.0,\n",
    "           xlabelsize=8, ylabelsize=8, grid=False)\n",
    "plt.tight_layout(rect=(0, 0, 1.2, 1.2))"
   ]
  },
  {
   "cell_type": "markdown",
   "metadata": {},
   "source": [
    "### 4.1.3 与目标变量相关性计算\n",
    "\n",
    "连续、离散中均取前10个特征进行与目标特征的可视化及分析；"
   ]
  },
  {
   "cell_type": "code",
   "execution_count": null,
   "metadata": {},
   "outputs": [],
   "source": [
    "corr_df(train_data[ContinuousFeatures+['SalePrice']], 'SalePrice', min_=0)[:10]"
   ]
  },
  {
   "cell_type": "code",
   "execution_count": null,
   "metadata": {},
   "outputs": [],
   "source": [
    "gain_df(tmp[cate_labels+['SalePrice']], 'SalePrice')[:10]"
   ]
  },
  {
   "cell_type": "markdown",
   "metadata": {},
   "source": [
    "### 4.1.4 Top10连续特征与目标特征关系可视化分析\n",
    "\n",
    "1. GrLivArea：\n",
    "2. GarageCars：\n",
    "3. GarageArea：\n",
    "4. TotalBsmtSF：\n",
    "5. 1stFlrSF：\n",
    "6. FullBath：\n",
    "7. TolRmsAbvGrd：\n",
    "8. MasVnrArea：\n",
    "9. Fireplaces：\n",
    "10. BsmtFinSF1："
   ]
  },
  {
   "cell_type": "markdown",
   "metadata": {},
   "source": [
    "#### 4.1.4.1 GrLivArea\n",
    "\n",
    "地上生活面积，与售价相关性最强的特征，可以理解，毕竟与总面积相比，地上生活面积与院子、泳池、车库等每平米价钱肯定是不同的，散点图中看，整体趋势是正相关的，存在两个异常点在右下方，即面积很大，但是售价不高的case，看到多变量分析中，增加了TotRmsAbvGrd、2ndFlrSF、FullBath后，趋势上更接近正相关；"
   ]
  },
  {
   "cell_type": "markdown",
   "metadata": {},
   "source": [
    "_ = sns.relplot(x=\"GrLivArea\", y=\"SalePrice\", data=train_data)"
   ]
  },
  {
   "cell_type": "markdown",
   "metadata": {},
   "source": [
    "_ = sns.relplot(x=\"GrLivArea\", y=\"SalePrice\", data=train_data)"
   ]
  },
  {
   "cell_type": "markdown",
   "metadata": {},
   "source": [
    "corr_df(train_data.drop('SalePrice', axis=1), 'GrLivArea', min_=0)[:3]"
   ]
  },
  {
   "cell_type": "markdown",
   "metadata": {},
   "source": [
    "train_data['TotRmsAbvGrd_group'] = train_data.TotRmsAbvGrd.apply(lambda trag:'normal' if trag<=9 else 'more')"
   ]
  },
  {
   "cell_type": "markdown",
   "metadata": {},
   "source": [
    "_ = sns.relplot(x=\"GrLivArea\", y=\"SalePrice\", col='TotRmsAbvGrd_group', hue='FullBath', size='2ndFlrSF', sizes=(10,100), data=train_data)"
   ]
  },
  {
   "cell_type": "markdown",
   "metadata": {},
   "source": [
    "### 4.1.5 Top10离散特征与目标特征关系可视化分析\n",
    "\n",
    "- 'Street_label', (0.030899269705326304, 0.8027340952425503)\n",
    "- 'YearBuilt_label', (4.693292332369521, 0.7488927774240633)\n",
    "- 'GarageYrBlt_label', (4.577512176649363, 0.7441663406989903)\n",
    "- 'SaleType_label', (0.5821581227342438, 0.7439052233794641)\n",
    "- 'Condition2_label', (0.07970893717408067, 0.7379736808443585)\n",
    "- 'ExterQual_label', (0.868712417834896, 0.7292286989531186)\n",
    "- 'Heating_label', (0.13710479607781068, 0.7218057881414142)\n",
    "- 'YearRemodAdd_label', (3.8307121785081346, 0.7173639095940105)\n",
    "- 'PoolQC_label', (0.0367771375642878, 0.7168650009445736)\n",
    "- 'RoofMatl_label', (0.11854637368093002, 0.7055569986712363)"
   ]
  },
  {
   "cell_type": "markdown",
   "metadata": {},
   "source": [
    "_, (ax1, ax2, ax3) = plt.subplots(3, 1, figsize=(15, 20))\n",
    "vc = train_data.MSSubClass.value_counts()\n",
    "sns.barplot(x=list(vc.index), y=list(vc.values), ax=ax1)\n",
    "ax1.set_title('MSSubClass Value Count')\n",
    "sns.barplot(x=\"MSSubClass\", y=\"SalePrice\", data=train_data, ax=ax2)\n",
    "ax2.set_title('MSSubClass Every Value SalePrice')\n",
    "sns.barplot(x=\"MSSubClass\", y=\"SalePrice\", hue=\"MSZoning\", data=train_data, ax=ax3)\n",
    "ax3.set_title('MSSubClass Every Value SalePrice With MSZoning')"
   ]
  },
  {
   "cell_type": "markdown",
   "metadata": {},
   "source": [
    "## 4.2 Feature Engineering\n",
    "\n",
    "- 2019-09-08:v1.0\n",
    "    - 连续特征离散化；\n",
    "    - 离散特征聚合处理；\n",
    "    - 特征LabelEncode（部分有序的手动指定数字）；\n",
    "    - 无序离散特征OneHot处理；"
   ]
  },
  {
   "cell_type": "code",
   "execution_count": null,
   "metadata": {},
   "outputs": [],
   "source": [
    "train_data.info()"
   ]
  },
  {
   "cell_type": "code",
   "execution_count": null,
   "metadata": {},
   "outputs": [],
   "source": [
    "test_data.info()"
   ]
  },
  {
   "cell_type": "markdown",
   "metadata": {},
   "source": [
    "### 4.2.1 Continuous Features"
   ]
  },
  {
   "cell_type": "code",
   "execution_count": null,
   "metadata": {},
   "outputs": [],
   "source": [
    "print ContinuousFeatures"
   ]
  },
  {
   "cell_type": "markdown",
   "metadata": {},
   "source": [
    "#### LotArea - 面积\n",
    "\n",
    "分箱处理，分为5个箱，看到结果是正相关的；"
   ]
  },
  {
   "cell_type": "code",
   "execution_count": null,
   "metadata": {},
   "outputs": [],
   "source": [
    "g = sns.relplot(x=\"LotArea\", y=\"SalePrice\", data=train_data)"
   ]
  },
  {
   "cell_type": "code",
   "execution_count": null,
   "metadata": {},
   "outputs": [],
   "source": [
    "train_data['tmp'] = pd.qcut(train_data['LotArea'], 5)\n",
    "g = sns.catplot(x=\"tmp\", y=\"SalePrice\", kind='bar', data=train_data)\n",
    "g.fig.set_figwidth(18)"
   ]
  },
  {
   "cell_type": "markdown",
   "metadata": {},
   "source": [
    "#### LotFrontage - 距离街道的直线距离\n",
    "\n",
    "分箱处理，分为10个箱，看到结果各个箱之间差异不是很明显，因为可以理解为短的距离比较方便，远的距离比较安静，但是距离远一般说明带院子，所以接近正相关；"
   ]
  },
  {
   "cell_type": "code",
   "execution_count": null,
   "metadata": {},
   "outputs": [],
   "source": [
    "g = sns.relplot(x=\"LotFrontage\", y=\"SalePrice\", data=train_data)"
   ]
  },
  {
   "cell_type": "code",
   "execution_count": null,
   "metadata": {},
   "outputs": [],
   "source": [
    "train_data['tmp'] = pd.qcut(train_data['LotFrontage'], 10, duplicates='drop')\n",
    "g = sns.catplot(x=\"tmp\", y=\"SalePrice\", kind='bar', data=train_data)\n",
    "g.fig.set_figwidth(18)"
   ]
  },
  {
   "cell_type": "markdown",
   "metadata": {},
   "source": [
    "#### MasVnrArea - 地砖面积\n",
    "\n",
    "分箱处理，分10个，注意去重后只剩5个；"
   ]
  },
  {
   "cell_type": "code",
   "execution_count": null,
   "metadata": {},
   "outputs": [],
   "source": [
    "g = sns.relplot(x=\"MasVnrArea\", y=\"SalePrice\", data=train_data)"
   ]
  },
  {
   "cell_type": "code",
   "execution_count": null,
   "metadata": {},
   "outputs": [],
   "source": [
    "train_data['tmp'] = pd.qcut(train_data['MasVnrArea'], 10, duplicates='drop')\n",
    "g = sns.catplot(x=\"tmp\", y=\"SalePrice\", kind='bar', data=train_data)\n",
    "g.fig.set_figwidth(18)"
   ]
  },
  {
   "cell_type": "markdown",
   "metadata": {},
   "source": [
    "#### BsmtFinSF1 - 地下室完成面积1\n",
    "\n",
    "分10个箱，看到806是分界线，手动按照800划分，这里使用按照800划分的方式，差异更明显；"
   ]
  },
  {
   "cell_type": "code",
   "execution_count": null,
   "metadata": {},
   "outputs": [],
   "source": [
    "g = sns.relplot(x=\"BsmtFinSF1\", y=\"SalePrice\", data=train_data)"
   ]
  },
  {
   "cell_type": "code",
   "execution_count": null,
   "metadata": {},
   "outputs": [],
   "source": [
    "train_data['tmp'] = pd.qcut(train_data['BsmtFinSF1'], 10, duplicates='drop')\n",
    "g = sns.catplot(x=\"tmp\", y=\"SalePrice\", kind='bar', data=train_data)\n",
    "g.fig.set_figwidth(18)"
   ]
  },
  {
   "cell_type": "code",
   "execution_count": null,
   "metadata": {},
   "outputs": [],
   "source": [
    "train_data['tmp'] = train_data.BsmtFinSF1.apply(lambda sf1:'small' if sf1<=800 else 'big')\n",
    "g = sns.catplot(x=\"tmp\", y=\"SalePrice\", kind='bar', data=train_data)\n",
    "g.fig.set_figwidth(18)"
   ]
  },
  {
   "cell_type": "markdown",
   "metadata": {},
   "source": [
    "#### BsmtFinSF2 - 地下室完成面积2\n",
    "\n",
    "很多数据中看该特征均为0，且为0的情况下，依然存在各个价位，因此该特征不具备太多解释性，分箱中看到基本没有差异，因此直接该特征被丢弃；"
   ]
  },
  {
   "cell_type": "code",
   "execution_count": null,
   "metadata": {},
   "outputs": [],
   "source": [
    "g = sns.relplot(x=\"BsmtFinSF2\", y=\"SalePrice\", data=train_data)"
   ]
  },
  {
   "cell_type": "code",
   "execution_count": null,
   "metadata": {},
   "outputs": [],
   "source": [
    "train_data['tmp'] = pd.qcut(train_data['BsmtFinSF2'], 10, duplicates='drop')\n",
    "g = sns.catplot(x=\"tmp\", y=\"SalePrice\", kind='bar', data=train_data)\n",
    "g.fig.set_figwidth(18)"
   ]
  },
  {
   "cell_type": "markdown",
   "metadata": {},
   "source": [
    "#### BsmtUnfSF - 地下室未完成面积\n",
    "\n",
    "关系图上看，基本没有明显趋势，分箱上看不具备一致的相关性，挖掘其是否地下室完成字段，可以看到还是有明显差异的，未完工的地下室对应售价更高，因此使用该字段；"
   ]
  },
  {
   "cell_type": "code",
   "execution_count": null,
   "metadata": {},
   "outputs": [],
   "source": [
    "g = sns.relplot(x=\"BsmtUnfSF\", y=\"SalePrice\", data=train_data)"
   ]
  },
  {
   "cell_type": "code",
   "execution_count": null,
   "metadata": {},
   "outputs": [],
   "source": [
    "train_data['tmp'] = pd.qcut(train_data['BsmtUnfSF'], 10, duplicates='drop')\n",
    "g = sns.catplot(x=\"tmp\", y=\"SalePrice\", kind='bar', data=train_data)\n",
    "g.fig.set_figwidth(18)"
   ]
  },
  {
   "cell_type": "code",
   "execution_count": null,
   "metadata": {},
   "outputs": [],
   "source": [
    "train_data['tmp'] = train_data.BsmtUnfSF.apply(lambda unf:'finish' if unf<=0 else 'unfinish')\n",
    "g = sns.catplot(x=\"tmp\", y=\"SalePrice\", kind='bar', data=train_data)\n",
    "g.fig.set_figwidth(18)"
   ]
  },
  {
   "cell_type": "markdown",
   "metadata": {},
   "source": [
    "#### TotalBsmtSF - 地下室总面积\n",
    "\n",
    "关系图上看有明显正相关，箱行图上看正相关的趋势更加明显，分箱5，看到一致的正相关趋势；"
   ]
  },
  {
   "cell_type": "code",
   "execution_count": null,
   "metadata": {},
   "outputs": [],
   "source": [
    "g = sns.relplot(x=\"TotalBsmtSF\", y=\"SalePrice\", data=train_data)"
   ]
  },
  {
   "cell_type": "code",
   "execution_count": null,
   "metadata": {},
   "outputs": [],
   "source": [
    "train_data['tmp'] = pd.qcut(train_data['TotalBsmtSF'], 5, duplicates='drop')\n",
    "g = sns.catplot(x=\"tmp\", y=\"SalePrice\", kind='bar', data=train_data)\n",
    "g.fig.set_figwidth(18)"
   ]
  },
  {
   "cell_type": "markdown",
   "metadata": {},
   "source": [
    "#### 1stFlrSF - 1楼面积\n",
    "\n",
    "关系图上看非常明显的正相关，带有个别异常值，箱行图上看分箱5个，趋势明显，做分箱处理；"
   ]
  },
  {
   "cell_type": "code",
   "execution_count": null,
   "metadata": {},
   "outputs": [],
   "source": [
    "g = sns.relplot(x=\"1stFlrSF\", y=\"SalePrice\", data=train_data)"
   ]
  },
  {
   "cell_type": "code",
   "execution_count": null,
   "metadata": {},
   "outputs": [],
   "source": [
    "train_data['tmp'] = pd.qcut(train_data['1stFlrSF'], 5, duplicates='drop')\n",
    "g = sns.catplot(x=\"tmp\", y=\"SalePrice\", kind='bar', data=train_data)\n",
    "g.fig.set_figwidth(18)"
   ]
  },
  {
   "cell_type": "markdown",
   "metadata": {},
   "source": [
    "#### 2ndFlrSF - 二楼面积\n",
    "\n",
    "关系图上看相当一部分没有二楼，其余数据有一定正相关性，箱行图上看去掉没有二楼的数据后，数据呈现正相关趋势，手动进行分段处理后差异明显；"
   ]
  },
  {
   "cell_type": "code",
   "execution_count": null,
   "metadata": {},
   "outputs": [],
   "source": [
    "g = sns.relplot(x=\"2ndFlrSF\", y=\"SalePrice\", data=train_data)"
   ]
  },
  {
   "cell_type": "code",
   "execution_count": null,
   "metadata": {},
   "outputs": [],
   "source": [
    "train_data['tmp'] = pd.qcut(train_data['2ndFlrSF'], 15, duplicates='drop')\n",
    "g = sns.catplot(x=\"tmp\", y=\"SalePrice\", kind='bar', data=train_data)\n",
    "g.fig.set_figwidth(18)"
   ]
  },
  {
   "cell_type": "code",
   "execution_count": null,
   "metadata": {},
   "outputs": [],
   "source": [
    "train_data['tmp'] = pd.qcut(train_data['2ndFlrSF'], 15, duplicates='drop')\n",
    "g = sns.catplot(x=\"tmp\", y=\"SalePrice\", kind='bar', data=train_data[train_data['2ndFlrSF']>0])\n",
    "g.fig.set_figwidth(18)"
   ]
  },
  {
   "cell_type": "code",
   "execution_count": null,
   "metadata": {},
   "outputs": [],
   "source": [
    "train_data['tmp'] = train_data['2ndFlrSF'].apply(lambda flrsf2:0 if flrsf2<=0 else (1 if flrsf2<=500 else (2 if flrsf2<=800 else (3 if flrsf2<=1000 else 4))))\n",
    "g = sns.catplot(x=\"tmp\", y=\"SalePrice\", kind='bar', data=train_data)\n",
    "g.fig.set_figwidth(18)"
   ]
  },
  {
   "cell_type": "markdown",
   "metadata": {},
   "source": [
    "#### LowQualFinSF - 低质量部分面积\n",
    "\n",
    "绝大部分都为0，少部分不为0的也没有相关关系存在，看是否为0有一定差异，该特征二值化处理；"
   ]
  },
  {
   "cell_type": "code",
   "execution_count": null,
   "metadata": {},
   "outputs": [],
   "source": [
    "g = sns.relplot(x=\"LowQualFinSF\", y=\"SalePrice\", data=train_data)"
   ]
  },
  {
   "cell_type": "code",
   "execution_count": null,
   "metadata": {},
   "outputs": [],
   "source": [
    "train_data['tmp'] = train_data.LowQualFinSF.apply(lambda lowsf:0 if lowsf<=0 else 1)\n",
    "g = sns.catplot(x=\"tmp\", y=\"SalePrice\", kind='bar', data=train_data)\n",
    "g.fig.set_figwidth(18)"
   ]
  },
  {
   "cell_type": "markdown",
   "metadata": {},
   "source": [
    "#### GrLivArea - 地上生活区面积\n",
    "\n",
    "关系图上看，与售价的正相关很强，分箱后明显的上升趋势，分10个箱处理；"
   ]
  },
  {
   "cell_type": "code",
   "execution_count": null,
   "metadata": {},
   "outputs": [],
   "source": [
    "g = sns.relplot(x=\"GrLivArea\", y=\"SalePrice\", data=train_data)"
   ]
  },
  {
   "cell_type": "code",
   "execution_count": null,
   "metadata": {},
   "outputs": [],
   "source": [
    "train_data['tmp'] = pd.qcut(train_data['GrLivArea'], 10, duplicates='drop')\n",
    "g = sns.catplot(x=\"tmp\", y=\"SalePrice\", kind='bar', data=train_data)\n",
    "g.fig.set_figwidth(18)"
   ]
  },
  {
   "cell_type": "markdown",
   "metadata": {},
   "source": [
    "#### BsmtFullBath - 地下室全浴室个数\n",
    "\n",
    "虽然也是连续特征，但是指的是个数，个数之间是否存在倍数关系不好说，因此这个特征其实作为离散特征分析也是可以的，相关图上看不出趋势规则，柱形图上看有差异，不明显，构建是否有地下室全浴室字段看，差异在30000左右；"
   ]
  },
  {
   "cell_type": "code",
   "execution_count": null,
   "metadata": {},
   "outputs": [],
   "source": [
    "g = sns.relplot(x=\"BsmtFullBath\", y=\"SalePrice\", data=train_data)"
   ]
  },
  {
   "cell_type": "code",
   "execution_count": null,
   "metadata": {},
   "outputs": [],
   "source": [
    "#train_data['tmp'] = pd.qcut(train_data['1stFlrSF'], 5, duplicates='drop')\n",
    "g = sns.catplot(x=\"BsmtFullBath\", y=\"SalePrice\", kind='bar', data=train_data)\n",
    "g.fig.set_figwidth(18)"
   ]
  },
  {
   "cell_type": "code",
   "execution_count": null,
   "metadata": {},
   "outputs": [],
   "source": [
    "train_data['tmp'] = train_data.BsmtFullBath.apply(lambda fb:0 if fb<=0 else 1)\n",
    "g = sns.catplot(x=\"tmp\", y=\"SalePrice\", kind='bar', data=train_data)\n",
    "g.fig.set_figwidth(18)"
   ]
  },
  {
   "cell_type": "markdown",
   "metadata": {},
   "source": [
    "#### BsmtHalfBath - 地下室半浴室个数\n",
    "\n",
    "相关图上看不出明显关系，且存在离群点，柱形图上看也是基本没差异，因此丢弃该特征；"
   ]
  },
  {
   "cell_type": "code",
   "execution_count": null,
   "metadata": {},
   "outputs": [],
   "source": [
    "g = sns.relplot(x=\"BsmtHalfBath\", y=\"SalePrice\", data=train_data)"
   ]
  },
  {
   "cell_type": "code",
   "execution_count": null,
   "metadata": {},
   "outputs": [],
   "source": [
    "#train_data['tmp'] = pd.qcut(train_data['1stFlrSF'], 5, duplicates='drop')\n",
    "g = sns.catplot(x=\"BsmtHalfBath\", y=\"SalePrice\", kind='bar', data=train_data)\n",
    "g.fig.set_figwidth(18)"
   ]
  },
  {
   "cell_type": "markdown",
   "metadata": {},
   "source": [
    "#### FullBath - 全浴室个数，不包括地下\n",
    "\n",
    "相关图上看具有一定的正相关关系，直接看柱形图发现0大于1,2大于1，3大于2，聚合0,1得到有一个或者没有全浴室，2,3有多个全浴室，看到差异明显，再看跟地下室全浴室相加后的柱形图趋势有反复，没有明确的正负相关关系，采用是否多个全浴室字段；"
   ]
  },
  {
   "cell_type": "code",
   "execution_count": null,
   "metadata": {},
   "outputs": [],
   "source": [
    "g = sns.relplot(x=\"FullBath\", y=\"SalePrice\", data=train_data)"
   ]
  },
  {
   "cell_type": "code",
   "execution_count": null,
   "metadata": {},
   "outputs": [],
   "source": [
    "g = sns.catplot(x=\"FullBath\", y=\"SalePrice\", kind='bar', data=train_data)\n",
    "g.fig.set_figwidth(18)"
   ]
  },
  {
   "cell_type": "code",
   "execution_count": null,
   "metadata": {},
   "outputs": [],
   "source": [
    "train_data['tmp'] = train_data.FullBath.apply(lambda fb:'one' if fb<=1 else 'more')\n",
    "g = sns.catplot(x=\"tmp\", y=\"SalePrice\", kind='bar', data=train_data)\n",
    "g.fig.set_figwidth(18)"
   ]
  },
  {
   "cell_type": "code",
   "execution_count": null,
   "metadata": {},
   "outputs": [],
   "source": [
    "train_data['tmp'] = train_data.FullBath+train_data.BsmtFullBath\n",
    "g = sns.catplot(x=\"tmp\", y=\"SalePrice\", kind='bar', data=train_data)\n",
    "g.fig.set_figwidth(18)"
   ]
  },
  {
   "cell_type": "markdown",
   "metadata": {},
   "source": [
    "#### HalfBath - 半浴室，不包括地下\n",
    "\n",
    "相关图上看，每个数值对应的售价分布都很广泛且相互覆盖，不具备足够的差异以划分数据集，构建是否有一个半浴室字段，差异较明显，保留；"
   ]
  },
  {
   "cell_type": "code",
   "execution_count": null,
   "metadata": {},
   "outputs": [],
   "source": [
    "g = sns.relplot(x=\"HalfBath\", y=\"SalePrice\", data=train_data)"
   ]
  },
  {
   "cell_type": "code",
   "execution_count": null,
   "metadata": {},
   "outputs": [],
   "source": [
    "g = sns.catplot(x=\"HalfBath\", y=\"SalePrice\", kind='bar', data=train_data)\n",
    "g.fig.set_figwidth(18)"
   ]
  },
  {
   "cell_type": "code",
   "execution_count": null,
   "metadata": {},
   "outputs": [],
   "source": [
    "train_data['tmp'] = train_data.HalfBath.apply(lambda fb:0 if fb==1 else 1)\n",
    "g = sns.catplot(x=\"tmp\", y=\"SalePrice\", kind='bar', data=train_data)\n",
    "g.fig.set_figwidth(18)"
   ]
  },
  {
   "cell_type": "markdown",
   "metadata": {},
   "source": [
    "#### BedroomAbvGr - 地上卧室个数\n",
    "\n",
    "售价并没有随着卧室个数的增加而持续增加，相反在大于等于5个卧室的情况下，反而售价都在350000以下；"
   ]
  },
  {
   "cell_type": "code",
   "execution_count": null,
   "metadata": {},
   "outputs": [],
   "source": [
    "g = sns.relplot(x=\"BedroomAbvGr\", y=\"SalePrice\", data=train_data)"
   ]
  },
  {
   "cell_type": "code",
   "execution_count": null,
   "metadata": {},
   "outputs": [],
   "source": [
    "g = sns.catplot(x=\"BedroomAbvGr\", y=\"SalePrice\", kind='bar', data=train_data)\n",
    "g.fig.set_figwidth(18)"
   ]
  },
  {
   "cell_type": "markdown",
   "metadata": {},
   "source": [
    "#### KitchenAbvGr - 地上厨房个数\n",
    "\n",
    "构建有且仅有一个厨房特征；"
   ]
  },
  {
   "cell_type": "code",
   "execution_count": null,
   "metadata": {},
   "outputs": [],
   "source": [
    "g = sns.relplot(x=\"KitchenAbvGr\", y=\"SalePrice\", data=train_data)"
   ]
  },
  {
   "cell_type": "code",
   "execution_count": null,
   "metadata": {},
   "outputs": [],
   "source": [
    "g = sns.catplot(x=\"KitchenAbvGr\", y=\"SalePrice\", kind='bar', data=train_data)\n",
    "g.fig.set_figwidth(18)"
   ]
  },
  {
   "cell_type": "code",
   "execution_count": null,
   "metadata": {},
   "outputs": [],
   "source": [
    "train_data['tmp'] = train_data.KitchenAbvGr.apply(lambda fb:0 if fb==1 else 1)\n",
    "g = sns.catplot(x=\"tmp\", y=\"SalePrice\", kind='bar', data=train_data)\n",
    "g.fig.set_figwidth(18)"
   ]
  },
  {
   "cell_type": "markdown",
   "metadata": {},
   "source": [
    "#### TotRmsAbvGrd - 地上房间个数，不包括卧室\n",
    "\n",
    "相关图上看有一定的正相关关系，柱形图上看峰值在11，之后12和13都有下降（可能跟格局有关，过于多的房间个数，在格局上不受欢迎）；"
   ]
  },
  {
   "cell_type": "code",
   "execution_count": null,
   "metadata": {},
   "outputs": [],
   "source": [
    "g = sns.relplot(x=\"TotRmsAbvGrd\", y=\"SalePrice\", data=train_data)"
   ]
  },
  {
   "cell_type": "code",
   "execution_count": null,
   "metadata": {},
   "outputs": [],
   "source": [
    "g = sns.catplot(x=\"TotRmsAbvGrd\", y=\"SalePrice\", kind='bar', data=train_data)\n",
    "g.fig.set_figwidth(18)"
   ]
  },
  {
   "cell_type": "markdown",
   "metadata": {},
   "source": [
    "#### Fireplaces - 壁炉个数\n",
    "\n",
    "相关图上看，没有壁炉的情况售价在350000内，有壁炉的售价分布就比较广泛，或者说售价高的房子都是有壁炉的，可能是1个2个3个，但是肯定都有，因此构建一个是否有壁炉的特征；"
   ]
  },
  {
   "cell_type": "code",
   "execution_count": null,
   "metadata": {},
   "outputs": [],
   "source": [
    "g = sns.relplot(x=\"Fireplaces\", y=\"SalePrice\", data=train_data)"
   ]
  },
  {
   "cell_type": "code",
   "execution_count": null,
   "metadata": {},
   "outputs": [],
   "source": [
    "train_data['tmp'] = train_data.Fireplaces.apply(lambda fps:0 if fps<=0 else 1)\n",
    "g = sns.catplot(x=\"tmp\", y=\"SalePrice\", kind='bar', data=train_data)\n",
    "g.fig.set_figwidth(18)"
   ]
  },
  {
   "cell_type": "markdown",
   "metadata": {},
   "source": [
    "#### GarageCars - 车库可以停放多少辆车\n",
    "\n",
    "看到明显的正相关，这里主要跟车库面积有关，而面积基本都是正相关的，比较特别的是值为4的情况下，售价反而不高"
   ]
  },
  {
   "cell_type": "code",
   "execution_count": null,
   "metadata": {},
   "outputs": [],
   "source": [
    "g = sns.relplot(x=\"GarageCars\", y=\"SalePrice\", data=train_data)"
   ]
  },
  {
   "cell_type": "code",
   "execution_count": null,
   "metadata": {},
   "outputs": [],
   "source": [
    "g = sns.catplot(x=\"GarageCars\", y=\"SalePrice\", kind='bar', data=train_data)\n",
    "g.fig.set_figwidth(18)"
   ]
  },
  {
   "cell_type": "markdown",
   "metadata": {},
   "source": [
    "#### GarageArea - 车库面积\n",
    "\n",
    "明显正相关，存在离群异常点，qcut处理来弥补，柱形图上看分箱5处理，头尾差异明显；"
   ]
  },
  {
   "cell_type": "code",
   "execution_count": null,
   "metadata": {},
   "outputs": [],
   "source": [
    "g = sns.relplot(x=\"GarageArea\", y=\"SalePrice\", data=train_data)"
   ]
  },
  {
   "cell_type": "code",
   "execution_count": null,
   "metadata": {},
   "outputs": [],
   "source": [
    "train_data['tmp'] = pd.qcut(train_data.GarageArea, 5, duplicates='drop')\n",
    "g = sns.catplot(x=\"tmp\", y=\"SalePrice\", kind='bar', data=train_data)\n",
    "g.fig.set_figwidth(18)"
   ]
  },
  {
   "cell_type": "markdown",
   "metadata": {},
   "source": [
    "#### WoodDeckSF - 木地板面积\n",
    "\n",
    "相关图上看，相当一部分数据没有木地板，其他数据有一定的正相关，分箱后的柱形图上依然看不出，构建一个是否有木地板特征看到存在一定的差异；"
   ]
  },
  {
   "cell_type": "code",
   "execution_count": null,
   "metadata": {},
   "outputs": [],
   "source": [
    "g = sns.relplot(x=\"WoodDeckSF\", y=\"SalePrice\", data=train_data)"
   ]
  },
  {
   "cell_type": "code",
   "execution_count": null,
   "metadata": {},
   "outputs": [],
   "source": [
    "train_data['tmp'] = pd.qcut(train_data.WoodDeckSF, 10, duplicates='drop')\n",
    "g = sns.catplot(x=\"tmp\", y=\"SalePrice\", kind='bar', data=train_data)\n",
    "g.fig.set_figwidth(18)"
   ]
  },
  {
   "cell_type": "code",
   "execution_count": null,
   "metadata": {},
   "outputs": [],
   "source": [
    "train_data['tmp'] = train_data.WoodDeckSF.apply(lambda wdsf:0 if wdsf <=0 else 1)\n",
    "g = sns.catplot(x=\"tmp\", y=\"SalePrice\", kind='bar', data=train_data)\n",
    "g.fig.set_figwidth(18)"
   ]
  },
  {
   "cell_type": "markdown",
   "metadata": {},
   "source": [
    "#### OpenPorchSF - 开放式门廊面积\n",
    "\n",
    "情况跟木地板面积类型，构建是否有开放式门廊特征；"
   ]
  },
  {
   "cell_type": "code",
   "execution_count": null,
   "metadata": {},
   "outputs": [],
   "source": [
    "g = sns.relplot(x=\"OpenPorchSF\", y=\"SalePrice\", data=train_data)"
   ]
  },
  {
   "cell_type": "code",
   "execution_count": null,
   "metadata": {},
   "outputs": [],
   "source": [
    "train_data['tmp'] = train_data.OpenPorchSF.apply(lambda opsf:0 if opsf<=0 else 1)\n",
    "g = sns.catplot(x=\"tmp\", y=\"SalePrice\", kind='bar', data=train_data)\n",
    "g.fig.set_figwidth(18)"
   ]
  },
  {
   "cell_type": "markdown",
   "metadata": {},
   "source": [
    "#### EnclosedPorch - 围挡走廊面积\n",
    "\n",
    "情况跟木地板面积类型，构建是否有围挡门廊特征；"
   ]
  },
  {
   "cell_type": "code",
   "execution_count": null,
   "metadata": {},
   "outputs": [],
   "source": [
    "g = sns.relplot(x=\"EnclosedPorch\", y=\"SalePrice\", data=train_data)"
   ]
  },
  {
   "cell_type": "code",
   "execution_count": null,
   "metadata": {},
   "outputs": [],
   "source": [
    "train_data['tmp'] = train_data.EnclosedPorch.apply(lambda opsf:0 if opsf<=0 else 1)\n",
    "g = sns.catplot(x=\"tmp\", y=\"SalePrice\", kind='bar', data=train_data)\n",
    "g.fig.set_figwidth(18)"
   ]
  },
  {
   "cell_type": "markdown",
   "metadata": {},
   "source": [
    "#### 3SsnPorch - 三季围廊面积\n",
    "\n",
    "情况跟木地板面积类型，构建是否有三季门廊特征；"
   ]
  },
  {
   "cell_type": "code",
   "execution_count": null,
   "metadata": {},
   "outputs": [],
   "source": [
    "g = sns.relplot(x=\"3SsnPorch\", y=\"SalePrice\", data=train_data)"
   ]
  },
  {
   "cell_type": "code",
   "execution_count": null,
   "metadata": {},
   "outputs": [],
   "source": [
    "train_data['tmp'] = train_data['3SsnPorch'].apply(lambda opsf:0 if opsf<=0 else 1)\n",
    "g = sns.catplot(x=\"tmp\", y=\"SalePrice\", kind='bar', data=train_data)\n",
    "g.fig.set_figwidth(18)"
   ]
  },
  {
   "cell_type": "markdown",
   "metadata": {},
   "source": [
    "#### ScreenPorch - 屏风廊面积\n",
    "\n",
    "情况跟木地板面积类型，构建是否有屏风门廊特征；"
   ]
  },
  {
   "cell_type": "code",
   "execution_count": null,
   "metadata": {},
   "outputs": [],
   "source": [
    "g = sns.relplot(x=\"ScreenPorch\", y=\"SalePrice\", data=train_data)"
   ]
  },
  {
   "cell_type": "code",
   "execution_count": null,
   "metadata": {},
   "outputs": [],
   "source": [
    "train_data['tmp'] = train_data.ScreenPorch.apply(lambda opsf:0 if opsf<=0 else 1)\n",
    "g = sns.catplot(x=\"tmp\", y=\"SalePrice\", kind='bar', data=train_data)\n",
    "g.fig.set_figwidth(18)"
   ]
  },
  {
   "cell_type": "markdown",
   "metadata": {},
   "source": [
    "#### PoolArea - 泳池面积\n",
    "\n",
    "基本所有数据都没有泳池，极少数有，也不存在相关性，构建是否有泳池特征；"
   ]
  },
  {
   "cell_type": "code",
   "execution_count": null,
   "metadata": {},
   "outputs": [],
   "source": [
    "g = sns.relplot(x=\"PoolArea\", y=\"SalePrice\", data=train_data)"
   ]
  },
  {
   "cell_type": "code",
   "execution_count": null,
   "metadata": {},
   "outputs": [],
   "source": [
    "train_data['tmp'] = train_data.PoolArea.apply(lambda opsf:0 if opsf<=0 else 1)\n",
    "g = sns.catplot(x=\"tmp\", y=\"SalePrice\", kind='bar', data=train_data)\n",
    "g.fig.set_figwidth(18)"
   ]
  },
  {
   "cell_type": "markdown",
   "metadata": {},
   "source": [
    "#### MiscVal - 杂项价值\n",
    "\n",
    "很直接的特征，可惜大部分数据杂项都为0，构建是否有杂项特征，可以看到该特征差异依然不大，考虑是否需要保留；"
   ]
  },
  {
   "cell_type": "code",
   "execution_count": null,
   "metadata": {},
   "outputs": [],
   "source": [
    "g = sns.relplot(x=\"MiscVal\", y=\"SalePrice\", data=train_data)"
   ]
  },
  {
   "cell_type": "code",
   "execution_count": null,
   "metadata": {},
   "outputs": [],
   "source": [
    "train_data['tmp'] = train_data.MiscVal.apply(lambda mv:0 if mv<=0 else 1)\n",
    "g = sns.catplot(x=\"tmp\", y=\"SalePrice\", kind='bar', data=train_data)\n",
    "g.fig.set_figwidth(18)"
   ]
  },
  {
   "cell_type": "markdown",
   "metadata": {},
   "source": [
    "### 4.2.2 Categorical Features"
   ]
  },
  {
   "cell_type": "code",
   "execution_count": null,
   "metadata": {},
   "outputs": [],
   "source": [
    "print CategoricalFeatures"
   ]
  },
  {
   "cell_type": "markdown",
   "metadata": {},
   "source": [
    "#### MSSubClass - 房屋类型（风格）\n",
    "\n",
    "- 20\t1-STORY 1946 & NEWER ALL STYLES\n",
    "- 30\t1-STORY 1945 & OLDER\n",
    "- 40\t1-STORY W/FINISHED ATTIC ALL AGES\n",
    "- 45\t1-1/2 STORY - UNFINISHED ALL AGES\n",
    "- 50\t1-1/2 STORY FINISHED ALL AGES\n",
    "- 60\t2-STORY 1946 & NEWER\n",
    "- 70\t2-STORY 1945 & OLDER\n",
    "- 75\t2-1/2 STORY ALL AGES\n",
    "- 80\tSPLIT OR MULTI-LEVEL\n",
    "- 85\tSPLIT FOYER\n",
    "- 90\tDUPLEX - ALL STYLES AND AGES\n",
    "- 120\t1-STORY PUD (Planned Unit Development) - 1946 & NEWER\n",
    "- 150\t1-1/2 STORY PUD - ALL AGES\n",
    "- 160\t2-STORY PUD - 1946 & NEWER\n",
    "- 180\tPUD - MULTILEVEL - INCL SPLIT LEV/FOYER\n",
    "- 190\t2 FAMILY CONVERSION - ALL STYLES AND AGES\n",
    "\n",
    "按照前缀划分：\n",
    "- 1-STORY:20,30,40,120,\n",
    "- 1-1/2 STORY:45,50,150,\n",
    "- 2-STORY:60,70,160,\n",
    "- 2-1/2 STORY:75,\n",
    "- SPLIT:80,85,\n",
    "- DUPLEX:90,\n",
    "- PUD:180,\n",
    "- 2 FAMILY:190,\n",
    "\n",
    "柱形图上看，各个风格对应售价差异明显，按前缀划分后差异没有更加明显，因此不做该处理，该特征保持原样；"
   ]
  },
  {
   "cell_type": "code",
   "execution_count": null,
   "metadata": {},
   "outputs": [],
   "source": [
    "g = sns.catplot(x=\"MSSubClass\", y=\"SalePrice\", data=train_data, saturation=.5, kind=\"bar\", aspect=.6)\n",
    "g.fig.set_figwidth(18)"
   ]
  },
  {
   "cell_type": "markdown",
   "metadata": {},
   "source": [
    "style1 = [20,30,40,120]\n",
    "style2 = [45,50,150]\n",
    "style3 = [60,70,160]\n",
    "style4 = [75]\n",
    "style5 = [85]\n",
    "style6 = [90]\n",
    "style7 = [180]\n",
    "style8 = [190]\n",
    "train_data['tmp'] = train_data.MSSubClass.apply(lambda msc:1 if msc in style1 else (2 if msc in style2 else(3 if msc in style3 else(4 if msc in style4 else(5 if msc in style5 else(6 if msc in style6 else(7 if msc in style7 else(8 if msc in style8 else 9))))))))\n",
    "g = sns.catplot(x=\"tmp\", y=\"SalePrice\", data=train_data, saturation=.5, kind=\"bar\", aspect=.6)\n",
    "g.fig.set_figwidth(18)"
   ]
  },
  {
   "cell_type": "markdown",
   "metadata": {},
   "source": [
    "#### LotShape - 房屋户型形状，LotConfig - 所处街角位置\n",
    "\n",
    "单独看两个特征差异都不明显，组合看到差异是较为明显的；"
   ]
  },
  {
   "cell_type": "code",
   "execution_count": null,
   "metadata": {},
   "outputs": [],
   "source": [
    "g = sns.catplot(x=\"LotShape\", y=\"SalePrice\", data=train_data, saturation=.5, kind=\"bar\", aspect=.6)\n",
    "g.fig.set_figwidth(18)"
   ]
  },
  {
   "cell_type": "code",
   "execution_count": null,
   "metadata": {},
   "outputs": [],
   "source": [
    "g = sns.catplot(x=\"LotConfig\", y=\"SalePrice\", data=train_data, saturation=.5, kind=\"bar\", aspect=.6)\n",
    "g.fig.set_figwidth(18)"
   ]
  },
  {
   "cell_type": "code",
   "execution_count": null,
   "metadata": {},
   "outputs": [],
   "source": [
    "train_data['tmp'] = train_data.LotShape + train_data.LotConfig\n",
    "g = sns.catplot(x=\"tmp\", y=\"SalePrice\", data=train_data, saturation=.5, kind=\"bar\", aspect=.6)\n",
    "g.fig.set_figwidth(18)"
   ]
  },
  {
   "cell_type": "markdown",
   "metadata": {},
   "source": [
    "#### Street - 街道是Grvl砾石还是铺砌Pave\n",
    "\n",
    "因为只有两个取值，因此直接二值化即可；"
   ]
  },
  {
   "cell_type": "code",
   "execution_count": null,
   "metadata": {},
   "outputs": [],
   "source": [
    "g = sns.catplot(x=\"Street\", y=\"SalePrice\", data=train_data, saturation=.5, kind=\"bar\", aspect=.6)\n",
    "g.fig.set_figwidth(18)"
   ]
  },
  {
   "cell_type": "markdown",
   "metadata": {},
   "source": [
    "#### Alley - 通向房屋的小巷子类型：Grvl砾石还是铺砌Pave或者没有\n",
    "\n",
    "差异明显，则不进行处理，后续OneHot即可；"
   ]
  },
  {
   "cell_type": "code",
   "execution_count": null,
   "metadata": {},
   "outputs": [],
   "source": [
    "g = sns.catplot(x=\"Alley\", y=\"SalePrice\", data=train_data, saturation=.5, kind=\"bar\", aspect=.6)\n",
    "g.fig.set_figwidth(18)"
   ]
  },
  {
   "cell_type": "markdown",
   "metadata": {},
   "source": [
    "#### LandContour - 地面平整程度，LandSlope - 地面坡度\n",
    "\n",
    "组合分析看到，不同的地面平整类型下对应不同坡度与售价的关系是不同的，例如Bnk下坡度对售价基本无影响，而Low下是上升，HLS是下降，Lvl是中间突出，组合两个特征关系图看到差异明显，因此使用组合两个特征；"
   ]
  },
  {
   "cell_type": "code",
   "execution_count": null,
   "metadata": {},
   "outputs": [],
   "source": [
    "g = sns.catplot(x=\"LandSlope\", y=\"SalePrice\", col='LandContour', data=train_data, saturation=.5, kind=\"bar\", aspect=.6)\n",
    "g.fig.set_figwidth(18)"
   ]
  },
  {
   "cell_type": "code",
   "execution_count": null,
   "metadata": {},
   "outputs": [],
   "source": [
    "train_data['tmp'] = train_data.LandContour + train_data.LandSlope\n",
    "g = sns.catplot(x=\"tmp\", y=\"SalePrice\", data=train_data, saturation=.5, kind=\"bar\", aspect=.6)\n",
    "g.fig.set_figwidth(18)"
   ]
  },
  {
   "cell_type": "markdown",
   "metadata": {},
   "source": [
    "#### Utilities - 可用公共设施，应该是随着可用的增加正相关的\n",
    "\n",
    "这里只看训练数据看到是正相关的，因此考虑测试数据应该也符合这个特点，因此不处理该特征，作为有序离散映射后不做OneHot；"
   ]
  },
  {
   "cell_type": "code",
   "execution_count": null,
   "metadata": {},
   "outputs": [],
   "source": [
    "g = sns.catplot(x=\"Utilities\", y=\"SalePrice\", data=train_data, saturation=.5, kind=\"bar\", aspect=.6)\n",
    "g.fig.set_figwidth(18)"
   ]
  },
  {
   "cell_type": "markdown",
   "metadata": {},
   "source": [
    "#### Neighborhood - 社区\n",
    "\n",
    "埃姆斯市，是爱荷华州的第八大城市，在爱荷华州州府得梅因北部约30公里处，2018年预计居住有67154人，是爱荷华州立大学和美国能源部埃姆斯实验室坐落的地方。埃姆斯市无论在生活和工作环境上都在美国小型城市中名列前茅，拥有全美治安良好城市的美称。这里居民和善，安居乐业，平均个人所得高，社会安全问题不多，整座城市艺术气息浓厚、活力充沛。距离堪萨斯城，奥马哈及芝加哥有半天路程。埃姆斯以小镇氛围并且接近大多数娱乐设施而闻名, 所有设施和费用，价廉物美；\n",
    "\n",
    "比较重要，且存在挖掘的可能，需要对实际情况有所了解，当前先从基本手段下分析该特征，"
   ]
  },
  {
   "cell_type": "code",
   "execution_count": null,
   "metadata": {},
   "outputs": [],
   "source": [
    "g = sns.catplot(x=\"Neighborhood\", y=\"SalePrice\", data=train_data, saturation=.5, kind=\"bar\", aspect=.6)\n",
    "g.fig.set_figwidth(22)"
   ]
  },
  {
   "cell_type": "markdown",
   "metadata": {},
   "source": [
    "#### 'MSZoning', 'LotShape', 'Street', 'Alley', 'LandContour', 'LandSlope', 'Utilities', 'LotConfig', 'Neighborhood', 'Condition1', 'Condition2', 'BldgType', 'HouseStyle', 'OverallQual', 'OverallCond', 'YearBuilt', 'YearRemodAdd', 'RoofStyle', 'RoofMatl', 'Exterior1st', 'Exterior2nd', 'MasVnrType', 'ExterQual', 'ExterCond', 'Foundation', 'BsmtQual', 'BsmtCond', 'BsmtExposure', 'BsmtFinType1', 'BsmtFinType2', 'Heating', 'CentralAir', 'Electrical', 'KitchenQual', 'Functional', 'FireplaceQu', 'GarageType', 'GarageYrBlt', 'GarageFinish', 'GarageQual', 'GarageCond', 'PavedDrive', 'PoolQC', 'Fence', 'MiscFeature', 'MoSold', 'YrSold', 'SaleType', 'SaleCondition'"
   ]
  },
  {
   "cell_type": "markdown",
   "metadata": {},
   "source": [
    "### 4.2.3 Label Encode"
   ]
  },
  {
   "cell_type": "markdown",
   "metadata": {},
   "source": [
    "### 4.2.4 One-Hot Encode"
   ]
  },
  {
   "cell_type": "markdown",
   "metadata": {},
   "source": [
    "# Step 5:Model Data"
   ]
  },
  {
   "cell_type": "markdown",
   "metadata": {},
   "source": [
    "## 5.0 Split Data to Train and Test"
   ]
  },
  {
   "cell_type": "code",
   "execution_count": null,
   "metadata": {},
   "outputs": [],
   "source": [
    "train_x, valid_x, train_y, valid_y = model_selection.train_test_split(train_data, train_target, random_state = 0)"
   ]
  },
  {
   "cell_type": "markdown",
   "metadata": {},
   "source": [
    "## 5.1 Evaluate Model Performance"
   ]
  },
  {
   "cell_type": "code",
   "execution_count": null,
   "metadata": {},
   "outputs": [],
   "source": [
    "#Machine Learning Algorithm (MLA) Selection and Initialization\n",
    "MLA = [\n",
    "    #Ensemble Methods\n",
    "    ensemble.AdaBoostRegressor(),\n",
    "    ensemble.BaggingRegressor(),\n",
    "    ensemble.ExtraTreesRegressor(),\n",
    "    ensemble.GradientBoostingRegressor(),\n",
    "    ensemble.RandomForestRegressor(),\n",
    "    \n",
    "    #xgboost: http://xgboost.readthedocs.io/en/latest/model.html\n",
    "    XGBRegressor(),\n",
    "]\n",
    "\n",
    "\n",
    "\n",
    "#split dataset in cross-validation with this splitter class: http://scikit-learn.org/stable/modules/generated/sklearn.model_selection.ShuffleSplit.html#sklearn.model_selection.ShuffleSplit\n",
    "#note: this is an alternative to train_test_split\n",
    "cv_split = model_selection.ShuffleSplit(n_splits = 10, test_size = .1, train_size = .8, random_state = 0 ) # run model 10x with 60/30 split intentionally leaving out 10%\n",
    "\n",
    "#create table to compare MLA metrics\n",
    "MLA_columns = ['MLA Name', 'MLA Parameters','MLA Train Accuracy Mean', 'MLA Test Accuracy Mean', 'MLA Test Accuracy 3*STD' ,'MLA Time']\n",
    "MLA_compare = pd.DataFrame(columns = MLA_columns)\n",
    "\n",
    "#index through MLA and save performance to table\n",
    "row_index = 0\n",
    "for alg in MLA:\n",
    "    #set name and parameters\n",
    "    MLA_name = alg.__class__.__name__\n",
    "    MLA_compare.loc[row_index, 'MLA Name'] = MLA_name\n",
    "    MLA_compare.loc[row_index, 'MLA Parameters'] = str(alg.get_params())\n",
    "    \n",
    "    #score model with cross validation: http://scikit-learn.org/stable/modules/generated/sklearn.model_selection.cross_validate.html#sklearn.model_selection.cross_validate\n",
    "    cv_results = model_selection.cross_validate(alg, train_data, train_target, cv  = cv_split)\n",
    "\n",
    "    MLA_compare.loc[row_index, 'MLA Time'] = cv_results['fit_time'].mean()\n",
    "    MLA_compare.loc[row_index, 'MLA Train Accuracy Mean'] = cv_results['train_score'].mean()\n",
    "    MLA_compare.loc[row_index, 'MLA Test Accuracy Mean'] = cv_results['test_score'].mean()   \n",
    "    #if this is a non-bias random sample, then +/-3 standard deviations (std) from the mean, should statistically capture 99.7% of the subsets\n",
    "    MLA_compare.loc[row_index, 'MLA Test Accuracy 3*STD'] = cv_results['test_score'].std()*3   #let's know the worst that can happen!\n",
    "    \n",
    "    row_index+=1\n",
    "    \n",
    "#print and sort table: https://pandas.pydata.org/pandas-docs/stable/generated/pandas.DataFrame.sort_values.html\n",
    "MLA_compare.sort_values(by = ['MLA Test Accuracy Mean'], ascending = False, inplace = True)\n",
    "MLA_compare"
   ]
  },
  {
   "cell_type": "markdown",
   "metadata": {},
   "source": [
    "def ensemble_predict(mla, train_x, train_y, test_x):\n",
    "    len_ = len(mla)\n",
    "    res = [0]*len(test_x)\n",
    "    for ml in mla:\n",
    "        ml.fit(train_x, train_y)\n",
    "        test_y = ml.predict(test_x)\n",
    "        res = [res[j]+1.*test_y[j]/len_ for j in range(len(test_y))]\n",
    "    return res\n",
    "\n",
    "ensemble_res = ensemble_predict(MLA, train_data, train_target, test_data)"
   ]
  },
  {
   "cell_type": "code",
   "execution_count": null,
   "metadata": {},
   "outputs": [],
   "source": [
    "def plot_learning_curve(estimator, title, X, y, ylim=None, cv=None,\n",
    "                        n_jobs=1, train_sizes=np.linspace(.1, 1.0, 5)):\n",
    "    plt.figure()\n",
    "    plt.title(title)\n",
    "    train_sizes, train_scores, test_scores = learning_curve(\n",
    "        estimator, X, y, cv=cv, n_jobs=n_jobs, train_sizes=train_sizes)\n",
    "    train_scores_mean = np.mean(train_scores, axis=1)\n",
    "    train_scores_std = np.std(train_scores, axis=1)\n",
    "    test_scores_mean = np.mean(test_scores, axis=1)\n",
    "    test_scores_std = np.std(test_scores, axis=1)\n",
    "    plt.grid()\n",
    "\n",
    "    plt.fill_between(train_sizes, train_scores_mean - train_scores_std,\n",
    "                     train_scores_mean + train_scores_std, alpha=0.1,\n",
    "                     color=\"r\")\n",
    "    plt.fill_between(train_sizes, test_scores_mean - test_scores_std,\n",
    "                     test_scores_mean + test_scores_std, alpha=0.1, color=\"g\")\n",
    "    plt.plot(train_sizes, train_scores_mean, 'o-', color=\"r\",\n",
    "             label=\"Training score\")\n",
    "    plt.plot(train_sizes, test_scores_mean, 'o-', color=\"g\",\n",
    "             label=\"Cross-validation score\")\n",
    "\n",
    "    plt.legend(loc=\"best\")"
   ]
  },
  {
   "cell_type": "code",
   "execution_count": null,
   "metadata": {
    "scrolled": true
   },
   "outputs": [],
   "source": [
    "for alg in MLA:\n",
    "    plot_learning_curve(alg, alg.__class__.__name__, train_data, train_target, cv=cv_split)"
   ]
  },
  {
   "cell_type": "markdown",
   "metadata": {},
   "source": [
    "# Step 8: Submit"
   ]
  },
  {
   "cell_type": "code",
   "execution_count": null,
   "metadata": {},
   "outputs": [],
   "source": [
    "pd.DataFrame({'Id':list(test_id), 'SalePrice':list(ensemble_res)}).to_csv('output/submission.csv', index=False)"
   ]
  },
  {
   "cell_type": "code",
   "execution_count": null,
   "metadata": {},
   "outputs": [],
   "source": []
  }
 ],
 "metadata": {
  "kernelspec": {
   "display_name": "Python 2",
   "language": "python",
   "name": "python2"
  },
  "language_info": {
   "codemirror_mode": {
    "name": "ipython",
    "version": 2
   },
   "file_extension": ".py",
   "mimetype": "text/x-python",
   "name": "python",
   "nbconvert_exporter": "python",
   "pygments_lexer": "ipython2",
   "version": "2.7.13"
  }
 },
 "nbformat": 4,
 "nbformat_minor": 2
}
