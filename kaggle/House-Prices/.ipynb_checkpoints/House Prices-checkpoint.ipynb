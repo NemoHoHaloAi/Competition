{
 "cells": [
  {
   "cell_type": "markdown",
   "metadata": {},
   "source": [
    "# House Prices: Advanced Regression Techniques\n",
    "\n",
    "> Date:2018-10-29,Author:Ho Loong\n",
    "\n",
    "1. **Define the Problem:** If data science, big data, machine learning, predictive analytics, business intelligence, or any other buzzword is the solution, then what is the problem? As the saying goes, don't put the cart before the horse. Problems before requirements, requirements before solutions, solutions before design, and design before technology. Too often we are quick to jump on the new shiny technology, tool, or algorithm before determining the actual problem we are trying to solve.\n",
    "2. **Gather the Data:** John Naisbitt wrote in his 1984 (yes, 1984) book Megatrends, we are “drowning in data, yet staving for knowledge.\" So, chances are, the dataset(s) already exist somewhere, in some format. It may be external or internal, structured or unstructured, static or streamed, objective or subjective, etc. As the saying goes, you don't have to reinvent the wheel, you just have to know where to find it. In the next step, we will worry about transforming \"dirty data\" to \"clean data.\"\n",
    "3. **Prepare Data for Consumption:** This step is often referred to as data wrangling, a required process to turn “wild” data into “manageable” data. Data wrangling includes implementing data architectures for storage and processing, developing data governance standards for quality and control, data extraction (i.e. ETL and web scraping), and data cleaning to identify aberrant, missing, or outlier data points.\n",
    "4. **Perform Exploratory Analysis:** Anybody who has ever worked with data knows, garbage-in, garbage-out (GIGO). Therefore, it is important to deploy descriptive and graphical statistics to look for potential problems, patterns, classifications, correlations and comparisons in the dataset. In addition, data categorization (i.e. qualitative vs quantitative) is also important to understand and select the correct hypothesis test or data model.\n",
    "5. **Model Data:** Like descriptive and inferential statistics, data modeling can either summarize the data or predict future outcomes. Your dataset and expected results, will determine the algorithms available for use. It's important to remember, algorithms are tools and not magical wands or silver bullets. You must still be the master craft (wo)man that knows how-to select the right tool for the job. An analogy would be asking someone to hand you a Philip screwdriver, and they hand you a flathead screwdriver or worst a hammer. At best, it shows a complete lack of understanding. At worst, it makes completing the project impossible. The same is true in data modelling. The wrong model can lead to poor performance at best and the wrong conclusion (that’s used as actionable intelligence) at worst.\n",
    "6. **Validate and Implement Data Model:** After you've trained your model based on a subset of your data, it's time to test your model. This helps ensure you haven't overfit your model or made it so specific to the selected subset, that it does not accurately fit another subset from the same dataset. In this step we determine if our [model overfit, generalize, or underfit our dataset](http://docs.aws.amazon.com/machine-learning/latest/dg/model-fit-underfitting-vs-overfitting.html).\n",
    "7. **Optimize and Strategize:** This is the \"bionic man\" step, where you iterate back through the process to make it better...stronger...faster than it was before. As a data scientist, your strategy should be to outsource developer operations and application plumbing, so you have more time to focus on recommendations and design. Once you're able to package your ideas, this becomes your “currency exchange\" rate."
   ]
  },
  {
   "cell_type": "markdown",
   "metadata": {},
   "source": [
    "# Data Basic Info\n",
    "\n",
    "1. 训练数据1460，测试数据1460。\n",
    "2. 特征中大部分是枚举型，少部分是数值型和时间数据，需要mapping、convert，需要在full之后进行。\n",
    "\t1. 枚举型的值具有数值关系的（质量相关的），比如厨房质量：Ex>Gd>Ta>Fa>Po，那么mapping到数值上时这种关系要不要用数字体现。\n",
    "\t2. 其余枚举型是没有数值关系的，比如House Stype等。\n",
    "3. 特征很多，70+，对应数据量却很少，需要feature Selection或者PCA。\n",
    "4. (YearBuilt)关于建造年份、月份等，可以create一个房龄的feature。\n",
    "5. 关于(YrSale,MoSale)销售年份、月份等，可以create一个至今销售时长的feature。\n",
    "6. (YearRemodAdd)根据改建年份，create是否有改建的feature以及改建后的房龄的feature。\n",
    "6. 部分数值型数据可能要cut处理来减少特征值。\n",
    "7. 部分Feature的NA值通常是因为没有相关设施导致的，比如泳池面积，NA表示没有泳池，那么用0表示，而字符型的比如车库类型这种，NA用'None'表示代表没有车库的情况。\n",
    "8. SaleType和SaleCondition看着对结果影响很大的样子。"
   ]
  },
  {
   "cell_type": "markdown",
   "metadata": {},
   "source": [
    "# Step 1:Define Problem\n",
    "\n",
    "[Kaggle:House Prices](https://www.kaggle.com/c/house-prices-advanced-regression-techniques/data)\n",
    "\n",
    "* Supervise/Unsupervise:Supervise\n",
    "* Classification/Regression:Regression\n",
    "* Eval:RMSE\n",
    "* Train Data:'./input/train.csv', len=1460\n",
    "* Test Data:'./input/test.csv', len=1460"
   ]
  },
  {
   "cell_type": "markdown",
   "metadata": {},
   "source": [
    "# Step 2:Gather the Data\n",
    "\n",
    "Kaggle provide data."
   ]
  },
  {
   "cell_type": "markdown",
   "metadata": {},
   "source": [
    "# Step 3:Prepare Data for Consumption"
   ]
  },
  {
   "cell_type": "markdown",
   "metadata": {},
   "source": [
    "## 3.1 Import Libs"
   ]
  },
  {
   "cell_type": "markdown",
   "metadata": {},
   "source": [
    "### 3.1.1 Import Common Libs"
   ]
  },
  {
   "cell_type": "code",
   "execution_count": 1,
   "metadata": {},
   "outputs": [],
   "source": [
    "import sys,os,time\n",
    "from collections import Counter\n",
    "\n",
    "import numpy as np\n",
    "import pandas as pd\n",
    "import seaborn as sns\n",
    "\n",
    "#ignore warnings\n",
    "import warnings\n",
    "warnings.filterwarnings('ignore')"
   ]
  },
  {
   "cell_type": "markdown",
   "metadata": {},
   "source": [
    "### 3.1.2 Import Model Libs"
   ]
  },
  {
   "cell_type": "code",
   "execution_count": 2,
   "metadata": {},
   "outputs": [],
   "source": [
    "#Common Model Algorithms\n",
    "from sklearn import svm, tree, linear_model, neighbors, naive_bayes, ensemble, discriminant_analysis, gaussian_process\n",
    "from xgboost import XGBRegressor\n",
    "\n",
    "#Common Model Helpers\n",
    "from sklearn.preprocessing import OneHotEncoder, LabelEncoder\n",
    "from sklearn import feature_selection\n",
    "from sklearn import model_selection\n",
    "from sklearn import metrics\n",
    "from sklearn.decomposition import PCA\n",
    "from sklearn.model_selection import learning_curve\n",
    "from sklearn.feature_selection import VarianceThreshold\n",
    "\n",
    "#Visualization\n",
    "import matplotlib as mpl\n",
    "import matplotlib.pyplot as plt\n",
    "import matplotlib.pylab as pylab\n",
    "import seaborn as sns\n",
    "\n",
    "#Configure Visualization Defaults\n",
    "%matplotlib inline\n",
    "mpl.style.use('ggplot')\n",
    "sns.set_style('white')\n",
    "pylab.rcParams['figure.figsize'] = 12,8\n",
    "\n",
    "le = LabelEncoder()"
   ]
  },
  {
   "cell_type": "markdown",
   "metadata": {},
   "source": [
    "## 3.2 Meet and Greet Data"
   ]
  },
  {
   "cell_type": "code",
   "execution_count": 3,
   "metadata": {},
   "outputs": [],
   "source": [
    "def concat_df(train_data, test_data):\n",
    "    # Returns a concatenated df of training and test set on axis 0\n",
    "    return pd.concat([train_data, test_data], sort=True).reset_index(drop=True)\n",
    "\n",
    "def divide_df(all_data):\n",
    "    # Returns divided dfs of training and test set\n",
    "    return all_data.loc[:1459], all_data.loc[1460:].drop(['SalePrice'], axis=1)"
   ]
  },
  {
   "cell_type": "code",
   "execution_count": 4,
   "metadata": {
    "scrolled": true
   },
   "outputs": [
    {
     "name": "stdout",
     "output_type": "stream",
     "text": [
      "<class 'pandas.core.frame.DataFrame'>\n",
      "RangeIndex: 1460 entries, 0 to 1459\n",
      "Data columns (total 81 columns):\n",
      "Id               1460 non-null int64\n",
      "MSSubClass       1460 non-null int64\n",
      "MSZoning         1460 non-null object\n",
      "LotFrontage      1201 non-null float64\n",
      "LotArea          1460 non-null int64\n",
      "Street           1460 non-null object\n",
      "Alley            91 non-null object\n",
      "LotShape         1460 non-null object\n",
      "LandContour      1460 non-null object\n",
      "Utilities        1460 non-null object\n",
      "LotConfig        1460 non-null object\n",
      "LandSlope        1460 non-null object\n",
      "Neighborhood     1460 non-null object\n",
      "Condition1       1460 non-null object\n",
      "Condition2       1460 non-null object\n",
      "BldgType         1460 non-null object\n",
      "HouseStyle       1460 non-null object\n",
      "OverallQual      1460 non-null int64\n",
      "OverallCond      1460 non-null int64\n",
      "YearBuilt        1460 non-null int64\n",
      "YearRemodAdd     1460 non-null int64\n",
      "RoofStyle        1460 non-null object\n",
      "RoofMatl         1460 non-null object\n",
      "Exterior1st      1460 non-null object\n",
      "Exterior2nd      1460 non-null object\n",
      "MasVnrType       1452 non-null object\n",
      "MasVnrArea       1452 non-null float64\n",
      "ExterQual        1460 non-null object\n",
      "ExterCond        1460 non-null object\n",
      "Foundation       1460 non-null object\n",
      "BsmtQual         1423 non-null object\n",
      "BsmtCond         1423 non-null object\n",
      "BsmtExposure     1422 non-null object\n",
      "BsmtFinType1     1423 non-null object\n",
      "BsmtFinSF1       1460 non-null int64\n",
      "BsmtFinType2     1422 non-null object\n",
      "BsmtFinSF2       1460 non-null int64\n",
      "BsmtUnfSF        1460 non-null int64\n",
      "TotalBsmtSF      1460 non-null int64\n",
      "Heating          1460 non-null object\n",
      "HeatingQC        1460 non-null object\n",
      "CentralAir       1460 non-null object\n",
      "Electrical       1459 non-null object\n",
      "1stFlrSF         1460 non-null int64\n",
      "2ndFlrSF         1460 non-null int64\n",
      "LowQualFinSF     1460 non-null int64\n",
      "GrLivArea        1460 non-null int64\n",
      "BsmtFullBath     1460 non-null int64\n",
      "BsmtHalfBath     1460 non-null int64\n",
      "FullBath         1460 non-null int64\n",
      "HalfBath         1460 non-null int64\n",
      "BedroomAbvGr     1460 non-null int64\n",
      "KitchenAbvGr     1460 non-null int64\n",
      "KitchenQual      1460 non-null object\n",
      "TotRmsAbvGrd     1460 non-null int64\n",
      "Functional       1460 non-null object\n",
      "Fireplaces       1460 non-null int64\n",
      "FireplaceQu      770 non-null object\n",
      "GarageType       1379 non-null object\n",
      "GarageYrBlt      1379 non-null float64\n",
      "GarageFinish     1379 non-null object\n",
      "GarageCars       1460 non-null int64\n",
      "GarageArea       1460 non-null int64\n",
      "GarageQual       1379 non-null object\n",
      "GarageCond       1379 non-null object\n",
      "PavedDrive       1460 non-null object\n",
      "WoodDeckSF       1460 non-null int64\n",
      "OpenPorchSF      1460 non-null int64\n",
      "EnclosedPorch    1460 non-null int64\n",
      "3SsnPorch        1460 non-null int64\n",
      "ScreenPorch      1460 non-null int64\n",
      "PoolArea         1460 non-null int64\n",
      "PoolQC           7 non-null object\n",
      "Fence            281 non-null object\n",
      "MiscFeature      54 non-null object\n",
      "MiscVal          1460 non-null int64\n",
      "MoSold           1460 non-null int64\n",
      "YrSold           1460 non-null int64\n",
      "SaleType         1460 non-null object\n",
      "SaleCondition    1460 non-null object\n",
      "SalePrice        1460 non-null int64\n",
      "dtypes: float64(3), int64(35), object(43)\n",
      "memory usage: 924.0+ KB\n",
      "None\n",
      "----------------------------------------------------------------------------------------------------\n",
      "<class 'pandas.core.frame.DataFrame'>\n",
      "RangeIndex: 1459 entries, 0 to 1458\n",
      "Data columns (total 80 columns):\n",
      "Id               1459 non-null int64\n",
      "MSSubClass       1459 non-null int64\n",
      "MSZoning         1455 non-null object\n",
      "LotFrontage      1232 non-null float64\n",
      "LotArea          1459 non-null int64\n",
      "Street           1459 non-null object\n",
      "Alley            107 non-null object\n",
      "LotShape         1459 non-null object\n",
      "LandContour      1459 non-null object\n",
      "Utilities        1457 non-null object\n",
      "LotConfig        1459 non-null object\n",
      "LandSlope        1459 non-null object\n",
      "Neighborhood     1459 non-null object\n",
      "Condition1       1459 non-null object\n",
      "Condition2       1459 non-null object\n",
      "BldgType         1459 non-null object\n",
      "HouseStyle       1459 non-null object\n",
      "OverallQual      1459 non-null int64\n",
      "OverallCond      1459 non-null int64\n",
      "YearBuilt        1459 non-null int64\n",
      "YearRemodAdd     1459 non-null int64\n",
      "RoofStyle        1459 non-null object\n",
      "RoofMatl         1459 non-null object\n",
      "Exterior1st      1458 non-null object\n",
      "Exterior2nd      1458 non-null object\n",
      "MasVnrType       1443 non-null object\n",
      "MasVnrArea       1444 non-null float64\n",
      "ExterQual        1459 non-null object\n",
      "ExterCond        1459 non-null object\n",
      "Foundation       1459 non-null object\n",
      "BsmtQual         1415 non-null object\n",
      "BsmtCond         1414 non-null object\n",
      "BsmtExposure     1415 non-null object\n",
      "BsmtFinType1     1417 non-null object\n",
      "BsmtFinSF1       1458 non-null float64\n",
      "BsmtFinType2     1417 non-null object\n",
      "BsmtFinSF2       1458 non-null float64\n",
      "BsmtUnfSF        1458 non-null float64\n",
      "TotalBsmtSF      1458 non-null float64\n",
      "Heating          1459 non-null object\n",
      "HeatingQC        1459 non-null object\n",
      "CentralAir       1459 non-null object\n",
      "Electrical       1459 non-null object\n",
      "1stFlrSF         1459 non-null int64\n",
      "2ndFlrSF         1459 non-null int64\n",
      "LowQualFinSF     1459 non-null int64\n",
      "GrLivArea        1459 non-null int64\n",
      "BsmtFullBath     1457 non-null float64\n",
      "BsmtHalfBath     1457 non-null float64\n",
      "FullBath         1459 non-null int64\n",
      "HalfBath         1459 non-null int64\n",
      "BedroomAbvGr     1459 non-null int64\n",
      "KitchenAbvGr     1459 non-null int64\n",
      "KitchenQual      1458 non-null object\n",
      "TotRmsAbvGrd     1459 non-null int64\n",
      "Functional       1457 non-null object\n",
      "Fireplaces       1459 non-null int64\n",
      "FireplaceQu      729 non-null object\n",
      "GarageType       1383 non-null object\n",
      "GarageYrBlt      1381 non-null float64\n",
      "GarageFinish     1381 non-null object\n",
      "GarageCars       1458 non-null float64\n",
      "GarageArea       1458 non-null float64\n",
      "GarageQual       1381 non-null object\n",
      "GarageCond       1381 non-null object\n",
      "PavedDrive       1459 non-null object\n",
      "WoodDeckSF       1459 non-null int64\n",
      "OpenPorchSF      1459 non-null int64\n",
      "EnclosedPorch    1459 non-null int64\n",
      "3SsnPorch        1459 non-null int64\n",
      "ScreenPorch      1459 non-null int64\n",
      "PoolArea         1459 non-null int64\n",
      "PoolQC           3 non-null object\n",
      "Fence            290 non-null object\n",
      "MiscFeature      51 non-null object\n",
      "MiscVal          1459 non-null int64\n",
      "MoSold           1459 non-null int64\n",
      "YrSold           1459 non-null int64\n",
      "SaleType         1458 non-null object\n",
      "SaleCondition    1459 non-null object\n",
      "dtypes: float64(11), int64(26), object(43)\n",
      "memory usage: 911.9+ KB\n",
      "None\n",
      "----------------------------------------------------------------------------------------------------\n",
      "      Id  MSSubClass MSZoning  LotFrontage  LotArea Street Alley LotShape  \\\n",
      "482  483          70       RM         50.0     2500   Pave  Pave      Reg   \n",
      "540  541          20       RL         85.0    14601   Pave   NaN      Reg   \n",
      "849  850          80       RL         80.0     9600   Pave   NaN      Reg   \n",
      "\n",
      "    LandContour Utilities  ... PoolArea PoolQC Fence MiscFeature MiscVal  \\\n",
      "482         Lvl    AllPub  ...        0    NaN   NaN         NaN       0   \n",
      "540         Lvl    AllPub  ...        0    NaN   NaN         NaN       0   \n",
      "849         Lvl    AllPub  ...        0    NaN   NaN         NaN       0   \n",
      "\n",
      "    MoSold YrSold  SaleType  SaleCondition  SalePrice  \n",
      "482      6   2009        WD         Normal     155000  \n",
      "540      3   2009        WD         Normal     315000  \n",
      "849      8   2007        WD         Normal     187000  \n",
      "\n",
      "[3 rows x 81 columns]\n"
     ]
    }
   ],
   "source": [
    "train_data = pd.read_csv('./input/train.csv')\n",
    "test_data = pd.read_csv('./input/test.csv')\n",
    "\n",
    "all_data = concat_df(train_data, test_data)\n",
    "\n",
    "train_data.name = 'TrainSet'\n",
    "test_data.name = 'TestSet'\n",
    "all_data.name = 'AllSet'\n",
    "\n",
    "print train_data.info()\n",
    "print '-'*100\n",
    "print test_data.info()\n",
    "print '-'*100\n",
    "print train_data.sample(3)"
   ]
  },
  {
   "cell_type": "markdown",
   "metadata": {},
   "source": [
    "特征说明：\n",
    "\n",
    "特征名 | 描述 | 类型 | 模式 | 取值 | 缺失情况 | 思考\n",
    "--|--|--|--|--|--|--\n",
    "Id|唯一标识符|整型|无序离散|1~2919，不重复|无缺失|测试集中的Id在结果文件中要使用，其他没有用处|\n",
    "--|--|--|--|--|--|--\n",
    "MSSubClass|房屋类型|整型|无序离散|60,20,70....|无缺失|房屋类型无疑是对结果影响巨大的因素，尝试挖掘对应类型英文前缀有组的关系可以聚合分析，另外对应的数字的关系尚不可知，可以查一下或者可视化分析|\n",
    "MSZoning|房屋所处区域分类|字符串|无序离散|A,C,FV....|无缺失|对结果影响很大，需要挖掘，可能需要聚合，结合MSSubClass|\n",
    "LotArea|面积|整型|连续|N平方英尺|无缺失|跟售价应该是线性关系，可视化找分割点、峰值，qcut、LabelEncode|\n",
    "LotShape|房屋形状|字符串|半有序离散|Reg,R1,R2,R3|无缺失|按理说应该是左偏分布，毕竟户型方正很重要|\n",
    "LotFrontage|距离街道直线距离|浮点型|连续|N英尺|缺失200+/1400+|对结果影响较大，可以可视化看分割点、峰值，以及qcut处理|\n",
    "Street|临近道路类型|字符串|无序枚举|Gravel,Paved|无缺失|因为只有两个取值，因此可以直接LabelEncode、OneHot，考虑跟LotFrontage组合|\n",
    "Alley|临近胡同类型|字符串|无序枚举|Gravel,Paved,nan|缺失1300+/1400+|该字段缺失是因为没有临近胡同，因此作为一个单独类别填充，可以考虑根据是否有胡同聚合看看信息量|\n",
    "LandContour|地面平整程度|字符串|半有序离散|Lvl,Bnk,HLS,Low|无缺失|理应左偏|\n",
    "LandSlope|地面坡度|字符串|半有序离散|Gtl,Mod,Sev|无缺失|理应左偏|\n",
    "Utilities|可用公共设施|字符串|半有序离散|AllPub,NoSewr,NoSeWa,ELO|无缺失|理应左偏|\n",
    "LotConfig|配置|字符串|无序离散|Inside内部,Cornel街角,CulDSac死胡同,FR2两面临街,FR3三面临街|无缺失|可视化看差异|\n",
    "Neighborhood|所处社区|字符串|无序离散|社区名|无缺失|可视化看差异，适当聚合，可以考虑结合MSZoning做社区区域细分分析|\n",
    "Condition1|房屋优势条件1|字符串|无序离散|接近主干道、公园....|无缺失|一般离散分析|\n",
    "Condition2|房屋优势条件2|字符串|无序离散|接近主干道、公园....|无缺失|一般离散分析，与1一致，这两个可以组合可视化|\n",
    "BldgType|房屋类型|字符串|无序离散|独户、联排....|无缺失|考虑跟MSSubClass结合|\n",
    "HouseStype|装修风格|字符串|无序离散|几楼几底|无缺失|一般离散分析|\n",
    "OverallQual|材料装修评级|整型|有序离散|10~1|无缺失|离散分析，看看是否需要聚合接近的值|\n",
    "OverallCond|整体状况评级|整型|有序离散|10~1|无缺失|离散分析，看看是否需要聚合接近的值|\n",
    "YearBuilt|修建年份|整型|连续|年份|无缺失|构建房龄字段，连续分析，观察分割点、峰值，看是否需要qcut处理|\n",
    "YearRemodAdd|重装年份|整型|连续|年份|无缺失|构建重装字段，连续分析，观察分割点、峰值，看是否需要qcut处理|\n",
    "RoofStype|屋顶类型|字符串|无序离散|Flat,Gable,Gambrel,Hip,Mansard,Shed|无缺失|一般离散分析|\n",
    "RoofMatl|屋顶材料|字符串|无序离散|8中材料|无缺失|结合屋顶风格分析、聚合|\n",
    "Exterior1st|房屋外层材料|字符串|无序离散|N中材料|无缺失|一般离散分析|\n",
    "Exterior2nd|同上，如果有两种材料|字符串|无序离散|N中材料|无缺失|结合1一起分析|\n",
    "MasVnrType|地砖材料|字符串|无序离散|4中材料+nan|缺失8/1400+|一般离散分析|\n",
    "MasVnrArea|地砖面积|浮点型|连续|面积|缺失8/1400+|缺失可以用0填充表示没有，可视化qcut后可以结合类型分析|\n",
    "ExterQual|外部材料质量|字符串|有序离散|Ex,Gd,TA,Fa,Po|无缺失|结合材料类型分析|\n",
    "ExterCond|外部材料现状|字符串|有序离散|Ex,Gd,TA,Fa,Po|无缺失|结合外部材料相关分析聚合|\n",
    "Foundation|基本材料类型|字符串|无序离散|砖,瓦,石头....|无缺失|一般离散分析|\n",
    "--|--|--|--|--|--|--\n",
    "BsmtQual|地下室高度评价|字符串|有序离散|Ex,Gd,TA,Fa,Po,nan|缺失37/1400+|缺失表示无地下室，作为单独类别分析|\n",
    "BsmtCond|地下室整体情况|字符串|有序离散|Ex,Gd,TA,Fa,Po,nan|缺失37/1400+|缺失表示无地下室，地下室相关特征组合一起分析|\n",
    "BsmtExposure|地下室曝光情况|字符串|有序离散|Gd,Av,Mn,No,nan|缺失38/1400+|缺失表示无地下室|\n",
    "BsmtFinType1|地下室1完工面积等级|字符串|有序离散|GLQ,ALQ,BLQ,Rec,LwQ,Unf,nan|缺失37/1400+|缺失表示无地下室|\n",
    "BsmtFinSF1|1完工面积|整型|连续|面积|无缺失|一般连续分析|\n",
    "BsmtFinType2|地下室2完工面积等级|字符串|有序离散|GLQ,ALQ,BLQ,Rec,LwQ,Unf,nan|缺失38/1400+|缺失表示无地下室|\n",
    "BsmtFinSF2|2完工面积|整型|连续|面积|无缺失|一般连续分析|\n",
    "BsmtUnfSF|地下室未完面积|整型|连续|面积|无缺失|一般连续分析|\n",
    "TotalBsmtSF|地下室总面积|整型|连续|面积|无缺失|一般连续分析|\n",
    "--|--|--|--|--|--|--\n",
    "Heating|暖气方式|字符串|无序离散|Floor,GasA,GasW,Grav,OthW,Wall|无缺失|一般离散分析|\n",
    "HeatingQC|暖气评价|字符串|有序离散|Ex,Gd,TA,Fa,Po|无缺失|结合Heating分析|\n",
    "CentralAir|空调|字符串|无序离散|Y,N|无缺失|有无，直接映射到0/1后分析，不需要OneHot|\n",
    "Electrical|电气系统|字符串|半有序离散|SBrKr,FuseA,FuseF,FuseP,Mix|缺失1/1400+|根据暖气空调同一个社区类型的房屋来填充，应该是偏斜分布图|\n",
    "1stFlrSF|一楼面积|整型|连续|面积|无缺失|与房屋类型、面积等结合分析，一般连续分析|\n",
    "2ndFlrSF|二楼面积|整型|连续|面积|无缺失|与房屋类型、面积等结合分析，一般连续分析|\n",
    "LowQualFinSF|低质量部分面积|整型|连续|面积|无缺失|与房屋类型、面积等结合分析，一般连续分析|\n",
    "GrLivArea|地上生活区面积|整型|连续|面积|无缺失|与房屋类型、面积等结合分析，一般连续分析|\n",
    "BsmtFullBath|地下室全浴室个数|整型|连续|个数|无缺失|与房屋类型、面积等结合分析，一般连续分析|\n",
    "BsmtHalfBath|地下室半浴室个数|整型|连续|个数|无缺失|与房屋类型、面积等结合分析，一般连续分析|\n",
    "FullBath|全浴室个数|整型|连续|个数|无缺失|与房屋类型、面积等结合分析，一般连续分析|\n",
    "HalfBath|半浴室个数|整型|连续|个数|无缺失|与房屋类型、面积等结合分析，一般连续分析|\n",
    "BedroomAbvGr|地上卧室个数|整型|连续|个数|无缺失|与房屋类型、面积等结合分析，一般连续分析|\n",
    "KitchenAbvGr|地上厨房个数|整型|连续|个数|无缺失|与房屋类型、面积等结合分析，一般连续分析|\n",
    "KitchenQual|厨房质量|字符串|有序离散|Ex,Gd,TA,Fa,Po|无缺失|与厨房结合分析，一般离散分析|\n",
    "TotRmsAbvGrd|地上房间个数（不包括卧室）|整型|连续|个数|无缺失|与房屋类型、面积等结合分析，一般连续分析，构建房间总数、几室几厅几卫|\n",
    "Functional|家庭设施情况|字符串|有序离散|Typ,Min1,Min2,Mod,Maj1,Maj2,Sev,Sal|无缺失|一般离散分析|\n",
    "Fireplaces|壁炉数量|整型|连续|个数|无缺失|一般连续分析|\n",
    "FireplaceQu|壁炉质量|字符串|有序离散|Ex,Gd,TA,Fa,Po,nan|缺失700+/1400+|缺失表示没有壁炉，单独类别即可，结合壁炉数量分析|\n",
    "--|--|--|--|--|--|--\n",
    "GarageType|车库位置|字符串|无序离散|2Type,Attchd,Basment,BuiltIn,CarPort,Detchd,nan|缺失80+/1400+|缺失表示没有车库，车库相关的组合一起分析|\n",
    "GarageYrBlt|车库建造年份|浮点型|连续|年份|缺失80+/1400+|缺失表示没有，构建车库年龄|\n",
    "GarageFinish|车库内部情况|字符串|有序离散|Fin,RFn,Unf,nan|缺失80+/1400+|缺失表示没有|\n",
    "GarageCars|车库能放几辆车|整型|连续|个数|无缺失|没有车库为0|\n",
    "GarageArea|车库面积|整型|连续|面积|无缺失|没有车库为0|\n",
    "GarageQual|车库质量|字符串|有序离散|Ex,Gd,TA,Fa,Po,nan|缺失80+/1400+|缺失表示没有|\n",
    "GarageCond|车库状况|字符串|有序离散|Ex,Gd,TA,Fa,Po,nan|缺失80+/1400+|缺失表示没有|\n",
    "--|--|--|--|--|--|--\n",
    "PavedDrive|车道铺面情况|字符串|有序离散|Y,P,R|无缺失|一般离散分析|\n",
    "WoodDeckSF|木地板面积|整型|连续|面积|无缺失|一般连续分析|\n",
    "OpenPorchSF|开放式门廊面积|整型|连续|面积|无缺失|一般连续分析|\n",
    "EnclosedPorch|围挡走廊面积|整型|连续|面积|无缺失|一般连续分析|\n",
    "3SsnPorch|三季门廊面积|整型|连续|面积|无缺失|一般连续分析|\n",
    "ScreenPorch|屏风廊面积|整型|连续|面积|无缺失|一般连续分析|\n",
    "PoolArea|泳池面积|整型|连续|面积|无缺失|一般连续分析|\n",
    "PoolQC|泳池质量|字符串|有序离散|Ex,Gd,TA,Fa,nan|缺失1400+/1400+|结合泳池面积分析，训练数据只有7个房屋有泳池|\n",
    "Fence|围栏质量|字符串|半有序离散|GdPrv,MnPrv,GdWo,MnWw,nan|缺失1200+/1400+|一般离散分析|\n",
    "MiscFeature|杂项|字符串|无序离散|杂项|缺失1400+/1400+|杂项，结合下面价值分析|\n",
    "MiscVal|杂项价值|整型|连续|美元|无缺失|结合杂项分析|\n",
    "--|--|--|--|--|--|--\n",
    "MoSold|售出月份|整型|连续|月份|无缺失|结合年份|\n",
    "YrSold|售出年份|整型|连续|年份|无缺失|结合月份，结合房屋、重装、车库等修建时间，生成时长特征，另外可以分析同期销售情况|\n",
    "SaleType|付款方式|字符串|半有序离散|类别字符串|无缺失|总价应该是跟付款方式有关的，例如全款总价会低一些，贷款会高一些，重要指标|\n",
    "SaleCondition|销售条件|字符串|半有序离散|条件字符串|无缺失|异常情况对应的总价是否是异常的需要可视化时格外关注|\n",
    "--|--|--|--|--|--|--\n",
    "SalePrice|售价|整型|连续|美元|无缺失|只存在于训练数据，属于测试数据的目标预测值|\n",
    "\n",
    "PS：特征间组合还要看相关性后再决定；"
   ]
  },
  {
   "cell_type": "code",
   "execution_count": 102,
   "metadata": {},
   "outputs": [],
   "source": [
    "# 连续特征\n",
    "ContinuousFeatures = ['LotArea','LotFrontage','MasVnrArea','BsmtFinSF1','BsmtFinSF2','BsmtUnfSF','TotalBsmtSF','1stFlrSF','2ndFlrSF','LowQualFinSF','GrLivArea','BsmtFullBath','BsmtHalfBath','FullBath','HalfBath','BedroomAbvGr','KitchenAbvGr','TotRmsAbvGrd','Fireplaces','GarageCars','GarageArea','WoodDeckSF','OpenPorchSF','EnclosedPorch','3SsnPorch','ScreenPorch','PoolArea','MiscVal']\n",
    "\n",
    "# 离散特征\n",
    "CategoricalFeatures = ['MSSubClass','MSZoning','LotShape','Street','Alley','LandContour','LandSlope','Utilities','LotConfig','Neighborhood','Condition1','Condition2','BldgType','HouseStyle','OverallQual','OverallCond','YearBuilt','YearRemodAdd','RoofStyle','RoofMatl','Exterior1st','Exterior2nd','MasVnrType','ExterQual','ExterCond','Foundation','BsmtQual','BsmtCond','BsmtExposure','BsmtFinType1','BsmtFinType2','Heating','CentralAir','Electrical','KitchenQual','Functional','FireplaceQu','GarageType','GarageYrBlt','GarageFinish','GarageQual','GarageCond','PavedDrive','PoolQC','Fence','MiscFeature','MoSold','YrSold','SaleType','SaleCondition']\n",
    "\n",
    "# 目标特征\n",
    "TargetFeature = 'SalePrice'\n",
    "\n",
    "# 需要手动指定映射关系的离散特征\n",
    "CategoricalOrderFeatures = ['LotShape','LandContour','LandSlope','Utilities','OverallQual','OverallCond','ExterQual','ExterCond','BsmtQual','BsmtCond','BsmtExposure','BsmtFinType1','BsmtFinType2','HeatingQC','Electrical','KitchenQual','Functional','FireplaceQu','GarageFinish','GarageQual','GarageCond','PavedDrive','PoolQC','Fence','SaleType','SaleCondition']\n",
    "\n",
    "# 日期时间相关\n",
    "TimeSerieFeatures = ['YearBuilt','YearRemodAdd','GarageYrBlt','YrSold','MoSold']\n",
    "\n",
    "# 房屋性质、位置、社区、社区类型、街道相关\n",
    "# 面积、房间个数、地下室、车库、厨房相关\n",
    "# 房屋内饰、装修、地板、材料、电力、公共设施、空调壁炉等相关\n",
    "# 售卖相关"
   ]
  },
  {
   "cell_type": "code",
   "execution_count": 6,
   "metadata": {},
   "outputs": [],
   "source": [
    "def heatmap(df, target_cols, ignore_cols):\n",
    "    cols = list(df.columns)\n",
    "#     for col in target_cols:\n",
    "#         del cols[cols.index(col)]\n",
    "#     for col in ignore_cols:\n",
    "#         del cols[cols.index(col)]\n",
    "    for i in range(0,len(cols),10):\n",
    "        tmp = df[cols[i:i+10]]\n",
    "    \n",
    "        _ , ax = plt.subplots(figsize =(15, 15))\n",
    "        colormap = sns.diverging_palette(220, 10, as_cmap = True)\n",
    "\n",
    "        _ = sns.heatmap(\n",
    "            tmp.corr(), \n",
    "            cmap = colormap,\n",
    "            square=True, \n",
    "            cbar_kws={'shrink':.9 }, \n",
    "            ax=ax,\n",
    "            annot=True, \n",
    "            linewidths=0.1,vmax=1.0, linecolor='white',\n",
    "            annot_kws={'fontsize':12 }\n",
    "        )\n",
    "    \n",
    "    plt.title('House Prices Correlation of Features', y=1.05, size=15)"
   ]
  },
  {
   "cell_type": "code",
   "execution_count": 7,
   "metadata": {},
   "outputs": [],
   "source": [
    "def corr_df(df_all, target, min_=0.1):\n",
    "    df_all_corr = df_all.corr().abs().unstack().sort_values(kind=\"quicksort\", ascending=False).reset_index()\n",
    "    df_all_corr.rename(columns={\"level_0\": \"Target\", \"level_1\": \"Source\", 0: 'Correlation Coefficient'}, inplace=True)\n",
    "    return df_all_corr[df_all_corr['Target'] == target][df_all_corr['Source'] != target][df_all_corr['Correlation Coefficient'].abs()>=min_]"
   ]
  },
  {
   "cell_type": "code",
   "execution_count": 8,
   "metadata": {},
   "outputs": [],
   "source": [
    "def entropy(D):\n",
    "    count_array=np.array(Counter(D).values())\n",
    "    P=count_array/float(count_array.sum())\n",
    "    H=np.dot(-P,np.log2(P))\n",
    "    return H\n",
    "\n",
    "def condition_entropy(D,A):\n",
    "    A=np.array(A)\n",
    "    D=np.array(D)\n",
    "    H_da=0\n",
    "    for i in np.unique(A):\n",
    "        index_i=np.ravel(np.argwhere(A==i))\n",
    "        Di=D[index_i]\n",
    "        H_Di=entropy(Di)\n",
    "        pi=float(Di.size)/D.size\n",
    "        H_da=H_da+pi*H_Di\n",
    "    return H_da\n",
    "\n",
    "def gain(y, x):\n",
    "    return entropy(y) - condition_entropy(y, x)\n",
    "\n",
    "def gain_ratio(y, x):\n",
    "    '''\n",
    "    说明：计算y和x的信息增益比，注意这里是除以x的信息增益，也就是对x的取值的离散度计算一个惩罚值，最明显的就是ID字段\n",
    "    '''\n",
    "    return gain(y,x) / entropy(x)\n",
    "\n",
    "def gain_df(df, target):\n",
    "    dict_ = {}\n",
    "    y = df[target]\n",
    "    if y.dtype=='object':\n",
    "        y = le.fit_transform(y)\n",
    "    for col in df.columns:\n",
    "        if col == target:\n",
    "            continue\n",
    "        x = df[col]\n",
    "        if x.dtype=='object':\n",
    "            x = le.fit_transform(x)\n",
    "        dict_[col] = (gain(y,x),gain_ratio(y,x))\n",
    "    return sorted(dict_.items(),key=lambda v:v[1][1],reverse=True)"
   ]
  },
  {
   "cell_type": "code",
   "execution_count": 126,
   "metadata": {},
   "outputs": [],
   "source": [
    "def barplot(col_data):\n",
    "    vc = col_data.value_counts()\n",
    "    sns.barplot(x=list(vc.index), y=list(vc.values), palette=\"rocket\")"
   ]
  },
  {
   "cell_type": "markdown",
   "metadata": {},
   "source": [
    "## 3.3 Dealing with Missing Values"
   ]
  },
  {
   "cell_type": "code",
   "execution_count": 9,
   "metadata": {
    "scrolled": false
   },
   "outputs": [
    {
     "name": "stdout",
     "output_type": "stream",
     "text": [
      "All data columns with null values:\n",
      "\n",
      "GarageArea         1\n",
      "SaleType           1\n",
      "KitchenQual        1\n",
      "BsmtFinSF1         1\n",
      "BsmtFinSF2         1\n",
      "GarageCars         1\n",
      "TotalBsmtSF        1\n",
      "Exterior2nd        1\n",
      "Exterior1st        1\n",
      "BsmtUnfSF          1\n",
      "Electrical         1\n",
      "Functional         2\n",
      "Utilities          2\n",
      "BsmtHalfBath       2\n",
      "BsmtFullBath       2\n",
      "MSZoning           4\n",
      "MasVnrArea        23\n",
      "MasVnrType        24\n",
      "BsmtFinType1      79\n",
      "BsmtFinType2      80\n",
      "BsmtQual          81\n",
      "BsmtCond          82\n",
      "BsmtExposure      82\n",
      "GarageType       157\n",
      "GarageYrBlt      159\n",
      "GarageFinish     159\n",
      "GarageCond       159\n",
      "GarageQual       159\n",
      "LotFrontage      486\n",
      "FireplaceQu     1420\n",
      "SalePrice       1459\n",
      "Fence           2348\n",
      "Alley           2721\n",
      "MiscFeature     2814\n",
      "PoolQC          2909\n",
      "dtype: int64\n",
      "['GarageArea', 'SaleType', 'KitchenQual', 'BsmtFinSF1', 'BsmtFinSF2', 'GarageCars', 'TotalBsmtSF', 'Exterior2nd', 'Exterior1st', 'BsmtUnfSF', 'Electrical', 'Functional', 'Utilities', 'BsmtHalfBath', 'BsmtFullBath', 'MSZoning', 'MasVnrArea', 'MasVnrType', 'BsmtFinType1', 'BsmtFinType2', 'BsmtQual', 'BsmtCond', 'BsmtExposure', 'GarageType', 'GarageYrBlt', 'GarageFinish', 'GarageCond', 'GarageQual', 'LotFrontage', 'FireplaceQu', 'SalePrice', 'Fence', 'Alley', 'MiscFeature', 'PoolQC']\n"
     ]
    }
   ],
   "source": [
    "print 'All data columns with null values:\\n'\n",
    "missing_data = all_data.isnull().sum()[all_data.isnull().sum()>0].sort_values()\n",
    "missing_cols = list(missing_data.index)\n",
    "print missing_data\n",
    "print missing_cols"
   ]
  },
  {
   "cell_type": "markdown",
   "metadata": {},
   "source": [
    "**缺失数据分析**\n",
    "\n",
    "缺失通常有两个原因，一个是技术性缺失，一个是合理性缺失，通常技术性缺失需要通过某些方式来填充或者无法填充可能会丢弃，具体看该字段缺失情况以及是否与目标字段相关性强，而合理性缺失通常用一个特殊值来表示缺失，即缺失也是一种取值，或者压根不补充都是可以的；\n",
    "\n",
    "处理过程由缺失数量少的一组一组的开始依次进行；"
   ]
  },
  {
   "cell_type": "markdown",
   "metadata": {},
   "source": [
    "### 3.3.1 Garage部分\n",
    "\n",
    "- GarageArea：1；\n",
    "- GarageCars：1；\n",
    "- GarageType：157；\n",
    "- GarageYrBlt：159；\n",
    "- GarageFinish：159；\n",
    "- GarageCond：159；\n",
    "- GarageQual：159；"
   ]
  },
  {
   "cell_type": "code",
   "execution_count": 10,
   "metadata": {},
   "outputs": [
    {
     "data": {
      "text/plain": [
       "['GarageArea',\n",
       " 'GarageCars',\n",
       " 'GarageCond',\n",
       " 'GarageFinish',\n",
       " 'GarageQual',\n",
       " 'GarageType',\n",
       " 'GarageYrBlt']"
      ]
     },
     "execution_count": 10,
     "metadata": {},
     "output_type": "execute_result"
    }
   ],
   "source": [
    "garage_list = [col for col in all_data.columns.tolist() if col.startswith('Garage')]\n",
    "garage_list"
   ]
  },
  {
   "cell_type": "markdown",
   "metadata": {},
   "source": [
    "#### GarageArea、GarageCars\n",
    "\n",
    "这两个都是缺失了一个值，可以看到是同一条数据缺失了Area和Cars，且Garage相关的只有一个Type有值，值为Detchd，表示Detached from home，即与家分离的车库，可以看到其他Detchd的数据其他字段是有值的，因此这个应该是技术性缺失，需要填充；"
   ]
  },
  {
   "cell_type": "code",
   "execution_count": 11,
   "metadata": {},
   "outputs": [
    {
     "data": {
      "text/html": [
       "<div>\n",
       "<style scoped>\n",
       "    .dataframe tbody tr th:only-of-type {\n",
       "        vertical-align: middle;\n",
       "    }\n",
       "\n",
       "    .dataframe tbody tr th {\n",
       "        vertical-align: top;\n",
       "    }\n",
       "\n",
       "    .dataframe thead th {\n",
       "        text-align: right;\n",
       "    }\n",
       "</style>\n",
       "<table border=\"1\" class=\"dataframe\">\n",
       "  <thead>\n",
       "    <tr style=\"text-align: right;\">\n",
       "      <th></th>\n",
       "      <th>GarageArea</th>\n",
       "      <th>GarageCars</th>\n",
       "      <th>GarageCond</th>\n",
       "      <th>GarageFinish</th>\n",
       "      <th>GarageQual</th>\n",
       "      <th>GarageType</th>\n",
       "      <th>GarageYrBlt</th>\n",
       "    </tr>\n",
       "  </thead>\n",
       "  <tbody>\n",
       "    <tr>\n",
       "      <th>2576</th>\n",
       "      <td>NaN</td>\n",
       "      <td>NaN</td>\n",
       "      <td>NaN</td>\n",
       "      <td>NaN</td>\n",
       "      <td>NaN</td>\n",
       "      <td>Detchd</td>\n",
       "      <td>NaN</td>\n",
       "    </tr>\n",
       "  </tbody>\n",
       "</table>\n",
       "</div>"
      ],
      "text/plain": [
       "      GarageArea  GarageCars GarageCond GarageFinish GarageQual GarageType  \\\n",
       "2576         NaN         NaN        NaN          NaN        NaN     Detchd   \n",
       "\n",
       "      GarageYrBlt  \n",
       "2576          NaN  "
      ]
     },
     "execution_count": 11,
     "metadata": {},
     "output_type": "execute_result"
    }
   ],
   "source": [
    "garage_data = all_data[garage_list][pd.isnull(all_data.GarageArea)]\n",
    "garage_data"
   ]
  },
  {
   "cell_type": "code",
   "execution_count": 12,
   "metadata": {},
   "outputs": [
    {
     "data": {
      "text/html": [
       "<div>\n",
       "<style scoped>\n",
       "    .dataframe tbody tr th:only-of-type {\n",
       "        vertical-align: middle;\n",
       "    }\n",
       "\n",
       "    .dataframe tbody tr th {\n",
       "        vertical-align: top;\n",
       "    }\n",
       "\n",
       "    .dataframe thead th {\n",
       "        text-align: right;\n",
       "    }\n",
       "</style>\n",
       "<table border=\"1\" class=\"dataframe\">\n",
       "  <thead>\n",
       "    <tr style=\"text-align: right;\">\n",
       "      <th></th>\n",
       "      <th>GarageArea</th>\n",
       "      <th>GarageCars</th>\n",
       "      <th>GarageCond</th>\n",
       "      <th>GarageFinish</th>\n",
       "      <th>GarageQual</th>\n",
       "      <th>GarageType</th>\n",
       "      <th>GarageYrBlt</th>\n",
       "    </tr>\n",
       "  </thead>\n",
       "  <tbody>\n",
       "    <tr>\n",
       "      <th>26</th>\n",
       "      <td>576.0</td>\n",
       "      <td>2.0</td>\n",
       "      <td>TA</td>\n",
       "      <td>Unf</td>\n",
       "      <td>TA</td>\n",
       "      <td>Detchd</td>\n",
       "      <td>2005.0</td>\n",
       "    </tr>\n",
       "    <tr>\n",
       "      <th>1432</th>\n",
       "      <td>216.0</td>\n",
       "      <td>1.0</td>\n",
       "      <td>Fa</td>\n",
       "      <td>Unf</td>\n",
       "      <td>Fa</td>\n",
       "      <td>Detchd</td>\n",
       "      <td>1928.0</td>\n",
       "    </tr>\n",
       "    <tr>\n",
       "      <th>2100</th>\n",
       "      <td>420.0</td>\n",
       "      <td>2.0</td>\n",
       "      <td>Po</td>\n",
       "      <td>Unf</td>\n",
       "      <td>Fa</td>\n",
       "      <td>Detchd</td>\n",
       "      <td>1950.0</td>\n",
       "    </tr>\n",
       "  </tbody>\n",
       "</table>\n",
       "</div>"
      ],
      "text/plain": [
       "      GarageArea  GarageCars GarageCond GarageFinish GarageQual GarageType  \\\n",
       "26         576.0         2.0         TA          Unf         TA     Detchd   \n",
       "1432       216.0         1.0         Fa          Unf         Fa     Detchd   \n",
       "2100       420.0         2.0         Po          Unf         Fa     Detchd   \n",
       "\n",
       "      GarageYrBlt  \n",
       "26         2005.0  \n",
       "1432       1928.0  \n",
       "2100       1950.0  "
      ]
     },
     "execution_count": 12,
     "metadata": {},
     "output_type": "execute_result"
    }
   ],
   "source": [
    "all_data[garage_list][all_data.GarageType == 'Detchd'].sample(3)"
   ]
  },
  {
   "cell_type": "markdown",
   "metadata": {},
   "source": [
    "计算相关性，寻找可能用于填充GarageArea和GarageCars的特征，因为Area和Cars相关性很高，因此计算其中一个就可以了，从结果上看相关性最高的5个字段，只有三个有值，分别是TotalBsmtSF地下室总面积、1stFlrSF一楼面积、OverallQual材料装修评级，其中OverallQual最高，那么就使用该字段填充area，再用area填充cars；"
   ]
  },
  {
   "cell_type": "code",
   "execution_count": 13,
   "metadata": {},
   "outputs": [
    {
     "data": {
      "text/html": [
       "<div>\n",
       "<style scoped>\n",
       "    .dataframe tbody tr th:only-of-type {\n",
       "        vertical-align: middle;\n",
       "    }\n",
       "\n",
       "    .dataframe tbody tr th {\n",
       "        vertical-align: top;\n",
       "    }\n",
       "\n",
       "    .dataframe thead th {\n",
       "        text-align: right;\n",
       "    }\n",
       "</style>\n",
       "<table border=\"1\" class=\"dataframe\">\n",
       "  <thead>\n",
       "    <tr style=\"text-align: right;\">\n",
       "      <th></th>\n",
       "      <th>Target</th>\n",
       "      <th>Source</th>\n",
       "      <th>Correlation Coefficient</th>\n",
       "    </tr>\n",
       "  </thead>\n",
       "  <tbody>\n",
       "    <tr>\n",
       "      <th>39</th>\n",
       "      <td>GarageArea</td>\n",
       "      <td>GarageCars</td>\n",
       "      <td>0.889700</td>\n",
       "    </tr>\n",
       "    <tr>\n",
       "      <th>63</th>\n",
       "      <td>GarageArea</td>\n",
       "      <td>SalePrice</td>\n",
       "      <td>0.623431</td>\n",
       "    </tr>\n",
       "    <tr>\n",
       "      <th>87</th>\n",
       "      <td>GarageArea</td>\n",
       "      <td>OverallQual</td>\n",
       "      <td>0.565122</td>\n",
       "    </tr>\n",
       "    <tr>\n",
       "      <th>93</th>\n",
       "      <td>GarageArea</td>\n",
       "      <td>GarageYrBlt</td>\n",
       "      <td>0.555836</td>\n",
       "    </tr>\n",
       "    <tr>\n",
       "      <th>117</th>\n",
       "      <td>GarageArea</td>\n",
       "      <td>1stFlrSF</td>\n",
       "      <td>0.492011</td>\n",
       "    </tr>\n",
       "    <tr>\n",
       "      <th>125</th>\n",
       "      <td>GarageArea</td>\n",
       "      <td>TotalBsmtSF</td>\n",
       "      <td>0.486067</td>\n",
       "    </tr>\n",
       "  </tbody>\n",
       "</table>\n",
       "</div>"
      ],
      "text/plain": [
       "         Target       Source  Correlation Coefficient\n",
       "39   GarageArea   GarageCars                 0.889700\n",
       "63   GarageArea    SalePrice                 0.623431\n",
       "87   GarageArea  OverallQual                 0.565122\n",
       "93   GarageArea  GarageYrBlt                 0.555836\n",
       "117  GarageArea     1stFlrSF                 0.492011\n",
       "125  GarageArea  TotalBsmtSF                 0.486067"
      ]
     },
     "execution_count": 13,
     "metadata": {},
     "output_type": "execute_result"
    }
   ],
   "source": [
    "corr_df(all_data, 'GarageArea', 0.2)[:6]"
   ]
  },
  {
   "cell_type": "code",
   "execution_count": 14,
   "metadata": {},
   "outputs": [
    {
     "data": {
      "text/html": [
       "<div>\n",
       "<style scoped>\n",
       "    .dataframe tbody tr th:only-of-type {\n",
       "        vertical-align: middle;\n",
       "    }\n",
       "\n",
       "    .dataframe tbody tr th {\n",
       "        vertical-align: top;\n",
       "    }\n",
       "\n",
       "    .dataframe thead th {\n",
       "        text-align: right;\n",
       "    }\n",
       "</style>\n",
       "<table border=\"1\" class=\"dataframe\">\n",
       "  <thead>\n",
       "    <tr style=\"text-align: right;\">\n",
       "      <th></th>\n",
       "      <th>OverallQual</th>\n",
       "      <th>GarageArea</th>\n",
       "      <th>GarageCars</th>\n",
       "      <th>GarageCond</th>\n",
       "      <th>GarageFinish</th>\n",
       "      <th>GarageQual</th>\n",
       "      <th>GarageType</th>\n",
       "      <th>GarageYrBlt</th>\n",
       "    </tr>\n",
       "  </thead>\n",
       "  <tbody>\n",
       "    <tr>\n",
       "      <th>2576</th>\n",
       "      <td>5</td>\n",
       "      <td>NaN</td>\n",
       "      <td>NaN</td>\n",
       "      <td>NaN</td>\n",
       "      <td>NaN</td>\n",
       "      <td>NaN</td>\n",
       "      <td>Detchd</td>\n",
       "      <td>NaN</td>\n",
       "    </tr>\n",
       "  </tbody>\n",
       "</table>\n",
       "</div>"
      ],
      "text/plain": [
       "      OverallQual  GarageArea  GarageCars GarageCond GarageFinish GarageQual  \\\n",
       "2576            5         NaN         NaN        NaN          NaN        NaN   \n",
       "\n",
       "     GarageType  GarageYrBlt  \n",
       "2576     Detchd          NaN  "
      ]
     },
     "execution_count": 14,
     "metadata": {},
     "output_type": "execute_result"
    }
   ],
   "source": [
    "all_data[['OverallQual']+garage_list][pd.isnull(all_data.GarageArea)]"
   ]
  },
  {
   "cell_type": "code",
   "execution_count": 15,
   "metadata": {},
   "outputs": [
    {
     "name": "stdout",
     "output_type": "stream",
     "text": [
      "Median area of OQ 7: 514.0\n",
      "Median area of OQ 6: 442.0\n",
      "Median area of OQ 8: 670.0\n",
      "Median area of OQ 5: 352.0\n",
      "Median area of OQ 9: 768.0\n",
      "Median area of OQ 4: 296.5\n",
      "Median area of OQ 10: 846.0\n",
      "Median area of OQ 3: 245.0\n",
      "Median area of OQ 1: 135.0\n",
      "Median area of OQ 2: 256.0\n",
      "Median area of all: 480.0\n"
     ]
    }
   ],
   "source": [
    "area_by_overallqual = all_data.groupby(['OverallQual']).median()['GarageArea']\n",
    "\n",
    "for oq in all_data.OverallQual.unique():\n",
    "    print('Median area of OQ {}: {}'.format(oq, area_by_overallqual[oq]))\n",
    "print('Median area of all: {}'.format(all_data['GarageArea'].median()))"
   ]
  },
  {
   "cell_type": "code",
   "execution_count": 16,
   "metadata": {},
   "outputs": [
    {
     "data": {
      "text/html": [
       "<div>\n",
       "<style scoped>\n",
       "    .dataframe tbody tr th:only-of-type {\n",
       "        vertical-align: middle;\n",
       "    }\n",
       "\n",
       "    .dataframe tbody tr th {\n",
       "        vertical-align: top;\n",
       "    }\n",
       "\n",
       "    .dataframe thead th {\n",
       "        text-align: right;\n",
       "    }\n",
       "</style>\n",
       "<table border=\"1\" class=\"dataframe\">\n",
       "  <thead>\n",
       "    <tr style=\"text-align: right;\">\n",
       "      <th></th>\n",
       "      <th>OverallQual</th>\n",
       "      <th>GarageType</th>\n",
       "      <th>GarageArea</th>\n",
       "    </tr>\n",
       "  </thead>\n",
       "  <tbody>\n",
       "    <tr>\n",
       "      <th>2576</th>\n",
       "      <td>5</td>\n",
       "      <td>Detchd</td>\n",
       "      <td>352.0</td>\n",
       "    </tr>\n",
       "  </tbody>\n",
       "</table>\n",
       "</div>"
      ],
      "text/plain": [
       "      OverallQual GarageType  GarageArea\n",
       "2576            5     Detchd       352.0"
      ]
     },
     "execution_count": 16,
     "metadata": {},
     "output_type": "execute_result"
    }
   ],
   "source": [
    "all_data['GarageArea'] = all_data.groupby(['OverallQual'])['GarageArea'].apply(lambda x: x.fillna(x.median()))\n",
    "all_data[['OverallQual']+['GarageType','GarageArea']][pd.isnull(all_data.GarageCars)]"
   ]
  },
  {
   "cell_type": "code",
   "execution_count": 17,
   "metadata": {},
   "outputs": [
    {
     "name": "stdout",
     "output_type": "stream",
     "text": [
      "Median cars of OQ 7: 2.0\n",
      "Median cars of OQ 6: 2.0\n",
      "Median cars of OQ 8: 2.0\n",
      "Median cars of OQ 5: 1.0\n",
      "Median cars of OQ 9: 3.0\n",
      "Median cars of OQ 4: 1.0\n",
      "Median cars of OQ 10: 3.0\n",
      "Median cars of OQ 3: 1.0\n",
      "Median cars of OQ 1: 0.5\n",
      "Median cars of OQ 2: 1.0\n",
      "Median cars of all: 2.0\n"
     ]
    }
   ],
   "source": [
    "cars_by_overallqual = all_data.groupby(['OverallQual']).median()['GarageCars']\n",
    "\n",
    "for oq in all_data.OverallQual.unique():\n",
    "    print('Median cars of OQ {}: {}'.format(oq, cars_by_overallqual[oq]))\n",
    "print('Median cars of all: {}'.format(all_data['GarageCars'].median()))"
   ]
  },
  {
   "cell_type": "code",
   "execution_count": 18,
   "metadata": {},
   "outputs": [
    {
     "data": {
      "text/plain": [
       "OverallQual         5\n",
       "GarageType     Detchd\n",
       "GarageCars          1\n",
       "Name: 2576, dtype: object"
      ]
     },
     "execution_count": 18,
     "metadata": {},
     "output_type": "execute_result"
    }
   ],
   "source": [
    "all_data['GarageCars'] = all_data.groupby(['OverallQual'])['GarageCars'].apply(lambda x: x.fillna(x.median()))\n",
    "all_data[['OverallQual']+['GarageType','GarageCars']].iloc[2576]"
   ]
  },
  {
   "cell_type": "markdown",
   "metadata": {},
   "source": [
    "#### GarageType、GarageYrBlt、GarageFinish、GarageCond、GarageQual\n",
    "\n",
    "Type缺失157个，其余缺失159个，也就是有两个是有Type而没有其他四个字段的，这两个要关注一下，其余157个考虑直接用None替代；"
   ]
  },
  {
   "cell_type": "code",
   "execution_count": 19,
   "metadata": {},
   "outputs": [
    {
     "data": {
      "text/html": [
       "<div>\n",
       "<style scoped>\n",
       "    .dataframe tbody tr th:only-of-type {\n",
       "        vertical-align: middle;\n",
       "    }\n",
       "\n",
       "    .dataframe tbody tr th {\n",
       "        vertical-align: top;\n",
       "    }\n",
       "\n",
       "    .dataframe thead th {\n",
       "        text-align: right;\n",
       "    }\n",
       "</style>\n",
       "<table border=\"1\" class=\"dataframe\">\n",
       "  <thead>\n",
       "    <tr style=\"text-align: right;\">\n",
       "      <th></th>\n",
       "      <th>GarageArea</th>\n",
       "      <th>GarageCars</th>\n",
       "      <th>GarageCond</th>\n",
       "      <th>GarageFinish</th>\n",
       "      <th>GarageQual</th>\n",
       "      <th>GarageType</th>\n",
       "      <th>GarageYrBlt</th>\n",
       "    </tr>\n",
       "  </thead>\n",
       "  <tbody>\n",
       "    <tr>\n",
       "      <th>2126</th>\n",
       "      <td>360.0</td>\n",
       "      <td>1.0</td>\n",
       "      <td>NaN</td>\n",
       "      <td>NaN</td>\n",
       "      <td>NaN</td>\n",
       "      <td>Detchd</td>\n",
       "      <td>NaN</td>\n",
       "    </tr>\n",
       "    <tr>\n",
       "      <th>2576</th>\n",
       "      <td>352.0</td>\n",
       "      <td>1.0</td>\n",
       "      <td>NaN</td>\n",
       "      <td>NaN</td>\n",
       "      <td>NaN</td>\n",
       "      <td>Detchd</td>\n",
       "      <td>NaN</td>\n",
       "    </tr>\n",
       "  </tbody>\n",
       "</table>\n",
       "</div>"
      ],
      "text/plain": [
       "      GarageArea  GarageCars GarageCond GarageFinish GarageQual GarageType  \\\n",
       "2126       360.0         1.0        NaN          NaN        NaN     Detchd   \n",
       "2576       352.0         1.0        NaN          NaN        NaN     Detchd   \n",
       "\n",
       "      GarageYrBlt  \n",
       "2126          NaN  \n",
       "2576          NaN  "
      ]
     },
     "execution_count": 19,
     "metadata": {},
     "output_type": "execute_result"
    }
   ],
   "source": [
    "all_data[garage_list][pd.isnull(all_data.GarageFinish)][all_data.GarageArea>0]"
   ]
  },
  {
   "cell_type": "markdown",
   "metadata": {},
   "source": [
    "可以看到，这两个特别的点又是Detchd的，也就是与家分离的车库，那么对这两个的填充，就基于Detchd；"
   ]
  },
  {
   "cell_type": "code",
   "execution_count": 20,
   "metadata": {},
   "outputs": [
    {
     "name": "stdout",
     "output_type": "stream",
     "text": [
      "GarageCond\n",
      "Po     12\n",
      "Fa     67\n",
      "TA    692\n",
      "Name: Id, dtype: int64\n",
      "GarageFinish\n",
      "Fin     24\n",
      "RFn     34\n",
      "Unf    719\n",
      "Name: Id, dtype: int64\n",
      "GarageQual\n",
      "Po      5\n",
      "Fa     97\n",
      "TA    667\n",
      "Name: Id, dtype: int64\n"
     ]
    }
   ],
   "source": [
    "print all_data[all_data.GarageType=='Detchd'].groupby('GarageCond')['Id'].count().sort_values()[-3:]\n",
    "print all_data[all_data.GarageType=='Detchd'].groupby('GarageFinish')['Id'].count().sort_values()[-3:]\n",
    "print all_data[all_data.GarageType=='Detchd'].groupby('GarageQual')['Id'].count().sort_values()[-3:]\n",
    "#print all_data[all_data.OverallQual==5][all_data.GarageType=='Detchd'][all_data.GarageFinish=='Unf'].groupby('GarageYrBlt')['Id'].count().sort_values()"
   ]
  },
  {
   "cell_type": "code",
   "execution_count": 21,
   "metadata": {},
   "outputs": [],
   "source": [
    "all_data[all_data.GarageArea>0][pd.isnull(all_data.GarageCond)]['GarageCond'] = 'TA'\n",
    "all_data[all_data.GarageArea>0][pd.isnull(all_data.GarageFinish)]['GarageFinish'] = 'Unf'\n",
    "all_data[all_data.GarageArea>0][pd.isnull(all_data.GarageQual)]['GarageQual'] = 'TA'"
   ]
  },
  {
   "cell_type": "markdown",
   "metadata": {},
   "source": [
    "对于GarageYrBlt，因此得到的数据过于零散，通过相关性来填充，能够看到，跟房屋建造年限有关，因此使用该字段进行填充；"
   ]
  },
  {
   "cell_type": "code",
   "execution_count": 22,
   "metadata": {},
   "outputs": [
    {
     "data": {
      "text/html": [
       "<div>\n",
       "<style scoped>\n",
       "    .dataframe tbody tr th:only-of-type {\n",
       "        vertical-align: middle;\n",
       "    }\n",
       "\n",
       "    .dataframe tbody tr th {\n",
       "        vertical-align: top;\n",
       "    }\n",
       "\n",
       "    .dataframe thead th {\n",
       "        text-align: right;\n",
       "    }\n",
       "</style>\n",
       "<table border=\"1\" class=\"dataframe\">\n",
       "  <thead>\n",
       "    <tr style=\"text-align: right;\">\n",
       "      <th></th>\n",
       "      <th>Target</th>\n",
       "      <th>Source</th>\n",
       "      <th>Correlation Coefficient</th>\n",
       "    </tr>\n",
       "  </thead>\n",
       "  <tbody>\n",
       "    <tr>\n",
       "      <th>40</th>\n",
       "      <td>GarageYrBlt</td>\n",
       "      <td>YearBuilt</td>\n",
       "      <td>0.834812</td>\n",
       "    </tr>\n",
       "    <tr>\n",
       "      <th>55</th>\n",
       "      <td>GarageYrBlt</td>\n",
       "      <td>YearRemodAdd</td>\n",
       "      <td>0.652365</td>\n",
       "    </tr>\n",
       "    <tr>\n",
       "      <th>76</th>\n",
       "      <td>GarageYrBlt</td>\n",
       "      <td>GarageCars</td>\n",
       "      <td>0.587712</td>\n",
       "    </tr>\n",
       "    <tr>\n",
       "      <th>82</th>\n",
       "      <td>GarageYrBlt</td>\n",
       "      <td>OverallQual</td>\n",
       "      <td>0.571803</td>\n",
       "    </tr>\n",
       "    <tr>\n",
       "      <th>92</th>\n",
       "      <td>GarageYrBlt</td>\n",
       "      <td>GarageArea</td>\n",
       "      <td>0.555836</td>\n",
       "    </tr>\n",
       "  </tbody>\n",
       "</table>\n",
       "</div>"
      ],
      "text/plain": [
       "         Target        Source  Correlation Coefficient\n",
       "40  GarageYrBlt     YearBuilt                 0.834812\n",
       "55  GarageYrBlt  YearRemodAdd                 0.652365\n",
       "76  GarageYrBlt    GarageCars                 0.587712\n",
       "82  GarageYrBlt   OverallQual                 0.571803\n",
       "92  GarageYrBlt    GarageArea                 0.555836"
      ]
     },
     "execution_count": 22,
     "metadata": {},
     "output_type": "execute_result"
    }
   ],
   "source": [
    "corr_df(all_data, 'GarageYrBlt', min_=0.2)[:5]"
   ]
  },
  {
   "cell_type": "code",
   "execution_count": 23,
   "metadata": {},
   "outputs": [
    {
     "name": "stdout",
     "output_type": "stream",
     "text": [
      "Median cars of OQ 2003: 2003.0\n",
      "Median cars of OQ 1976: 1976.0\n",
      "Median cars of OQ 2001: 2001.0\n",
      "Median cars of OQ 1915: 1950.0\n",
      "Median cars of OQ 2000: 2000.0\n",
      "Median cars of OQ 1993: 1993.0\n",
      "Median cars of OQ 2004: 2004.0\n",
      "Median cars of OQ 1973: 1973.0\n",
      "Median cars of OQ 1931: 1931.0\n",
      "Median cars of OQ 1939: 1939.0\n",
      "Median cars of OQ 1965: 1965.0\n",
      "Median cars of OQ 2005: 2005.0\n",
      "Median cars of OQ 1962: 1962.0\n",
      "Median cars of OQ 2006: 2006.0\n",
      "Median cars of OQ 1960: 1960.0\n",
      "Median cars of OQ 1929: 1970.5\n",
      "Median cars of OQ 1970: 1970.0\n",
      "Median cars of OQ 1967: 1967.0\n",
      "Median cars of OQ 1958: 1958.0\n",
      "Median cars of OQ 1930: 1930.0\n",
      "Median cars of OQ 2002: 2002.0\n",
      "Median cars of OQ 1968: 1968.0\n",
      "Median cars of OQ 2007: 2007.0\n",
      "Median cars of OQ 1951: 1951.0\n",
      "Median cars of OQ 1957: 1957.0\n",
      "Median cars of OQ 1927: 1927.0\n",
      "Median cars of OQ 1920: 1925.0\n",
      "Median cars of OQ 1966: 1966.0\n",
      "Median cars of OQ 1959: 1959.0\n",
      "Median cars of OQ 1994: 1994.0\n",
      "Median cars of OQ 1954: 1954.0\n",
      "Median cars of OQ 1953: 1953.0\n",
      "Median cars of OQ 1955: 1955.0\n",
      "Median cars of OQ 1983: 1983.0\n",
      "Median cars of OQ 1975: 1975.0\n",
      "Median cars of OQ 1997: 1997.0\n",
      "Median cars of OQ 1934: 1939.0\n",
      "Median cars of OQ 1963: 1963.0\n",
      "Median cars of OQ 1981: 1981.0\n",
      "Median cars of OQ 1964: 1964.0\n",
      "Median cars of OQ 1999: 1999.0\n",
      "Median cars of OQ 1972: 1972.0\n",
      "Median cars of OQ 1921: 1950.0\n",
      "Median cars of OQ 1945: 1945.0\n",
      "Median cars of OQ 1982: 1983.0\n",
      "Median cars of OQ 1998: 1998.0\n",
      "Median cars of OQ 1956: 1956.0\n",
      "Median cars of OQ 1948: 1948.0\n",
      "Median cars of OQ 1910: 1950.0\n",
      "Median cars of OQ 1995: 1995.0\n",
      "Median cars of OQ 1991: 1991.0\n",
      "Median cars of OQ 2009: 2009.0\n",
      "Median cars of OQ 1950: 1950.0\n",
      "Median cars of OQ 1961: 1961.0\n",
      "Median cars of OQ 1977: 1977.0\n",
      "Median cars of OQ 1985: 1985.0\n",
      "Median cars of OQ 1979: 1979.0\n",
      "Median cars of OQ 1885: 1962.5\n",
      "Median cars of OQ 1919: 1940.0\n",
      "Median cars of OQ 1990: 1990.0\n",
      "Median cars of OQ 1969: 1969.0\n",
      "Median cars of OQ 1935: 1939.0\n",
      "Median cars of OQ 1988: 1988.0\n",
      "Median cars of OQ 1971: 1971.0\n",
      "Median cars of OQ 1952: 1952.0\n",
      "Median cars of OQ 1936: 1936.0\n",
      "Median cars of OQ 1923: 1923.0\n",
      "Median cars of OQ 1924: 1924.0\n",
      "Median cars of OQ 1984: 1984.0\n",
      "Median cars of OQ 1926: 1926.0\n",
      "Median cars of OQ 1940: 1940.0\n",
      "Median cars of OQ 1941: 1941.0\n",
      "Median cars of OQ 1987: 1987.0\n",
      "Median cars of OQ 1986: 1986.0\n",
      "Median cars of OQ 2008: 2008.0\n",
      "Median cars of OQ 1908: 1947.0\n",
      "Median cars of OQ 1892: 1989.0\n",
      "Median cars of OQ 1916: 1916.0\n",
      "Median cars of OQ 1932: 1963.0\n",
      "Median cars of OQ 1918: 1950.0\n",
      "Median cars of OQ 1912: 1997.0\n",
      "Median cars of OQ 1947: 1947.0\n",
      "Median cars of OQ 1925: 1934.0\n",
      "Median cars of OQ 1900: 1942.5\n",
      "Median cars of OQ 1980: 1980.0\n",
      "Median cars of OQ 1989: 1989.0\n",
      "Median cars of OQ 1992: 1992.0\n",
      "Median cars of OQ 1949: 1949.0\n",
      "Median cars of OQ 1880: 1937.0\n",
      "Median cars of OQ 1928: 1929.0\n",
      "Median cars of OQ 1978: 1978.0\n",
      "Median cars of OQ 1922: 1922.0\n",
      "Median cars of OQ 1996: 1996.0\n",
      "Median cars of OQ 2010: 2010.0\n",
      "Median cars of OQ 1946: 1946.0\n",
      "Median cars of OQ 1913: 1990.0\n",
      "Median cars of OQ 1937: 1939.0\n",
      "Median cars of OQ 1942: 1942.0\n",
      "Median cars of OQ 1938: 1938.0\n",
      "Median cars of OQ 1974: 1974.0\n",
      "Median cars of OQ 1893: 1988.0\n",
      "Median cars of OQ 1914: 1926.0\n",
      "Median cars of OQ 1906: 1906.0\n",
      "Median cars of OQ 1890: 1963.0\n",
      "Median cars of OQ 1898: 1910.0\n",
      "Median cars of OQ 1904: 1983.0\n",
      "Median cars of OQ 1882: 1925.0\n",
      "Median cars of OQ 1875: nan\n",
      "Median cars of OQ 1911: nan\n",
      "Median cars of OQ 1917: 1917.0\n",
      "Median cars of OQ 1872: nan\n",
      "Median cars of OQ 1905: 1966.5\n",
      "Median cars of OQ 1907: nan\n",
      "Median cars of OQ 1896: 1896.0\n",
      "Median cars of OQ 1902: nan\n",
      "Median cars of OQ 1895: 1895.0\n",
      "Median cars of OQ 1879: 1950.0\n",
      "Median cars of OQ 1901: 1920.0\n",
      "Median cars of all: 1979.0\n"
     ]
    }
   ],
   "source": [
    "yrblt_by_yearbuilt = all_data.groupby(['YearBuilt']).median()['GarageYrBlt']\n",
    "\n",
    "for oq in all_data.YearBuilt.unique():\n",
    "    print('Median cars of OQ {}: {}'.format(oq, yrblt_by_yearbuilt[oq]))\n",
    "print('Median cars of all: {}'.format(all_data['GarageYrBlt'].median()))"
   ]
  },
  {
   "cell_type": "code",
   "execution_count": 24,
   "metadata": {},
   "outputs": [
    {
     "data": {
      "text/html": [
       "<div>\n",
       "<style scoped>\n",
       "    .dataframe tbody tr th:only-of-type {\n",
       "        vertical-align: middle;\n",
       "    }\n",
       "\n",
       "    .dataframe tbody tr th {\n",
       "        vertical-align: top;\n",
       "    }\n",
       "\n",
       "    .dataframe thead th {\n",
       "        text-align: right;\n",
       "    }\n",
       "</style>\n",
       "<table border=\"1\" class=\"dataframe\">\n",
       "  <thead>\n",
       "    <tr style=\"text-align: right;\">\n",
       "      <th></th>\n",
       "      <th>YearBuilt</th>\n",
       "      <th>GarageYrBlt</th>\n",
       "    </tr>\n",
       "  </thead>\n",
       "  <tbody>\n",
       "    <tr>\n",
       "      <th>2126</th>\n",
       "      <td>1910</td>\n",
       "      <td>1950.0</td>\n",
       "    </tr>\n",
       "    <tr>\n",
       "      <th>2576</th>\n",
       "      <td>1923</td>\n",
       "      <td>1923.0</td>\n",
       "    </tr>\n",
       "  </tbody>\n",
       "</table>\n",
       "</div>"
      ],
      "text/plain": [
       "      YearBuilt  GarageYrBlt\n",
       "2126       1910       1950.0\n",
       "2576       1923       1923.0"
      ]
     },
     "execution_count": 24,
     "metadata": {},
     "output_type": "execute_result"
    }
   ],
   "source": [
    "all_data['GarageYrBlt'] = all_data.groupby(['YearBuilt'])['GarageYrBlt'].apply(lambda x: x.fillna(x.median()))\n",
    "all_data[['YearBuilt','GarageYrBlt']].iloc[[2126,2576]]"
   ]
  },
  {
   "cell_type": "markdown",
   "metadata": {},
   "source": [
    "下面检查另外157个缺失是否都是因为没有车库导致的，如果是那么用'None'填充，通过打印可以看到157个都满足面积为0，因此这157个case都是没有车库，那么GarageType填充为'None'、GarageYrBlt填充为0（填充为0表示没有车库的车库建造年限字段，后续注意，另外在qcut时，0会跟最老的年限合到一起，可以理解为很久的车库跟没有一样，这样处理应该合理一些）、GarageFinish填充为'None'、GarageCond填充为'None'、GarageQua填充为'None'；"
   ]
  },
  {
   "cell_type": "code",
   "execution_count": 25,
   "metadata": {},
   "outputs": [
    {
     "name": "stdout",
     "output_type": "stream",
     "text": [
      "Size of finish is nan, area=0, cars=0 157\n"
     ]
    }
   ],
   "source": [
    "print 'Size of finish is nan, area=0, cars=0',len(all_data[garage_list][pd.isnull(all_data.GarageFinish)][all_data.GarageArea<=0.0][all_data.GarageCars==0.0])"
   ]
  },
  {
   "cell_type": "code",
   "execution_count": 26,
   "metadata": {},
   "outputs": [],
   "source": [
    "all_data.GarageType.fillna('None', inplace=True)\n",
    "all_data.GarageFinish.fillna('None', inplace=True)\n",
    "all_data.GarageCond.fillna('None', inplace=True)\n",
    "all_data.GarageQual.fillna('None', inplace=True)\n",
    "all_data.GarageYrBlt.fillna(0, inplace=True)"
   ]
  },
  {
   "cell_type": "markdown",
   "metadata": {},
   "source": [
    "#### 检查下Garage下是否还有nan\n",
    "\n",
    "可以看到已经全部被填充了；"
   ]
  },
  {
   "cell_type": "code",
   "execution_count": 27,
   "metadata": {},
   "outputs": [
    {
     "data": {
      "text/plain": [
       "Series([], dtype: int64)"
      ]
     },
     "execution_count": 27,
     "metadata": {},
     "output_type": "execute_result"
    }
   ],
   "source": [
    "all_data[garage_list].isnull().sum()[all_data.isnull().sum()>0].sort_values()"
   ]
  },
  {
   "cell_type": "markdown",
   "metadata": {},
   "source": [
    "### 3.3.2 Bsmt部分\n",
    "\n",
    "- TotalBsmtSF：1，地下室面积\n",
    "- BsmtFinSF1：1，1完工面积\n",
    "- BsmtFinSF2：1，2完工面积\n",
    "- BsmtUnfSF：1，地下室未完面积\n",
    "- BsmtHalfBath：2，地下室半浴室个数\n",
    "- BsmtFullBath：2，地下室全浴室个数\n",
    "- BsmtFinType1：79，地下室1完工面积等级\n",
    "- BsmtFinType2：80，地下室2完工面积等级\n",
    "- BsmtQual：81，地下室高度评价\n",
    "- BsmtCond：82，地下室整体情况\n",
    "- BsmtExposure：82，地下室曝光情况"
   ]
  },
  {
   "cell_type": "code",
   "execution_count": 28,
   "metadata": {},
   "outputs": [
    {
     "data": {
      "text/plain": [
       "['BsmtCond',\n",
       " 'BsmtExposure',\n",
       " 'BsmtFinSF1',\n",
       " 'BsmtFinSF2',\n",
       " 'BsmtFinType1',\n",
       " 'BsmtFinType2',\n",
       " 'BsmtFullBath',\n",
       " 'BsmtHalfBath',\n",
       " 'BsmtQual',\n",
       " 'BsmtUnfSF',\n",
       " 'TotalBsmtSF']"
      ]
     },
     "execution_count": 28,
     "metadata": {},
     "output_type": "execute_result"
    }
   ],
   "source": [
    "bsmt_list = [col for col in all_data.columns.tolist() if col.find('Bsmt')!=-1]\n",
    "bsmt_list"
   ]
  },
  {
   "cell_type": "markdown",
   "metadata": {},
   "source": [
    "#### BsmtFinType1、BsmtFinType2、BsmtQual、BsmtCond、BsmtExposure\n",
    "\n",
    "从这五个开始因为在文档中说明，这5个字段为null表示没有车库，而这五个的缺失不是一致的，最少的是Type1为79，最多为Cond和Exposure为82，因此先从Type1开始，看到这79个地下室相关均为NaN和0，因此直接填充即可，字符枚举用'None'，数值用0；"
   ]
  },
  {
   "cell_type": "code",
   "execution_count": 29,
   "metadata": {},
   "outputs": [
    {
     "data": {
      "text/html": [
       "<div>\n",
       "<style scoped>\n",
       "    .dataframe tbody tr th:only-of-type {\n",
       "        vertical-align: middle;\n",
       "    }\n",
       "\n",
       "    .dataframe tbody tr th {\n",
       "        vertical-align: top;\n",
       "    }\n",
       "\n",
       "    .dataframe thead th {\n",
       "        text-align: right;\n",
       "    }\n",
       "</style>\n",
       "<table border=\"1\" class=\"dataframe\">\n",
       "  <thead>\n",
       "    <tr style=\"text-align: right;\">\n",
       "      <th></th>\n",
       "      <th>BsmtCond</th>\n",
       "      <th>BsmtExposure</th>\n",
       "      <th>BsmtFinSF1</th>\n",
       "      <th>BsmtFinSF2</th>\n",
       "      <th>BsmtFinType1</th>\n",
       "      <th>BsmtFinType2</th>\n",
       "      <th>BsmtFullBath</th>\n",
       "      <th>BsmtHalfBath</th>\n",
       "      <th>BsmtQual</th>\n",
       "      <th>BsmtUnfSF</th>\n",
       "      <th>TotalBsmtSF</th>\n",
       "    </tr>\n",
       "  </thead>\n",
       "  <tbody>\n",
       "    <tr>\n",
       "      <th>17</th>\n",
       "      <td>NaN</td>\n",
       "      <td>NaN</td>\n",
       "      <td>0.0</td>\n",
       "      <td>0.0</td>\n",
       "      <td>NaN</td>\n",
       "      <td>NaN</td>\n",
       "      <td>0.0</td>\n",
       "      <td>0.0</td>\n",
       "      <td>NaN</td>\n",
       "      <td>0.0</td>\n",
       "      <td>0.0</td>\n",
       "    </tr>\n",
       "    <tr>\n",
       "      <th>39</th>\n",
       "      <td>NaN</td>\n",
       "      <td>NaN</td>\n",
       "      <td>0.0</td>\n",
       "      <td>0.0</td>\n",
       "      <td>NaN</td>\n",
       "      <td>NaN</td>\n",
       "      <td>0.0</td>\n",
       "      <td>0.0</td>\n",
       "      <td>NaN</td>\n",
       "      <td>0.0</td>\n",
       "      <td>0.0</td>\n",
       "    </tr>\n",
       "    <tr>\n",
       "      <th>90</th>\n",
       "      <td>NaN</td>\n",
       "      <td>NaN</td>\n",
       "      <td>0.0</td>\n",
       "      <td>0.0</td>\n",
       "      <td>NaN</td>\n",
       "      <td>NaN</td>\n",
       "      <td>0.0</td>\n",
       "      <td>0.0</td>\n",
       "      <td>NaN</td>\n",
       "      <td>0.0</td>\n",
       "      <td>0.0</td>\n",
       "    </tr>\n",
       "    <tr>\n",
       "      <th>102</th>\n",
       "      <td>NaN</td>\n",
       "      <td>NaN</td>\n",
       "      <td>0.0</td>\n",
       "      <td>0.0</td>\n",
       "      <td>NaN</td>\n",
       "      <td>NaN</td>\n",
       "      <td>0.0</td>\n",
       "      <td>0.0</td>\n",
       "      <td>NaN</td>\n",
       "      <td>0.0</td>\n",
       "      <td>0.0</td>\n",
       "    </tr>\n",
       "    <tr>\n",
       "      <th>156</th>\n",
       "      <td>NaN</td>\n",
       "      <td>NaN</td>\n",
       "      <td>0.0</td>\n",
       "      <td>0.0</td>\n",
       "      <td>NaN</td>\n",
       "      <td>NaN</td>\n",
       "      <td>0.0</td>\n",
       "      <td>0.0</td>\n",
       "      <td>NaN</td>\n",
       "      <td>0.0</td>\n",
       "      <td>0.0</td>\n",
       "    </tr>\n",
       "    <tr>\n",
       "      <th>182</th>\n",
       "      <td>NaN</td>\n",
       "      <td>NaN</td>\n",
       "      <td>0.0</td>\n",
       "      <td>0.0</td>\n",
       "      <td>NaN</td>\n",
       "      <td>NaN</td>\n",
       "      <td>0.0</td>\n",
       "      <td>0.0</td>\n",
       "      <td>NaN</td>\n",
       "      <td>0.0</td>\n",
       "      <td>0.0</td>\n",
       "    </tr>\n",
       "    <tr>\n",
       "      <th>259</th>\n",
       "      <td>NaN</td>\n",
       "      <td>NaN</td>\n",
       "      <td>0.0</td>\n",
       "      <td>0.0</td>\n",
       "      <td>NaN</td>\n",
       "      <td>NaN</td>\n",
       "      <td>0.0</td>\n",
       "      <td>0.0</td>\n",
       "      <td>NaN</td>\n",
       "      <td>0.0</td>\n",
       "      <td>0.0</td>\n",
       "    </tr>\n",
       "    <tr>\n",
       "      <th>342</th>\n",
       "      <td>NaN</td>\n",
       "      <td>NaN</td>\n",
       "      <td>0.0</td>\n",
       "      <td>0.0</td>\n",
       "      <td>NaN</td>\n",
       "      <td>NaN</td>\n",
       "      <td>0.0</td>\n",
       "      <td>0.0</td>\n",
       "      <td>NaN</td>\n",
       "      <td>0.0</td>\n",
       "      <td>0.0</td>\n",
       "    </tr>\n",
       "    <tr>\n",
       "      <th>362</th>\n",
       "      <td>NaN</td>\n",
       "      <td>NaN</td>\n",
       "      <td>0.0</td>\n",
       "      <td>0.0</td>\n",
       "      <td>NaN</td>\n",
       "      <td>NaN</td>\n",
       "      <td>0.0</td>\n",
       "      <td>0.0</td>\n",
       "      <td>NaN</td>\n",
       "      <td>0.0</td>\n",
       "      <td>0.0</td>\n",
       "    </tr>\n",
       "    <tr>\n",
       "      <th>371</th>\n",
       "      <td>NaN</td>\n",
       "      <td>NaN</td>\n",
       "      <td>0.0</td>\n",
       "      <td>0.0</td>\n",
       "      <td>NaN</td>\n",
       "      <td>NaN</td>\n",
       "      <td>0.0</td>\n",
       "      <td>0.0</td>\n",
       "      <td>NaN</td>\n",
       "      <td>0.0</td>\n",
       "      <td>0.0</td>\n",
       "    </tr>\n",
       "    <tr>\n",
       "      <th>392</th>\n",
       "      <td>NaN</td>\n",
       "      <td>NaN</td>\n",
       "      <td>0.0</td>\n",
       "      <td>0.0</td>\n",
       "      <td>NaN</td>\n",
       "      <td>NaN</td>\n",
       "      <td>0.0</td>\n",
       "      <td>0.0</td>\n",
       "      <td>NaN</td>\n",
       "      <td>0.0</td>\n",
       "      <td>0.0</td>\n",
       "    </tr>\n",
       "    <tr>\n",
       "      <th>520</th>\n",
       "      <td>NaN</td>\n",
       "      <td>NaN</td>\n",
       "      <td>0.0</td>\n",
       "      <td>0.0</td>\n",
       "      <td>NaN</td>\n",
       "      <td>NaN</td>\n",
       "      <td>0.0</td>\n",
       "      <td>0.0</td>\n",
       "      <td>NaN</td>\n",
       "      <td>0.0</td>\n",
       "      <td>0.0</td>\n",
       "    </tr>\n",
       "    <tr>\n",
       "      <th>532</th>\n",
       "      <td>NaN</td>\n",
       "      <td>NaN</td>\n",
       "      <td>0.0</td>\n",
       "      <td>0.0</td>\n",
       "      <td>NaN</td>\n",
       "      <td>NaN</td>\n",
       "      <td>0.0</td>\n",
       "      <td>0.0</td>\n",
       "      <td>NaN</td>\n",
       "      <td>0.0</td>\n",
       "      <td>0.0</td>\n",
       "    </tr>\n",
       "    <tr>\n",
       "      <th>533</th>\n",
       "      <td>NaN</td>\n",
       "      <td>NaN</td>\n",
       "      <td>0.0</td>\n",
       "      <td>0.0</td>\n",
       "      <td>NaN</td>\n",
       "      <td>NaN</td>\n",
       "      <td>0.0</td>\n",
       "      <td>0.0</td>\n",
       "      <td>NaN</td>\n",
       "      <td>0.0</td>\n",
       "      <td>0.0</td>\n",
       "    </tr>\n",
       "    <tr>\n",
       "      <th>553</th>\n",
       "      <td>NaN</td>\n",
       "      <td>NaN</td>\n",
       "      <td>0.0</td>\n",
       "      <td>0.0</td>\n",
       "      <td>NaN</td>\n",
       "      <td>NaN</td>\n",
       "      <td>0.0</td>\n",
       "      <td>0.0</td>\n",
       "      <td>NaN</td>\n",
       "      <td>0.0</td>\n",
       "      <td>0.0</td>\n",
       "    </tr>\n",
       "    <tr>\n",
       "      <th>646</th>\n",
       "      <td>NaN</td>\n",
       "      <td>NaN</td>\n",
       "      <td>0.0</td>\n",
       "      <td>0.0</td>\n",
       "      <td>NaN</td>\n",
       "      <td>NaN</td>\n",
       "      <td>0.0</td>\n",
       "      <td>0.0</td>\n",
       "      <td>NaN</td>\n",
       "      <td>0.0</td>\n",
       "      <td>0.0</td>\n",
       "    </tr>\n",
       "    <tr>\n",
       "      <th>705</th>\n",
       "      <td>NaN</td>\n",
       "      <td>NaN</td>\n",
       "      <td>0.0</td>\n",
       "      <td>0.0</td>\n",
       "      <td>NaN</td>\n",
       "      <td>NaN</td>\n",
       "      <td>0.0</td>\n",
       "      <td>0.0</td>\n",
       "      <td>NaN</td>\n",
       "      <td>0.0</td>\n",
       "      <td>0.0</td>\n",
       "    </tr>\n",
       "    <tr>\n",
       "      <th>736</th>\n",
       "      <td>NaN</td>\n",
       "      <td>NaN</td>\n",
       "      <td>0.0</td>\n",
       "      <td>0.0</td>\n",
       "      <td>NaN</td>\n",
       "      <td>NaN</td>\n",
       "      <td>0.0</td>\n",
       "      <td>0.0</td>\n",
       "      <td>NaN</td>\n",
       "      <td>0.0</td>\n",
       "      <td>0.0</td>\n",
       "    </tr>\n",
       "    <tr>\n",
       "      <th>749</th>\n",
       "      <td>NaN</td>\n",
       "      <td>NaN</td>\n",
       "      <td>0.0</td>\n",
       "      <td>0.0</td>\n",
       "      <td>NaN</td>\n",
       "      <td>NaN</td>\n",
       "      <td>0.0</td>\n",
       "      <td>0.0</td>\n",
       "      <td>NaN</td>\n",
       "      <td>0.0</td>\n",
       "      <td>0.0</td>\n",
       "    </tr>\n",
       "    <tr>\n",
       "      <th>778</th>\n",
       "      <td>NaN</td>\n",
       "      <td>NaN</td>\n",
       "      <td>0.0</td>\n",
       "      <td>0.0</td>\n",
       "      <td>NaN</td>\n",
       "      <td>NaN</td>\n",
       "      <td>0.0</td>\n",
       "      <td>0.0</td>\n",
       "      <td>NaN</td>\n",
       "      <td>0.0</td>\n",
       "      <td>0.0</td>\n",
       "    </tr>\n",
       "    <tr>\n",
       "      <th>868</th>\n",
       "      <td>NaN</td>\n",
       "      <td>NaN</td>\n",
       "      <td>0.0</td>\n",
       "      <td>0.0</td>\n",
       "      <td>NaN</td>\n",
       "      <td>NaN</td>\n",
       "      <td>0.0</td>\n",
       "      <td>0.0</td>\n",
       "      <td>NaN</td>\n",
       "      <td>0.0</td>\n",
       "      <td>0.0</td>\n",
       "    </tr>\n",
       "    <tr>\n",
       "      <th>894</th>\n",
       "      <td>NaN</td>\n",
       "      <td>NaN</td>\n",
       "      <td>0.0</td>\n",
       "      <td>0.0</td>\n",
       "      <td>NaN</td>\n",
       "      <td>NaN</td>\n",
       "      <td>0.0</td>\n",
       "      <td>0.0</td>\n",
       "      <td>NaN</td>\n",
       "      <td>0.0</td>\n",
       "      <td>0.0</td>\n",
       "    </tr>\n",
       "    <tr>\n",
       "      <th>897</th>\n",
       "      <td>NaN</td>\n",
       "      <td>NaN</td>\n",
       "      <td>0.0</td>\n",
       "      <td>0.0</td>\n",
       "      <td>NaN</td>\n",
       "      <td>NaN</td>\n",
       "      <td>0.0</td>\n",
       "      <td>0.0</td>\n",
       "      <td>NaN</td>\n",
       "      <td>0.0</td>\n",
       "      <td>0.0</td>\n",
       "    </tr>\n",
       "    <tr>\n",
       "      <th>984</th>\n",
       "      <td>NaN</td>\n",
       "      <td>NaN</td>\n",
       "      <td>0.0</td>\n",
       "      <td>0.0</td>\n",
       "      <td>NaN</td>\n",
       "      <td>NaN</td>\n",
       "      <td>0.0</td>\n",
       "      <td>0.0</td>\n",
       "      <td>NaN</td>\n",
       "      <td>0.0</td>\n",
       "      <td>0.0</td>\n",
       "    </tr>\n",
       "    <tr>\n",
       "      <th>1000</th>\n",
       "      <td>NaN</td>\n",
       "      <td>NaN</td>\n",
       "      <td>0.0</td>\n",
       "      <td>0.0</td>\n",
       "      <td>NaN</td>\n",
       "      <td>NaN</td>\n",
       "      <td>0.0</td>\n",
       "      <td>0.0</td>\n",
       "      <td>NaN</td>\n",
       "      <td>0.0</td>\n",
       "      <td>0.0</td>\n",
       "    </tr>\n",
       "    <tr>\n",
       "      <th>1011</th>\n",
       "      <td>NaN</td>\n",
       "      <td>NaN</td>\n",
       "      <td>0.0</td>\n",
       "      <td>0.0</td>\n",
       "      <td>NaN</td>\n",
       "      <td>NaN</td>\n",
       "      <td>0.0</td>\n",
       "      <td>0.0</td>\n",
       "      <td>NaN</td>\n",
       "      <td>0.0</td>\n",
       "      <td>0.0</td>\n",
       "    </tr>\n",
       "    <tr>\n",
       "      <th>1035</th>\n",
       "      <td>NaN</td>\n",
       "      <td>NaN</td>\n",
       "      <td>0.0</td>\n",
       "      <td>0.0</td>\n",
       "      <td>NaN</td>\n",
       "      <td>NaN</td>\n",
       "      <td>0.0</td>\n",
       "      <td>0.0</td>\n",
       "      <td>NaN</td>\n",
       "      <td>0.0</td>\n",
       "      <td>0.0</td>\n",
       "    </tr>\n",
       "    <tr>\n",
       "      <th>1045</th>\n",
       "      <td>NaN</td>\n",
       "      <td>NaN</td>\n",
       "      <td>0.0</td>\n",
       "      <td>0.0</td>\n",
       "      <td>NaN</td>\n",
       "      <td>NaN</td>\n",
       "      <td>0.0</td>\n",
       "      <td>0.0</td>\n",
       "      <td>NaN</td>\n",
       "      <td>0.0</td>\n",
       "      <td>0.0</td>\n",
       "    </tr>\n",
       "    <tr>\n",
       "      <th>1048</th>\n",
       "      <td>NaN</td>\n",
       "      <td>NaN</td>\n",
       "      <td>0.0</td>\n",
       "      <td>0.0</td>\n",
       "      <td>NaN</td>\n",
       "      <td>NaN</td>\n",
       "      <td>0.0</td>\n",
       "      <td>0.0</td>\n",
       "      <td>NaN</td>\n",
       "      <td>0.0</td>\n",
       "      <td>0.0</td>\n",
       "    </tr>\n",
       "    <tr>\n",
       "      <th>1049</th>\n",
       "      <td>NaN</td>\n",
       "      <td>NaN</td>\n",
       "      <td>0.0</td>\n",
       "      <td>0.0</td>\n",
       "      <td>NaN</td>\n",
       "      <td>NaN</td>\n",
       "      <td>0.0</td>\n",
       "      <td>0.0</td>\n",
       "      <td>NaN</td>\n",
       "      <td>0.0</td>\n",
       "      <td>0.0</td>\n",
       "    </tr>\n",
       "    <tr>\n",
       "      <th>...</th>\n",
       "      <td>...</td>\n",
       "      <td>...</td>\n",
       "      <td>...</td>\n",
       "      <td>...</td>\n",
       "      <td>...</td>\n",
       "      <td>...</td>\n",
       "      <td>...</td>\n",
       "      <td>...</td>\n",
       "      <td>...</td>\n",
       "      <td>...</td>\n",
       "      <td>...</td>\n",
       "    </tr>\n",
       "    <tr>\n",
       "      <th>2050</th>\n",
       "      <td>NaN</td>\n",
       "      <td>NaN</td>\n",
       "      <td>0.0</td>\n",
       "      <td>0.0</td>\n",
       "      <td>NaN</td>\n",
       "      <td>NaN</td>\n",
       "      <td>0.0</td>\n",
       "      <td>0.0</td>\n",
       "      <td>NaN</td>\n",
       "      <td>0.0</td>\n",
       "      <td>0.0</td>\n",
       "    </tr>\n",
       "    <tr>\n",
       "      <th>2066</th>\n",
       "      <td>NaN</td>\n",
       "      <td>NaN</td>\n",
       "      <td>0.0</td>\n",
       "      <td>0.0</td>\n",
       "      <td>NaN</td>\n",
       "      <td>NaN</td>\n",
       "      <td>0.0</td>\n",
       "      <td>0.0</td>\n",
       "      <td>NaN</td>\n",
       "      <td>0.0</td>\n",
       "      <td>0.0</td>\n",
       "    </tr>\n",
       "    <tr>\n",
       "      <th>2068</th>\n",
       "      <td>NaN</td>\n",
       "      <td>NaN</td>\n",
       "      <td>0.0</td>\n",
       "      <td>0.0</td>\n",
       "      <td>NaN</td>\n",
       "      <td>NaN</td>\n",
       "      <td>0.0</td>\n",
       "      <td>0.0</td>\n",
       "      <td>NaN</td>\n",
       "      <td>0.0</td>\n",
       "      <td>0.0</td>\n",
       "    </tr>\n",
       "    <tr>\n",
       "      <th>2120</th>\n",
       "      <td>NaN</td>\n",
       "      <td>NaN</td>\n",
       "      <td>NaN</td>\n",
       "      <td>NaN</td>\n",
       "      <td>NaN</td>\n",
       "      <td>NaN</td>\n",
       "      <td>NaN</td>\n",
       "      <td>NaN</td>\n",
       "      <td>NaN</td>\n",
       "      <td>NaN</td>\n",
       "      <td>NaN</td>\n",
       "    </tr>\n",
       "    <tr>\n",
       "      <th>2122</th>\n",
       "      <td>NaN</td>\n",
       "      <td>NaN</td>\n",
       "      <td>0.0</td>\n",
       "      <td>0.0</td>\n",
       "      <td>NaN</td>\n",
       "      <td>NaN</td>\n",
       "      <td>0.0</td>\n",
       "      <td>0.0</td>\n",
       "      <td>NaN</td>\n",
       "      <td>0.0</td>\n",
       "      <td>0.0</td>\n",
       "    </tr>\n",
       "    <tr>\n",
       "      <th>2188</th>\n",
       "      <td>NaN</td>\n",
       "      <td>NaN</td>\n",
       "      <td>0.0</td>\n",
       "      <td>0.0</td>\n",
       "      <td>NaN</td>\n",
       "      <td>NaN</td>\n",
       "      <td>NaN</td>\n",
       "      <td>NaN</td>\n",
       "      <td>NaN</td>\n",
       "      <td>0.0</td>\n",
       "      <td>0.0</td>\n",
       "    </tr>\n",
       "    <tr>\n",
       "      <th>2189</th>\n",
       "      <td>NaN</td>\n",
       "      <td>NaN</td>\n",
       "      <td>0.0</td>\n",
       "      <td>0.0</td>\n",
       "      <td>NaN</td>\n",
       "      <td>NaN</td>\n",
       "      <td>0.0</td>\n",
       "      <td>0.0</td>\n",
       "      <td>NaN</td>\n",
       "      <td>0.0</td>\n",
       "      <td>0.0</td>\n",
       "    </tr>\n",
       "    <tr>\n",
       "      <th>2190</th>\n",
       "      <td>NaN</td>\n",
       "      <td>NaN</td>\n",
       "      <td>0.0</td>\n",
       "      <td>0.0</td>\n",
       "      <td>NaN</td>\n",
       "      <td>NaN</td>\n",
       "      <td>0.0</td>\n",
       "      <td>0.0</td>\n",
       "      <td>NaN</td>\n",
       "      <td>0.0</td>\n",
       "      <td>0.0</td>\n",
       "    </tr>\n",
       "    <tr>\n",
       "      <th>2193</th>\n",
       "      <td>NaN</td>\n",
       "      <td>NaN</td>\n",
       "      <td>0.0</td>\n",
       "      <td>0.0</td>\n",
       "      <td>NaN</td>\n",
       "      <td>NaN</td>\n",
       "      <td>0.0</td>\n",
       "      <td>0.0</td>\n",
       "      <td>NaN</td>\n",
       "      <td>0.0</td>\n",
       "      <td>0.0</td>\n",
       "    </tr>\n",
       "    <tr>\n",
       "      <th>2216</th>\n",
       "      <td>NaN</td>\n",
       "      <td>NaN</td>\n",
       "      <td>0.0</td>\n",
       "      <td>0.0</td>\n",
       "      <td>NaN</td>\n",
       "      <td>NaN</td>\n",
       "      <td>0.0</td>\n",
       "      <td>0.0</td>\n",
       "      <td>NaN</td>\n",
       "      <td>0.0</td>\n",
       "      <td>0.0</td>\n",
       "    </tr>\n",
       "    <tr>\n",
       "      <th>2224</th>\n",
       "      <td>NaN</td>\n",
       "      <td>NaN</td>\n",
       "      <td>0.0</td>\n",
       "      <td>0.0</td>\n",
       "      <td>NaN</td>\n",
       "      <td>NaN</td>\n",
       "      <td>0.0</td>\n",
       "      <td>0.0</td>\n",
       "      <td>NaN</td>\n",
       "      <td>0.0</td>\n",
       "      <td>0.0</td>\n",
       "    </tr>\n",
       "    <tr>\n",
       "      <th>2387</th>\n",
       "      <td>NaN</td>\n",
       "      <td>NaN</td>\n",
       "      <td>0.0</td>\n",
       "      <td>0.0</td>\n",
       "      <td>NaN</td>\n",
       "      <td>NaN</td>\n",
       "      <td>0.0</td>\n",
       "      <td>0.0</td>\n",
       "      <td>NaN</td>\n",
       "      <td>0.0</td>\n",
       "      <td>0.0</td>\n",
       "    </tr>\n",
       "    <tr>\n",
       "      <th>2435</th>\n",
       "      <td>NaN</td>\n",
       "      <td>NaN</td>\n",
       "      <td>0.0</td>\n",
       "      <td>0.0</td>\n",
       "      <td>NaN</td>\n",
       "      <td>NaN</td>\n",
       "      <td>0.0</td>\n",
       "      <td>0.0</td>\n",
       "      <td>NaN</td>\n",
       "      <td>0.0</td>\n",
       "      <td>0.0</td>\n",
       "    </tr>\n",
       "    <tr>\n",
       "      <th>2452</th>\n",
       "      <td>NaN</td>\n",
       "      <td>NaN</td>\n",
       "      <td>0.0</td>\n",
       "      <td>0.0</td>\n",
       "      <td>NaN</td>\n",
       "      <td>NaN</td>\n",
       "      <td>0.0</td>\n",
       "      <td>0.0</td>\n",
       "      <td>NaN</td>\n",
       "      <td>0.0</td>\n",
       "      <td>0.0</td>\n",
       "    </tr>\n",
       "    <tr>\n",
       "      <th>2453</th>\n",
       "      <td>NaN</td>\n",
       "      <td>NaN</td>\n",
       "      <td>0.0</td>\n",
       "      <td>0.0</td>\n",
       "      <td>NaN</td>\n",
       "      <td>NaN</td>\n",
       "      <td>0.0</td>\n",
       "      <td>0.0</td>\n",
       "      <td>NaN</td>\n",
       "      <td>0.0</td>\n",
       "      <td>0.0</td>\n",
       "    </tr>\n",
       "    <tr>\n",
       "      <th>2490</th>\n",
       "      <td>NaN</td>\n",
       "      <td>NaN</td>\n",
       "      <td>0.0</td>\n",
       "      <td>0.0</td>\n",
       "      <td>NaN</td>\n",
       "      <td>NaN</td>\n",
       "      <td>0.0</td>\n",
       "      <td>0.0</td>\n",
       "      <td>NaN</td>\n",
       "      <td>0.0</td>\n",
       "      <td>0.0</td>\n",
       "    </tr>\n",
       "    <tr>\n",
       "      <th>2498</th>\n",
       "      <td>NaN</td>\n",
       "      <td>NaN</td>\n",
       "      <td>0.0</td>\n",
       "      <td>0.0</td>\n",
       "      <td>NaN</td>\n",
       "      <td>NaN</td>\n",
       "      <td>0.0</td>\n",
       "      <td>0.0</td>\n",
       "      <td>NaN</td>\n",
       "      <td>0.0</td>\n",
       "      <td>0.0</td>\n",
       "    </tr>\n",
       "    <tr>\n",
       "      <th>2547</th>\n",
       "      <td>NaN</td>\n",
       "      <td>NaN</td>\n",
       "      <td>0.0</td>\n",
       "      <td>0.0</td>\n",
       "      <td>NaN</td>\n",
       "      <td>NaN</td>\n",
       "      <td>0.0</td>\n",
       "      <td>0.0</td>\n",
       "      <td>NaN</td>\n",
       "      <td>0.0</td>\n",
       "      <td>0.0</td>\n",
       "    </tr>\n",
       "    <tr>\n",
       "      <th>2552</th>\n",
       "      <td>NaN</td>\n",
       "      <td>NaN</td>\n",
       "      <td>0.0</td>\n",
       "      <td>0.0</td>\n",
       "      <td>NaN</td>\n",
       "      <td>NaN</td>\n",
       "      <td>0.0</td>\n",
       "      <td>0.0</td>\n",
       "      <td>NaN</td>\n",
       "      <td>0.0</td>\n",
       "      <td>0.0</td>\n",
       "    </tr>\n",
       "    <tr>\n",
       "      <th>2564</th>\n",
       "      <td>NaN</td>\n",
       "      <td>NaN</td>\n",
       "      <td>0.0</td>\n",
       "      <td>0.0</td>\n",
       "      <td>NaN</td>\n",
       "      <td>NaN</td>\n",
       "      <td>0.0</td>\n",
       "      <td>0.0</td>\n",
       "      <td>NaN</td>\n",
       "      <td>0.0</td>\n",
       "      <td>0.0</td>\n",
       "    </tr>\n",
       "    <tr>\n",
       "      <th>2578</th>\n",
       "      <td>NaN</td>\n",
       "      <td>NaN</td>\n",
       "      <td>0.0</td>\n",
       "      <td>0.0</td>\n",
       "      <td>NaN</td>\n",
       "      <td>NaN</td>\n",
       "      <td>0.0</td>\n",
       "      <td>0.0</td>\n",
       "      <td>NaN</td>\n",
       "      <td>0.0</td>\n",
       "      <td>0.0</td>\n",
       "    </tr>\n",
       "    <tr>\n",
       "      <th>2599</th>\n",
       "      <td>NaN</td>\n",
       "      <td>NaN</td>\n",
       "      <td>0.0</td>\n",
       "      <td>0.0</td>\n",
       "      <td>NaN</td>\n",
       "      <td>NaN</td>\n",
       "      <td>0.0</td>\n",
       "      <td>0.0</td>\n",
       "      <td>NaN</td>\n",
       "      <td>0.0</td>\n",
       "      <td>0.0</td>\n",
       "    </tr>\n",
       "    <tr>\n",
       "      <th>2702</th>\n",
       "      <td>NaN</td>\n",
       "      <td>NaN</td>\n",
       "      <td>0.0</td>\n",
       "      <td>0.0</td>\n",
       "      <td>NaN</td>\n",
       "      <td>NaN</td>\n",
       "      <td>0.0</td>\n",
       "      <td>0.0</td>\n",
       "      <td>NaN</td>\n",
       "      <td>0.0</td>\n",
       "      <td>0.0</td>\n",
       "    </tr>\n",
       "    <tr>\n",
       "      <th>2763</th>\n",
       "      <td>NaN</td>\n",
       "      <td>NaN</td>\n",
       "      <td>0.0</td>\n",
       "      <td>0.0</td>\n",
       "      <td>NaN</td>\n",
       "      <td>NaN</td>\n",
       "      <td>0.0</td>\n",
       "      <td>0.0</td>\n",
       "      <td>NaN</td>\n",
       "      <td>0.0</td>\n",
       "      <td>0.0</td>\n",
       "    </tr>\n",
       "    <tr>\n",
       "      <th>2766</th>\n",
       "      <td>NaN</td>\n",
       "      <td>NaN</td>\n",
       "      <td>0.0</td>\n",
       "      <td>0.0</td>\n",
       "      <td>NaN</td>\n",
       "      <td>NaN</td>\n",
       "      <td>0.0</td>\n",
       "      <td>0.0</td>\n",
       "      <td>NaN</td>\n",
       "      <td>0.0</td>\n",
       "      <td>0.0</td>\n",
       "    </tr>\n",
       "    <tr>\n",
       "      <th>2803</th>\n",
       "      <td>NaN</td>\n",
       "      <td>NaN</td>\n",
       "      <td>0.0</td>\n",
       "      <td>0.0</td>\n",
       "      <td>NaN</td>\n",
       "      <td>NaN</td>\n",
       "      <td>0.0</td>\n",
       "      <td>0.0</td>\n",
       "      <td>NaN</td>\n",
       "      <td>0.0</td>\n",
       "      <td>0.0</td>\n",
       "    </tr>\n",
       "    <tr>\n",
       "      <th>2804</th>\n",
       "      <td>NaN</td>\n",
       "      <td>NaN</td>\n",
       "      <td>0.0</td>\n",
       "      <td>0.0</td>\n",
       "      <td>NaN</td>\n",
       "      <td>NaN</td>\n",
       "      <td>0.0</td>\n",
       "      <td>0.0</td>\n",
       "      <td>NaN</td>\n",
       "      <td>0.0</td>\n",
       "      <td>0.0</td>\n",
       "    </tr>\n",
       "    <tr>\n",
       "      <th>2824</th>\n",
       "      <td>NaN</td>\n",
       "      <td>NaN</td>\n",
       "      <td>0.0</td>\n",
       "      <td>0.0</td>\n",
       "      <td>NaN</td>\n",
       "      <td>NaN</td>\n",
       "      <td>0.0</td>\n",
       "      <td>0.0</td>\n",
       "      <td>NaN</td>\n",
       "      <td>0.0</td>\n",
       "      <td>0.0</td>\n",
       "    </tr>\n",
       "    <tr>\n",
       "      <th>2891</th>\n",
       "      <td>NaN</td>\n",
       "      <td>NaN</td>\n",
       "      <td>0.0</td>\n",
       "      <td>0.0</td>\n",
       "      <td>NaN</td>\n",
       "      <td>NaN</td>\n",
       "      <td>0.0</td>\n",
       "      <td>0.0</td>\n",
       "      <td>NaN</td>\n",
       "      <td>0.0</td>\n",
       "      <td>0.0</td>\n",
       "    </tr>\n",
       "    <tr>\n",
       "      <th>2904</th>\n",
       "      <td>NaN</td>\n",
       "      <td>NaN</td>\n",
       "      <td>0.0</td>\n",
       "      <td>0.0</td>\n",
       "      <td>NaN</td>\n",
       "      <td>NaN</td>\n",
       "      <td>0.0</td>\n",
       "      <td>0.0</td>\n",
       "      <td>NaN</td>\n",
       "      <td>0.0</td>\n",
       "      <td>0.0</td>\n",
       "    </tr>\n",
       "  </tbody>\n",
       "</table>\n",
       "<p>79 rows × 11 columns</p>\n",
       "</div>"
      ],
      "text/plain": [
       "     BsmtCond BsmtExposure  BsmtFinSF1  BsmtFinSF2 BsmtFinType1 BsmtFinType2  \\\n",
       "17        NaN          NaN         0.0         0.0          NaN          NaN   \n",
       "39        NaN          NaN         0.0         0.0          NaN          NaN   \n",
       "90        NaN          NaN         0.0         0.0          NaN          NaN   \n",
       "102       NaN          NaN         0.0         0.0          NaN          NaN   \n",
       "156       NaN          NaN         0.0         0.0          NaN          NaN   \n",
       "182       NaN          NaN         0.0         0.0          NaN          NaN   \n",
       "259       NaN          NaN         0.0         0.0          NaN          NaN   \n",
       "342       NaN          NaN         0.0         0.0          NaN          NaN   \n",
       "362       NaN          NaN         0.0         0.0          NaN          NaN   \n",
       "371       NaN          NaN         0.0         0.0          NaN          NaN   \n",
       "392       NaN          NaN         0.0         0.0          NaN          NaN   \n",
       "520       NaN          NaN         0.0         0.0          NaN          NaN   \n",
       "532       NaN          NaN         0.0         0.0          NaN          NaN   \n",
       "533       NaN          NaN         0.0         0.0          NaN          NaN   \n",
       "553       NaN          NaN         0.0         0.0          NaN          NaN   \n",
       "646       NaN          NaN         0.0         0.0          NaN          NaN   \n",
       "705       NaN          NaN         0.0         0.0          NaN          NaN   \n",
       "736       NaN          NaN         0.0         0.0          NaN          NaN   \n",
       "749       NaN          NaN         0.0         0.0          NaN          NaN   \n",
       "778       NaN          NaN         0.0         0.0          NaN          NaN   \n",
       "868       NaN          NaN         0.0         0.0          NaN          NaN   \n",
       "894       NaN          NaN         0.0         0.0          NaN          NaN   \n",
       "897       NaN          NaN         0.0         0.0          NaN          NaN   \n",
       "984       NaN          NaN         0.0         0.0          NaN          NaN   \n",
       "1000      NaN          NaN         0.0         0.0          NaN          NaN   \n",
       "1011      NaN          NaN         0.0         0.0          NaN          NaN   \n",
       "1035      NaN          NaN         0.0         0.0          NaN          NaN   \n",
       "1045      NaN          NaN         0.0         0.0          NaN          NaN   \n",
       "1048      NaN          NaN         0.0         0.0          NaN          NaN   \n",
       "1049      NaN          NaN         0.0         0.0          NaN          NaN   \n",
       "...       ...          ...         ...         ...          ...          ...   \n",
       "2050      NaN          NaN         0.0         0.0          NaN          NaN   \n",
       "2066      NaN          NaN         0.0         0.0          NaN          NaN   \n",
       "2068      NaN          NaN         0.0         0.0          NaN          NaN   \n",
       "2120      NaN          NaN         NaN         NaN          NaN          NaN   \n",
       "2122      NaN          NaN         0.0         0.0          NaN          NaN   \n",
       "2188      NaN          NaN         0.0         0.0          NaN          NaN   \n",
       "2189      NaN          NaN         0.0         0.0          NaN          NaN   \n",
       "2190      NaN          NaN         0.0         0.0          NaN          NaN   \n",
       "2193      NaN          NaN         0.0         0.0          NaN          NaN   \n",
       "2216      NaN          NaN         0.0         0.0          NaN          NaN   \n",
       "2224      NaN          NaN         0.0         0.0          NaN          NaN   \n",
       "2387      NaN          NaN         0.0         0.0          NaN          NaN   \n",
       "2435      NaN          NaN         0.0         0.0          NaN          NaN   \n",
       "2452      NaN          NaN         0.0         0.0          NaN          NaN   \n",
       "2453      NaN          NaN         0.0         0.0          NaN          NaN   \n",
       "2490      NaN          NaN         0.0         0.0          NaN          NaN   \n",
       "2498      NaN          NaN         0.0         0.0          NaN          NaN   \n",
       "2547      NaN          NaN         0.0         0.0          NaN          NaN   \n",
       "2552      NaN          NaN         0.0         0.0          NaN          NaN   \n",
       "2564      NaN          NaN         0.0         0.0          NaN          NaN   \n",
       "2578      NaN          NaN         0.0         0.0          NaN          NaN   \n",
       "2599      NaN          NaN         0.0         0.0          NaN          NaN   \n",
       "2702      NaN          NaN         0.0         0.0          NaN          NaN   \n",
       "2763      NaN          NaN         0.0         0.0          NaN          NaN   \n",
       "2766      NaN          NaN         0.0         0.0          NaN          NaN   \n",
       "2803      NaN          NaN         0.0         0.0          NaN          NaN   \n",
       "2804      NaN          NaN         0.0         0.0          NaN          NaN   \n",
       "2824      NaN          NaN         0.0         0.0          NaN          NaN   \n",
       "2891      NaN          NaN         0.0         0.0          NaN          NaN   \n",
       "2904      NaN          NaN         0.0         0.0          NaN          NaN   \n",
       "\n",
       "      BsmtFullBath  BsmtHalfBath BsmtQual  BsmtUnfSF  TotalBsmtSF  \n",
       "17             0.0           0.0      NaN        0.0          0.0  \n",
       "39             0.0           0.0      NaN        0.0          0.0  \n",
       "90             0.0           0.0      NaN        0.0          0.0  \n",
       "102            0.0           0.0      NaN        0.0          0.0  \n",
       "156            0.0           0.0      NaN        0.0          0.0  \n",
       "182            0.0           0.0      NaN        0.0          0.0  \n",
       "259            0.0           0.0      NaN        0.0          0.0  \n",
       "342            0.0           0.0      NaN        0.0          0.0  \n",
       "362            0.0           0.0      NaN        0.0          0.0  \n",
       "371            0.0           0.0      NaN        0.0          0.0  \n",
       "392            0.0           0.0      NaN        0.0          0.0  \n",
       "520            0.0           0.0      NaN        0.0          0.0  \n",
       "532            0.0           0.0      NaN        0.0          0.0  \n",
       "533            0.0           0.0      NaN        0.0          0.0  \n",
       "553            0.0           0.0      NaN        0.0          0.0  \n",
       "646            0.0           0.0      NaN        0.0          0.0  \n",
       "705            0.0           0.0      NaN        0.0          0.0  \n",
       "736            0.0           0.0      NaN        0.0          0.0  \n",
       "749            0.0           0.0      NaN        0.0          0.0  \n",
       "778            0.0           0.0      NaN        0.0          0.0  \n",
       "868            0.0           0.0      NaN        0.0          0.0  \n",
       "894            0.0           0.0      NaN        0.0          0.0  \n",
       "897            0.0           0.0      NaN        0.0          0.0  \n",
       "984            0.0           0.0      NaN        0.0          0.0  \n",
       "1000           0.0           0.0      NaN        0.0          0.0  \n",
       "1011           0.0           0.0      NaN        0.0          0.0  \n",
       "1035           0.0           0.0      NaN        0.0          0.0  \n",
       "1045           0.0           0.0      NaN        0.0          0.0  \n",
       "1048           0.0           0.0      NaN        0.0          0.0  \n",
       "1049           0.0           0.0      NaN        0.0          0.0  \n",
       "...            ...           ...      ...        ...          ...  \n",
       "2050           0.0           0.0      NaN        0.0          0.0  \n",
       "2066           0.0           0.0      NaN        0.0          0.0  \n",
       "2068           0.0           0.0      NaN        0.0          0.0  \n",
       "2120           NaN           NaN      NaN        NaN          NaN  \n",
       "2122           0.0           0.0      NaN        0.0          0.0  \n",
       "2188           NaN           NaN      NaN        0.0          0.0  \n",
       "2189           0.0           0.0      NaN        0.0          0.0  \n",
       "2190           0.0           0.0      NaN        0.0          0.0  \n",
       "2193           0.0           0.0      NaN        0.0          0.0  \n",
       "2216           0.0           0.0      NaN        0.0          0.0  \n",
       "2224           0.0           0.0      NaN        0.0          0.0  \n",
       "2387           0.0           0.0      NaN        0.0          0.0  \n",
       "2435           0.0           0.0      NaN        0.0          0.0  \n",
       "2452           0.0           0.0      NaN        0.0          0.0  \n",
       "2453           0.0           0.0      NaN        0.0          0.0  \n",
       "2490           0.0           0.0      NaN        0.0          0.0  \n",
       "2498           0.0           0.0      NaN        0.0          0.0  \n",
       "2547           0.0           0.0      NaN        0.0          0.0  \n",
       "2552           0.0           0.0      NaN        0.0          0.0  \n",
       "2564           0.0           0.0      NaN        0.0          0.0  \n",
       "2578           0.0           0.0      NaN        0.0          0.0  \n",
       "2599           0.0           0.0      NaN        0.0          0.0  \n",
       "2702           0.0           0.0      NaN        0.0          0.0  \n",
       "2763           0.0           0.0      NaN        0.0          0.0  \n",
       "2766           0.0           0.0      NaN        0.0          0.0  \n",
       "2803           0.0           0.0      NaN        0.0          0.0  \n",
       "2804           0.0           0.0      NaN        0.0          0.0  \n",
       "2824           0.0           0.0      NaN        0.0          0.0  \n",
       "2891           0.0           0.0      NaN        0.0          0.0  \n",
       "2904           0.0           0.0      NaN        0.0          0.0  \n",
       "\n",
       "[79 rows x 11 columns]"
      ]
     },
     "execution_count": 29,
     "metadata": {},
     "output_type": "execute_result"
    }
   ],
   "source": [
    "all_data[bsmt_list][pd.isnull(all_data.BsmtFinType1)]"
   ]
  },
  {
   "cell_type": "code",
   "execution_count": 30,
   "metadata": {},
   "outputs": [],
   "source": [
    "all_data['TotalBsmtSF'][pd.isnull(all_data.BsmtFinType1)] = 0.0\n",
    "all_data['BsmtFinSF1'][pd.isnull(all_data.BsmtFinType1)] = 0.0\n",
    "all_data['BsmtFinSF2'][pd.isnull(all_data.BsmtFinType1)] = 0.0\n",
    "all_data['BsmtUnfSF'][pd.isnull(all_data.BsmtFinType1)] = 0.0\n",
    "all_data['BsmtFullBath'][pd.isnull(all_data.BsmtFinType1)] = 0.0\n",
    "all_data['BsmtHalfBath'][pd.isnull(all_data.BsmtFinType1)] = 0.0\n",
    "\n",
    "all_data['BsmtCond'][pd.isnull(all_data.BsmtFinType1)] = 'None'\n",
    "all_data['BsmtExposure'][pd.isnull(all_data.BsmtFinType1)] = 'None'\n",
    "all_data['BsmtFinType2'][pd.isnull(all_data.BsmtFinType1)] = 'None'\n",
    "all_data['BsmtQual'][pd.isnull(all_data.BsmtFinType1)] = 'None'\n",
    "# 注意此处：对Type1的操作要放到最后，因为条件中依赖了Type1\n",
    "all_data['BsmtFinType1'][pd.isnull(all_data.BsmtFinType1)] = 'None'"
   ]
  },
  {
   "cell_type": "code",
   "execution_count": 31,
   "metadata": {},
   "outputs": [
    {
     "data": {
      "text/plain": [
       "0"
      ]
     },
     "execution_count": 31,
     "metadata": {},
     "output_type": "execute_result"
    }
   ],
   "source": [
    "len(all_data[bsmt_list][pd.isnull(all_data.BsmtFinType1)])"
   ]
  },
  {
   "cell_type": "code",
   "execution_count": 32,
   "metadata": {},
   "outputs": [
    {
     "data": {
      "text/plain": [
       "BsmtCond        3\n",
       "BsmtExposure    3\n",
       "BsmtFinSF1      0\n",
       "BsmtFinSF2      0\n",
       "BsmtFinType1    0\n",
       "BsmtFinType2    1\n",
       "BsmtFullBath    0\n",
       "BsmtHalfBath    0\n",
       "BsmtQual        2\n",
       "BsmtUnfSF       0\n",
       "TotalBsmtSF     0\n",
       "dtype: int64"
      ]
     },
     "execution_count": 32,
     "metadata": {},
     "output_type": "execute_result"
    }
   ],
   "source": [
    "all_data[bsmt_list].isnull().sum()"
   ]
  },
  {
   "cell_type": "markdown",
   "metadata": {},
   "source": [
    "#### BsmtCond 3、BsmtExposure 3、BsmtQual 2、BsmtFinType2 1\n",
    "\n",
    "看到剩下的全是离散型特征有少许缺失，需要依次处理：\n",
    "- BsmtFinType2：只缺失一条，且看到BsmtUnfSF大于0，且一个Type为GLQ的情况下Type2都是Ulf，10个sample也可以证明这一点，而此处Type1为GLQ，因此Type2为Unf；\n",
    "- BsmtExposure：缺失的三条，都属于地下室还没开始建的情况，用'No'填充即可，因为并不是没有地下室；\n",
    "- BsmtQual：缺失两条，根据年份来填充；\n",
    "- BsmtCOnd：缺失三条，根据年份来填充；\n",
    "\n",
    "TODO：这里Qual、Cond没有找到很好的填充方法，先使用众数填充；"
   ]
  },
  {
   "cell_type": "code",
   "execution_count": 33,
   "metadata": {},
   "outputs": [
    {
     "data": {
      "text/html": [
       "<div>\n",
       "<style scoped>\n",
       "    .dataframe tbody tr th:only-of-type {\n",
       "        vertical-align: middle;\n",
       "    }\n",
       "\n",
       "    .dataframe tbody tr th {\n",
       "        vertical-align: top;\n",
       "    }\n",
       "\n",
       "    .dataframe thead th {\n",
       "        text-align: right;\n",
       "    }\n",
       "</style>\n",
       "<table border=\"1\" class=\"dataframe\">\n",
       "  <thead>\n",
       "    <tr style=\"text-align: right;\">\n",
       "      <th></th>\n",
       "      <th>BsmtCond</th>\n",
       "      <th>BsmtExposure</th>\n",
       "      <th>BsmtFinSF1</th>\n",
       "      <th>BsmtFinSF2</th>\n",
       "      <th>BsmtFinType1</th>\n",
       "      <th>BsmtFinType2</th>\n",
       "      <th>BsmtFullBath</th>\n",
       "      <th>BsmtHalfBath</th>\n",
       "      <th>BsmtQual</th>\n",
       "      <th>BsmtUnfSF</th>\n",
       "      <th>TotalBsmtSF</th>\n",
       "    </tr>\n",
       "  </thead>\n",
       "  <tbody>\n",
       "    <tr>\n",
       "      <th>332</th>\n",
       "      <td>TA</td>\n",
       "      <td>No</td>\n",
       "      <td>1124.0</td>\n",
       "      <td>479.0</td>\n",
       "      <td>GLQ</td>\n",
       "      <td>NaN</td>\n",
       "      <td>1.0</td>\n",
       "      <td>0.0</td>\n",
       "      <td>Gd</td>\n",
       "      <td>1603.0</td>\n",
       "      <td>3206.0</td>\n",
       "    </tr>\n",
       "  </tbody>\n",
       "</table>\n",
       "</div>"
      ],
      "text/plain": [
       "    BsmtCond BsmtExposure  BsmtFinSF1  BsmtFinSF2 BsmtFinType1 BsmtFinType2  \\\n",
       "332       TA           No      1124.0       479.0          GLQ          NaN   \n",
       "\n",
       "     BsmtFullBath  BsmtHalfBath BsmtQual  BsmtUnfSF  TotalBsmtSF  \n",
       "332           1.0           0.0       Gd     1603.0       3206.0  "
      ]
     },
     "execution_count": 33,
     "metadata": {},
     "output_type": "execute_result"
    }
   ],
   "source": [
    "all_data[bsmt_list][pd.isnull(all_data.BsmtFinType2)]"
   ]
  },
  {
   "cell_type": "code",
   "execution_count": 34,
   "metadata": {},
   "outputs": [
    {
     "data": {
      "text/html": [
       "<div>\n",
       "<style scoped>\n",
       "    .dataframe tbody tr th:only-of-type {\n",
       "        vertical-align: middle;\n",
       "    }\n",
       "\n",
       "    .dataframe tbody tr th {\n",
       "        vertical-align: top;\n",
       "    }\n",
       "\n",
       "    .dataframe thead th {\n",
       "        text-align: right;\n",
       "    }\n",
       "</style>\n",
       "<table border=\"1\" class=\"dataframe\">\n",
       "  <thead>\n",
       "    <tr style=\"text-align: right;\">\n",
       "      <th></th>\n",
       "      <th>BsmtUnfSF</th>\n",
       "      <th>BsmtFinType1</th>\n",
       "      <th>BsmtFinType2</th>\n",
       "    </tr>\n",
       "  </thead>\n",
       "  <tbody>\n",
       "    <tr>\n",
       "      <th>2535</th>\n",
       "      <td>98.0</td>\n",
       "      <td>GLQ</td>\n",
       "      <td>Unf</td>\n",
       "    </tr>\n",
       "    <tr>\n",
       "      <th>1979</th>\n",
       "      <td>1347.0</td>\n",
       "      <td>GLQ</td>\n",
       "      <td>Unf</td>\n",
       "    </tr>\n",
       "    <tr>\n",
       "      <th>1623</th>\n",
       "      <td>208.0</td>\n",
       "      <td>GLQ</td>\n",
       "      <td>Unf</td>\n",
       "    </tr>\n",
       "    <tr>\n",
       "      <th>506</th>\n",
       "      <td>397.0</td>\n",
       "      <td>GLQ</td>\n",
       "      <td>Unf</td>\n",
       "    </tr>\n",
       "    <tr>\n",
       "      <th>240</th>\n",
       "      <td>488.0</td>\n",
       "      <td>GLQ</td>\n",
       "      <td>Unf</td>\n",
       "    </tr>\n",
       "    <tr>\n",
       "      <th>600</th>\n",
       "      <td>512.0</td>\n",
       "      <td>GLQ</td>\n",
       "      <td>Unf</td>\n",
       "    </tr>\n",
       "    <tr>\n",
       "      <th>2862</th>\n",
       "      <td>142.0</td>\n",
       "      <td>GLQ</td>\n",
       "      <td>ALQ</td>\n",
       "    </tr>\n",
       "    <tr>\n",
       "      <th>2335</th>\n",
       "      <td>100.0</td>\n",
       "      <td>GLQ</td>\n",
       "      <td>Unf</td>\n",
       "    </tr>\n",
       "    <tr>\n",
       "      <th>348</th>\n",
       "      <td>191.0</td>\n",
       "      <td>GLQ</td>\n",
       "      <td>Unf</td>\n",
       "    </tr>\n",
       "    <tr>\n",
       "      <th>1388</th>\n",
       "      <td>426.0</td>\n",
       "      <td>GLQ</td>\n",
       "      <td>Unf</td>\n",
       "    </tr>\n",
       "  </tbody>\n",
       "</table>\n",
       "</div>"
      ],
      "text/plain": [
       "      BsmtUnfSF BsmtFinType1 BsmtFinType2\n",
       "2535       98.0          GLQ          Unf\n",
       "1979     1347.0          GLQ          Unf\n",
       "1623      208.0          GLQ          Unf\n",
       "506       397.0          GLQ          Unf\n",
       "240       488.0          GLQ          Unf\n",
       "600       512.0          GLQ          Unf\n",
       "2862      142.0          GLQ          ALQ\n",
       "2335      100.0          GLQ          Unf\n",
       "348       191.0          GLQ          Unf\n",
       "1388      426.0          GLQ          Unf"
      ]
     },
     "execution_count": 34,
     "metadata": {},
     "output_type": "execute_result"
    }
   ],
   "source": [
    "all_data[all_data.BsmtUnfSF>0][all_data.BsmtFinType1=='GLQ'].sample(10)[['BsmtUnfSF', 'BsmtFinType1', 'BsmtFinType2']]"
   ]
  },
  {
   "cell_type": "code",
   "execution_count": 35,
   "metadata": {},
   "outputs": [],
   "source": [
    "all_data['BsmtFinType2'][pd.isnull(all_data.BsmtFinType2)] = 'Unf'"
   ]
  },
  {
   "cell_type": "code",
   "execution_count": 36,
   "metadata": {},
   "outputs": [
    {
     "data": {
      "text/html": [
       "<div>\n",
       "<style scoped>\n",
       "    .dataframe tbody tr th:only-of-type {\n",
       "        vertical-align: middle;\n",
       "    }\n",
       "\n",
       "    .dataframe tbody tr th {\n",
       "        vertical-align: top;\n",
       "    }\n",
       "\n",
       "    .dataframe thead th {\n",
       "        text-align: right;\n",
       "    }\n",
       "</style>\n",
       "<table border=\"1\" class=\"dataframe\">\n",
       "  <thead>\n",
       "    <tr style=\"text-align: right;\">\n",
       "      <th></th>\n",
       "      <th>BsmtCond</th>\n",
       "      <th>BsmtExposure</th>\n",
       "      <th>BsmtFinSF1</th>\n",
       "      <th>BsmtFinSF2</th>\n",
       "      <th>BsmtFinType1</th>\n",
       "      <th>BsmtFinType2</th>\n",
       "      <th>BsmtFullBath</th>\n",
       "      <th>BsmtHalfBath</th>\n",
       "      <th>BsmtQual</th>\n",
       "      <th>BsmtUnfSF</th>\n",
       "      <th>TotalBsmtSF</th>\n",
       "    </tr>\n",
       "  </thead>\n",
       "  <tbody>\n",
       "    <tr>\n",
       "      <th>948</th>\n",
       "      <td>TA</td>\n",
       "      <td>NaN</td>\n",
       "      <td>0.0</td>\n",
       "      <td>0.0</td>\n",
       "      <td>Unf</td>\n",
       "      <td>Unf</td>\n",
       "      <td>0.0</td>\n",
       "      <td>0.0</td>\n",
       "      <td>Gd</td>\n",
       "      <td>936.0</td>\n",
       "      <td>936.0</td>\n",
       "    </tr>\n",
       "    <tr>\n",
       "      <th>1487</th>\n",
       "      <td>TA</td>\n",
       "      <td>NaN</td>\n",
       "      <td>0.0</td>\n",
       "      <td>0.0</td>\n",
       "      <td>Unf</td>\n",
       "      <td>Unf</td>\n",
       "      <td>0.0</td>\n",
       "      <td>0.0</td>\n",
       "      <td>Gd</td>\n",
       "      <td>1595.0</td>\n",
       "      <td>1595.0</td>\n",
       "    </tr>\n",
       "    <tr>\n",
       "      <th>2348</th>\n",
       "      <td>TA</td>\n",
       "      <td>NaN</td>\n",
       "      <td>0.0</td>\n",
       "      <td>0.0</td>\n",
       "      <td>Unf</td>\n",
       "      <td>Unf</td>\n",
       "      <td>0.0</td>\n",
       "      <td>0.0</td>\n",
       "      <td>Gd</td>\n",
       "      <td>725.0</td>\n",
       "      <td>725.0</td>\n",
       "    </tr>\n",
       "  </tbody>\n",
       "</table>\n",
       "</div>"
      ],
      "text/plain": [
       "     BsmtCond BsmtExposure  BsmtFinSF1  BsmtFinSF2 BsmtFinType1 BsmtFinType2  \\\n",
       "948        TA          NaN         0.0         0.0          Unf          Unf   \n",
       "1487       TA          NaN         0.0         0.0          Unf          Unf   \n",
       "2348       TA          NaN         0.0         0.0          Unf          Unf   \n",
       "\n",
       "      BsmtFullBath  BsmtHalfBath BsmtQual  BsmtUnfSF  TotalBsmtSF  \n",
       "948            0.0           0.0       Gd      936.0        936.0  \n",
       "1487           0.0           0.0       Gd     1595.0       1595.0  \n",
       "2348           0.0           0.0       Gd      725.0        725.0  "
      ]
     },
     "execution_count": 36,
     "metadata": {},
     "output_type": "execute_result"
    }
   ],
   "source": [
    "all_data[bsmt_list][pd.isnull(all_data.BsmtExposure)]"
   ]
  },
  {
   "cell_type": "code",
   "execution_count": 37,
   "metadata": {},
   "outputs": [],
   "source": [
    "all_data['BsmtExposure'][pd.isnull(all_data.BsmtExposure)] = 'No'"
   ]
  },
  {
   "cell_type": "code",
   "execution_count": 38,
   "metadata": {},
   "outputs": [
    {
     "data": {
      "text/html": [
       "<div>\n",
       "<style scoped>\n",
       "    .dataframe tbody tr th:only-of-type {\n",
       "        vertical-align: middle;\n",
       "    }\n",
       "\n",
       "    .dataframe tbody tr th {\n",
       "        vertical-align: top;\n",
       "    }\n",
       "\n",
       "    .dataframe thead th {\n",
       "        text-align: right;\n",
       "    }\n",
       "</style>\n",
       "<table border=\"1\" class=\"dataframe\">\n",
       "  <thead>\n",
       "    <tr style=\"text-align: right;\">\n",
       "      <th></th>\n",
       "      <th>YearBuilt</th>\n",
       "      <th>YearRemodAdd</th>\n",
       "      <th>GarageYrBlt</th>\n",
       "      <th>BsmtQual</th>\n",
       "    </tr>\n",
       "  </thead>\n",
       "  <tbody>\n",
       "    <tr>\n",
       "      <th>2217</th>\n",
       "      <td>1895</td>\n",
       "      <td>1950</td>\n",
       "      <td>1895.0</td>\n",
       "      <td>NaN</td>\n",
       "    </tr>\n",
       "    <tr>\n",
       "      <th>2218</th>\n",
       "      <td>1910</td>\n",
       "      <td>2000</td>\n",
       "      <td>1910.0</td>\n",
       "      <td>NaN</td>\n",
       "    </tr>\n",
       "  </tbody>\n",
       "</table>\n",
       "</div>"
      ],
      "text/plain": [
       "      YearBuilt  YearRemodAdd  GarageYrBlt BsmtQual\n",
       "2217       1895          1950       1895.0      NaN\n",
       "2218       1910          2000       1910.0      NaN"
      ]
     },
     "execution_count": 38,
     "metadata": {},
     "output_type": "execute_result"
    }
   ],
   "source": [
    "all_data[['YearBuilt','YearRemodAdd','GarageYrBlt','BsmtQual']][pd.isnull(all_data.BsmtQual)]"
   ]
  },
  {
   "cell_type": "code",
   "execution_count": 39,
   "metadata": {},
   "outputs": [
    {
     "data": {
      "text/plain": [
       "Gd    1\n",
       "TA    1\n",
       "Name: BsmtQual, dtype: int64"
      ]
     },
     "execution_count": 39,
     "metadata": {},
     "output_type": "execute_result"
    }
   ],
   "source": [
    "all_data[all_data.YearBuilt == 1895]['BsmtQual'].value_counts()"
   ]
  },
  {
   "cell_type": "code",
   "execution_count": 40,
   "metadata": {},
   "outputs": [
    {
     "data": {
      "text/plain": [
       "TA      27\n",
       "Fa       9\n",
       "Gd       5\n",
       "None     1\n",
       "Name: BsmtQual, dtype: int64"
      ]
     },
     "execution_count": 40,
     "metadata": {},
     "output_type": "execute_result"
    }
   ],
   "source": [
    "all_data[all_data.YearBuilt == 1910]['BsmtQual'].value_counts()"
   ]
  },
  {
   "cell_type": "code",
   "execution_count": 41,
   "metadata": {},
   "outputs": [],
   "source": [
    "all_data['BsmtQual'][pd.isnull(all_data.BsmtQual)] = 'TA'"
   ]
  },
  {
   "cell_type": "code",
   "execution_count": 42,
   "metadata": {},
   "outputs": [
    {
     "data": {
      "text/html": [
       "<div>\n",
       "<style scoped>\n",
       "    .dataframe tbody tr th:only-of-type {\n",
       "        vertical-align: middle;\n",
       "    }\n",
       "\n",
       "    .dataframe tbody tr th {\n",
       "        vertical-align: top;\n",
       "    }\n",
       "\n",
       "    .dataframe thead th {\n",
       "        text-align: right;\n",
       "    }\n",
       "</style>\n",
       "<table border=\"1\" class=\"dataframe\">\n",
       "  <thead>\n",
       "    <tr style=\"text-align: right;\">\n",
       "      <th></th>\n",
       "      <th>YearBuilt</th>\n",
       "      <th>YearRemodAdd</th>\n",
       "      <th>GarageYrBlt</th>\n",
       "      <th>BsmtCond</th>\n",
       "    </tr>\n",
       "  </thead>\n",
       "  <tbody>\n",
       "    <tr>\n",
       "      <th>2040</th>\n",
       "      <td>1976</td>\n",
       "      <td>2007</td>\n",
       "      <td>1976.0</td>\n",
       "      <td>NaN</td>\n",
       "    </tr>\n",
       "    <tr>\n",
       "      <th>2185</th>\n",
       "      <td>1976</td>\n",
       "      <td>1976</td>\n",
       "      <td>1991.0</td>\n",
       "      <td>NaN</td>\n",
       "    </tr>\n",
       "    <tr>\n",
       "      <th>2524</th>\n",
       "      <td>1977</td>\n",
       "      <td>1977</td>\n",
       "      <td>1977.0</td>\n",
       "      <td>NaN</td>\n",
       "    </tr>\n",
       "  </tbody>\n",
       "</table>\n",
       "</div>"
      ],
      "text/plain": [
       "      YearBuilt  YearRemodAdd  GarageYrBlt BsmtCond\n",
       "2040       1976          2007       1976.0      NaN\n",
       "2185       1976          1976       1991.0      NaN\n",
       "2524       1977          1977       1977.0      NaN"
      ]
     },
     "execution_count": 42,
     "metadata": {},
     "output_type": "execute_result"
    }
   ],
   "source": [
    "all_data[['YearBuilt','YearRemodAdd','GarageYrBlt','BsmtCond']][pd.isnull(all_data.BsmtCond)]"
   ]
  },
  {
   "cell_type": "code",
   "execution_count": 43,
   "metadata": {},
   "outputs": [
    {
     "data": {
      "text/plain": [
       "TA      46\n",
       "Gd       5\n",
       "None     1\n",
       "Name: BsmtCond, dtype: int64"
      ]
     },
     "execution_count": 43,
     "metadata": {},
     "output_type": "execute_result"
    }
   ],
   "source": [
    "all_data[all_data.YearBuilt == 1976]['BsmtCond'].value_counts()"
   ]
  },
  {
   "cell_type": "code",
   "execution_count": 44,
   "metadata": {},
   "outputs": [
    {
     "data": {
      "text/plain": [
       "TA      48\n",
       "Gd       5\n",
       "None     3\n",
       "Name: BsmtCond, dtype: int64"
      ]
     },
     "execution_count": 44,
     "metadata": {},
     "output_type": "execute_result"
    }
   ],
   "source": [
    "all_data[all_data.YearBuilt == 1977]['BsmtCond'].value_counts()"
   ]
  },
  {
   "cell_type": "code",
   "execution_count": 45,
   "metadata": {},
   "outputs": [],
   "source": [
    "all_data['BsmtCond'][pd.isnull(all_data.BsmtCond)] = 'TA'"
   ]
  },
  {
   "cell_type": "code",
   "execution_count": 46,
   "metadata": {},
   "outputs": [
    {
     "data": {
      "text/plain": [
       "BsmtCond        0\n",
       "BsmtExposure    0\n",
       "BsmtFinSF1      0\n",
       "BsmtFinSF2      0\n",
       "BsmtFinType1    0\n",
       "BsmtFinType2    0\n",
       "BsmtFullBath    0\n",
       "BsmtHalfBath    0\n",
       "BsmtQual        0\n",
       "BsmtUnfSF       0\n",
       "TotalBsmtSF     0\n",
       "dtype: int64"
      ]
     },
     "execution_count": 46,
     "metadata": {},
     "output_type": "execute_result"
    }
   ],
   "source": [
    "all_data[bsmt_list].isnull().sum()"
   ]
  },
  {
   "cell_type": "markdown",
   "metadata": {},
   "source": [
    "### 3.3.3 其他"
   ]
  },
  {
   "cell_type": "markdown",
   "metadata": {},
   "source": [
    "#### PoolQC\n",
    "\n",
    "该值的nan文档中说明表示没用泳池，我们使用PoolArea来辅助验证一下，因为PoolArea是没有缺失的，看到其中2906个都是0，这写用None来填充即可，但是还有3个Area不是0，这三个要特别处理下；"
   ]
  },
  {
   "cell_type": "code",
   "execution_count": 47,
   "metadata": {},
   "outputs": [
    {
     "data": {
      "text/plain": [
       "2906"
      ]
     },
     "execution_count": 47,
     "metadata": {},
     "output_type": "execute_result"
    }
   ],
   "source": [
    "len(all_data[['PoolArea', 'PoolQC']][pd.isnull(all_data.PoolQC)][all_data.PoolArea==0])"
   ]
  },
  {
   "cell_type": "code",
   "execution_count": 48,
   "metadata": {},
   "outputs": [
    {
     "data": {
      "text/html": [
       "<div>\n",
       "<style scoped>\n",
       "    .dataframe tbody tr th:only-of-type {\n",
       "        vertical-align: middle;\n",
       "    }\n",
       "\n",
       "    .dataframe tbody tr th {\n",
       "        vertical-align: top;\n",
       "    }\n",
       "\n",
       "    .dataframe thead th {\n",
       "        text-align: right;\n",
       "    }\n",
       "</style>\n",
       "<table border=\"1\" class=\"dataframe\">\n",
       "  <thead>\n",
       "    <tr style=\"text-align: right;\">\n",
       "      <th></th>\n",
       "      <th>PoolArea</th>\n",
       "      <th>PoolQC</th>\n",
       "    </tr>\n",
       "  </thead>\n",
       "  <tbody>\n",
       "    <tr>\n",
       "      <th>2420</th>\n",
       "      <td>368</td>\n",
       "      <td>NaN</td>\n",
       "    </tr>\n",
       "    <tr>\n",
       "      <th>2503</th>\n",
       "      <td>444</td>\n",
       "      <td>NaN</td>\n",
       "    </tr>\n",
       "    <tr>\n",
       "      <th>2599</th>\n",
       "      <td>561</td>\n",
       "      <td>NaN</td>\n",
       "    </tr>\n",
       "  </tbody>\n",
       "</table>\n",
       "</div>"
      ],
      "text/plain": [
       "      PoolArea PoolQC\n",
       "2420       368    NaN\n",
       "2503       444    NaN\n",
       "2599       561    NaN"
      ]
     },
     "execution_count": 48,
     "metadata": {},
     "output_type": "execute_result"
    }
   ],
   "source": [
    "all_data[['PoolArea', 'PoolQC']][pd.isnull(all_data.PoolQC)][all_data.PoolArea>0]"
   ]
  },
  {
   "cell_type": "code",
   "execution_count": 49,
   "metadata": {},
   "outputs": [
    {
     "data": {
      "text/html": [
       "<div>\n",
       "<style scoped>\n",
       "    .dataframe tbody tr th:only-of-type {\n",
       "        vertical-align: middle;\n",
       "    }\n",
       "\n",
       "    .dataframe tbody tr th {\n",
       "        vertical-align: top;\n",
       "    }\n",
       "\n",
       "    .dataframe thead th {\n",
       "        text-align: right;\n",
       "    }\n",
       "</style>\n",
       "<table border=\"1\" class=\"dataframe\">\n",
       "  <thead>\n",
       "    <tr style=\"text-align: right;\">\n",
       "      <th></th>\n",
       "      <th>PoolArea</th>\n",
       "    </tr>\n",
       "    <tr>\n",
       "      <th>PoolQC</th>\n",
       "      <th></th>\n",
       "    </tr>\n",
       "  </thead>\n",
       "  <tbody>\n",
       "    <tr>\n",
       "      <th>Ex</th>\n",
       "      <td>370.0</td>\n",
       "    </tr>\n",
       "    <tr>\n",
       "      <th>Fa</th>\n",
       "      <td>583.5</td>\n",
       "    </tr>\n",
       "    <tr>\n",
       "      <th>Gd</th>\n",
       "      <td>657.0</td>\n",
       "    </tr>\n",
       "  </tbody>\n",
       "</table>\n",
       "</div>"
      ],
      "text/plain": [
       "        PoolArea\n",
       "PoolQC          \n",
       "Ex         370.0\n",
       "Fa         583.5\n",
       "Gd         657.0"
      ]
     },
     "execution_count": 49,
     "metadata": {},
     "output_type": "execute_result"
    }
   ],
   "source": [
    "all_data[['PoolArea','PoolQC']].groupby('PoolQC').median()"
   ]
  },
  {
   "cell_type": "code",
   "execution_count": 50,
   "metadata": {},
   "outputs": [],
   "source": [
    "all_data['PoolQC'].iloc[2420] = 'Ex'\n",
    "all_data['PoolQC'].iloc[2503] = 'Ex'\n",
    "all_data['PoolQC'].iloc[2599] = 'Fa'"
   ]
  },
  {
   "cell_type": "code",
   "execution_count": 51,
   "metadata": {},
   "outputs": [],
   "source": [
    "all_data['PoolQC'][pd.isnull(all_data.PoolQC)] = 'None'"
   ]
  },
  {
   "cell_type": "code",
   "execution_count": 52,
   "metadata": {},
   "outputs": [
    {
     "data": {
      "text/html": [
       "<div>\n",
       "<style scoped>\n",
       "    .dataframe tbody tr th:only-of-type {\n",
       "        vertical-align: middle;\n",
       "    }\n",
       "\n",
       "    .dataframe tbody tr th {\n",
       "        vertical-align: top;\n",
       "    }\n",
       "\n",
       "    .dataframe thead th {\n",
       "        text-align: right;\n",
       "    }\n",
       "</style>\n",
       "<table border=\"1\" class=\"dataframe\">\n",
       "  <thead>\n",
       "    <tr style=\"text-align: right;\">\n",
       "      <th></th>\n",
       "      <th>PoolArea</th>\n",
       "      <th>PoolQC</th>\n",
       "    </tr>\n",
       "  </thead>\n",
       "  <tbody>\n",
       "  </tbody>\n",
       "</table>\n",
       "</div>"
      ],
      "text/plain": [
       "Empty DataFrame\n",
       "Columns: [PoolArea, PoolQC]\n",
       "Index: []"
      ]
     },
     "execution_count": 52,
     "metadata": {},
     "output_type": "execute_result"
    }
   ],
   "source": [
    "all_data[['PoolArea', 'PoolQC']][pd.isnull(all_data.PoolQC)]"
   ]
  },
  {
   "cell_type": "markdown",
   "metadata": {},
   "source": [
    "#### MiscFeature\n",
    "\n",
    "结合MiscVal填充，MiscVal为0时，表示没有任何价值，为其他值时，则根据价值对应的Feature值填充，可以看到，为0的有2813个，还有一个要关注下，看到这个特殊的点的val高达17000，而最高的Gar2才8000，最接近，预计为Gar2，其余填充'None'；"
   ]
  },
  {
   "cell_type": "code",
   "execution_count": 53,
   "metadata": {},
   "outputs": [
    {
     "data": {
      "text/plain": [
       "2813"
      ]
     },
     "execution_count": 53,
     "metadata": {},
     "output_type": "execute_result"
    }
   ],
   "source": [
    "len(all_data[['MiscFeature', 'MiscVal']][pd.isnull(all_data.MiscFeature)][all_data.MiscVal==0])"
   ]
  },
  {
   "cell_type": "code",
   "execution_count": 54,
   "metadata": {},
   "outputs": [
    {
     "data": {
      "text/html": [
       "<div>\n",
       "<style scoped>\n",
       "    .dataframe tbody tr th:only-of-type {\n",
       "        vertical-align: middle;\n",
       "    }\n",
       "\n",
       "    .dataframe tbody tr th {\n",
       "        vertical-align: top;\n",
       "    }\n",
       "\n",
       "    .dataframe thead th {\n",
       "        text-align: right;\n",
       "    }\n",
       "</style>\n",
       "<table border=\"1\" class=\"dataframe\">\n",
       "  <thead>\n",
       "    <tr style=\"text-align: right;\">\n",
       "      <th></th>\n",
       "      <th>MiscFeature</th>\n",
       "      <th>MiscVal</th>\n",
       "    </tr>\n",
       "  </thead>\n",
       "  <tbody>\n",
       "    <tr>\n",
       "      <th>2549</th>\n",
       "      <td>NaN</td>\n",
       "      <td>17000</td>\n",
       "    </tr>\n",
       "  </tbody>\n",
       "</table>\n",
       "</div>"
      ],
      "text/plain": [
       "     MiscFeature  MiscVal\n",
       "2549         NaN    17000"
      ]
     },
     "execution_count": 54,
     "metadata": {},
     "output_type": "execute_result"
    }
   ],
   "source": [
    "all_data[['MiscFeature', 'MiscVal']][pd.isnull(all_data.MiscFeature)][all_data.MiscVal>0]"
   ]
  },
  {
   "cell_type": "code",
   "execution_count": 55,
   "metadata": {},
   "outputs": [
    {
     "data": {
      "text/html": [
       "<div>\n",
       "<style scoped>\n",
       "    .dataframe tbody tr th:only-of-type {\n",
       "        vertical-align: middle;\n",
       "    }\n",
       "\n",
       "    .dataframe tbody tr th {\n",
       "        vertical-align: top;\n",
       "    }\n",
       "\n",
       "    .dataframe thead th {\n",
       "        text-align: right;\n",
       "    }\n",
       "</style>\n",
       "<table border=\"1\" class=\"dataframe\">\n",
       "  <thead>\n",
       "    <tr style=\"text-align: right;\">\n",
       "      <th></th>\n",
       "      <th>MiscVal</th>\n",
       "    </tr>\n",
       "    <tr>\n",
       "      <th>MiscFeature</th>\n",
       "      <th></th>\n",
       "    </tr>\n",
       "  </thead>\n",
       "  <tbody>\n",
       "    <tr>\n",
       "      <th>Gar2</th>\n",
       "      <td>8300</td>\n",
       "    </tr>\n",
       "    <tr>\n",
       "      <th>Othr</th>\n",
       "      <td>3250</td>\n",
       "    </tr>\n",
       "    <tr>\n",
       "      <th>Shed</th>\n",
       "      <td>500</td>\n",
       "    </tr>\n",
       "    <tr>\n",
       "      <th>TenC</th>\n",
       "      <td>2000</td>\n",
       "    </tr>\n",
       "  </tbody>\n",
       "</table>\n",
       "</div>"
      ],
      "text/plain": [
       "             MiscVal\n",
       "MiscFeature         \n",
       "Gar2            8300\n",
       "Othr            3250\n",
       "Shed             500\n",
       "TenC            2000"
      ]
     },
     "execution_count": 55,
     "metadata": {},
     "output_type": "execute_result"
    }
   ],
   "source": [
    "all_data[['MiscFeature','MiscVal']].groupby('MiscFeature').median()"
   ]
  },
  {
   "cell_type": "code",
   "execution_count": 56,
   "metadata": {},
   "outputs": [],
   "source": [
    "all_data['MiscFeature'].iloc[2549] = 'Gar2'"
   ]
  },
  {
   "cell_type": "code",
   "execution_count": 57,
   "metadata": {},
   "outputs": [],
   "source": [
    "all_data['MiscFeature'][pd.isnull(all_data.MiscFeature)] = 'None'"
   ]
  },
  {
   "cell_type": "code",
   "execution_count": 58,
   "metadata": {},
   "outputs": [
    {
     "data": {
      "text/html": [
       "<div>\n",
       "<style scoped>\n",
       "    .dataframe tbody tr th:only-of-type {\n",
       "        vertical-align: middle;\n",
       "    }\n",
       "\n",
       "    .dataframe tbody tr th {\n",
       "        vertical-align: top;\n",
       "    }\n",
       "\n",
       "    .dataframe thead th {\n",
       "        text-align: right;\n",
       "    }\n",
       "</style>\n",
       "<table border=\"1\" class=\"dataframe\">\n",
       "  <thead>\n",
       "    <tr style=\"text-align: right;\">\n",
       "      <th></th>\n",
       "      <th>MiscFeature</th>\n",
       "      <th>MiscVal</th>\n",
       "    </tr>\n",
       "  </thead>\n",
       "  <tbody>\n",
       "  </tbody>\n",
       "</table>\n",
       "</div>"
      ],
      "text/plain": [
       "Empty DataFrame\n",
       "Columns: [MiscFeature, MiscVal]\n",
       "Index: []"
      ]
     },
     "execution_count": 58,
     "metadata": {},
     "output_type": "execute_result"
    }
   ],
   "source": [
    "all_data[['MiscFeature', 'MiscVal']][pd.isnull(all_data.MiscFeature)]"
   ]
  },
  {
   "cell_type": "markdown",
   "metadata": {},
   "source": [
    "#### FireplaceQu\n",
    "\n",
    "结合Fireplaces填充，places为0，填充为'None'；"
   ]
  },
  {
   "cell_type": "code",
   "execution_count": 59,
   "metadata": {},
   "outputs": [
    {
     "data": {
      "text/plain": [
       "1420"
      ]
     },
     "execution_count": 59,
     "metadata": {},
     "output_type": "execute_result"
    }
   ],
   "source": [
    "len(all_data[['FireplaceQu', 'Fireplaces']][pd.isnull(all_data.FireplaceQu)][all_data.Fireplaces==0])"
   ]
  },
  {
   "cell_type": "code",
   "execution_count": 60,
   "metadata": {},
   "outputs": [],
   "source": [
    "all_data['FireplaceQu'][pd.isnull(all_data.FireplaceQu)] = 'None'"
   ]
  },
  {
   "cell_type": "code",
   "execution_count": 61,
   "metadata": {},
   "outputs": [
    {
     "data": {
      "text/html": [
       "<div>\n",
       "<style scoped>\n",
       "    .dataframe tbody tr th:only-of-type {\n",
       "        vertical-align: middle;\n",
       "    }\n",
       "\n",
       "    .dataframe tbody tr th {\n",
       "        vertical-align: top;\n",
       "    }\n",
       "\n",
       "    .dataframe thead th {\n",
       "        text-align: right;\n",
       "    }\n",
       "</style>\n",
       "<table border=\"1\" class=\"dataframe\">\n",
       "  <thead>\n",
       "    <tr style=\"text-align: right;\">\n",
       "      <th></th>\n",
       "      <th>FireplaceQu</th>\n",
       "      <th>Fireplaces</th>\n",
       "    </tr>\n",
       "  </thead>\n",
       "  <tbody>\n",
       "  </tbody>\n",
       "</table>\n",
       "</div>"
      ],
      "text/plain": [
       "Empty DataFrame\n",
       "Columns: [FireplaceQu, Fireplaces]\n",
       "Index: []"
      ]
     },
     "execution_count": 61,
     "metadata": {},
     "output_type": "execute_result"
    }
   ],
   "source": [
    "all_data[['FireplaceQu', 'Fireplaces']][pd.isnull(all_data.FireplaceQu)]"
   ]
  },
  {
   "cell_type": "markdown",
   "metadata": {},
   "source": [
    "#### Fence、Alley\n",
    "\n",
    "这两个没有其他直接关联的字段，而文档中说明了nan表示没有，因此直接填充为'None'；"
   ]
  },
  {
   "cell_type": "code",
   "execution_count": 62,
   "metadata": {},
   "outputs": [],
   "source": [
    "all_data['Fence'][pd.isnull(all_data.Fence)] = 'None'"
   ]
  },
  {
   "cell_type": "code",
   "execution_count": 63,
   "metadata": {},
   "outputs": [],
   "source": [
    "all_data['Alley'][pd.isnull(all_data.Alley)] = 'None'"
   ]
  },
  {
   "cell_type": "markdown",
   "metadata": {},
   "source": [
    "#### Electrical\n",
    "\n",
    "电力系统缺失1，使用其他跟电力相关字段填充，比如CentralAir、Utilities、暖气等，看到同样暖气、空调、资源情况，对应的都是SBrkr，因此用SBrkr填充即可；"
   ]
  },
  {
   "cell_type": "code",
   "execution_count": 64,
   "metadata": {},
   "outputs": [
    {
     "data": {
      "text/html": [
       "<div>\n",
       "<style scoped>\n",
       "    .dataframe tbody tr th:only-of-type {\n",
       "        vertical-align: middle;\n",
       "    }\n",
       "\n",
       "    .dataframe tbody tr th {\n",
       "        vertical-align: top;\n",
       "    }\n",
       "\n",
       "    .dataframe thead th {\n",
       "        text-align: right;\n",
       "    }\n",
       "</style>\n",
       "<table border=\"1\" class=\"dataframe\">\n",
       "  <thead>\n",
       "    <tr style=\"text-align: right;\">\n",
       "      <th></th>\n",
       "      <th>Electrical</th>\n",
       "      <th>CentralAir</th>\n",
       "      <th>Utilities</th>\n",
       "      <th>Heating</th>\n",
       "    </tr>\n",
       "  </thead>\n",
       "  <tbody>\n",
       "    <tr>\n",
       "      <th>1379</th>\n",
       "      <td>NaN</td>\n",
       "      <td>Y</td>\n",
       "      <td>AllPub</td>\n",
       "      <td>GasA</td>\n",
       "    </tr>\n",
       "  </tbody>\n",
       "</table>\n",
       "</div>"
      ],
      "text/plain": [
       "     Electrical CentralAir Utilities Heating\n",
       "1379        NaN          Y    AllPub    GasA"
      ]
     },
     "execution_count": 64,
     "metadata": {},
     "output_type": "execute_result"
    }
   ],
   "source": [
    "all_data[['Electrical','CentralAir','Utilities','Heating']][pd.isnull(all_data.Electrical)]"
   ]
  },
  {
   "cell_type": "code",
   "execution_count": 65,
   "metadata": {},
   "outputs": [
    {
     "data": {
      "text/html": [
       "<div>\n",
       "<style scoped>\n",
       "    .dataframe tbody tr th:only-of-type {\n",
       "        vertical-align: middle;\n",
       "    }\n",
       "\n",
       "    .dataframe tbody tr th {\n",
       "        vertical-align: top;\n",
       "    }\n",
       "\n",
       "    .dataframe thead th {\n",
       "        text-align: right;\n",
       "    }\n",
       "</style>\n",
       "<table border=\"1\" class=\"dataframe\">\n",
       "  <thead>\n",
       "    <tr style=\"text-align: right;\">\n",
       "      <th></th>\n",
       "      <th>Electrical</th>\n",
       "      <th>CentralAir</th>\n",
       "      <th>Utilities</th>\n",
       "      <th>Heating</th>\n",
       "    </tr>\n",
       "  </thead>\n",
       "  <tbody>\n",
       "    <tr>\n",
       "      <th>320</th>\n",
       "      <td>SBrkr</td>\n",
       "      <td>Y</td>\n",
       "      <td>AllPub</td>\n",
       "      <td>GasA</td>\n",
       "    </tr>\n",
       "    <tr>\n",
       "      <th>354</th>\n",
       "      <td>SBrkr</td>\n",
       "      <td>Y</td>\n",
       "      <td>AllPub</td>\n",
       "      <td>GasA</td>\n",
       "    </tr>\n",
       "    <tr>\n",
       "      <th>2223</th>\n",
       "      <td>SBrkr</td>\n",
       "      <td>Y</td>\n",
       "      <td>AllPub</td>\n",
       "      <td>GasA</td>\n",
       "    </tr>\n",
       "    <tr>\n",
       "      <th>171</th>\n",
       "      <td>SBrkr</td>\n",
       "      <td>Y</td>\n",
       "      <td>AllPub</td>\n",
       "      <td>GasA</td>\n",
       "    </tr>\n",
       "    <tr>\n",
       "      <th>1631</th>\n",
       "      <td>SBrkr</td>\n",
       "      <td>Y</td>\n",
       "      <td>AllPub</td>\n",
       "      <td>GasA</td>\n",
       "    </tr>\n",
       "  </tbody>\n",
       "</table>\n",
       "</div>"
      ],
      "text/plain": [
       "     Electrical CentralAir Utilities Heating\n",
       "320       SBrkr          Y    AllPub    GasA\n",
       "354       SBrkr          Y    AllPub    GasA\n",
       "2223      SBrkr          Y    AllPub    GasA\n",
       "171       SBrkr          Y    AllPub    GasA\n",
       "1631      SBrkr          Y    AllPub    GasA"
      ]
     },
     "execution_count": 65,
     "metadata": {},
     "output_type": "execute_result"
    }
   ],
   "source": [
    "all_data[['Electrical','CentralAir','Utilities','Heating']][all_data.CentralAir=='Y'].sample(5)"
   ]
  },
  {
   "cell_type": "code",
   "execution_count": 66,
   "metadata": {},
   "outputs": [],
   "source": [
    "all_data['Electrical'][pd.isnull(all_data.Electrical)] = 'SBrkr'"
   ]
  },
  {
   "cell_type": "markdown",
   "metadata": {},
   "source": [
    "#### Utilities\n",
    "缺失2，可用资源类型，煤气、瓦斯等，跟上面的电力系统填充类似的方式，"
   ]
  },
  {
   "cell_type": "code",
   "execution_count": 67,
   "metadata": {},
   "outputs": [
    {
     "data": {
      "text/html": [
       "<div>\n",
       "<style scoped>\n",
       "    .dataframe tbody tr th:only-of-type {\n",
       "        vertical-align: middle;\n",
       "    }\n",
       "\n",
       "    .dataframe tbody tr th {\n",
       "        vertical-align: top;\n",
       "    }\n",
       "\n",
       "    .dataframe thead th {\n",
       "        text-align: right;\n",
       "    }\n",
       "</style>\n",
       "<table border=\"1\" class=\"dataframe\">\n",
       "  <thead>\n",
       "    <tr style=\"text-align: right;\">\n",
       "      <th></th>\n",
       "      <th>Electrical</th>\n",
       "      <th>CentralAir</th>\n",
       "      <th>Utilities</th>\n",
       "      <th>Heating</th>\n",
       "    </tr>\n",
       "  </thead>\n",
       "  <tbody>\n",
       "    <tr>\n",
       "      <th>1915</th>\n",
       "      <td>FuseA</td>\n",
       "      <td>N</td>\n",
       "      <td>NaN</td>\n",
       "      <td>GasA</td>\n",
       "    </tr>\n",
       "    <tr>\n",
       "      <th>1945</th>\n",
       "      <td>FuseA</td>\n",
       "      <td>Y</td>\n",
       "      <td>NaN</td>\n",
       "      <td>GasA</td>\n",
       "    </tr>\n",
       "  </tbody>\n",
       "</table>\n",
       "</div>"
      ],
      "text/plain": [
       "     Electrical CentralAir Utilities Heating\n",
       "1915      FuseA          N       NaN    GasA\n",
       "1945      FuseA          Y       NaN    GasA"
      ]
     },
     "execution_count": 67,
     "metadata": {},
     "output_type": "execute_result"
    }
   ],
   "source": [
    "all_data[['Electrical','CentralAir','Utilities','Heating']][pd.isnull(all_data.Utilities)]"
   ]
  },
  {
   "cell_type": "code",
   "execution_count": 68,
   "metadata": {},
   "outputs": [
    {
     "data": {
      "text/html": [
       "<div>\n",
       "<style scoped>\n",
       "    .dataframe tbody tr th:only-of-type {\n",
       "        vertical-align: middle;\n",
       "    }\n",
       "\n",
       "    .dataframe tbody tr th {\n",
       "        vertical-align: top;\n",
       "    }\n",
       "\n",
       "    .dataframe thead th {\n",
       "        text-align: right;\n",
       "    }\n",
       "</style>\n",
       "<table border=\"1\" class=\"dataframe\">\n",
       "  <thead>\n",
       "    <tr style=\"text-align: right;\">\n",
       "      <th></th>\n",
       "      <th>Electrical</th>\n",
       "      <th>CentralAir</th>\n",
       "      <th>Utilities</th>\n",
       "      <th>Heating</th>\n",
       "    </tr>\n",
       "  </thead>\n",
       "  <tbody>\n",
       "    <tr>\n",
       "      <th>493</th>\n",
       "      <td>FuseA</td>\n",
       "      <td>Y</td>\n",
       "      <td>AllPub</td>\n",
       "      <td>GasA</td>\n",
       "    </tr>\n",
       "    <tr>\n",
       "      <th>2463</th>\n",
       "      <td>FuseA</td>\n",
       "      <td>Y</td>\n",
       "      <td>AllPub</td>\n",
       "      <td>GasA</td>\n",
       "    </tr>\n",
       "    <tr>\n",
       "      <th>2399</th>\n",
       "      <td>FuseA</td>\n",
       "      <td>N</td>\n",
       "      <td>AllPub</td>\n",
       "      <td>GasA</td>\n",
       "    </tr>\n",
       "    <tr>\n",
       "      <th>2789</th>\n",
       "      <td>FuseA</td>\n",
       "      <td>N</td>\n",
       "      <td>AllPub</td>\n",
       "      <td>GasA</td>\n",
       "    </tr>\n",
       "    <tr>\n",
       "      <th>2754</th>\n",
       "      <td>FuseA</td>\n",
       "      <td>Y</td>\n",
       "      <td>AllPub</td>\n",
       "      <td>GasA</td>\n",
       "    </tr>\n",
       "  </tbody>\n",
       "</table>\n",
       "</div>"
      ],
      "text/plain": [
       "     Electrical CentralAir Utilities Heating\n",
       "493       FuseA          Y    AllPub    GasA\n",
       "2463      FuseA          Y    AllPub    GasA\n",
       "2399      FuseA          N    AllPub    GasA\n",
       "2789      FuseA          N    AllPub    GasA\n",
       "2754      FuseA          Y    AllPub    GasA"
      ]
     },
     "execution_count": 68,
     "metadata": {},
     "output_type": "execute_result"
    }
   ],
   "source": [
    "all_data[['Electrical','CentralAir','Utilities','Heating']][all_data.Electrical=='FuseA'].sample(5)"
   ]
  },
  {
   "cell_type": "code",
   "execution_count": 69,
   "metadata": {},
   "outputs": [],
   "source": [
    "all_data['Utilities'][pd.isnull(all_data.Utilities)] = 'ALLPub'"
   ]
  },
  {
   "cell_type": "markdown",
   "metadata": {},
   "source": [
    "#### KitchenQual\n",
    "缺失1，厨房质量，利用整体状况来填充；"
   ]
  },
  {
   "cell_type": "code",
   "execution_count": 70,
   "metadata": {},
   "outputs": [
    {
     "data": {
      "text/html": [
       "<div>\n",
       "<style scoped>\n",
       "    .dataframe tbody tr th:only-of-type {\n",
       "        vertical-align: middle;\n",
       "    }\n",
       "\n",
       "    .dataframe tbody tr th {\n",
       "        vertical-align: top;\n",
       "    }\n",
       "\n",
       "    .dataframe thead th {\n",
       "        text-align: right;\n",
       "    }\n",
       "</style>\n",
       "<table border=\"1\" class=\"dataframe\">\n",
       "  <thead>\n",
       "    <tr style=\"text-align: right;\">\n",
       "      <th></th>\n",
       "      <th>KitchenQual</th>\n",
       "      <th>HouseStyle</th>\n",
       "    </tr>\n",
       "  </thead>\n",
       "  <tbody>\n",
       "    <tr>\n",
       "      <th>1555</th>\n",
       "      <td>NaN</td>\n",
       "      <td>1.5Fin</td>\n",
       "    </tr>\n",
       "  </tbody>\n",
       "</table>\n",
       "</div>"
      ],
      "text/plain": [
       "     KitchenQual HouseStyle\n",
       "1555         NaN     1.5Fin"
      ]
     },
     "execution_count": 70,
     "metadata": {},
     "output_type": "execute_result"
    }
   ],
   "source": [
    "all_data[['KitchenQual','HouseStyle']][pd.isnull(all_data.KitchenQual)]"
   ]
  },
  {
   "cell_type": "code",
   "execution_count": 71,
   "metadata": {},
   "outputs": [
    {
     "data": {
      "text/plain": [
       "TA    229\n",
       "Gd     62\n",
       "Fa     18\n",
       "Ex      4\n",
       "Name: KitchenQual, dtype: int64"
      ]
     },
     "execution_count": 71,
     "metadata": {},
     "output_type": "execute_result"
    }
   ],
   "source": [
    "all_data[all_data.HouseStyle=='1.5Fin']['KitchenQual'].value_counts()"
   ]
  },
  {
   "cell_type": "code",
   "execution_count": 72,
   "metadata": {},
   "outputs": [],
   "source": [
    "all_data['KitchenQual'][pd.isnull(all_data.KitchenQual)] = 'TA'"
   ]
  },
  {
   "cell_type": "markdown",
   "metadata": {},
   "source": [
    "#### Exterior\n",
    "\n",
    "外部材料相关，另个都是缺失1，Exterior1st、Exterior2nd，使用Exter相关来填充，可以看到ExterQual、ExterCond均为TA，而TA对应的材料为VinylSd；"
   ]
  },
  {
   "cell_type": "code",
   "execution_count": 73,
   "metadata": {},
   "outputs": [
    {
     "data": {
      "text/html": [
       "<div>\n",
       "<style scoped>\n",
       "    .dataframe tbody tr th:only-of-type {\n",
       "        vertical-align: middle;\n",
       "    }\n",
       "\n",
       "    .dataframe tbody tr th {\n",
       "        vertical-align: top;\n",
       "    }\n",
       "\n",
       "    .dataframe thead th {\n",
       "        text-align: right;\n",
       "    }\n",
       "</style>\n",
       "<table border=\"1\" class=\"dataframe\">\n",
       "  <thead>\n",
       "    <tr style=\"text-align: right;\">\n",
       "      <th></th>\n",
       "      <th>Exterior1st</th>\n",
       "      <th>Exterior2nd</th>\n",
       "      <th>ExterQual</th>\n",
       "      <th>ExterCond</th>\n",
       "    </tr>\n",
       "  </thead>\n",
       "  <tbody>\n",
       "    <tr>\n",
       "      <th>2151</th>\n",
       "      <td>NaN</td>\n",
       "      <td>NaN</td>\n",
       "      <td>TA</td>\n",
       "      <td>TA</td>\n",
       "    </tr>\n",
       "  </tbody>\n",
       "</table>\n",
       "</div>"
      ],
      "text/plain": [
       "     Exterior1st Exterior2nd ExterQual ExterCond\n",
       "2151         NaN         NaN        TA        TA"
      ]
     },
     "execution_count": 73,
     "metadata": {},
     "output_type": "execute_result"
    }
   ],
   "source": [
    "all_data[['Exterior1st','Exterior2nd', 'ExterQual', 'ExterCond']][pd.isnull(all_data.Exterior1st)]"
   ]
  },
  {
   "cell_type": "code",
   "execution_count": 74,
   "metadata": {},
   "outputs": [
    {
     "data": {
      "text/plain": [
       "VinylSd    929\n",
       "HdBoard    400\n",
       "MetalSd    360\n",
       "Wd Sdng    340\n",
       "Plywood    191\n",
       "CemntBd    118\n",
       "BrkFace     78\n",
       "WdShing     48\n",
       "AsbShng     32\n",
       "Stucco      31\n",
       "BrkComm      5\n",
       "Stone        2\n",
       "AsphShn      1\n",
       "ImStucc      1\n",
       "CBlock       1\n",
       "Name: Exterior1st, dtype: int64"
      ]
     },
     "execution_count": 74,
     "metadata": {},
     "output_type": "execute_result"
    }
   ],
   "source": [
    "all_data[all_data.ExterCond=='TA']['Exterior1st'].value_counts()"
   ]
  },
  {
   "cell_type": "code",
   "execution_count": 75,
   "metadata": {},
   "outputs": [
    {
     "data": {
      "text/plain": [
       "VinylSd    915\n",
       "HdBoard    362\n",
       "MetalSd    356\n",
       "Wd Sdng    327\n",
       "Plywood    231\n",
       "CmentBd    117\n",
       "Wd Shng     69\n",
       "BrkFace     42\n",
       "Stucco      40\n",
       "AsbShng     29\n",
       "Brk Cmn     21\n",
       "ImStucc     15\n",
       "Stone        6\n",
       "AsphShn      3\n",
       "CBlock       3\n",
       "Other        1\n",
       "Name: Exterior2nd, dtype: int64"
      ]
     },
     "execution_count": 75,
     "metadata": {},
     "output_type": "execute_result"
    }
   ],
   "source": [
    "all_data[all_data.ExterCond=='TA']['Exterior2nd'].value_counts()"
   ]
  },
  {
   "cell_type": "code",
   "execution_count": 76,
   "metadata": {},
   "outputs": [],
   "source": [
    "all_data['Exterior1st'][pd.isnull(all_data.Exterior1st)] = 'VinylSd'"
   ]
  },
  {
   "cell_type": "code",
   "execution_count": 77,
   "metadata": {},
   "outputs": [],
   "source": [
    "all_data['Exterior2nd'][pd.isnull(all_data.Exterior2nd)] = 'VinylSd'"
   ]
  },
  {
   "cell_type": "markdown",
   "metadata": {},
   "source": [
    "#### SaleType\n",
    "缺失1，销售类型，结合SaleCondition填充；"
   ]
  },
  {
   "cell_type": "code",
   "execution_count": 78,
   "metadata": {},
   "outputs": [
    {
     "data": {
      "text/html": [
       "<div>\n",
       "<style scoped>\n",
       "    .dataframe tbody tr th:only-of-type {\n",
       "        vertical-align: middle;\n",
       "    }\n",
       "\n",
       "    .dataframe tbody tr th {\n",
       "        vertical-align: top;\n",
       "    }\n",
       "\n",
       "    .dataframe thead th {\n",
       "        text-align: right;\n",
       "    }\n",
       "</style>\n",
       "<table border=\"1\" class=\"dataframe\">\n",
       "  <thead>\n",
       "    <tr style=\"text-align: right;\">\n",
       "      <th></th>\n",
       "      <th>SaleType</th>\n",
       "      <th>SaleCondition</th>\n",
       "    </tr>\n",
       "  </thead>\n",
       "  <tbody>\n",
       "    <tr>\n",
       "      <th>2489</th>\n",
       "      <td>NaN</td>\n",
       "      <td>Normal</td>\n",
       "    </tr>\n",
       "  </tbody>\n",
       "</table>\n",
       "</div>"
      ],
      "text/plain": [
       "     SaleType SaleCondition\n",
       "2489      NaN        Normal"
      ]
     },
     "execution_count": 78,
     "metadata": {},
     "output_type": "execute_result"
    }
   ],
   "source": [
    "all_data[['SaleType','SaleCondition']][pd.isnull(all_data.SaleType)]"
   ]
  },
  {
   "cell_type": "code",
   "execution_count": 79,
   "metadata": {},
   "outputs": [
    {
     "data": {
      "text/plain": [
       "WD       2314\n",
       "COD        39\n",
       "ConLD      21\n",
       "CWD        10\n",
       "ConLw       7\n",
       "ConLI       5\n",
       "Con         4\n",
       "Oth         1\n",
       "Name: SaleType, dtype: int64"
      ]
     },
     "execution_count": 79,
     "metadata": {},
     "output_type": "execute_result"
    }
   ],
   "source": [
    "all_data[all_data.SaleCondition=='Normal']['SaleType'].value_counts()"
   ]
  },
  {
   "cell_type": "code",
   "execution_count": 80,
   "metadata": {},
   "outputs": [],
   "source": [
    "all_data['SaleType'][pd.isnull(all_data.SaleType)] = 'WD'"
   ]
  },
  {
   "cell_type": "markdown",
   "metadata": {},
   "source": [
    "#### Functional\n",
    "缺失2，其他功能，暂时没想到跟哪个字段有直接联系，使用最多的值填充；"
   ]
  },
  {
   "cell_type": "code",
   "execution_count": 81,
   "metadata": {},
   "outputs": [
    {
     "data": {
      "text/plain": [
       "Typ     2717\n",
       "Min2      70\n",
       "Min1      65\n",
       "Mod       35\n",
       "Maj1      19\n",
       "Maj2       9\n",
       "Sev        2\n",
       "Name: Functional, dtype: int64"
      ]
     },
     "execution_count": 81,
     "metadata": {},
     "output_type": "execute_result"
    }
   ],
   "source": [
    "all_data.Functional.value_counts()"
   ]
  },
  {
   "cell_type": "code",
   "execution_count": 82,
   "metadata": {},
   "outputs": [],
   "source": [
    "all_data['Functional'][pd.isnull(all_data.Functional)] = 'Typ'"
   ]
  },
  {
   "cell_type": "markdown",
   "metadata": {},
   "source": [
    "#### MasVnr\n",
    "MasVnrArea缺失23，砖石面积，MasVnrType缺失24，砖石类型，用信息增益比来分析相关性，对于Area来说，信息增益比最高为Type，但是由于缺失的Area对应Type也是缺失的，因此考虑使用3SsnPorch三季门廊面积来填充，而Type用Area填充；\n",
    "\n",
    "TODO：考虑使用连续值来填充连续值的更合理的方式；"
   ]
  },
  {
   "cell_type": "code",
   "execution_count": 83,
   "metadata": {},
   "outputs": [
    {
     "data": {
      "text/plain": [
       "[('MasVnrType', (1.2143018167849533, 0.85378677201536524)),\n",
       " ('3SsnPorch', (0.062459899918484219, 0.39340106432018729)),\n",
       " ('Utilities', (0.0049501479116003111, 0.39201368810279524)),\n",
       " ('BsmtFinSF1', (2.9043388298496957, 0.38864399177014453)),\n",
       " ('Id', (4.3742259115139559, 0.37999545516444339))]"
      ]
     },
     "execution_count": 83,
     "metadata": {},
     "output_type": "execute_result"
    }
   ],
   "source": [
    "gain_df(all_data, 'MasVnrArea')[:5]"
   ]
  },
  {
   "cell_type": "code",
   "execution_count": 84,
   "metadata": {},
   "outputs": [
    {
     "data": {
      "text/plain": [
       "[('MasVnrArea', (1.214301816784952, 0.27760381867535322)),\n",
       " ('Id', (1.4222541934195017, 0.1235533190376369)),\n",
       " ('LotArea', (1.1559659615097431, 0.11114413613785518)),\n",
       " ('PoolArea', (0.0062551207240704176, 0.10845060580715954)),\n",
       " ('ExterQual', (0.12879935618412008, 0.10639483178179292))]"
      ]
     },
     "execution_count": 84,
     "metadata": {},
     "output_type": "execute_result"
    }
   ],
   "source": [
    "gain_df(all_data, 'MasVnrType')[:5]"
   ]
  },
  {
   "cell_type": "code",
   "execution_count": 85,
   "metadata": {},
   "outputs": [],
   "source": [
    "all_data.MasVnrArea.fillna(0, inplace=True)\n",
    "all_data.MasVnrType.fillna('None', inplace=True)"
   ]
  },
  {
   "cell_type": "markdown",
   "metadata": {},
   "source": [
    "#### MSZoning\n",
    "缺失4，所处区域类型，相关性分析中显示跟Utilities关系最强，使用其进行辅助填充；"
   ]
  },
  {
   "cell_type": "code",
   "execution_count": 86,
   "metadata": {},
   "outputs": [
    {
     "data": {
      "text/plain": [
       "[('Utilities', (0.0040030590202639882, 0.3170115233424472)),\n",
       " ('Street', (0.011451560235298697, 0.29741465203681683)),\n",
       " ('Alley', (0.12205195939785818, 0.28827214855015626)),\n",
       " ('Neighborhood', (0.71979617071249269, 0.17088774050046701)),\n",
       " ('LowQualFinSF', (0.027660413651460658, 0.1596421211796403))]"
      ]
     },
     "execution_count": 86,
     "metadata": {},
     "output_type": "execute_result"
    }
   ],
   "source": [
    "gain_df(all_data, 'MSZoning')[:5]"
   ]
  },
  {
   "cell_type": "code",
   "execution_count": 87,
   "metadata": {},
   "outputs": [
    {
     "data": {
      "text/html": [
       "<div>\n",
       "<style scoped>\n",
       "    .dataframe tbody tr th:only-of-type {\n",
       "        vertical-align: middle;\n",
       "    }\n",
       "\n",
       "    .dataframe tbody tr th {\n",
       "        vertical-align: top;\n",
       "    }\n",
       "\n",
       "    .dataframe thead th {\n",
       "        text-align: right;\n",
       "    }\n",
       "</style>\n",
       "<table border=\"1\" class=\"dataframe\">\n",
       "  <thead>\n",
       "    <tr style=\"text-align: right;\">\n",
       "      <th></th>\n",
       "      <th>MSZoning</th>\n",
       "      <th>Utilities</th>\n",
       "    </tr>\n",
       "  </thead>\n",
       "  <tbody>\n",
       "    <tr>\n",
       "      <th>1915</th>\n",
       "      <td>NaN</td>\n",
       "      <td>ALLPub</td>\n",
       "    </tr>\n",
       "    <tr>\n",
       "      <th>2216</th>\n",
       "      <td>NaN</td>\n",
       "      <td>AllPub</td>\n",
       "    </tr>\n",
       "    <tr>\n",
       "      <th>2250</th>\n",
       "      <td>NaN</td>\n",
       "      <td>AllPub</td>\n",
       "    </tr>\n",
       "    <tr>\n",
       "      <th>2904</th>\n",
       "      <td>NaN</td>\n",
       "      <td>AllPub</td>\n",
       "    </tr>\n",
       "  </tbody>\n",
       "</table>\n",
       "</div>"
      ],
      "text/plain": [
       "     MSZoning Utilities\n",
       "1915      NaN    ALLPub\n",
       "2216      NaN    AllPub\n",
       "2250      NaN    AllPub\n",
       "2904      NaN    AllPub"
      ]
     },
     "execution_count": 87,
     "metadata": {},
     "output_type": "execute_result"
    }
   ],
   "source": [
    "all_data[['MSZoning', 'Utilities']][pd.isnull(all_data.MSZoning)]"
   ]
  },
  {
   "cell_type": "code",
   "execution_count": 88,
   "metadata": {},
   "outputs": [
    {
     "data": {
      "text/plain": [
       "Utilities  MSZoning\n",
       "ALLPub     RL             1\n",
       "AllPub     RL          2263\n",
       "           RM           460\n",
       "           FV           139\n",
       "           RH            26\n",
       "           C (all)       25\n",
       "NoSeWa     RL             1\n",
       "Name: MSZoning, dtype: int64"
      ]
     },
     "execution_count": 88,
     "metadata": {},
     "output_type": "execute_result"
    }
   ],
   "source": [
    "all_data[['MSZoning', 'Utilities']].groupby('Utilities')['MSZoning'].value_counts()"
   ]
  },
  {
   "cell_type": "code",
   "execution_count": 89,
   "metadata": {},
   "outputs": [],
   "source": [
    "all_data.MSZoning.iloc[1915] = 'RL'\n",
    "all_data.MSZoning.fillna('RL', inplace=True)"
   ]
  },
  {
   "cell_type": "markdown",
   "metadata": {},
   "source": [
    "#### LotFrontage\n",
    "缺失了486，而且该特征对结果的影响是明显的，距离街道直线距离，可以看到跟Utilities的信息增益比达到了0.91之高；"
   ]
  },
  {
   "cell_type": "code",
   "execution_count": 90,
   "metadata": {},
   "outputs": [
    {
     "data": {
      "text/plain": [
       "[('Utilities', (0.011515766788606108, 0.91196026679407705)),\n",
       " ('PoolArea', (0.037800668521908776, 0.65538389776255934)),\n",
       " ('LotArea', (6.6111760485075308, 0.63565318982833674)),\n",
       " ('Id', (6.9908886423392076, 0.60730880512071816)),\n",
       " ('RoofMatl', (0.083254470343316456, 0.60103119428636831))]"
      ]
     },
     "execution_count": 90,
     "metadata": {},
     "output_type": "execute_result"
    }
   ],
   "source": [
    "gain_df(all_data, 'LotFrontage')[:5]"
   ]
  },
  {
   "cell_type": "code",
   "execution_count": 91,
   "metadata": {},
   "outputs": [
    {
     "data": {
      "text/plain": [
       "Utilities\n",
       "ALLPub    109.0\n",
       "AllPub     68.0\n",
       "NoSeWa      NaN\n",
       "Name: LotFrontage, dtype: float64"
      ]
     },
     "execution_count": 91,
     "metadata": {},
     "output_type": "execute_result"
    }
   ],
   "source": [
    "all_data.groupby('Utilities')['LotFrontage'].median()"
   ]
  },
  {
   "cell_type": "code",
   "execution_count": 92,
   "metadata": {},
   "outputs": [],
   "source": [
    "all_data['LotFrontage'] = all_data.groupby('Utilities')['LotFrontage'].apply(lambda x: x.fillna(x.median()))"
   ]
  },
  {
   "cell_type": "code",
   "execution_count": 93,
   "metadata": {},
   "outputs": [],
   "source": [
    "all_data.LotFrontage.fillna(all_data.LotFrontage.median(), inplace=True)"
   ]
  },
  {
   "cell_type": "markdown",
   "metadata": {},
   "source": [
    "### 3.3.4 Check"
   ]
  },
  {
   "cell_type": "code",
   "execution_count": 94,
   "metadata": {},
   "outputs": [
    {
     "name": "stdout",
     "output_type": "stream",
     "text": [
      "All data columns with null values:\n",
      "\n",
      "SalePrice    1459\n",
      "dtype: int64\n"
     ]
    }
   ],
   "source": [
    "print 'All data columns with null values:\\n'\n",
    "missing_data = all_data.isnull().sum()[all_data.isnull().sum()>0].sort_values()\n",
    "missing_cols = list(missing_data.index)\n",
    "print missing_data"
   ]
  },
  {
   "cell_type": "markdown",
   "metadata": {},
   "source": [
    "## 3.4 Double Check Cleaned Data"
   ]
  },
  {
   "cell_type": "code",
   "execution_count": 95,
   "metadata": {},
   "outputs": [
    {
     "name": "stdout",
     "output_type": "stream",
     "text": [
      "All data columns with null values: \n",
      "1stFlrSF            0\n",
      "2ndFlrSF            0\n",
      "3SsnPorch           0\n",
      "Alley               0\n",
      "BedroomAbvGr        0\n",
      "BldgType            0\n",
      "BsmtCond            0\n",
      "BsmtExposure        0\n",
      "BsmtFinSF1          0\n",
      "BsmtFinSF2          0\n",
      "BsmtFinType1        0\n",
      "BsmtFinType2        0\n",
      "BsmtFullBath        0\n",
      "BsmtHalfBath        0\n",
      "BsmtQual            0\n",
      "BsmtUnfSF           0\n",
      "CentralAir          0\n",
      "Condition1          0\n",
      "Condition2          0\n",
      "Electrical          0\n",
      "EnclosedPorch       0\n",
      "ExterCond           0\n",
      "ExterQual           0\n",
      "Exterior1st         0\n",
      "Exterior2nd         0\n",
      "Fence               0\n",
      "FireplaceQu         0\n",
      "Fireplaces          0\n",
      "Foundation          0\n",
      "FullBath            0\n",
      "                 ... \n",
      "LotShape            0\n",
      "LowQualFinSF        0\n",
      "MSSubClass          0\n",
      "MSZoning            0\n",
      "MasVnrArea          0\n",
      "MasVnrType          0\n",
      "MiscFeature         0\n",
      "MiscVal             0\n",
      "MoSold              0\n",
      "Neighborhood        0\n",
      "OpenPorchSF         0\n",
      "OverallCond         0\n",
      "OverallQual         0\n",
      "PavedDrive          0\n",
      "PoolArea            0\n",
      "PoolQC              0\n",
      "RoofMatl            0\n",
      "RoofStyle           0\n",
      "SaleCondition       0\n",
      "SalePrice        1459\n",
      "SaleType            0\n",
      "ScreenPorch         0\n",
      "Street              0\n",
      "TotRmsAbvGrd        0\n",
      "TotalBsmtSF         0\n",
      "Utilities           0\n",
      "WoodDeckSF          0\n",
      "YearBuilt           0\n",
      "YearRemodAdd        0\n",
      "YrSold              0\n",
      "Length: 81, dtype: int64\n",
      "----------------------------------------------------------------------------------------------------\n",
      "<class 'pandas.core.frame.DataFrame'>\n",
      "RangeIndex: 2919 entries, 0 to 2918\n",
      "Data columns (total 81 columns):\n",
      "1stFlrSF         2919 non-null int64\n",
      "2ndFlrSF         2919 non-null int64\n",
      "3SsnPorch        2919 non-null int64\n",
      "Alley            2919 non-null object\n",
      "BedroomAbvGr     2919 non-null int64\n",
      "BldgType         2919 non-null object\n",
      "BsmtCond         2919 non-null object\n",
      "BsmtExposure     2919 non-null object\n",
      "BsmtFinSF1       2919 non-null float64\n",
      "BsmtFinSF2       2919 non-null float64\n",
      "BsmtFinType1     2919 non-null object\n",
      "BsmtFinType2     2919 non-null object\n",
      "BsmtFullBath     2919 non-null float64\n",
      "BsmtHalfBath     2919 non-null float64\n",
      "BsmtQual         2919 non-null object\n",
      "BsmtUnfSF        2919 non-null float64\n",
      "CentralAir       2919 non-null object\n",
      "Condition1       2919 non-null object\n",
      "Condition2       2919 non-null object\n",
      "Electrical       2919 non-null object\n",
      "EnclosedPorch    2919 non-null int64\n",
      "ExterCond        2919 non-null object\n",
      "ExterQual        2919 non-null object\n",
      "Exterior1st      2919 non-null object\n",
      "Exterior2nd      2919 non-null object\n",
      "Fence            2919 non-null object\n",
      "FireplaceQu      2919 non-null object\n",
      "Fireplaces       2919 non-null int64\n",
      "Foundation       2919 non-null object\n",
      "FullBath         2919 non-null int64\n",
      "Functional       2919 non-null object\n",
      "GarageArea       2919 non-null float64\n",
      "GarageCars       2919 non-null float64\n",
      "GarageCond       2919 non-null object\n",
      "GarageFinish     2919 non-null object\n",
      "GarageQual       2919 non-null object\n",
      "GarageType       2919 non-null object\n",
      "GarageYrBlt      2919 non-null float64\n",
      "GrLivArea        2919 non-null int64\n",
      "HalfBath         2919 non-null int64\n",
      "Heating          2919 non-null object\n",
      "HeatingQC        2919 non-null object\n",
      "HouseStyle       2919 non-null object\n",
      "Id               2919 non-null int64\n",
      "KitchenAbvGr     2919 non-null int64\n",
      "KitchenQual      2919 non-null object\n",
      "LandContour      2919 non-null object\n",
      "LandSlope        2919 non-null object\n",
      "LotArea          2919 non-null int64\n",
      "LotConfig        2919 non-null object\n",
      "LotFrontage      2919 non-null float64\n",
      "LotShape         2919 non-null object\n",
      "LowQualFinSF     2919 non-null int64\n",
      "MSSubClass       2919 non-null int64\n",
      "MSZoning         2919 non-null object\n",
      "MasVnrArea       2919 non-null float64\n",
      "MasVnrType       2919 non-null object\n",
      "MiscFeature      2919 non-null object\n",
      "MiscVal          2919 non-null int64\n",
      "MoSold           2919 non-null int64\n",
      "Neighborhood     2919 non-null object\n",
      "OpenPorchSF      2919 non-null int64\n",
      "OverallCond      2919 non-null int64\n",
      "OverallQual      2919 non-null int64\n",
      "PavedDrive       2919 non-null object\n",
      "PoolArea         2919 non-null int64\n",
      "PoolQC           2919 non-null object\n",
      "RoofMatl         2919 non-null object\n",
      "RoofStyle        2919 non-null object\n",
      "SaleCondition    2919 non-null object\n",
      "SalePrice        1460 non-null float64\n",
      "SaleType         2919 non-null object\n",
      "ScreenPorch      2919 non-null int64\n",
      "Street           2919 non-null object\n",
      "TotRmsAbvGrd     2919 non-null int64\n",
      "TotalBsmtSF      2919 non-null float64\n",
      "Utilities        2919 non-null object\n",
      "WoodDeckSF       2919 non-null int64\n",
      "YearBuilt        2919 non-null int64\n",
      "YearRemodAdd     2919 non-null int64\n",
      "YrSold           2919 non-null int64\n",
      "dtypes: float64(12), int64(26), object(43)\n",
      "memory usage: 1.8+ MB\n",
      "None\n",
      "----------------------------------------------------------------------------------------------------\n"
     ]
    }
   ],
   "source": [
    "print'All data columns with null values: \\n'+str(all_data.isnull().sum())\n",
    "print(\"-\"*100)\n",
    "print all_data.info()\n",
    "print(\"-\"*100)"
   ]
  },
  {
   "cell_type": "markdown",
   "metadata": {},
   "source": [
    "# Step 4:Visualization and FE"
   ]
  },
  {
   "cell_type": "code",
   "execution_count": 96,
   "metadata": {},
   "outputs": [
    {
     "name": "stdout",
     "output_type": "stream",
     "text": [
      "1460\n",
      "1459\n"
     ]
    }
   ],
   "source": [
    "train_data, test_data = divide_df(all_data)\n",
    "print len(train_data)\n",
    "print len(test_data)"
   ]
  },
  {
   "cell_type": "markdown",
   "metadata": {},
   "source": [
    "## 4.1 Visualization"
   ]
  },
  {
   "cell_type": "markdown",
   "metadata": {},
   "source": [
    "### 4.1.1 连续特征可视化分析\n",
    "\n",
    "连续特征可视化中，重点在于观察数据的分布形态，是否正态，是否左偏右偏等；"
   ]
  },
  {
   "cell_type": "code",
   "execution_count": 97,
   "metadata": {},
   "outputs": [
    {
     "name": "stdout",
     "output_type": "stream",
     "text": [
      "['LotArea', 'LotFrontage', 'MasVnrArea', 'BsmtFinSF1', 'BsmtFinSF2', 'BsmtUnfSF', 'TotalBsmtSF', '1stFlrSF', '2ndFlrSF', 'LowQualFinSF', 'GrLivArea', 'BsmtFullBath', 'BsmtHalfBath', 'FullBath', 'HalfBath', 'BedroomAbvGr', 'KitchenAbvGr', 'TotRmsAbvGrd', 'Fireplaces', 'GarageCars', 'GarageArea', 'WoodDeckSF', 'OpenPorchSF', 'EnclosedPorch', '3SsnPorch', 'ScreenPorch', 'PoolArea', 'MiscVal']\n"
     ]
    }
   ],
   "source": [
    "print ContinuousFeatures"
   ]
  },
  {
   "cell_type": "code",
   "execution_count": 99,
   "metadata": {},
   "outputs": [
    {
     "data": {
      "image/png": "[encoded data removed]",
      "text/plain": [
       "<matplotlib.figure.Figure at 0x7f1b9a4e8a90>"
      ]
     },
     "metadata": {},
     "output_type": "display_data"
    }
   ],
   "source": [
    "train_data[ContinuousFeatures].hist(bins=15, color='steelblue', edgecolor='black', linewidth=1.0,\n",
    "           xlabelsize=8, ylabelsize=8, grid=False)    \n",
    "plt.tight_layout(rect=(0, 0, 1.2, 1.2))"
   ]
  },
  {
   "cell_type": "markdown",
   "metadata": {},
   "source": [
    "### 4.1.2 离散特征可视化分析"
   ]
  },
  {
   "cell_type": "code",
   "execution_count": 103,
   "metadata": {},
   "outputs": [
    {
     "name": "stdout",
     "output_type": "stream",
     "text": [
      "['MSSubClass', 'MSZoning', 'LotShape', 'Street', 'Alley', 'LandContour', 'LandSlope', 'Utilities', 'LotConfig', 'Neighborhood', 'Condition1', 'Condition2', 'BldgType', 'HouseStyle', 'OverallQual', 'OverallCond', 'YearBuilt', 'YearRemodAdd', 'RoofStyle', 'RoofMatl', 'Exterior1st', 'Exterior2nd', 'MasVnrType', 'ExterQual', 'ExterCond', 'Foundation', 'BsmtQual', 'BsmtCond', 'BsmtExposure', 'BsmtFinType1', 'BsmtFinType2', 'Heating', 'CentralAir', 'Electrical', 'KitchenQual', 'Functional', 'FireplaceQu', 'GarageType', 'GarageYrBlt', 'GarageFinish', 'GarageQual', 'GarageCond', 'PavedDrive', 'PoolQC', 'Fence', 'MiscFeature', 'MoSold', 'YrSold', 'SaleType', 'SaleCondition']\n"
     ]
    }
   ],
   "source": [
    "print CategoricalFeatures"
   ]
  },
  {
   "cell_type": "markdown",
   "metadata": {},
   "source": [
    "#### 4.1.2.1 MSSubClass-房屋类型\n",
    "\n",
    "- 20\t1-STORY 1946 & NEWER ALL STYLES\n",
    "- 30\t1-STORY 1945 & OLDER\n",
    "- 40\t1-STORY W/FINISHED ATTIC ALL AGES\n",
    "- 45\t1-1/2 STORY - UNFINISHED ALL AGES\n",
    "- 50\t1-1/2 STORY FINISHED ALL AGES\n",
    "- 60\t2-STORY 1946 & NEWER\n",
    "- 70\t2-STORY 1945 & OLDER\n",
    "- 75\t2-1/2 STORY ALL AGES\n",
    "- 80\tSPLIT OR MULTI-LEVEL\n",
    "- 85\tSPLIT FOYER\n",
    "- 90\tDUPLEX - ALL STYLES AND AGES\n",
    "- 120\t1-STORY PUD (Planned Unit Development) - 1946 & NEWER\n",
    "- 150\t1-1/2 STORY PUD - ALL AGES\n",
    "- 160\t2-STORY PUD - 1946 & NEWER\n",
    "- 180\tPUD - MULTILEVEL - INCL SPLIT LEV/FOYER\n",
    "- 190\t2 FAMILY CONVERSION - ALL STYLES AND AGES"
   ]
  },
  {
   "cell_type": "code",
   "execution_count": 136,
   "metadata": {},
   "outputs": [
    {
     "data": {
      "text/plain": [
       "<matplotlib.text.Text at 0x7f1b91d5e890>"
      ]
     },
     "execution_count": 136,
     "metadata": {},
     "output_type": "execute_result"
    },
    {
     "data": {
      "image/png": "[encoded data removed]",
      "text/plain": [
       "<matplotlib.figure.Figure at 0x7f1b92659ad0>"
      ]
     },
     "metadata": {},
     "output_type": "display_data"
    }
   ],
   "source": [
    "_, (ax1, ax2, ax3) = plt.subplots(3, 1, figsize=(15, 20))\n",
    "vc = train_data.MSSubClass.value_counts()\n",
    "sns.barplot(x=list(vc.index), y=list(vc.values), ax=ax1)\n",
    "ax1.set_title('MSSubClass Value Count')\n",
    "sns.barplot(x=\"MSSubClass\", y=\"SalePrice\", data=train_data, ax=ax2)\n",
    "ax2.set_title('MSSubClass Every Value SalePrice')\n",
    "sns.barplot(x=\"MSSubClass\", y=\"SalePrice\", hue=\"MSZoning\", data=train_data, ax=ax3)\n",
    "ax3.set_title('MSSubClass Every Value SalePrice With MSZoning')"
   ]
  },
  {
   "cell_type": "markdown",
   "metadata": {},
   "source": [
    "## 4.2 Feature Engineering"
   ]
  },
  {
   "cell_type": "markdown",
   "metadata": {},
   "source": [
    "## 4.3 Data标准化"
   ]
  },
  {
   "cell_type": "markdown",
   "metadata": {},
   "source": [
    "## 4.3.1 Label Encode"
   ]
  },
  {
   "cell_type": "markdown",
   "metadata": {},
   "source": [
    "for col in list(all_data.columns[all_data.dtypes == 'object']):\n",
    "    all_data[col] = le.fit_transform(all_data[col])"
   ]
  },
  {
   "cell_type": "markdown",
   "metadata": {},
   "source": [
    "## 4.3.1 One-Hot Encode"
   ]
  },
  {
   "cell_type": "markdown",
   "metadata": {},
   "source": [
    "# Step 5:Model Data"
   ]
  },
  {
   "cell_type": "markdown",
   "metadata": {},
   "source": [
    "## 5.0 Split Data to Train and Test"
   ]
  },
  {
   "cell_type": "code",
   "execution_count": 46,
   "metadata": {},
   "outputs": [],
   "source": [
    "train_x, valid_x, train_y, valid_y = model_selection.train_test_split(train_data, train_target, random_state = 0)"
   ]
  },
  {
   "cell_type": "markdown",
   "metadata": {},
   "source": [
    "## 5.1 Evaluate Model Performance"
   ]
  },
  {
   "cell_type": "code",
   "execution_count": 47,
   "metadata": {},
   "outputs": [
    {
     "data": {
      "text/html": [
       "<div>\n",
       "<style>\n",
       "    .dataframe thead tr:only-child th {\n",
       "        text-align: right;\n",
       "    }\n",
       "\n",
       "    .dataframe thead th {\n",
       "        text-align: left;\n",
       "    }\n",
       "\n",
       "    .dataframe tbody tr th {\n",
       "        vertical-align: top;\n",
       "    }\n",
       "</style>\n",
       "<table border=\"1\" class=\"dataframe\">\n",
       "  <thead>\n",
       "    <tr style=\"text-align: right;\">\n",
       "      <th></th>\n",
       "      <th>MLA Name</th>\n",
       "      <th>MLA Parameters</th>\n",
       "      <th>MLA Train Accuracy Mean</th>\n",
       "      <th>MLA Test Accuracy Mean</th>\n",
       "      <th>MLA Test Accuracy 3*STD</th>\n",
       "      <th>MLA Time</th>\n",
       "    </tr>\n",
       "  </thead>\n",
       "  <tbody>\n",
       "    <tr>\n",
       "      <th>1</th>\n",
       "      <td>BaggingRegressor</td>\n",
       "      <td>{'warm_start': False, 'max_samples': 1.0, 'bas...</td>\n",
       "      <td>0.944021</td>\n",
       "      <td>0.668042</td>\n",
       "      <td>0.253204</td>\n",
       "      <td>0.0444514</td>\n",
       "    </tr>\n",
       "    <tr>\n",
       "      <th>8</th>\n",
       "      <td>XGBRegressor</td>\n",
       "      <td>{'reg_alpha': 0, 'n_jobs': 1, 'colsample_bytre...</td>\n",
       "      <td>0.870346</td>\n",
       "      <td>0.667923</td>\n",
       "      <td>0.302584</td>\n",
       "      <td>0.0372427</td>\n",
       "    </tr>\n",
       "    <tr>\n",
       "      <th>4</th>\n",
       "      <td>RandomForestRegressor</td>\n",
       "      <td>{'warm_start': False, 'oob_score': False, 'n_j...</td>\n",
       "      <td>0.942401</td>\n",
       "      <td>0.662525</td>\n",
       "      <td>0.314652</td>\n",
       "      <td>0.0459981</td>\n",
       "    </tr>\n",
       "    <tr>\n",
       "      <th>2</th>\n",
       "      <td>ExtraTreesRegressor</td>\n",
       "      <td>{'warm_start': False, 'oob_score': False, 'n_j...</td>\n",
       "      <td>1</td>\n",
       "      <td>0.65934</td>\n",
       "      <td>0.300786</td>\n",
       "      <td>0.0298718</td>\n",
       "    </tr>\n",
       "    <tr>\n",
       "      <th>3</th>\n",
       "      <td>GradientBoostingRegressor</td>\n",
       "      <td>{'presort': 'auto', 'loss': 'ls', 'min_impurit...</td>\n",
       "      <td>0.879067</td>\n",
       "      <td>0.654931</td>\n",
       "      <td>0.449706</td>\n",
       "      <td>0.0511953</td>\n",
       "    </tr>\n",
       "    <tr>\n",
       "      <th>5</th>\n",
       "      <td>KNeighborsRegressor</td>\n",
       "      <td>{'n_neighbors': 5, 'n_jobs': 1, 'algorithm': '...</td>\n",
       "      <td>0.763304</td>\n",
       "      <td>0.619317</td>\n",
       "      <td>0.0932013</td>\n",
       "      <td>0.000627422</td>\n",
       "    </tr>\n",
       "    <tr>\n",
       "      <th>0</th>\n",
       "      <td>AdaBoostRegressor</td>\n",
       "      <td>{'n_estimators': 50, 'loss': 'linear', 'base_e...</td>\n",
       "      <td>0.748128</td>\n",
       "      <td>0.613594</td>\n",
       "      <td>0.259662</td>\n",
       "      <td>0.144179</td>\n",
       "    </tr>\n",
       "    <tr>\n",
       "      <th>6</th>\n",
       "      <td>DecisionTreeRegressor</td>\n",
       "      <td>{'presort': False, 'splitter': 'best', 'min_im...</td>\n",
       "      <td>1</td>\n",
       "      <td>0.479135</td>\n",
       "      <td>0.456535</td>\n",
       "      <td>0.0052258</td>\n",
       "    </tr>\n",
       "    <tr>\n",
       "      <th>7</th>\n",
       "      <td>ExtraTreeRegressor</td>\n",
       "      <td>{'splitter': 'random', 'min_impurity_decrease'...</td>\n",
       "      <td>1</td>\n",
       "      <td>0.40627</td>\n",
       "      <td>0.340565</td>\n",
       "      <td>0.00170233</td>\n",
       "    </tr>\n",
       "  </tbody>\n",
       "</table>\n",
       "</div>"
      ],
      "text/plain": [
       "                    MLA Name  \\\n",
       "1           BaggingRegressor   \n",
       "8               XGBRegressor   \n",
       "4      RandomForestRegressor   \n",
       "2        ExtraTreesRegressor   \n",
       "3  GradientBoostingRegressor   \n",
       "5        KNeighborsRegressor   \n",
       "0          AdaBoostRegressor   \n",
       "6      DecisionTreeRegressor   \n",
       "7         ExtraTreeRegressor   \n",
       "\n",
       "                                      MLA Parameters MLA Train Accuracy Mean  \\\n",
       "1  {'warm_start': False, 'max_samples': 1.0, 'bas...                0.944021   \n",
       "8  {'reg_alpha': 0, 'n_jobs': 1, 'colsample_bytre...                0.870346   \n",
       "4  {'warm_start': False, 'oob_score': False, 'n_j...                0.942401   \n",
       "2  {'warm_start': False, 'oob_score': False, 'n_j...                       1   \n",
       "3  {'presort': 'auto', 'loss': 'ls', 'min_impurit...                0.879067   \n",
       "5  {'n_neighbors': 5, 'n_jobs': 1, 'algorithm': '...                0.763304   \n",
       "0  {'n_estimators': 50, 'loss': 'linear', 'base_e...                0.748128   \n",
       "6  {'presort': False, 'splitter': 'best', 'min_im...                       1   \n",
       "7  {'splitter': 'random', 'min_impurity_decrease'...                       1   \n",
       "\n",
       "  MLA Test Accuracy Mean MLA Test Accuracy 3*STD     MLA Time  \n",
       "1               0.668042                0.253204    0.0444514  \n",
       "8               0.667923                0.302584    0.0372427  \n",
       "4               0.662525                0.314652    0.0459981  \n",
       "2                0.65934                0.300786    0.0298718  \n",
       "3               0.654931                0.449706    0.0511953  \n",
       "5               0.619317               0.0932013  0.000627422  \n",
       "0               0.613594                0.259662     0.144179  \n",
       "6               0.479135                0.456535    0.0052258  \n",
       "7                0.40627                0.340565   0.00170233  "
      ]
     },
     "execution_count": 47,
     "metadata": {},
     "output_type": "execute_result"
    }
   ],
   "source": [
    "#Machine Learning Algorithm (MLA) Selection and Initialization\n",
    "MLA = [\n",
    "    #Ensemble Methods\n",
    "    ensemble.AdaBoostRegressor(),\n",
    "    ensemble.BaggingRegressor(),\n",
    "    ensemble.ExtraTreesRegressor(),\n",
    "    ensemble.GradientBoostingRegressor(),\n",
    "    ensemble.RandomForestRegressor(),\n",
    "    \n",
    "    #xgboost: http://xgboost.readthedocs.io/en/latest/model.html\n",
    "    XGBRegressor(),\n",
    "]\n",
    "\n",
    "\n",
    "\n",
    "#split dataset in cross-validation with this splitter class: http://scikit-learn.org/stable/modules/generated/sklearn.model_selection.ShuffleSplit.html#sklearn.model_selection.ShuffleSplit\n",
    "#note: this is an alternative to train_test_split\n",
    "cv_split = model_selection.ShuffleSplit(n_splits = 10, test_size = .1, train_size = .8, random_state = 0 ) # run model 10x with 60/30 split intentionally leaving out 10%\n",
    "\n",
    "#create table to compare MLA metrics\n",
    "MLA_columns = ['MLA Name', 'MLA Parameters','MLA Train Accuracy Mean', 'MLA Test Accuracy Mean', 'MLA Test Accuracy 3*STD' ,'MLA Time']\n",
    "MLA_compare = pd.DataFrame(columns = MLA_columns)\n",
    "\n",
    "#index through MLA and save performance to table\n",
    "row_index = 0\n",
    "for alg in MLA:\n",
    "    #set name and parameters\n",
    "    MLA_name = alg.__class__.__name__\n",
    "    MLA_compare.loc[row_index, 'MLA Name'] = MLA_name\n",
    "    MLA_compare.loc[row_index, 'MLA Parameters'] = str(alg.get_params())\n",
    "    \n",
    "    #score model with cross validation: http://scikit-learn.org/stable/modules/generated/sklearn.model_selection.cross_validate.html#sklearn.model_selection.cross_validate\n",
    "    cv_results = model_selection.cross_validate(alg, train_data, train_target, cv  = cv_split)\n",
    "\n",
    "    MLA_compare.loc[row_index, 'MLA Time'] = cv_results['fit_time'].mean()\n",
    "    MLA_compare.loc[row_index, 'MLA Train Accuracy Mean'] = cv_results['train_score'].mean()\n",
    "    MLA_compare.loc[row_index, 'MLA Test Accuracy Mean'] = cv_results['test_score'].mean()   \n",
    "    #if this is a non-bias random sample, then +/-3 standard deviations (std) from the mean, should statistically capture 99.7% of the subsets\n",
    "    MLA_compare.loc[row_index, 'MLA Test Accuracy 3*STD'] = cv_results['test_score'].std()*3   #let's know the worst that can happen!\n",
    "    \n",
    "    row_index+=1\n",
    "    \n",
    "#print and sort table: https://pandas.pydata.org/pandas-docs/stable/generated/pandas.DataFrame.sort_values.html\n",
    "MLA_compare.sort_values(by = ['MLA Test Accuracy Mean'], ascending = False, inplace = True)\n",
    "MLA_compare"
   ]
  },
  {
   "cell_type": "markdown",
   "metadata": {},
   "source": [
    "def ensemble_predict(mla, train_x, train_y, test_x):\n",
    "    len_ = len(mla)\n",
    "    res = [0]*len(test_x)\n",
    "    for ml in mla:\n",
    "        ml.fit(train_x, train_y)\n",
    "        test_y = ml.predict(test_x)\n",
    "        res = [res[j]+1.*test_y[j]/len_ for j in range(len(test_y))]\n",
    "    return res\n",
    "\n",
    "ensemble_res = ensemble_predict(MLA, train_data, train_target, test_data)"
   ]
  },
  {
   "cell_type": "code",
   "execution_count": 48,
   "metadata": {},
   "outputs": [],
   "source": [
    "def plot_learning_curve(estimator, title, X, y, ylim=None, cv=None,\n",
    "                        n_jobs=1, train_sizes=np.linspace(.1, 1.0, 5)):\n",
    "    plt.figure()\n",
    "    plt.title(title)\n",
    "    train_sizes, train_scores, test_scores = learning_curve(\n",
    "        estimator, X, y, cv=cv, n_jobs=n_jobs, train_sizes=train_sizes)\n",
    "    train_scores_mean = np.mean(train_scores, axis=1)\n",
    "    train_scores_std = np.std(train_scores, axis=1)\n",
    "    test_scores_mean = np.mean(test_scores, axis=1)\n",
    "    test_scores_std = np.std(test_scores, axis=1)\n",
    "    plt.grid()\n",
    "\n",
    "    plt.fill_between(train_sizes, train_scores_mean - train_scores_std,\n",
    "                     train_scores_mean + train_scores_std, alpha=0.1,\n",
    "                     color=\"r\")\n",
    "    plt.fill_between(train_sizes, test_scores_mean - test_scores_std,\n",
    "                     test_scores_mean + test_scores_std, alpha=0.1, color=\"g\")\n",
    "    plt.plot(train_sizes, train_scores_mean, 'o-', color=\"r\",\n",
    "             label=\"Training score\")\n",
    "    plt.plot(train_sizes, test_scores_mean, 'o-', color=\"g\",\n",
    "             label=\"Cross-validation score\")\n",
    "\n",
    "    plt.legend(loc=\"best\")"
   ]
  },
  {
   "cell_type": "code",
   "execution_count": 49,
   "metadata": {
    "scrolled": true
   },
   "outputs": [
    {
     "data": {
      "image/png": "[encoded data removed]",
      "text/plain": [
       "<matplotlib.figure.Figure at 0x7fbc8744f8d0>"
      ]
     },
     "metadata": {
      "needs_background": "light"
     },
     "output_type": "display_data"
    },
    {
     "data": {
      "image/png": "[encoded data removed]",
      "text/plain": [
       "<matplotlib.figure.Figure at 0x7fbc8744f950>"
      ]
     },
     "metadata": {
      "needs_background": "light"
     },
     "output_type": "display_data"
    },
    {
     "data": {
      "image/png": "[encoded data removed]",
      "text/plain": [
       "<matplotlib.figure.Figure at 0x7fbc89619590>"
      ]
     },
     "metadata": {
      "needs_background": "light"
     },
     "output_type": "display_data"
    },
    {
     "data": {
      "image/png": "[encoded data removed]",
      "text/plain": [
       "<matplotlib.figure.Figure at 0x7fbc89451390>"
      ]
     },
     "metadata": {
      "needs_background": "light"
     },
     "output_type": "display_data"
    },
    {
     "data": {
      "image/png": "[encoded data removed]",
      "text/plain": [
       "<matplotlib.figure.Figure at 0x7fbc87926a90>"
      ]
     },
     "metadata": {
      "needs_background": "light"
     },
     "output_type": "display_data"
    },
    {
     "data": {
      "image/png": "[encoded data removed]",
      "text/plain": [
       "<matplotlib.figure.Figure at 0x7fbc88036290>"
      ]
     },
     "metadata": {
      "needs_background": "light"
     },
     "output_type": "display_data"
    },
    {
     "data": {
      "image/png": "[encoded data removed]",
      "text/plain": [
       "<matplotlib.figure.Figure at 0x7fbc8943ef50>"
      ]
     },
     "metadata": {
      "needs_background": "light"
     },
     "output_type": "display_data"
    },
    {
     "data": {
      "image/png": "[encoded data removed]",
      "text/plain": [
       "<matplotlib.figure.Figure at 0x7fbc894627d0>"
      ]
     },
     "metadata": {
      "needs_background": "light"
     },
     "output_type": "display_data"
    },
    {
     "data": {
      "image/png": "[encoded data removed]",
      "text/plain": [
       "<matplotlib.figure.Figure at 0x7fbc8931ed10>"
      ]
     },
     "metadata": {
      "needs_background": "light"
     },
     "output_type": "display_data"
    }
   ],
   "source": [
    "for alg in MLA:\n",
    "    plot_learning_curve(alg, alg.__class__.__name__, train_data, train_target, cv=cv_split)"
   ]
  },
  {
   "cell_type": "markdown",
   "metadata": {},
   "source": [
    "# Step 8: Submit"
   ]
  },
  {
   "cell_type": "code",
   "execution_count": 50,
   "metadata": {},
   "outputs": [
    {
     "ename": "NameError",
     "evalue": "name 'ensemble_res' is not defined",
     "output_type": "error",
     "traceback": [
      "\u001b[0;31m---------------------------------------------------------------------------\u001b[0m",
      "\u001b[0;31mNameError\u001b[0m                                 Traceback (most recent call last)",
      "\u001b[0;32m<ipython-input-50-f33042880a16>\u001b[0m in \u001b[0;36m<module>\u001b[0;34m()\u001b[0m\n\u001b[0;32m----> 1\u001b[0;31m \u001b[0mpd\u001b[0m\u001b[0;34m.\u001b[0m\u001b[0mDataFrame\u001b[0m\u001b[0;34m(\u001b[0m\u001b[0;34m{\u001b[0m\u001b[0;34m'Id'\u001b[0m\u001b[0;34m:\u001b[0m\u001b[0mlist\u001b[0m\u001b[0;34m(\u001b[0m\u001b[0mtest_id\u001b[0m\u001b[0;34m)\u001b[0m\u001b[0;34m,\u001b[0m \u001b[0;34m'SalePrice'\u001b[0m\u001b[0;34m:\u001b[0m\u001b[0mlist\u001b[0m\u001b[0;34m(\u001b[0m\u001b[0mensemble_res\u001b[0m\u001b[0;34m)\u001b[0m\u001b[0;34m}\u001b[0m\u001b[0;34m)\u001b[0m\u001b[0;34m.\u001b[0m\u001b[0mto_csv\u001b[0m\u001b[0;34m(\u001b[0m\u001b[0;34m'output/submission.csv'\u001b[0m\u001b[0;34m,\u001b[0m \u001b[0mindex\u001b[0m\u001b[0;34m=\u001b[0m\u001b[0mFalse\u001b[0m\u001b[0;34m)\u001b[0m\u001b[0;34m\u001b[0m\u001b[0m\n\u001b[0m",
      "\u001b[0;31mNameError\u001b[0m: name 'ensemble_res' is not defined"
     ]
    }
   ],
   "source": [
    "pd.DataFrame({'Id':list(test_id), 'SalePrice':list(ensemble_res)}).to_csv('output/submission.csv', index=False)"
   ]
  },
  {
   "cell_type": "code",
   "execution_count": null,
   "metadata": {},
   "outputs": [],
   "source": []
  }
 ],
 "metadata": {
  "kernelspec": {
   "display_name": "Python 2",
   "language": "python",
   "name": "python2"
  },
  "language_info": {
   "codemirror_mode": {
    "name": "ipython",
    "version": 2
   },
   "file_extension": ".py",
   "mimetype": "text/x-python",
   "name": "python",
   "nbconvert_exporter": "python",
   "pygments_lexer": "ipython2",
   "version": "2.7.13"
  }
 },
 "nbformat": 4,
 "nbformat_minor": 2
}
