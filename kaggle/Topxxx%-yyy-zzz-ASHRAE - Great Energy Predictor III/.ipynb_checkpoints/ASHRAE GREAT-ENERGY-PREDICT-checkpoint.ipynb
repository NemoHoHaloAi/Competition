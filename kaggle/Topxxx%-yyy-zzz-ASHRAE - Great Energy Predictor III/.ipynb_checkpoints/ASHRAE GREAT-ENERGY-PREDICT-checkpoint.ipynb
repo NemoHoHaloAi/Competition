{
 "cells": [
  {
   "cell_type": "markdown",
   "metadata": {},
   "source": [
    "# ASHRAE - Great Energy Predictor III\n",
    "\n",
    "Assessing the value of energy efficiency improvements can be challenging as there's no way to truly know how much energy a building would have used without the improvements. The best we can do is to build counterfactual models. Once a building is overhauled the new (lower) energy consumption is compared against modeled values for the original building to calculate the savings from the retrofit. More accurate models could support better market incentives and enable lower cost financing.\n",
    "\n",
    "This competition challenges you to build these counterfactual models across four energy types based on historic usage rates and observed weather. The dataset includes three years of hourly meter readings from over one thousand buildings at several different sites around the world."
   ]
  },
  {
   "cell_type": "markdown",
   "metadata": {},
   "source": [
    "## 项目简单分析\n",
    "\n",
    "- 项目简单描述：通过对各种能源（冷水、电、天然气、热水和蒸汽表）消耗的预测达到节约能源的目的（未采取措施 vs 采取措施），数据来源于1000栋建筑3年的数据；\n",
    "- 预测单位：单栋建筑的各项能源消耗；\n",
    "- 是否时间序列：是；\n",
    "- 数据量级：三年×1000栋建筑；\n",
    "- 特点：未采取措施的建筑能源消耗 vs 采取措施的建筑能源消耗；\n",
    "- 评估函数：RMSLE(Root Mean Squared Logarithmic Error)；\n",
    "- TIMELINE：2019年12月12日；"
   ]
  },
  {
   "cell_type": "markdown",
   "metadata": {},
   "source": [
    "## 数据文件\n",
    "\n",
    "- weather.csv:各个site每小时的天气信息，7M；\n",
    "- building.csv:每个建筑的元信息, 40+K；\n",
    "- train.csv:每个建筑每小时的读数信息，600+M；\n",
    "- 测试文件大于训练文件；"
   ]
  },
  {
   "cell_type": "markdown",
   "metadata": {},
   "source": [
    "## 字段描述\n",
    "\n",
    "- train.csv:\n",
    "  - building_id：建筑表的外键；\n",
    "  - meter：资源代码{0: electricity, 1: chilledwater, 2: steam, 3: hotwater}，PS：不是所有建筑都有所有资源消耗的数据；\n",
    "  - timestamp：读数时间；\n",
    "  - meter_reading - 千瓦时的真实读数，注意这个是带有误差的真实数据；\n",
    "  - test.csv：多一个row_id，少meter_reading；\n",
    "  - 间隔是1小时；\n",
    "- building_meta.csv：\n",
    "  - site_id - 天气表的外键；.\n",
    "  - building_id - 训练表的外键；\n",
    "  - primary_use - 建筑主要活动、用途类别指标（离散型，应该有很大相关性）；\n",
    "  - square_feet - 建筑总面积，不知道包不包含每层楼，如果包含，那么跟floor_count就有重复，如果不包含，可以考虑构建一个总面积的特征；\n",
    "  - year_built - 建筑开始使用年份，越老越费电？？\n",
    "  - floor_count - 楼层总数，预计线性关系；\n",
    "- weather[train/test].csv（尽可能接近建筑的天气信息）：\n",
    "  - site_id - 天气表外键；\n",
    "  - air_temperature - 空气摄氏温度；\n",
    "  - cloud_coverage - Portion of the sky covered in clouds, in oktas\n",
    "  - dew_temperature - [露点温度](https://baike.baidu.com/item/%E9%9C%B2%E7%82%B9/1574011?fr=aladdin)摄氏度；\n",
    "  - precip_depth_1_hr - Millimeters\n",
    "  - sea_level_pressure - 海平面压力，Millibar/hectopascals；\n",
    "  - wind_direction - 风向，0~360；\n",
    "  - wind_speed - 风速，米每秒；\n",
    "  - 间隔是1小时；"
   ]
  },
  {
   "cell_type": "code",
   "execution_count": null,
   "metadata": {},
   "outputs": [],
   "source": []
  }
 ],
 "metadata": {
  "kernelspec": {
   "display_name": "Python 2",
   "language": "python",
   "name": "python2"
  },
  "language_info": {
   "codemirror_mode": {
    "name": "ipython",
    "version": 2
   },
   "file_extension": ".py",
   "mimetype": "text/x-python",
   "name": "python",
   "nbconvert_exporter": "python",
   "pygments_lexer": "ipython2",
   "version": "2.7.13"
  },
  "toc": {
   "base_numbering": 1,
   "nav_menu": {},
   "number_sections": true,
   "sideBar": true,
   "skip_h1_title": false,
   "title_cell": "Table of Contents",
   "title_sidebar": "Contents",
   "toc_cell": false,
   "toc_position": {
    "height": "calc(100% - 180px)",
    "left": "10px",
    "top": "150px",
    "width": "279.797px"
   },
   "toc_section_display": true,
   "toc_window_display": true
  }
 },
 "nbformat": 4,
 "nbformat_minor": 2
}
