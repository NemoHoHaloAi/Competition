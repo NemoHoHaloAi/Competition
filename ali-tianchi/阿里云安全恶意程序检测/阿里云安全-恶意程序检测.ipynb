{
 "cells": [
  {
   "cell_type": "markdown",
   "metadata": {},
   "source": [
    "## 赛题说明\n",
    "本题目提供的数据来自文件（windows 可执行程序）经过沙箱程序模拟运行后的API指令序列，全为windows二进制可执行程序，经过脱敏处理；\n",
    "\n",
    "本题目提供的样本数据均来自于从互联网，其中恶意文件的类型有感染型病毒、木马程序、挖矿程序、DDOS木马、勒索病毒等，数据总计6亿条；\n",
    "\n",
    "## 数据说明\n",
    "**训练数据**（train.zip）：调用记录近9000万次，文件1万多个（以文件编号汇总），字段描述如下：\n",
    "\n",
    "字段 | 类型 | 解释\n",
    "-|-|-\n",
    "file_id | bigint | 文件编号\n",
    "label | bigint | 文件标签，0-正常/1-勒索病毒/2-挖矿程序/3-DDoS木马/4-蠕虫病毒/5-感染型病毒/6-后门程序/7-木马程序\n",
    "api | string | 文件调用的API名称\n",
    "tid | bigint | 调用API的线程编号\n",
    "index | string | 线程中API调用的顺序编号\n",
    "\n",
    "- 注1：一个文件调用的api数量有可能很多，对于一个tid中调用超过5000个api的文件，我们进行了截断，按照顺序保留了每个tid前5000个api的记录。\n",
    "- 注2：不同线程tid之间没有顺序关系，同一个tid里的index由小到大代表调用的先后顺序关系。\n",
    "- 注3：index是单个文件在沙箱执行时的全局顺序，由于沙箱执行时间有精度限制，所以会出现一个index上出现同线程或者不同线程都在执行多次api的情况，可以保证同tid内部的顺序，但不保证连续。\n",
    " \n",
    "**测试数据**（test.zip）：调用记录近8000万次，文件1万多个。\n",
    "> 说明：格式除了没有label字段，其他数据规格与训练数据一致。\n",
    "\n",
    "## 评测指标\n",
    "- 选手的结果文件包含9个字段：file_id(bigint)、和八个分类的预测概率prob0, prob1, prob2, prob3, prob4, prob5 ,prob6,prob7 (类型double，范围在[0,1]之间，精度保留小数点后5位，prob<=0.0我们会替换为1e-6，prob>=1.0我们会替换为1.0-1e-6)。选手必须保证每一行的|prob0+prob1+prob2+prob3+prob4+prob5+prob6+prob7-1.0|<1e-6，且将列名按如下顺序写入提交结果文件的第一行，作为表头：file_id,prob0,prob1,prob2,prob3,prob4,prob5,prob6,prob7。\n",
    "\n",
    "- 分数采用logloss计算公式"
   ]
  },
  {
   "cell_type": "markdown",
   "metadata": {},
   "source": [
    "## 字段分析\n",
    "\n",
    "- file_id：表现每个程序文件，其中包含正常与各种异常类型，因此可以通过该字段做分组统计分析；\n",
    "- label：训练标签，因此该问题是有监督学习；\n",
    "- api：程序调用的api，由于是string类型，需要转为普通离散数据，且只支持连续值的算法此处不适用；\n",
    "- tid：通过tid可以分组统计某个文件在某个线程中的调用时序，此处考虑HMM算法求转换概率；\n",
    "- index：配合tid进行调用时序统计分析；"
   ]
  },
  {
   "cell_type": "markdown",
   "metadata": {},
   "source": [
    "## 问题分析\n",
    "\n",
    "简单讲模型需要预测一个未知文件为各个类别的概率，且概率和为1（接近1），训练数据有标签，因此是有监督学习，8个目标类别，因此是一个有监督多分类问题，目前还没有看过数据，但是通常存在极端的不平衡的情况，异常的文件数量远小于正常的文件，但这里跟普通异常检测不同的在于它需要精确的给出是哪一种异常，而不是简单的区分正常/异常，且需要算法输出的是各个类别的概率，而不是0/1；"
   ]
  },
  {
   "cell_type": "markdown",
   "metadata": {},
   "source": [
    "## 环境"
   ]
  },
  {
   "cell_type": "code",
   "execution_count": 78,
   "metadata": {},
   "outputs": [],
   "source": [
    "#coding:utf-8\n",
    "## 导入模块以及环境设置\n",
    "import os,sys,time,re\n",
    "from gc import collect as gcc\n",
    "\n",
    "import pandas as pd\n",
    "import numpy as np\n",
    "import matplotlib.pyplot as plt\n",
    "\n",
    "plt.rcParams['font.sans-serif']=['SimHei'] #用来正常显示中文标签\n",
    "plt.rcParams['axes.unicode_minus']=False #用来正常显示负号\n",
    "#有中文出现的情况，需要u'内容'\n",
    "\n",
    "%matplotlib inline"
   ]
  },
  {
   "cell_type": "markdown",
   "metadata": {},
   "source": [
    "## 数据加载\n",
    "\n",
    "由于数据量很大，训练csv文件2.9G，9000W条记录，1w个文件，因此采用pandas的分段加载方法，只加载部分数据做可视化分析；"
   ]
  },
  {
   "cell_type": "code",
   "execution_count": 2,
   "metadata": {},
   "outputs": [],
   "source": [
    "train_path = '../../../../../ali_tianchi_dataset/恶意程序检测/security_train.csv'\n",
    "test_path = '../../../../../ali_tianchi_dataset/恶意程序检测/security_test.csv'\n",
    "submit_path = '../../../../../ali_tianchi_dataset/恶意程序检测/security_submit.csv'"
   ]
  },
  {
   "cell_type": "code",
   "execution_count": 3,
   "metadata": {},
   "outputs": [],
   "source": [
    "def get_chunks(file_path=train_path, chunksize=100000):\n",
    "    chunks = pd.read_csv(file_path, chunksize=chunksize)\n",
    "    return chunksize"
   ]
  },
  {
   "cell_type": "code",
   "execution_count": 101,
   "metadata": {},
   "outputs": [],
   "source": [
    "train_data = pd.read_csv(train_path, nrows=4000*10000)"
   ]
  },
  {
   "cell_type": "code",
   "execution_count": 102,
   "metadata": {},
   "outputs": [
    {
     "data": {
      "text/html": [
       "<div>\n",
       "<style>\n",
       "    .dataframe thead tr:only-child th {\n",
       "        text-align: right;\n",
       "    }\n",
       "\n",
       "    .dataframe thead th {\n",
       "        text-align: left;\n",
       "    }\n",
       "\n",
       "    .dataframe tbody tr th {\n",
       "        vertical-align: top;\n",
       "    }\n",
       "</style>\n",
       "<table border=\"1\" class=\"dataframe\">\n",
       "  <thead>\n",
       "    <tr style=\"text-align: right;\">\n",
       "      <th></th>\n",
       "      <th>file_id</th>\n",
       "      <th>label</th>\n",
       "      <th>api</th>\n",
       "      <th>tid</th>\n",
       "      <th>index</th>\n",
       "    </tr>\n",
       "  </thead>\n",
       "  <tbody>\n",
       "    <tr>\n",
       "      <th>0</th>\n",
       "      <td>1</td>\n",
       "      <td>5</td>\n",
       "      <td>LdrLoadDll</td>\n",
       "      <td>2488</td>\n",
       "      <td>0</td>\n",
       "    </tr>\n",
       "    <tr>\n",
       "      <th>1</th>\n",
       "      <td>1</td>\n",
       "      <td>5</td>\n",
       "      <td>LdrGetProcedureAddress</td>\n",
       "      <td>2488</td>\n",
       "      <td>1</td>\n",
       "    </tr>\n",
       "    <tr>\n",
       "      <th>2</th>\n",
       "      <td>1</td>\n",
       "      <td>5</td>\n",
       "      <td>LdrGetProcedureAddress</td>\n",
       "      <td>2488</td>\n",
       "      <td>2</td>\n",
       "    </tr>\n",
       "    <tr>\n",
       "      <th>3</th>\n",
       "      <td>1</td>\n",
       "      <td>5</td>\n",
       "      <td>LdrGetProcedureAddress</td>\n",
       "      <td>2488</td>\n",
       "      <td>3</td>\n",
       "    </tr>\n",
       "    <tr>\n",
       "      <th>4</th>\n",
       "      <td>1</td>\n",
       "      <td>5</td>\n",
       "      <td>LdrGetProcedureAddress</td>\n",
       "      <td>2488</td>\n",
       "      <td>4</td>\n",
       "    </tr>\n",
       "  </tbody>\n",
       "</table>\n",
       "</div>"
      ],
      "text/plain": [
       "   file_id  label                     api   tid  index\n",
       "0        1      5              LdrLoadDll  2488      0\n",
       "1        1      5  LdrGetProcedureAddress  2488      1\n",
       "2        1      5  LdrGetProcedureAddress  2488      2\n",
       "3        1      5  LdrGetProcedureAddress  2488      3\n",
       "4        1      5  LdrGetProcedureAddress  2488      4"
      ]
     },
     "execution_count": 102,
     "metadata": {},
     "output_type": "execute_result"
    }
   ],
   "source": [
    "train_data.head(5)"
   ]
  },
  {
   "cell_type": "markdown",
   "metadata": {},
   "source": [
    "## 数据可视化分析"
   ]
  },
  {
   "cell_type": "markdown",
   "metadata": {},
   "source": [
    "### 根据文件id分组"
   ]
  },
  {
   "cell_type": "code",
   "execution_count": 103,
   "metadata": {},
   "outputs": [],
   "source": [
    "def groupby_fileid_nolabel(data):\n",
    "    file_data = pd.DataFrame(columns=['file_id','api_type_count',\n",
    "                                      'tid_type_count','api_call_count'])\n",
    "    for name,group in data.groupby('file_id'):\n",
    "        file_data = file_data.append([{'file_id':name,'api_type_count':len(group.api.unique()),\n",
    "                                       'tid_type_count':len(group.tid.unique()),\n",
    "                            'api_call_count':group.tid.count()}], ignore_index=True)\n",
    "    return file_data\n",
    "\n",
    "def groupby_fileid(data):\n",
    "    file_data = pd.DataFrame(columns=['file_id','label','api_type_count',\n",
    "                                      'tid_type_count','api_call_count'])\n",
    "    for name,group in data.groupby('file_id'):\n",
    "        file_data = file_data.append([{'file_id':name,'label':group.label.iloc[0],\n",
    "                                       'api_type_count':len(group.api.unique()),\n",
    "                                       'tid_type_count':len(group.tid.unique()),\n",
    "                            'api_call_count':group.tid.count()}], ignore_index=True)\n",
    "    return file_data"
   ]
  },
  {
   "cell_type": "code",
   "execution_count": 104,
   "metadata": {},
   "outputs": [
    {
     "data": {
      "text/html": [
       "<div>\n",
       "<style>\n",
       "    .dataframe thead tr:only-child th {\n",
       "        text-align: right;\n",
       "    }\n",
       "\n",
       "    .dataframe thead th {\n",
       "        text-align: left;\n",
       "    }\n",
       "\n",
       "    .dataframe tbody tr th {\n",
       "        vertical-align: top;\n",
       "    }\n",
       "</style>\n",
       "<table border=\"1\" class=\"dataframe\">\n",
       "  <thead>\n",
       "    <tr style=\"text-align: right;\">\n",
       "      <th></th>\n",
       "      <th>file_id</th>\n",
       "      <th>label</th>\n",
       "      <th>api_type_count</th>\n",
       "      <th>tid_type_count</th>\n",
       "      <th>api_call_count</th>\n",
       "    </tr>\n",
       "  </thead>\n",
       "  <tbody>\n",
       "    <tr>\n",
       "      <th>0</th>\n",
       "      <td>1</td>\n",
       "      <td>5</td>\n",
       "      <td>116</td>\n",
       "      <td>11</td>\n",
       "      <td>6786</td>\n",
       "    </tr>\n",
       "    <tr>\n",
       "      <th>1</th>\n",
       "      <td>2</td>\n",
       "      <td>2</td>\n",
       "      <td>30</td>\n",
       "      <td>4</td>\n",
       "      <td>816</td>\n",
       "    </tr>\n",
       "    <tr>\n",
       "      <th>2</th>\n",
       "      <td>3</td>\n",
       "      <td>0</td>\n",
       "      <td>42</td>\n",
       "      <td>1</td>\n",
       "      <td>463</td>\n",
       "    </tr>\n",
       "    <tr>\n",
       "      <th>3</th>\n",
       "      <td>4</td>\n",
       "      <td>0</td>\n",
       "      <td>51</td>\n",
       "      <td>9</td>\n",
       "      <td>2046</td>\n",
       "    </tr>\n",
       "    <tr>\n",
       "      <th>4</th>\n",
       "      <td>5</td>\n",
       "      <td>0</td>\n",
       "      <td>65</td>\n",
       "      <td>6</td>\n",
       "      <td>10002</td>\n",
       "    </tr>\n",
       "    <tr>\n",
       "      <th>5</th>\n",
       "      <td>6</td>\n",
       "      <td>0</td>\n",
       "      <td>62</td>\n",
       "      <td>4</td>\n",
       "      <td>5001</td>\n",
       "    </tr>\n",
       "    <tr>\n",
       "      <th>6</th>\n",
       "      <td>7</td>\n",
       "      <td>0</td>\n",
       "      <td>83</td>\n",
       "      <td>13</td>\n",
       "      <td>5282</td>\n",
       "    </tr>\n",
       "    <tr>\n",
       "      <th>7</th>\n",
       "      <td>8</td>\n",
       "      <td>0</td>\n",
       "      <td>24</td>\n",
       "      <td>1</td>\n",
       "      <td>118</td>\n",
       "    </tr>\n",
       "    <tr>\n",
       "      <th>8</th>\n",
       "      <td>9</td>\n",
       "      <td>0</td>\n",
       "      <td>107</td>\n",
       "      <td>32</td>\n",
       "      <td>18028</td>\n",
       "    </tr>\n",
       "    <tr>\n",
       "      <th>9</th>\n",
       "      <td>10</td>\n",
       "      <td>0</td>\n",
       "      <td>29</td>\n",
       "      <td>3</td>\n",
       "      <td>205</td>\n",
       "    </tr>\n",
       "  </tbody>\n",
       "</table>\n",
       "</div>"
      ],
      "text/plain": [
       "  file_id label api_type_count tid_type_count api_call_count\n",
       "0       1     5            116             11           6786\n",
       "1       2     2             30              4            816\n",
       "2       3     0             42              1            463\n",
       "3       4     0             51              9           2046\n",
       "4       5     0             65              6          10002\n",
       "5       6     0             62              4           5001\n",
       "6       7     0             83             13           5282\n",
       "7       8     0             24              1            118\n",
       "8       9     0            107             32          18028\n",
       "9      10     0             29              3            205"
      ]
     },
     "execution_count": 104,
     "metadata": {},
     "output_type": "execute_result"
    }
   ],
   "source": [
    "file_data = groupby_fileid(train_data)\n",
    "file_data.head(10)"
   ]
  },
  {
   "cell_type": "markdown",
   "metadata": {},
   "source": [
    "### 根据文件类型分组"
   ]
  },
  {
   "cell_type": "code",
   "execution_count": 105,
   "metadata": {},
   "outputs": [],
   "source": [
    "def groupby_label(data):\n",
    "    label_data = pd.DataFrame(columns=['label','api_type_count','tid_type_count','api_call_count'])\n",
    "    for name,group in data.groupby('label'):\n",
    "        label_data = label_data.append([{'label':name,'api_type_count':group.api_type_count.mean(),\n",
    "                                        'tid_type_count':group.tid_type_count.mean(),\n",
    "                                       'api_call_count':group.api_call_count.mean()}], ignore_index=True)\n",
    "    return label_data"
   ]
  },
  {
   "cell_type": "code",
   "execution_count": 106,
   "metadata": {},
   "outputs": [
    {
     "name": "stdout",
     "output_type": "stream",
     "text": [
      "  label  api_type_count  tid_type_count  api_call_count\n",
      "0     0       42.359389        6.520961     3100.994323\n",
      "1     1       45.444934       29.502203     4154.784141\n",
      "2     2       38.003992       17.884232     5077.269461\n",
      "3     3       78.742739       48.578838     9925.682573\n",
      "4     4       65.023810       25.595238     4639.500000\n",
      "5     5       51.741918       18.012603     7688.432877\n",
      "6     6       56.073333       31.243333     9577.406667\n",
      "7     7       58.515537       35.911017    10633.086158\n"
     ]
    }
   ],
   "source": [
    "label_data = groupby_label(file_data)\n",
    "print label_data"
   ]
  },
  {
   "cell_type": "code",
   "execution_count": 107,
   "metadata": {},
   "outputs": [],
   "source": [
    "label_data.label = label_data.label.astype('int')\n",
    "label_data.api_type_count = label_data.api_type_count.astype('float64')\n",
    "label_data.tid_type_count = label_data.tid_type_count.astype('float64')\n",
    "label_data.api_call_count = label_data.api_call_count.astype('float64')"
   ]
  },
  {
   "cell_type": "markdown",
   "metadata": {},
   "source": [
    "### 简单特征构建及分析"
   ]
  },
  {
   "cell_type": "code",
   "execution_count": 108,
   "metadata": {},
   "outputs": [],
   "source": [
    "def compare2feature(x, y):\n",
    "    plt.scatter(list(x), list(y))\n",
    "    print 'pearson相关系数：'+str(x.corr(y))\n",
    "    print 'kendall相关系数：'+str(x.corr(y, method='kendall'))\n",
    "    print 'spearman相关系数：'+str(x.corr(y, method='spearman'))"
   ]
  },
  {
   "cell_type": "markdown",
   "metadata": {},
   "source": [
    "#### lv1:label vs api type count"
   ]
  },
  {
   "cell_type": "code",
   "execution_count": 109,
   "metadata": {},
   "outputs": [
    {
     "name": "stdout",
     "output_type": "stream",
     "text": [
      "pearson相关系数：0.426840847753\n",
      "kendall相关系数：0.357142857143\n",
      "spearman相关系数：0.547619047619\n"
     ]
    },
    {
     "data": {
      "image/png": "[encoded data removed]",
      "text/plain": [
       "<matplotlib.figure.Figure at 0x7fb9b9af4dd0>"
      ]
     },
     "metadata": {
      "needs_background": "light"
     },
     "output_type": "display_data"
    }
   ],
   "source": [
    "compare2feature(label_data.label, label_data.api_type_count)"
   ]
  },
  {
   "cell_type": "markdown",
   "metadata": {},
   "source": [
    "看到相关系数很低，不足0.5；"
   ]
  },
  {
   "cell_type": "markdown",
   "metadata": {},
   "source": [
    "#### lv1:label vs tid type count"
   ]
  },
  {
   "cell_type": "code",
   "execution_count": 110,
   "metadata": {},
   "outputs": [
    {
     "name": "stdout",
     "output_type": "stream",
     "text": [
      "pearson相关系数：0.435762532525\n",
      "kendall相关系数：0.428571428571\n",
      "spearman相关系数：0.547619047619\n"
     ]
    },
    {
     "data": {
      "image/png": "[encoded data removed]",
      "text/plain": [
       "<matplotlib.figure.Figure at 0x7fb9ac886f10>"
      ]
     },
     "metadata": {
      "needs_background": "light"
     },
     "output_type": "display_data"
    }
   ],
   "source": [
    "compare2feature(label_data.label, label_data.tid_type_count)"
   ]
  },
  {
   "cell_type": "markdown",
   "metadata": {},
   "source": [
    "#### lv1:label vs api call count"
   ]
  },
  {
   "cell_type": "code",
   "execution_count": 111,
   "metadata": {},
   "outputs": [
    {
     "name": "stdout",
     "output_type": "stream",
     "text": [
      "pearson相关系数：0.812082952883\n",
      "kendall相关系数：0.714285714286\n",
      "spearman相关系数：0.809523809524\n"
     ]
    },
    {
     "data": {
      "image/png": "[encoded data removed]",
      "text/plain": [
       "<matplotlib.figure.Figure at 0x7fb9ac81c210>"
      ]
     },
     "metadata": {
      "needs_background": "light"
     },
     "output_type": "display_data"
    }
   ],
   "source": [
    "compare2feature(label_data.label, label_data.api_call_count)"
   ]
  },
  {
   "cell_type": "markdown",
   "metadata": {},
   "source": [
    "### 分析api前缀，通过前缀对api进行分组"
   ]
  },
  {
   "cell_type": "markdown",
   "metadata": {},
   "source": [
    "输出所有程序调用的api种类总数；"
   ]
  },
  {
   "cell_type": "code",
   "execution_count": 112,
   "metadata": {},
   "outputs": [
    {
     "data": {
      "text/plain": [
       "290"
      ]
     },
     "execution_count": 112,
     "metadata": {},
     "output_type": "execute_result"
    }
   ],
   "source": [
    "len(train_data.api.unique())"
   ]
  },
  {
   "cell_type": "markdown",
   "metadata": {},
   "source": [
    "通过取前缀，将api分组；"
   ]
  },
  {
   "cell_type": "code",
   "execution_count": 113,
   "metadata": {},
   "outputs": [
    {
     "name": "stdout",
     "output_type": "stream",
     "text": [
      "set(['getaddrinfo', 'shutdown', 'accept', 'ioctlsocket', 'connect', 'getsockname', 'IW', 'WSAS', 'WSAR', 'recv', 'system', 'send', 'select', 'listen', 'A', 'C', 'E', 'D', 'G', 'F', 'I', 'H', 'sendto', 'M', 'L', 'O', 'N', 'P', '__exception__', 'R', 'U', 'T', 'W', 'SHG', 'closesocket', 'setsockopt', 'WSAC', 'URLD', 'socket', 'gethostbyname', 'bind', 'S', 'recvfrom', 'time'])\n",
      "44\n"
     ]
    }
   ],
   "source": [
    "api_list = train_data.api.unique()\n",
    "api_prefix = []\n",
    "UPPER = 'ABCDEFGHIJKLMNOPQRSTUVWXYZ'\n",
    "#api_list = ['RTZool', 'RootLoot', 'xyzLiu', 'xyzzz', 'ABC']\n",
    "for api in api_list:\n",
    "    if api[0] in UPPER:\n",
    "        result = re.search(r'[a-z]', api)\n",
    "        if result:\n",
    "            prefix = api[:result.span()[0]]\n",
    "        else:\n",
    "            prefix = api\n",
    "    else:\n",
    "        result = re.search(r'[A-Z]', api)\n",
    "        if result:\n",
    "            prefix = api[:result.span()[0]]\n",
    "        else:\n",
    "            prefix = api\n",
    "    api_prefix.append(prefix)\n",
    "api_prefix = set(api_prefix)\n",
    "print api_prefix\n",
    "print len(api_prefix)"
   ]
  },
  {
   "cell_type": "code",
   "execution_count": 114,
   "metadata": {},
   "outputs": [],
   "source": [
    "api_prefix = list(api_prefix)\n",
    "api_prefix.sort(key=len, reverse=True) # 按长度排序保证了长的前缀不会一直无法被匹配到（被短的抢了，一种贪心思路）"
   ]
  },
  {
   "cell_type": "markdown",
   "metadata": {},
   "source": [
    "通过取前缀，认为是一种对api的分簇方法，将api个数从295降低到了44；"
   ]
  },
  {
   "cell_type": "code",
   "execution_count": 115,
   "metadata": {},
   "outputs": [
    {
     "data": {
      "text/plain": [
       "0       L\n",
       "1000    N\n",
       "2000    L\n",
       "3000    G\n",
       "4000    N\n",
       "Name: api_prefix, dtype: object"
      ]
     },
     "execution_count": 115,
     "metadata": {},
     "output_type": "execute_result"
    }
   ],
   "source": [
    "train_data['api_prefix'] = train_data.api\n",
    "train_data['api_prefix'] = train_data['api_prefix'].apply(lambda a:[ap for ap in api_prefix if a.startswith(ap)][0])\n",
    "train_data['api_prefix'][:5000:1000]"
   ]
  },
  {
   "cell_type": "markdown",
   "metadata": {},
   "source": [
    "### 复杂特征构建：结合多个普通特征"
   ]
  },
  {
   "cell_type": "markdown",
   "metadata": {},
   "source": [
    "#### lv3:构建file_id+api_tid组合特征"
   ]
  },
  {
   "cell_type": "code",
   "execution_count": 120,
   "metadata": {},
   "outputs": [],
   "source": [
    "# agg:https://blog.csdn.net/u012706792/article/details/80892510\n",
    "# col1:Api,col2:Tid/col1:Tid,col2:Api\n",
    "def feature_combination(data_merge, data_orig, combination_feature, col1=None, col2=None, opts=None):\n",
    "    # opts:count,min,max,median,std\n",
    "    for opt in opts:\n",
    "        gcc()\n",
    "        print opt\n",
    "        # 根据file_id+Api分组，针对Tid进行聚合运算\n",
    "        train_split = data_orig.groupby(['file_id', col1])[col2].agg(\n",
    "            {'fileid_' + col1 + '_' + col2 + '_' + str(opt): opt}).reset_index()\n",
    "        # 重塑DataFrame\n",
    "        train_split_ = pd.pivot_table(train_split, values='fileid_' + col1 + '_' + col2 + '_' + str(opt),\n",
    "                        index=['file_id'], columns=[col1])\n",
    "        new_cols = ['fileid_' + col1 + '_' + col2 + '_' + opt + '_' + str(col) for col in train_split_.columns]\n",
    "        combination_feature.append(new_cols)\n",
    "        train_split_.columns = new_cols\n",
    "        train_split_.reset_index(inplace=True)\n",
    "        # 合并数据到一个空DataFrame中\n",
    "        data_merge = pd.merge(data_merge, train_split_, how='left', on='file_id')\n",
    "    return data_merge, combination_feature\n",
    "\n",
    "#t, cf = feature_combination(pd.DataFrame(train_data.file_id, columns=['file_id']), train_data, [], 'api_prefix', 'tid', ['count', 'min', 'max', 'median', 'std'])"
   ]
  },
  {
   "cell_type": "markdown",
   "metadata": {},
   "source": [
    "（100000数据量下）看到在没有通过前缀对api进行分类前，api+tid最终有933列，而分类后，api_prefix+tid有135列；"
   ]
  },
  {
   "cell_type": "markdown",
   "metadata": {},
   "source": [
    "## 建模\n",
    "\n",
    "1. 读取全部数据；\n",
    "2. 划分数据集；\n",
    "3. 对训练数据，根据文件id分组，根据labe分组；\n",
    "4. 相应字段归一化；\n",
    "5. 训练kNN模型；\n",
    "6. 使用验证数据计算模型得分，k为1；"
   ]
  },
  {
   "cell_type": "code",
   "execution_count": 15,
   "metadata": {},
   "outputs": [],
   "source": [
    "train_data = pd.read_csv(train_path)"
   ]
  },
  {
   "cell_type": "code",
   "execution_count": 16,
   "metadata": {},
   "outputs": [
    {
     "data": {
      "text/html": [
       "<div>\n",
       "<style>\n",
       "    .dataframe thead tr:only-child th {\n",
       "        text-align: right;\n",
       "    }\n",
       "\n",
       "    .dataframe thead th {\n",
       "        text-align: left;\n",
       "    }\n",
       "\n",
       "    .dataframe tbody tr th {\n",
       "        vertical-align: top;\n",
       "    }\n",
       "</style>\n",
       "<table border=\"1\" class=\"dataframe\">\n",
       "  <thead>\n",
       "    <tr style=\"text-align: right;\">\n",
       "      <th></th>\n",
       "      <th>file_id</th>\n",
       "      <th>label</th>\n",
       "      <th>api_type_count</th>\n",
       "      <th>tid_type_count</th>\n",
       "      <th>api_call_count</th>\n",
       "    </tr>\n",
       "  </thead>\n",
       "  <tbody>\n",
       "    <tr>\n",
       "      <th>0</th>\n",
       "      <td>1</td>\n",
       "      <td>5</td>\n",
       "      <td>116</td>\n",
       "      <td>11</td>\n",
       "      <td>6786</td>\n",
       "    </tr>\n",
       "    <tr>\n",
       "      <th>1</th>\n",
       "      <td>2</td>\n",
       "      <td>2</td>\n",
       "      <td>30</td>\n",
       "      <td>4</td>\n",
       "      <td>816</td>\n",
       "    </tr>\n",
       "    <tr>\n",
       "      <th>2</th>\n",
       "      <td>3</td>\n",
       "      <td>0</td>\n",
       "      <td>42</td>\n",
       "      <td>1</td>\n",
       "      <td>463</td>\n",
       "    </tr>\n",
       "    <tr>\n",
       "      <th>3</th>\n",
       "      <td>4</td>\n",
       "      <td>0</td>\n",
       "      <td>51</td>\n",
       "      <td>9</td>\n",
       "      <td>2046</td>\n",
       "    </tr>\n",
       "    <tr>\n",
       "      <th>4</th>\n",
       "      <td>5</td>\n",
       "      <td>0</td>\n",
       "      <td>65</td>\n",
       "      <td>6</td>\n",
       "      <td>10002</td>\n",
       "    </tr>\n",
       "  </tbody>\n",
       "</table>\n",
       "</div>"
      ],
      "text/plain": [
       "  file_id label api_type_count tid_type_count api_call_count\n",
       "0       1     5            116             11           6786\n",
       "1       2     2             30              4            816\n",
       "2       3     0             42              1            463\n",
       "3       4     0             51              9           2046\n",
       "4       5     0             65              6          10002"
      ]
     },
     "execution_count": 16,
     "metadata": {},
     "output_type": "execute_result"
    }
   ],
   "source": [
    "file_data = groupby_fileid(train_data)\n",
    "file_data.head(5)"
   ]
  },
  {
   "cell_type": "code",
   "execution_count": 17,
   "metadata": {},
   "outputs": [
    {
     "data": {
      "text/html": [
       "<div>\n",
       "<style>\n",
       "    .dataframe thead tr:only-child th {\n",
       "        text-align: right;\n",
       "    }\n",
       "\n",
       "    .dataframe thead th {\n",
       "        text-align: left;\n",
       "    }\n",
       "\n",
       "    .dataframe tbody tr th {\n",
       "        vertical-align: top;\n",
       "    }\n",
       "</style>\n",
       "<table border=\"1\" class=\"dataframe\">\n",
       "  <thead>\n",
       "    <tr style=\"text-align: right;\">\n",
       "      <th></th>\n",
       "      <th>label</th>\n",
       "      <th>api_type_count</th>\n",
       "      <th>tid_type_count</th>\n",
       "      <th>api_call_count</th>\n",
       "    </tr>\n",
       "  </thead>\n",
       "  <tbody>\n",
       "    <tr>\n",
       "      <th>0</th>\n",
       "      <td>5</td>\n",
       "      <td>0.680473</td>\n",
       "      <td>0.00509165</td>\n",
       "      <td>0.00763902</td>\n",
       "    </tr>\n",
       "    <tr>\n",
       "      <th>1</th>\n",
       "      <td>2</td>\n",
       "      <td>0.171598</td>\n",
       "      <td>0.00152749</td>\n",
       "      <td>0.000917583</td>\n",
       "    </tr>\n",
       "    <tr>\n",
       "      <th>2</th>\n",
       "      <td>0</td>\n",
       "      <td>0.242604</td>\n",
       "      <td>0</td>\n",
       "      <td>0.000520151</td>\n",
       "    </tr>\n",
       "    <tr>\n",
       "      <th>3</th>\n",
       "      <td>0</td>\n",
       "      <td>0.295858</td>\n",
       "      <td>0.00407332</td>\n",
       "      <td>0.0023024</td>\n",
       "    </tr>\n",
       "    <tr>\n",
       "      <th>4</th>\n",
       "      <td>0</td>\n",
       "      <td>0.378698</td>\n",
       "      <td>0.00254582</td>\n",
       "      <td>0.0112598</td>\n",
       "    </tr>\n",
       "  </tbody>\n",
       "</table>\n",
       "</div>"
      ],
      "text/plain": [
       "  label api_type_count tid_type_count api_call_count\n",
       "0     5       0.680473     0.00509165     0.00763902\n",
       "1     2       0.171598     0.00152749    0.000917583\n",
       "2     0       0.242604              0    0.000520151\n",
       "3     0       0.295858     0.00407332      0.0023024\n",
       "4     0       0.378698     0.00254582      0.0112598"
      ]
     },
     "execution_count": 17,
     "metadata": {},
     "output_type": "execute_result"
    }
   ],
   "source": [
    "df = file_data[['api_type_count','tid_type_count','api_call_count']]\n",
    "df.head(5)\n",
    "# min/max归一化处理\n",
    "file_data[['api_type_count','tid_type_count','api_call_count']] = (df - df.min()) / (df.max() - df.min())\n",
    "file_data = file_data.drop('file_id', axis=1)\n",
    "file_data.head(5)"
   ]
  },
  {
   "cell_type": "markdown",
   "metadata": {},
   "source": [
    "由于数据是倾斜的，其中0和5文件很多，其余很少，这里考虑采取过抽样的方式来优化这一问题；"
   ]
  },
  {
   "cell_type": "code",
   "execution_count": 18,
   "metadata": {},
   "outputs": [
    {
     "data": {
      "text/html": [
       "<div>\n",
       "<style>\n",
       "    .dataframe thead tr:only-child th {\n",
       "        text-align: right;\n",
       "    }\n",
       "\n",
       "    .dataframe thead th {\n",
       "        text-align: left;\n",
       "    }\n",
       "\n",
       "    .dataframe tbody tr th {\n",
       "        vertical-align: top;\n",
       "    }\n",
       "</style>\n",
       "<table border=\"1\" class=\"dataframe\">\n",
       "  <thead>\n",
       "    <tr style=\"text-align: right;\">\n",
       "      <th></th>\n",
       "      <th>api_type_count</th>\n",
       "      <th>tid_type_count</th>\n",
       "      <th>api_call_count</th>\n",
       "    </tr>\n",
       "    <tr>\n",
       "      <th>label</th>\n",
       "      <th></th>\n",
       "      <th></th>\n",
       "      <th></th>\n",
       "    </tr>\n",
       "  </thead>\n",
       "  <tbody>\n",
       "    <tr>\n",
       "      <th>0</th>\n",
       "      <td>4978</td>\n",
       "      <td>4978</td>\n",
       "      <td>4978</td>\n",
       "    </tr>\n",
       "    <tr>\n",
       "      <th>1</th>\n",
       "      <td>502</td>\n",
       "      <td>502</td>\n",
       "      <td>502</td>\n",
       "    </tr>\n",
       "    <tr>\n",
       "      <th>2</th>\n",
       "      <td>1196</td>\n",
       "      <td>1196</td>\n",
       "      <td>1196</td>\n",
       "    </tr>\n",
       "    <tr>\n",
       "      <th>3</th>\n",
       "      <td>820</td>\n",
       "      <td>820</td>\n",
       "      <td>820</td>\n",
       "    </tr>\n",
       "    <tr>\n",
       "      <th>4</th>\n",
       "      <td>100</td>\n",
       "      <td>100</td>\n",
       "      <td>100</td>\n",
       "    </tr>\n",
       "    <tr>\n",
       "      <th>5</th>\n",
       "      <td>4289</td>\n",
       "      <td>4289</td>\n",
       "      <td>4289</td>\n",
       "    </tr>\n",
       "    <tr>\n",
       "      <th>6</th>\n",
       "      <td>515</td>\n",
       "      <td>515</td>\n",
       "      <td>515</td>\n",
       "    </tr>\n",
       "    <tr>\n",
       "      <th>7</th>\n",
       "      <td>1487</td>\n",
       "      <td>1487</td>\n",
       "      <td>1487</td>\n",
       "    </tr>\n",
       "  </tbody>\n",
       "</table>\n",
       "</div>"
      ],
      "text/plain": [
       "       api_type_count  tid_type_count  api_call_count\n",
       "label                                                \n",
       "0                4978            4978            4978\n",
       "1                 502             502             502\n",
       "2                1196            1196            1196\n",
       "3                 820             820             820\n",
       "4                 100             100             100\n",
       "5                4289            4289            4289\n",
       "6                 515             515             515\n",
       "7                1487            1487            1487"
      ]
     },
     "execution_count": 18,
     "metadata": {},
     "output_type": "execute_result"
    }
   ],
   "source": [
    "file_data.groupby('label').count()"
   ]
  },
  {
   "cell_type": "markdown",
   "metadata": {},
   "source": [
    "以4000为标准，对1,2,3,4,6,7进行过抽样；"
   ]
  },
  {
   "cell_type": "markdown",
   "metadata": {},
   "source": [
    "df0 = file_data[file_data.label==0]\n",
    "df5 = file_data[file_data.label==5]\n",
    "\n",
    "df1 = file_data[file_data.label==1]\n",
    "df1 = pd.concat([df1]*8, ignore_index=True)\n",
    "df2 = file_data[file_data.label==2]\n",
    "df2 = pd.concat([df2]*4, ignore_index=True)\n",
    "df3 = file_data[file_data.label==3]\n",
    "df3 = pd.concat([df3]*5, ignore_index=True)\n",
    "df4 = file_data[file_data.label==4]\n",
    "df4 = pd.concat([df4]*40, ignore_index=True)\n",
    "df6 = file_data[file_data.label==6]\n",
    "df6 = pd.concat([df6]*8, ignore_index=True)\n",
    "df7 = file_data[file_data.label==7]\n",
    "df7 = pd.concat([df7]*3, ignore_index=True)\n",
    "file_data = pd.concat([df0, df1, df2, df3, df4, df5, df6, df7], ignore_index=True)\n",
    "file_data.groupby('label').count()"
   ]
  },
  {
   "cell_type": "markdown",
   "metadata": {},
   "source": [
    "划分数据集"
   ]
  },
  {
   "cell_type": "code",
   "execution_count": 19,
   "metadata": {},
   "outputs": [
    {
     "name": "stdout",
     "output_type": "stream",
     "text": [
      "10415\n",
      "3472\n"
     ]
    },
    {
     "name": "stderr",
     "output_type": "stream",
     "text": [
      "/home/kael/Software/anaconda2/envs/python2/lib/python2.7/site-packages/sklearn/cross_validation.py:41: DeprecationWarning: This module was deprecated in version 0.18 in favor of the model_selection module into which all the refactored classes and functions are moved. Also note that the interface of the new CV iterators are different from that of this module. This module will be removed in 0.20.\n",
      "  \"This module will be removed in 0.20.\", DeprecationWarning)\n"
     ]
    }
   ],
   "source": [
    "from sklearn.cross_validation import train_test_split\n",
    "x_train, x_valid, y_train, y_valid = train_test_split(file_data.drop('label', axis=1),file_data.label, test_size=0.25, random_state=0)\n",
    "print len(x_train)\n",
    "print len(x_valid)"
   ]
  },
  {
   "cell_type": "markdown",
   "metadata": {},
   "source": [
    "x_train['label'] = y_train\n",
    "x_data = x_train\n",
    "label_data = groupby_label(x_data)\n",
    "x_train = label_data.drop('label', axis=1)\n",
    "y_train = label_data.label\n",
    "y_train = pd.DataFrame(y_train, columns=['label'])\n",
    "x_train"
   ]
  },
  {
   "cell_type": "markdown",
   "metadata": {},
   "source": [
    "x_valid['label'] = y_valid\n",
    "x_data = x_valid\n",
    "file_data = groupby_fileid(x_data)\n",
    "x_valid = file_data.drop(['label','file_id'], axis=1)\n",
    "y_valid = file_data.label\n",
    "y_valid = pd.DataFrame(y_valid, columns=['label'])"
   ]
  },
  {
   "cell_type": "markdown",
   "metadata": {},
   "source": [
    "### 算法对比"
   ]
  },
  {
   "cell_type": "markdown",
   "metadata": {},
   "source": [
    "#### kNN"
   ]
  },
  {
   "cell_type": "code",
   "execution_count": 24,
   "metadata": {},
   "outputs": [
    {
     "name": "stdout",
     "output_type": "stream",
     "text": [
      "0.702188940092\n"
     ]
    }
   ],
   "source": [
    "from sklearn.neighbors import KNeighborsClassifier as KNN\n",
    "\n",
    "knn = KNN(3)\n",
    "knn.fit(x_train,y_train.astype('int'))\n",
    "scores=knn.score(x_valid, y_valid.astype('int'))\n",
    "print scores"
   ]
  },
  {
   "cell_type": "code",
   "execution_count": 25,
   "metadata": {},
   "outputs": [
    {
     "name": "stdout",
     "output_type": "stream",
     "text": [
      "             precision    recall  f1-score   support\n",
      "\n",
      "          0       0.76      0.81      0.78      1283\n",
      "          1       0.71      0.84      0.77       122\n",
      "          2       0.71      0.71      0.71       318\n",
      "          3       0.52      0.56      0.54       196\n",
      "          4       0.21      0.24      0.22        17\n",
      "          5       0.73      0.76      0.75      1017\n",
      "          6       0.53      0.30      0.38       137\n",
      "          7       0.53      0.36      0.43       382\n",
      "\n",
      "avg / total       0.69      0.70      0.69      3472\n",
      "\n"
     ]
    }
   ],
   "source": [
    "from sklearn.metrics import classification_report\n",
    "y_pred = knn.predict(x_valid)\n",
    "print classification_report(y_valid.astype('int'), y_pred)"
   ]
  },
  {
   "cell_type": "code",
   "execution_count": 26,
   "metadata": {},
   "outputs": [
    {
     "data": {
      "text/plain": [
       "<Container object of 8 artists>"
      ]
     },
     "execution_count": 26,
     "metadata": {},
     "output_type": "execute_result"
    },
    {
     "data": {
      "image/png": "[encoded data removed]",
      "text/plain": [
       "<matplotlib.figure.Figure at 0x7f34a361ae10>"
      ]
     },
     "metadata": {
      "needs_background": "light"
     },
     "output_type": "display_data"
    }
   ],
   "source": [
    "y_pred = knn.predict(x_valid)\n",
    "y_pred_list = list(y_pred)\n",
    "y_valid_list = list(y_valid)\n",
    "class_result = {}\n",
    "error_result = {}\n",
    "for i in range(len(y_pred_list)):\n",
    "    class_result[y_valid_list[i]] = class_result.get(y_valid_list[i], 0)+1\n",
    "    if y_pred_list[i] != y_valid_list[i]:\n",
    "        error_result[y_valid_list[i]] = error_result.get(y_valid_list[i], 0)+1\n",
    "\n",
    "plt.bar(class_result.keys(), class_result.values())\n",
    "plt.bar(error_result.keys(), error_result.values())"
   ]
  },
  {
   "cell_type": "markdown",
   "metadata": {},
   "source": [
    "#### LGB"
   ]
  },
  {
   "cell_type": "code",
   "execution_count": 27,
   "metadata": {},
   "outputs": [],
   "source": [
    "x_train.api_type_count = x_train.api_type_count.astype('float64')\n",
    "x_train.api_call_count = x_train.api_call_count.astype('float64')\n",
    "x_train.tid_type_count = x_train.tid_type_count.astype('float64')\n",
    "y_train = y_train.astype('int')\n",
    "\n",
    "x_valid.api_type_count = x_valid.api_type_count.astype('float64')\n",
    "x_valid.api_call_count = x_valid.api_call_count.astype('float64')\n",
    "x_valid.tid_type_count = x_valid.tid_type_count.astype('float64')\n",
    "y_valid = y_valid.astype('int')"
   ]
  },
  {
   "cell_type": "code",
   "execution_count": 36,
   "metadata": {},
   "outputs": [
    {
     "name": "stdout",
     "output_type": "stream",
     "text": [
      "[1]\tvalid_0's multi_logloss: 1.5092\n",
      "Training until validation scores don't improve for 100 rounds.\n",
      "[2]\tvalid_0's multi_logloss: 1.43606\n",
      "[3]\tvalid_0's multi_logloss: 1.37761\n",
      "[4]\tvalid_0's multi_logloss: 1.32842\n",
      "[5]\tvalid_0's multi_logloss: 1.28629\n",
      "[6]\tvalid_0's multi_logloss: 1.25022\n",
      "[7]\tvalid_0's multi_logloss: 1.21746\n",
      "[8]\tvalid_0's multi_logloss: 1.18833\n",
      "[9]\tvalid_0's multi_logloss: 1.16349\n",
      "[10]\tvalid_0's multi_logloss: 1.14171\n",
      "[11]\tvalid_0's multi_logloss: 1.12122\n",
      "[12]\tvalid_0's multi_logloss: 1.10333\n",
      "[13]\tvalid_0's multi_logloss: 1.08724\n",
      "[14]\tvalid_0's multi_logloss: 1.07241\n",
      "[15]\tvalid_0's multi_logloss: 1.05884\n",
      "[16]\tvalid_0's multi_logloss: 1.04622\n",
      "[17]\tvalid_0's multi_logloss: 1.03493\n",
      "[18]\tvalid_0's multi_logloss: 1.02434\n",
      "[19]\tvalid_0's multi_logloss: 1.01421\n",
      "[20]\tvalid_0's multi_logloss: 1.00492\n",
      "[21]\tvalid_0's multi_logloss: 0.996473\n",
      "[22]\tvalid_0's multi_logloss: 0.98886\n",
      "[23]\tvalid_0's multi_logloss: 0.981288\n",
      "[24]\tvalid_0's multi_logloss: 0.974874\n",
      "[25]\tvalid_0's multi_logloss: 0.969022\n",
      "[26]\tvalid_0's multi_logloss: 0.963292\n",
      "[27]\tvalid_0's multi_logloss: 0.957849\n",
      "[28]\tvalid_0's multi_logloss: 0.952844\n",
      "[29]\tvalid_0's multi_logloss: 0.947963\n",
      "[30]\tvalid_0's multi_logloss: 0.943097\n",
      "[31]\tvalid_0's multi_logloss: 0.938893\n",
      "[32]\tvalid_0's multi_logloss: 0.934713\n",
      "[33]\tvalid_0's multi_logloss: 0.931399\n",
      "[34]\tvalid_0's multi_logloss: 0.928344\n",
      "[35]\tvalid_0's multi_logloss: 0.924861\n",
      "[36]\tvalid_0's multi_logloss: 0.922379\n",
      "[37]\tvalid_0's multi_logloss: 0.919191\n",
      "[38]\tvalid_0's multi_logloss: 0.91639\n",
      "[39]\tvalid_0's multi_logloss: 0.913682\n",
      "[40]\tvalid_0's multi_logloss: 0.911497\n",
      "[41]\tvalid_0's multi_logloss: 0.909618\n",
      "[42]\tvalid_0's multi_logloss: 0.907369\n",
      "[43]\tvalid_0's multi_logloss: 0.905413\n",
      "[44]\tvalid_0's multi_logloss: 0.903231\n",
      "[45]\tvalid_0's multi_logloss: 0.901311\n",
      "[46]\tvalid_0's multi_logloss: 0.899452\n",
      "[47]\tvalid_0's multi_logloss: 0.897937\n",
      "[48]\tvalid_0's multi_logloss: 0.896573\n",
      "[49]\tvalid_0's multi_logloss: 0.894891\n",
      "[50]\tvalid_0's multi_logloss: 0.893506\n",
      "[51]\tvalid_0's multi_logloss: 0.892149\n",
      "[52]\tvalid_0's multi_logloss: 0.890734\n",
      "[53]\tvalid_0's multi_logloss: 0.88955\n",
      "[54]\tvalid_0's multi_logloss: 0.8883\n",
      "[55]\tvalid_0's multi_logloss: 0.886526\n",
      "[56]\tvalid_0's multi_logloss: 0.885351\n",
      "[57]\tvalid_0's multi_logloss: 0.883272\n",
      "[58]\tvalid_0's multi_logloss: 0.882401\n",
      "[59]\tvalid_0's multi_logloss: 0.881239\n",
      "[60]\tvalid_0's multi_logloss: 0.880073\n",
      "[61]\tvalid_0's multi_logloss: 0.878821\n",
      "[62]\tvalid_0's multi_logloss: 0.878118\n",
      "[63]\tvalid_0's multi_logloss: 0.877156\n",
      "[64]\tvalid_0's multi_logloss: 0.875942\n",
      "[65]\tvalid_0's multi_logloss: 0.874601\n",
      "[66]\tvalid_0's multi_logloss: 0.873565\n",
      "[67]\tvalid_0's multi_logloss: 0.873015\n",
      "[68]\tvalid_0's multi_logloss: 0.872147\n",
      "[69]\tvalid_0's multi_logloss: 0.871286\n",
      "[70]\tvalid_0's multi_logloss: 0.870444\n",
      "[71]\tvalid_0's multi_logloss: 0.869271\n",
      "[72]\tvalid_0's multi_logloss: 0.868899\n",
      "[73]\tvalid_0's multi_logloss: 0.868145\n",
      "[74]\tvalid_0's multi_logloss: 0.867206\n",
      "[75]\tvalid_0's multi_logloss: 0.866929\n",
      "[76]\tvalid_0's multi_logloss: 0.866406\n",
      "[77]\tvalid_0's multi_logloss: 0.865742\n",
      "[78]\tvalid_0's multi_logloss: 0.865041\n",
      "[79]\tvalid_0's multi_logloss: 0.864094\n",
      "[80]\tvalid_0's multi_logloss: 0.863377\n",
      "[81]\tvalid_0's multi_logloss: 0.862461\n",
      "[82]\tvalid_0's multi_logloss: 0.861995\n",
      "[83]\tvalid_0's multi_logloss: 0.86128\n",
      "[84]\tvalid_0's multi_logloss: 0.860853\n",
      "[85]\tvalid_0's multi_logloss: 0.860554\n",
      "[86]\tvalid_0's multi_logloss: 0.860212\n",
      "[87]\tvalid_0's multi_logloss: 0.859017\n",
      "[88]\tvalid_0's multi_logloss: 0.858272\n",
      "[89]\tvalid_0's multi_logloss: 0.857986\n",
      "[90]\tvalid_0's multi_logloss: 0.857378\n",
      "[91]\tvalid_0's multi_logloss: 0.856815\n",
      "[92]\tvalid_0's multi_logloss: 0.85645\n",
      "[93]\tvalid_0's multi_logloss: 0.856225\n",
      "[94]\tvalid_0's multi_logloss: 0.85567\n",
      "[95]\tvalid_0's multi_logloss: 0.855134\n",
      "[96]\tvalid_0's multi_logloss: 0.854571\n",
      "[97]\tvalid_0's multi_logloss: 0.85388\n",
      "[98]\tvalid_0's multi_logloss: 0.85359\n",
      "[99]\tvalid_0's multi_logloss: 0.853414\n",
      "[100]\tvalid_0's multi_logloss: 0.853152\n",
      "[101]\tvalid_0's multi_logloss: 0.852808\n",
      "[102]\tvalid_0's multi_logloss: 0.852336\n",
      "[103]\tvalid_0's multi_logloss: 0.852024\n",
      "[104]\tvalid_0's multi_logloss: 0.85166\n",
      "[105]\tvalid_0's multi_logloss: 0.850976\n",
      "[106]\tvalid_0's multi_logloss: 0.850566\n",
      "[107]\tvalid_0's multi_logloss: 0.85023\n",
      "[108]\tvalid_0's multi_logloss: 0.850001\n",
      "[109]\tvalid_0's multi_logloss: 0.849573\n",
      "[110]\tvalid_0's multi_logloss: 0.84913\n",
      "[111]\tvalid_0's multi_logloss: 0.848595\n",
      "[112]\tvalid_0's multi_logloss: 0.848429\n",
      "[113]\tvalid_0's multi_logloss: 0.84821\n",
      "[114]\tvalid_0's multi_logloss: 0.848033\n",
      "[115]\tvalid_0's multi_logloss: 0.847214\n",
      "[116]\tvalid_0's multi_logloss: 0.846943\n",
      "[117]\tvalid_0's multi_logloss: 0.846397\n",
      "[118]\tvalid_0's multi_logloss: 0.845898\n",
      "[119]\tvalid_0's multi_logloss: 0.845738\n",
      "[120]\tvalid_0's multi_logloss: 0.845494\n",
      "[121]\tvalid_0's multi_logloss: 0.84524\n",
      "[122]\tvalid_0's multi_logloss: 0.845341\n",
      "[123]\tvalid_0's multi_logloss: 0.845122\n",
      "[124]\tvalid_0's multi_logloss: 0.844589\n",
      "[125]\tvalid_0's multi_logloss: 0.844426\n",
      "[126]\tvalid_0's multi_logloss: 0.844039\n",
      "[127]\tvalid_0's multi_logloss: 0.843899\n",
      "[128]\tvalid_0's multi_logloss: 0.843656\n",
      "[129]\tvalid_0's multi_logloss: 0.843192\n",
      "[130]\tvalid_0's multi_logloss: 0.843022\n",
      "[131]\tvalid_0's multi_logloss: 0.842897\n",
      "[132]\tvalid_0's multi_logloss: 0.842646\n",
      "[133]\tvalid_0's multi_logloss: 0.842365\n",
      "[134]\tvalid_0's multi_logloss: 0.842112\n",
      "[135]\tvalid_0's multi_logloss: 0.841834\n",
      "[136]\tvalid_0's multi_logloss: 0.841491\n",
      "[137]\tvalid_0's multi_logloss: 0.841061\n",
      "[138]\tvalid_0's multi_logloss: 0.840798\n",
      "[139]\tvalid_0's multi_logloss: 0.840219\n",
      "[140]\tvalid_0's multi_logloss: 0.839747\n",
      "[141]\tvalid_0's multi_logloss: 0.839374\n",
      "[142]\tvalid_0's multi_logloss: 0.838763\n",
      "[143]\tvalid_0's multi_logloss: 0.83854\n",
      "[144]\tvalid_0's multi_logloss: 0.838307\n",
      "[145]\tvalid_0's multi_logloss: 0.838155\n",
      "[146]\tvalid_0's multi_logloss: 0.83787\n",
      "[147]\tvalid_0's multi_logloss: 0.837693\n",
      "[148]\tvalid_0's multi_logloss: 0.837412\n",
      "[149]\tvalid_0's multi_logloss: 0.837308\n",
      "[150]\tvalid_0's multi_logloss: 0.837167\n",
      "[151]\tvalid_0's multi_logloss: 0.837198\n",
      "[152]\tvalid_0's multi_logloss: 0.836907\n",
      "[153]\tvalid_0's multi_logloss: 0.836668\n",
      "[154]\tvalid_0's multi_logloss: 0.836426\n",
      "[155]\tvalid_0's multi_logloss: 0.836445\n",
      "[156]\tvalid_0's multi_logloss: 0.836121\n",
      "[157]\tvalid_0's multi_logloss: 0.83568\n",
      "[158]\tvalid_0's multi_logloss: 0.835252\n",
      "[159]\tvalid_0's multi_logloss: 0.834833\n",
      "[160]\tvalid_0's multi_logloss: 0.834429\n",
      "[161]\tvalid_0's multi_logloss: 0.834209\n",
      "[162]\tvalid_0's multi_logloss: 0.834025\n",
      "[163]\tvalid_0's multi_logloss: 0.833581\n",
      "[164]\tvalid_0's multi_logloss: 0.832859\n",
      "[165]\tvalid_0's multi_logloss: 0.832382\n",
      "[166]\tvalid_0's multi_logloss: 0.831819\n",
      "[167]\tvalid_0's multi_logloss: 0.831766\n",
      "[168]\tvalid_0's multi_logloss: 0.831377\n",
      "[169]\tvalid_0's multi_logloss: 0.831076\n",
      "[170]\tvalid_0's multi_logloss: 0.830828\n",
      "[171]\tvalid_0's multi_logloss: 0.830692\n",
      "[172]\tvalid_0's multi_logloss: 0.830768\n",
      "[173]\tvalid_0's multi_logloss: 0.830544\n",
      "[174]\tvalid_0's multi_logloss: 0.830306\n",
      "[175]\tvalid_0's multi_logloss: 0.830093\n",
      "[176]\tvalid_0's multi_logloss: 0.829606\n",
      "[177]\tvalid_0's multi_logloss: 0.829234\n",
      "[178]\tvalid_0's multi_logloss: 0.829072\n",
      "[179]\tvalid_0's multi_logloss: 0.829023\n",
      "[180]\tvalid_0's multi_logloss: 0.828892\n",
      "[181]\tvalid_0's multi_logloss: 0.828804\n",
      "[182]\tvalid_0's multi_logloss: 0.828685\n",
      "[183]\tvalid_0's multi_logloss: 0.828197\n",
      "[184]\tvalid_0's multi_logloss: 0.827932\n",
      "[185]\tvalid_0's multi_logloss: 0.827657\n",
      "[186]\tvalid_0's multi_logloss: 0.827669\n",
      "[187]\tvalid_0's multi_logloss: 0.827732\n",
      "[188]\tvalid_0's multi_logloss: 0.827555\n",
      "[189]\tvalid_0's multi_logloss: 0.827159\n",
      "[190]\tvalid_0's multi_logloss: 0.827072\n",
      "[191]\tvalid_0's multi_logloss: 0.826723\n",
      "[192]\tvalid_0's multi_logloss: 0.826752\n",
      "[193]\tvalid_0's multi_logloss: 0.826664\n",
      "[194]\tvalid_0's multi_logloss: 0.826386\n",
      "[195]\tvalid_0's multi_logloss: 0.82647\n",
      "[196]\tvalid_0's multi_logloss: 0.826318\n",
      "[197]\tvalid_0's multi_logloss: 0.826299\n",
      "[198]\tvalid_0's multi_logloss: 0.826287\n",
      "[199]\tvalid_0's multi_logloss: 0.826217\n",
      "[200]\tvalid_0's multi_logloss: 0.826179\n",
      "[201]\tvalid_0's multi_logloss: 0.826211\n",
      "[202]\tvalid_0's multi_logloss: 0.826259\n",
      "[203]\tvalid_0's multi_logloss: 0.826336\n",
      "[204]\tvalid_0's multi_logloss: 0.826325\n",
      "[205]\tvalid_0's multi_logloss: 0.826134\n",
      "[206]\tvalid_0's multi_logloss: 0.826104\n",
      "[207]\tvalid_0's multi_logloss: 0.826074\n",
      "[208]\tvalid_0's multi_logloss: 0.82606\n",
      "[209]\tvalid_0's multi_logloss: 0.825871\n",
      "[210]\tvalid_0's multi_logloss: 0.825797\n",
      "[211]\tvalid_0's multi_logloss: 0.825598\n",
      "[212]\tvalid_0's multi_logloss: 0.825275\n",
      "[213]\tvalid_0's multi_logloss: 0.825169\n",
      "[214]\tvalid_0's multi_logloss: 0.824955\n",
      "[215]\tvalid_0's multi_logloss: 0.824725\n",
      "[216]\tvalid_0's multi_logloss: 0.824717\n",
      "[217]\tvalid_0's multi_logloss: 0.82475\n",
      "[218]\tvalid_0's multi_logloss: 0.824735\n",
      "[219]\tvalid_0's multi_logloss: 0.824681\n",
      "[220]\tvalid_0's multi_logloss: 0.82466\n",
      "[221]\tvalid_0's multi_logloss: 0.824458\n",
      "[222]\tvalid_0's multi_logloss: 0.824281\n",
      "[223]\tvalid_0's multi_logloss: 0.824252\n",
      "[224]\tvalid_0's multi_logloss: 0.823805\n",
      "[225]\tvalid_0's multi_logloss: 0.823696\n",
      "[226]\tvalid_0's multi_logloss: 0.823587\n",
      "[227]\tvalid_0's multi_logloss: 0.82368\n",
      "[228]\tvalid_0's multi_logloss: 0.823519\n",
      "[229]\tvalid_0's multi_logloss: 0.823333\n",
      "[230]\tvalid_0's multi_logloss: 0.82301\n"
     ]
    },
    {
     "name": "stdout",
     "output_type": "stream",
     "text": [
      "[231]\tvalid_0's multi_logloss: 0.82277\n",
      "[232]\tvalid_0's multi_logloss: 0.822422\n",
      "[233]\tvalid_0's multi_logloss: 0.822295\n",
      "[234]\tvalid_0's multi_logloss: 0.822248\n",
      "[235]\tvalid_0's multi_logloss: 0.822305\n",
      "[236]\tvalid_0's multi_logloss: 0.822113\n",
      "[237]\tvalid_0's multi_logloss: 0.822198\n",
      "[238]\tvalid_0's multi_logloss: 0.822045\n",
      "[239]\tvalid_0's multi_logloss: 0.821963\n",
      "[240]\tvalid_0's multi_logloss: 0.821811\n",
      "[241]\tvalid_0's multi_logloss: 0.821755\n",
      "[242]\tvalid_0's multi_logloss: 0.821715\n",
      "[243]\tvalid_0's multi_logloss: 0.821791\n",
      "[244]\tvalid_0's multi_logloss: 0.821624\n",
      "[245]\tvalid_0's multi_logloss: 0.821496\n",
      "[246]\tvalid_0's multi_logloss: 0.821557\n",
      "[247]\tvalid_0's multi_logloss: 0.821465\n",
      "[248]\tvalid_0's multi_logloss: 0.821542\n",
      "[249]\tvalid_0's multi_logloss: 0.821307\n",
      "[250]\tvalid_0's multi_logloss: 0.821136\n",
      "[251]\tvalid_0's multi_logloss: 0.821071\n",
      "[252]\tvalid_0's multi_logloss: 0.821135\n",
      "[253]\tvalid_0's multi_logloss: 0.820952\n",
      "[254]\tvalid_0's multi_logloss: 0.820791\n",
      "[255]\tvalid_0's multi_logloss: 0.820702\n",
      "[256]\tvalid_0's multi_logloss: 0.820631\n",
      "[257]\tvalid_0's multi_logloss: 0.820795\n",
      "[258]\tvalid_0's multi_logloss: 0.820778\n",
      "[259]\tvalid_0's multi_logloss: 0.820562\n",
      "[260]\tvalid_0's multi_logloss: 0.820578\n",
      "[261]\tvalid_0's multi_logloss: 0.820712\n",
      "[262]\tvalid_0's multi_logloss: 0.820717\n",
      "[263]\tvalid_0's multi_logloss: 0.820896\n",
      "[264]\tvalid_0's multi_logloss: 0.820908\n",
      "[265]\tvalid_0's multi_logloss: 0.821096\n",
      "[266]\tvalid_0's multi_logloss: 0.821125\n",
      "[267]\tvalid_0's multi_logloss: 0.821235\n",
      "[268]\tvalid_0's multi_logloss: 0.82128\n",
      "[269]\tvalid_0's multi_logloss: 0.821206\n",
      "[270]\tvalid_0's multi_logloss: 0.821308\n",
      "[271]\tvalid_0's multi_logloss: 0.821217\n",
      "[272]\tvalid_0's multi_logloss: 0.821318\n",
      "[273]\tvalid_0's multi_logloss: 0.821245\n",
      "[274]\tvalid_0's multi_logloss: 0.821231\n",
      "[275]\tvalid_0's multi_logloss: 0.821095\n",
      "[276]\tvalid_0's multi_logloss: 0.821079\n",
      "[277]\tvalid_0's multi_logloss: 0.82113\n",
      "[278]\tvalid_0's multi_logloss: 0.82108\n",
      "[279]\tvalid_0's multi_logloss: 0.82113\n",
      "[280]\tvalid_0's multi_logloss: 0.821104\n",
      "[281]\tvalid_0's multi_logloss: 0.821032\n",
      "[282]\tvalid_0's multi_logloss: 0.820807\n",
      "[283]\tvalid_0's multi_logloss: 0.820786\n",
      "[284]\tvalid_0's multi_logloss: 0.820801\n",
      "[285]\tvalid_0's multi_logloss: 0.82076\n",
      "[286]\tvalid_0's multi_logloss: 0.820819\n",
      "[287]\tvalid_0's multi_logloss: 0.820717\n",
      "[288]\tvalid_0's multi_logloss: 0.820698\n",
      "[289]\tvalid_0's multi_logloss: 0.820494\n",
      "[290]\tvalid_0's multi_logloss: 0.820653\n",
      "[291]\tvalid_0's multi_logloss: 0.820757\n",
      "[292]\tvalid_0's multi_logloss: 0.820901\n",
      "[293]\tvalid_0's multi_logloss: 0.82101\n",
      "[294]\tvalid_0's multi_logloss: 0.820994\n",
      "[295]\tvalid_0's multi_logloss: 0.820958\n",
      "[296]\tvalid_0's multi_logloss: 0.820894\n",
      "[297]\tvalid_0's multi_logloss: 0.820843\n",
      "[298]\tvalid_0's multi_logloss: 0.820939\n",
      "[299]\tvalid_0's multi_logloss: 0.821173\n",
      "[300]\tvalid_0's multi_logloss: 0.82118\n",
      "[301]\tvalid_0's multi_logloss: 0.821444\n",
      "[302]\tvalid_0's multi_logloss: 0.821486\n",
      "[303]\tvalid_0's multi_logloss: 0.821413\n",
      "[304]\tvalid_0's multi_logloss: 0.821417\n",
      "[305]\tvalid_0's multi_logloss: 0.821544\n",
      "[306]\tvalid_0's multi_logloss: 0.821541\n",
      "[307]\tvalid_0's multi_logloss: 0.821677\n",
      "[308]\tvalid_0's multi_logloss: 0.821825\n",
      "[309]\tvalid_0's multi_logloss: 0.821959\n",
      "[310]\tvalid_0's multi_logloss: 0.821925\n",
      "[311]\tvalid_0's multi_logloss: 0.82201\n",
      "[312]\tvalid_0's multi_logloss: 0.821959\n",
      "[313]\tvalid_0's multi_logloss: 0.821967\n",
      "[314]\tvalid_0's multi_logloss: 0.822079\n",
      "[315]\tvalid_0's multi_logloss: 0.82181\n",
      "[316]\tvalid_0's multi_logloss: 0.82179\n",
      "[317]\tvalid_0's multi_logloss: 0.821798\n",
      "[318]\tvalid_0's multi_logloss: 0.821825\n",
      "[319]\tvalid_0's multi_logloss: 0.82184\n",
      "[320]\tvalid_0's multi_logloss: 0.821665\n",
      "[321]\tvalid_0's multi_logloss: 0.821586\n",
      "[322]\tvalid_0's multi_logloss: 0.821264\n",
      "[323]\tvalid_0's multi_logloss: 0.821403\n",
      "[324]\tvalid_0's multi_logloss: 0.821335\n",
      "[325]\tvalid_0's multi_logloss: 0.821555\n",
      "[326]\tvalid_0's multi_logloss: 0.821475\n",
      "[327]\tvalid_0's multi_logloss: 0.821613\n",
      "[328]\tvalid_0's multi_logloss: 0.821726\n",
      "[329]\tvalid_0's multi_logloss: 0.821678\n",
      "[330]\tvalid_0's multi_logloss: 0.821917\n",
      "[331]\tvalid_0's multi_logloss: 0.821848\n",
      "[332]\tvalid_0's multi_logloss: 0.821949\n",
      "[333]\tvalid_0's multi_logloss: 0.822077\n",
      "[334]\tvalid_0's multi_logloss: 0.822237\n",
      "[335]\tvalid_0's multi_logloss: 0.822352\n",
      "[336]\tvalid_0's multi_logloss: 0.822269\n",
      "[337]\tvalid_0's multi_logloss: 0.822345\n",
      "[338]\tvalid_0's multi_logloss: 0.822243\n",
      "[339]\tvalid_0's multi_logloss: 0.822474\n",
      "[340]\tvalid_0's multi_logloss: 0.822402\n",
      "[341]\tvalid_0's multi_logloss: 0.822328\n",
      "[342]\tvalid_0's multi_logloss: 0.822331\n",
      "[343]\tvalid_0's multi_logloss: 0.822428\n",
      "[344]\tvalid_0's multi_logloss: 0.822438\n",
      "[345]\tvalid_0's multi_logloss: 0.822317\n",
      "[346]\tvalid_0's multi_logloss: 0.822153\n",
      "[347]\tvalid_0's multi_logloss: 0.822203\n",
      "[348]\tvalid_0's multi_logloss: 0.822117\n",
      "[349]\tvalid_0's multi_logloss: 0.822074\n",
      "[350]\tvalid_0's multi_logloss: 0.822136\n",
      "[351]\tvalid_0's multi_logloss: 0.822106\n",
      "[352]\tvalid_0's multi_logloss: 0.82209\n",
      "[353]\tvalid_0's multi_logloss: 0.822173\n",
      "[354]\tvalid_0's multi_logloss: 0.822143\n",
      "[355]\tvalid_0's multi_logloss: 0.822097\n",
      "[356]\tvalid_0's multi_logloss: 0.822181\n",
      "[357]\tvalid_0's multi_logloss: 0.822182\n",
      "[358]\tvalid_0's multi_logloss: 0.822057\n",
      "[359]\tvalid_0's multi_logloss: 0.822259\n",
      "[360]\tvalid_0's multi_logloss: 0.822329\n",
      "[361]\tvalid_0's multi_logloss: 0.822451\n",
      "[362]\tvalid_0's multi_logloss: 0.822438\n",
      "[363]\tvalid_0's multi_logloss: 0.822525\n",
      "[364]\tvalid_0's multi_logloss: 0.822547\n",
      "[365]\tvalid_0's multi_logloss: 0.822793\n",
      "[366]\tvalid_0's multi_logloss: 0.82282\n",
      "[367]\tvalid_0's multi_logloss: 0.822932\n",
      "[368]\tvalid_0's multi_logloss: 0.823039\n",
      "[369]\tvalid_0's multi_logloss: 0.823213\n",
      "[370]\tvalid_0's multi_logloss: 0.823257\n",
      "[371]\tvalid_0's multi_logloss: 0.823344\n",
      "[372]\tvalid_0's multi_logloss: 0.823446\n",
      "[373]\tvalid_0's multi_logloss: 0.823499\n",
      "[374]\tvalid_0's multi_logloss: 0.823673\n",
      "[375]\tvalid_0's multi_logloss: 0.823811\n",
      "[376]\tvalid_0's multi_logloss: 0.823895\n",
      "[377]\tvalid_0's multi_logloss: 0.823966\n",
      "[378]\tvalid_0's multi_logloss: 0.824114\n",
      "[379]\tvalid_0's multi_logloss: 0.824155\n",
      "[380]\tvalid_0's multi_logloss: 0.824122\n",
      "[381]\tvalid_0's multi_logloss: 0.824228\n",
      "[382]\tvalid_0's multi_logloss: 0.82419\n",
      "[383]\tvalid_0's multi_logloss: 0.82432\n",
      "[384]\tvalid_0's multi_logloss: 0.824476\n",
      "[385]\tvalid_0's multi_logloss: 0.824749\n",
      "[386]\tvalid_0's multi_logloss: 0.824803\n",
      "[387]\tvalid_0's multi_logloss: 0.824849\n",
      "[388]\tvalid_0's multi_logloss: 0.825057\n",
      "[389]\tvalid_0's multi_logloss: 0.824999\n",
      "Early stopping, best iteration is:\n",
      "[289]\tvalid_0's multi_logloss: 0.820494\n",
      "lgb params:{'n_estimators': 3000, 'objective': 'multiclass', 'num_class': 8, 'early_stopping_rounds': 100, 'lambda_l1': 0.2, 'learning_rate': 0.1, 'lambda_l2': 0.2, 'max_depth': 6}\n",
      "lgb auc： 0.951214886969\n",
      "输出模型报告：\n",
      "             precision    recall  f1-score   support\n",
      "\n",
      "          0       0.81      0.83      0.82      1283\n",
      "          1       0.80      0.84      0.82       122\n",
      "          2       0.80      0.71      0.75       318\n",
      "          3       0.58      0.57      0.58       196\n",
      "          4       0.26      0.29      0.28        17\n",
      "          5       0.72      0.81      0.77      1017\n",
      "          6       0.54      0.28      0.37       137\n",
      "          7       0.55      0.47      0.50       382\n",
      "\n",
      "avg / total       0.73      0.74      0.73      3472\n",
      "\n"
     ]
    }
   ],
   "source": [
    "from sklearn.model_selection import GridSearchCV\n",
    "from sklearn.preprocessing import label_binarize\n",
    "from sklearn.metrics import roc_auc_score\n",
    "import lightgbm as LGB\n",
    "\n",
    "train_data_lgb=LGB.Dataset(x_train,label=y_train)\n",
    "valid_data_lgb=LGB.Dataset(x_valid,label=y_valid)\n",
    "params = {\n",
    "    'learning_rate':0.1,\n",
    "   'lambda_l1':0.2,\n",
    "   'lambda_l2':0.2,\n",
    "     'n_estimators':3000,\n",
    "    'early_stopping_rounds':100,\n",
    "    'max_depth':6,\n",
    "    'objective':'multiclass',\n",
    "    'num_class':8}\n",
    "\n",
    "lgb=LGB.train(params,train_data_lgb,valid_sets=[valid_data_lgb])\n",
    "\n",
    "print 'lgb params:'+str(params)\n",
    "# 1、AUC\n",
    "y_pred_pa = lgb.predict(x_valid)  # !!!注意lgm预测的是分数，类似 sklearn的predict_proba\n",
    "y_valid_oh = label_binarize(y_valid, classes= [0,1,2,3,4,5,6,7])\n",
    "print 'lgb auc：', roc_auc_score(y_valid_oh, y_pred_pa, average='micro')\n",
    "\n",
    "# 2、模型报告\n",
    "y_pred = y_pred_pa.argmax(axis=1)\n",
    "print '输出模型报告：'\n",
    "print(classification_report(y_valid, y_pred))"
   ]
  },
  {
   "cell_type": "markdown",
   "metadata": {},
   "source": [
    "#### SVM"
   ]
  },
  {
   "cell_type": "markdown",
   "metadata": {},
   "source": [
    "### 模型融合"
   ]
  },
  {
   "cell_type": "markdown",
   "metadata": {},
   "source": [
    "### 模型迭代过程总结\n",
    "\n",
    "1. 基于统计方法构建特征V1：\n",
    "    1. 做了file id分组统计，构建新特征（api调用类型数、线程数、api调用总数）；\n",
    "    2. 准确率接近70%（注意这是个多分类问题，且分类不均衡，看到，类别1,4非常少，而0和5很多，而在预测错误的占比上看出，相对于0和5，其余几类的错误率更高，这也是因为kNN的k取值问题导致数量少的类别较难被选中，这个不平衡带来的问题kNN难以处理，需要考虑后续优化方案）；\n",
    "    3. 这只是简单的根据每个文件分组构造特征，最重要的没有利用的信息是index，即api调用时序，这个考虑用HMM来做，今天研究一下怎么用到HMM上，并且还有个问题是要求是输出八个类型的概率，这个可以由kNN的k中的组成比例来实现，不是问题；\n",
    "\n",
    "2. 基于统计方法构建特征V2：\n",
    "    1. 做了过抽样；\n",
    "    2. 得到81%的准确率，明显看到1,2,3,4,6的错误率下降了很多；\n",
    "    \n",
    "3. 基于统计方法构建特征V3：\n",
    "    1. 切换LGB模型，并进行相应的调参，得到91%的准确率；"
   ]
  },
  {
   "cell_type": "markdown",
   "metadata": {},
   "source": [
    "## 测试结果"
   ]
  },
  {
   "cell_type": "code",
   "execution_count": 31,
   "metadata": {},
   "outputs": [],
   "source": [
    "train_data = None\n",
    "file_data = None\n",
    "x_train, y_train, x_valid, y_valid = None, None, None, None"
   ]
  },
  {
   "cell_type": "code",
   "execution_count": 32,
   "metadata": {},
   "outputs": [],
   "source": [
    "test_data = pd.read_csv(test_path)\n",
    "test_file_data = groupby_fileid_nolabel(test_data)\n",
    "fileid_data = test_file_data.file_id\n",
    "test_file_data = test_file_data.drop('file_id', axis=1)\n",
    "\n",
    "test_file_data.api_type_count = test_file_data.api_type_count.astype('float64')\n",
    "test_file_data.api_call_count = test_file_data.api_call_count.astype('float64')\n",
    "test_file_data.tid_type_count = test_file_data.tid_type_count.astype('float64')\n",
    "fileid_data = fileid_data.astype('int')"
   ]
  },
  {
   "cell_type": "code",
   "execution_count": 33,
   "metadata": {},
   "outputs": [],
   "source": [
    "def create_test_result(model, name):\n",
    "    test_pred = model.predict(test_file_data)\n",
    "    test_result = pd.DataFrame(columns=['file_id', 'prob0', 'prob1', 'prob2', 'prob3', \n",
    "                                        'prob4', 'prob5', 'prob6', 'prob7'])\n",
    "    for i in range(len(fileid_data)):\n",
    "        prob = [0]*8\n",
    "        if name.startswith('knn'):\n",
    "            prob[test_pred[i]]=1\n",
    "        elif name.startswith('lgb'):\n",
    "            prob = test_pred[i]\n",
    "        test_result = test_result.append([{'file_id':fileid_data.iloc[i],\n",
    "                                      'prob0':prob[0],'prob1':prob[1],'prob2':prob[2],'prob3':prob[3],\n",
    "                                      'prob4':prob[4],'prob5':prob[5],'prob6':prob[6],'prob7':prob[7],}], ignore_index=True)\n",
    "    test_result.to_csv('./result/'+name+'.csv', index=0)\n",
    "    print './result/'+name+'.csv'"
   ]
  },
  {
   "cell_type": "code",
   "execution_count": 34,
   "metadata": {},
   "outputs": [
    {
     "name": "stdout",
     "output_type": "stream",
     "text": [
      "./result/knn_v4.csv\n"
     ]
    }
   ],
   "source": [
    "create_test_result(knn, 'knn_v4')"
   ]
  },
  {
   "cell_type": "markdown",
   "metadata": {},
   "source": [
    "基于统计方法构建特征V2：\n",
    "- 模型：kNN，k为5；\n",
    "- 验证集得分：0.81,0.81,0.80；\n",
    "- 文件名：knn_v3.csv\n",
    "- 提交格式：0/1；\n",
    "- 提交得分：logloss 26+；"
   ]
  },
  {
   "cell_type": "code",
   "execution_count": 71,
   "metadata": {},
   "outputs": [
    {
     "name": "stdout",
     "output_type": "stream",
     "text": [
      "./result/lgb_v3.csv\n"
     ]
    }
   ],
   "source": [
    "create_test_result(lgb, 'lgb_v3')"
   ]
  },
  {
   "cell_type": "markdown",
   "metadata": {},
   "source": [
    "基于统计方法构建特征V3：\n",
    "- 模型：LGB；\n",
    "- 验证集得分：0.91,0.91,0.91；\n",
    "- 提交格式：0/1；\n",
    "- 提交得分：logloss 9+；"
   ]
  },
  {
   "cell_type": "code",
   "execution_count": 72,
   "metadata": {},
   "outputs": [],
   "source": [
    "test_data = None\n",
    "test_file_data = None\n",
    "fileid_data, test_file_data = None, None"
   ]
  },
  {
   "cell_type": "markdown",
   "metadata": {},
   "source": [
    "## 参考\n",
    "\n",
    "[HMM](https://hmmlearn.readthedocs.io/en/latest/tutorial.html#building-hmm-and-generating-samples)\n",
    "[数据倾斜](https://www.cnblogs.com/gaoss/p/9677466.html)\n",
    "[天池高分分享](https://tianchi.aliyun.com/notebook-ai/detail?spm=5176.12586969.1002.3.75c867b5PiAURi&postId=56989)\n",
    "[中文文本分类](https://www.jianshu.com/p/dc00a5d597ed)"
   ]
  }
 ],
 "metadata": {
  "kernelspec": {
   "display_name": "Python 2",
   "language": "python",
   "name": "python2"
  },
  "language_info": {
   "codemirror_mode": {
    "name": "ipython",
    "version": 2
   },
   "file_extension": ".py",
   "mimetype": "text/x-python",
   "name": "python",
   "nbconvert_exporter": "python",
   "pygments_lexer": "ipython2",
   "version": "2.7.13"
  }
 },
 "nbformat": 4,
 "nbformat_minor": 2
}
