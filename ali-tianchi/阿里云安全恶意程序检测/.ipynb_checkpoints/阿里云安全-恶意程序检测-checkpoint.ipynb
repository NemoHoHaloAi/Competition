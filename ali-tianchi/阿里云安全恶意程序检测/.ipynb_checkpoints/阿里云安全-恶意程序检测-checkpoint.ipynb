{
 "cells": [
  {
   "cell_type": "markdown",
   "metadata": {},
   "source": [
    "## 赛题说明\n",
    "本题目提供的数据来自文件（windows 可执行程序）经过沙箱程序模拟运行后的API指令序列，全为windows二进制可执行程序，经过脱敏处理；\n",
    "\n",
    "本题目提供的样本数据均来自于从互联网，其中恶意文件的类型有感染型病毒、木马程序、挖矿程序、DDOS木马、勒索病毒等，数据总计6亿条；\n",
    "\n",
    "## 数据说明\n",
    "**训练数据**（train.zip）：调用记录近9000万次，文件1万多个（以文件编号汇总），字段描述如下：\n",
    "\n",
    "字段 | 类型 | 解释\n",
    "-|-|-\n",
    "file_id | bigint | 文件编号\n",
    "label | bigint | 文件标签，0-正常/1-勒索病毒/2-挖矿程序/3-DDoS木马/4-蠕虫病毒/5-感染型病毒/6-后门程序/7-木马程序\n",
    "api | string | 文件调用的API名称\n",
    "tid | bigint | 调用API的线程编号\n",
    "index | string | 线程中API调用的顺序编号\n",
    "\n",
    "- 注1：一个文件调用的api数量有可能很多，对于一个tid中调用超过5000个api的文件，我们进行了截断，按照顺序保留了每个tid前5000个api的记录。\n",
    "- 注2：不同线程tid之间没有顺序关系，同一个tid里的index由小到大代表调用的先后顺序关系。\n",
    "- 注3：index是单个文件在沙箱执行时的全局顺序，由于沙箱执行时间有精度限制，所以会出现一个index上出现同线程或者不同线程都在执行多次api的情况，可以保证同tid内部的顺序，但不保证连续。\n",
    " \n",
    "**测试数据**（test.zip）：调用记录近8000万次，文件1万多个。\n",
    "> 说明：格式除了没有label字段，其他数据规格与训练数据一致。\n",
    "\n",
    "## 评测指标\n",
    "- 选手的结果文件包含9个字段：file_id(bigint)、和八个分类的预测概率prob0, prob1, prob2, prob3, prob4, prob5 ,prob6,prob7 (类型double，范围在[0,1]之间，精度保留小数点后5位，prob<=0.0我们会替换为1e-6，prob>=1.0我们会替换为1.0-1e-6)。选手必须保证每一行的|prob0+prob1+prob2+prob3+prob4+prob5+prob6+prob7-1.0|<1e-6，且将列名按如下顺序写入提交结果文件的第一行，作为表头：file_id,prob0,prob1,prob2,prob3,prob4,prob5,prob6,prob7。\n",
    "\n",
    "- 分数采用logloss计算公式"
   ]
  },
  {
   "cell_type": "markdown",
   "metadata": {},
   "source": [
    "## 字段分析\n",
    "\n",
    "- file_id：表现每个程序文件，其中包含正常与各种异常类型，因此可以通过该字段做分组统计分析；\n",
    "- label：训练标签，因此该问题是有监督学习；\n",
    "- api：程序调用的api，由于是string类型，需要转为普通离散数据，且只支持连续值的算法此处不适用；\n",
    "- tid：通过tid可以分组统计某个文件在某个线程中的调用时序，此处考虑HMM算法求转换概率；\n",
    "- index：配合tid进行调用时序统计分析；"
   ]
  },
  {
   "cell_type": "markdown",
   "metadata": {},
   "source": [
    "## 问题分析\n",
    "\n",
    "简单讲模型需要预测一个未知文件为各个类别的概率，且概率和为1（接近1），训练数据有标签，因此是有监督学习，8个目标类别，因此是一个有监督多分类问题，目前还没有看过数据，但是通常存在极端的不平衡的情况，异常的文件数量远小于正常的文件，但这里跟普通异常检测不同的在于它需要精确的给出是哪一种异常，而不是简单的区分正常/异常，且需要算法输出的是各个类别的概率，而不是0/1；"
   ]
  },
  {
   "cell_type": "markdown",
   "metadata": {},
   "source": [
    "## 环境"
   ]
  },
  {
   "cell_type": "code",
   "execution_count": 1,
   "metadata": {},
   "outputs": [],
   "source": [
    "#coding:utf-8\n",
    "## 导入模块以及环境设置\n",
    "import os,sys,time,re\n",
    "\n",
    "import pandas as pd\n",
    "import numpy as np\n",
    "import matplotlib.pyplot as plt\n",
    "\n",
    "plt.rcParams['font.sans-serif']=['SimHei'] #用来正常显示中文标签\n",
    "plt.rcParams['axes.unicode_minus']=False #用来正常显示负号\n",
    "#有中文出现的情况，需要u'内容'\n",
    "\n",
    "%matplotlib inline"
   ]
  },
  {
   "cell_type": "markdown",
   "metadata": {},
   "source": [
    "## 数据加载\n",
    "\n",
    "由于数据量很大，训练csv文件2.9G，9000W条记录，1w个文件，因此采用pandas的分段加载方法，只加载部分数据做可视化分析；"
   ]
  },
  {
   "cell_type": "code",
   "execution_count": 5,
   "metadata": {},
   "outputs": [],
   "source": [
    "train_path = '../../../../../ali_tianchi_dataset/恶意程序检测/security_train.csv'\n",
    "test_path = '../../../../../ali_tianchi_dataset/恶意程序检测/security_test.csv'\n",
    "submit_path = '../../../../../ali_tianchi_dataset/恶意程序检测/security_submit.csv'"
   ]
  },
  {
   "cell_type": "code",
   "execution_count": 6,
   "metadata": {},
   "outputs": [],
   "source": [
    "def get_chunks(file_path=train_path, chunksize=900000):\n",
    "    chunks = pd.read_csv(file_path, chunksize=chunksize)\n",
    "    return chunks"
   ]
  },
  {
   "cell_type": "code",
   "execution_count": 7,
   "metadata": {},
   "outputs": [],
   "source": [
    "train_data = pd.read_csv(train_path, nrows=9000*100)"
   ]
  },
  {
   "cell_type": "code",
   "execution_count": 8,
   "metadata": {},
   "outputs": [
    {
     "data": {
      "text/html": [
       "<div>\n",
       "<style>\n",
       "    .dataframe thead tr:only-child th {\n",
       "        text-align: right;\n",
       "    }\n",
       "\n",
       "    .dataframe thead th {\n",
       "        text-align: left;\n",
       "    }\n",
       "\n",
       "    .dataframe tbody tr th {\n",
       "        vertical-align: top;\n",
       "    }\n",
       "</style>\n",
       "<table border=\"1\" class=\"dataframe\">\n",
       "  <thead>\n",
       "    <tr style=\"text-align: right;\">\n",
       "      <th></th>\n",
       "      <th>file_id</th>\n",
       "      <th>label</th>\n",
       "      <th>api</th>\n",
       "      <th>tid</th>\n",
       "      <th>index</th>\n",
       "    </tr>\n",
       "  </thead>\n",
       "  <tbody>\n",
       "    <tr>\n",
       "      <th>0</th>\n",
       "      <td>1</td>\n",
       "      <td>5</td>\n",
       "      <td>LdrLoadDll</td>\n",
       "      <td>2488</td>\n",
       "      <td>0</td>\n",
       "    </tr>\n",
       "    <tr>\n",
       "      <th>1</th>\n",
       "      <td>1</td>\n",
       "      <td>5</td>\n",
       "      <td>LdrGetProcedureAddress</td>\n",
       "      <td>2488</td>\n",
       "      <td>1</td>\n",
       "    </tr>\n",
       "    <tr>\n",
       "      <th>2</th>\n",
       "      <td>1</td>\n",
       "      <td>5</td>\n",
       "      <td>LdrGetProcedureAddress</td>\n",
       "      <td>2488</td>\n",
       "      <td>2</td>\n",
       "    </tr>\n",
       "    <tr>\n",
       "      <th>3</th>\n",
       "      <td>1</td>\n",
       "      <td>5</td>\n",
       "      <td>LdrGetProcedureAddress</td>\n",
       "      <td>2488</td>\n",
       "      <td>3</td>\n",
       "    </tr>\n",
       "    <tr>\n",
       "      <th>4</th>\n",
       "      <td>1</td>\n",
       "      <td>5</td>\n",
       "      <td>LdrGetProcedureAddress</td>\n",
       "      <td>2488</td>\n",
       "      <td>4</td>\n",
       "    </tr>\n",
       "  </tbody>\n",
       "</table>\n",
       "</div>"
      ],
      "text/plain": [
       "   file_id  label                     api   tid  index\n",
       "0        1      5              LdrLoadDll  2488      0\n",
       "1        1      5  LdrGetProcedureAddress  2488      1\n",
       "2        1      5  LdrGetProcedureAddress  2488      2\n",
       "3        1      5  LdrGetProcedureAddress  2488      3\n",
       "4        1      5  LdrGetProcedureAddress  2488      4"
      ]
     },
     "execution_count": 8,
     "metadata": {},
     "output_type": "execute_result"
    }
   ],
   "source": [
    "train_data.head(5)"
   ]
  },
  {
   "cell_type": "markdown",
   "metadata": {},
   "source": [
    "## 数据可视化分析"
   ]
  },
  {
   "cell_type": "markdown",
   "metadata": {},
   "source": [
    "### 根据文件id分组"
   ]
  },
  {
   "cell_type": "code",
   "execution_count": 9,
   "metadata": {},
   "outputs": [
    {
     "data": {
      "text/html": [
       "<div>\n",
       "<style>\n",
       "    .dataframe thead tr:only-child th {\n",
       "        text-align: right;\n",
       "    }\n",
       "\n",
       "    .dataframe thead th {\n",
       "        text-align: left;\n",
       "    }\n",
       "\n",
       "    .dataframe tbody tr th {\n",
       "        vertical-align: top;\n",
       "    }\n",
       "</style>\n",
       "<table border=\"1\" class=\"dataframe\">\n",
       "  <thead>\n",
       "    <tr style=\"text-align: right;\">\n",
       "      <th></th>\n",
       "      <th>file_id</th>\n",
       "      <th>label</th>\n",
       "      <th>api_type_count</th>\n",
       "      <th>tid_type_count</th>\n",
       "      <th>api_call_count</th>\n",
       "    </tr>\n",
       "  </thead>\n",
       "  <tbody>\n",
       "    <tr>\n",
       "      <th>0</th>\n",
       "      <td>1</td>\n",
       "      <td>5</td>\n",
       "      <td>116</td>\n",
       "      <td>11</td>\n",
       "      <td>6786</td>\n",
       "    </tr>\n",
       "    <tr>\n",
       "      <th>1</th>\n",
       "      <td>2</td>\n",
       "      <td>2</td>\n",
       "      <td>30</td>\n",
       "      <td>4</td>\n",
       "      <td>816</td>\n",
       "    </tr>\n",
       "    <tr>\n",
       "      <th>2</th>\n",
       "      <td>3</td>\n",
       "      <td>0</td>\n",
       "      <td>42</td>\n",
       "      <td>1</td>\n",
       "      <td>463</td>\n",
       "    </tr>\n",
       "    <tr>\n",
       "      <th>3</th>\n",
       "      <td>4</td>\n",
       "      <td>0</td>\n",
       "      <td>51</td>\n",
       "      <td>9</td>\n",
       "      <td>2046</td>\n",
       "    </tr>\n",
       "    <tr>\n",
       "      <th>4</th>\n",
       "      <td>5</td>\n",
       "      <td>0</td>\n",
       "      <td>65</td>\n",
       "      <td>6</td>\n",
       "      <td>10002</td>\n",
       "    </tr>\n",
       "    <tr>\n",
       "      <th>5</th>\n",
       "      <td>6</td>\n",
       "      <td>0</td>\n",
       "      <td>62</td>\n",
       "      <td>4</td>\n",
       "      <td>5001</td>\n",
       "    </tr>\n",
       "    <tr>\n",
       "      <th>6</th>\n",
       "      <td>7</td>\n",
       "      <td>0</td>\n",
       "      <td>83</td>\n",
       "      <td>13</td>\n",
       "      <td>5282</td>\n",
       "    </tr>\n",
       "    <tr>\n",
       "      <th>7</th>\n",
       "      <td>8</td>\n",
       "      <td>0</td>\n",
       "      <td>24</td>\n",
       "      <td>1</td>\n",
       "      <td>118</td>\n",
       "    </tr>\n",
       "    <tr>\n",
       "      <th>8</th>\n",
       "      <td>9</td>\n",
       "      <td>0</td>\n",
       "      <td>107</td>\n",
       "      <td>32</td>\n",
       "      <td>18028</td>\n",
       "    </tr>\n",
       "    <tr>\n",
       "      <th>9</th>\n",
       "      <td>10</td>\n",
       "      <td>0</td>\n",
       "      <td>29</td>\n",
       "      <td>3</td>\n",
       "      <td>205</td>\n",
       "    </tr>\n",
       "  </tbody>\n",
       "</table>\n",
       "</div>"
      ],
      "text/plain": [
       "  file_id label api_type_count tid_type_count api_call_count\n",
       "0       1     5            116             11           6786\n",
       "1       2     2             30              4            816\n",
       "2       3     0             42              1            463\n",
       "3       4     0             51              9           2046\n",
       "4       5     0             65              6          10002\n",
       "5       6     0             62              4           5001\n",
       "6       7     0             83             13           5282\n",
       "7       8     0             24              1            118\n",
       "8       9     0            107             32          18028\n",
       "9      10     0             29              3            205"
      ]
     },
     "execution_count": 9,
     "metadata": {},
     "output_type": "execute_result"
    }
   ],
   "source": [
    "def groupby_fileid(data):\n",
    "    file_data = pd.DataFrame(columns=['file_id','label','api_type_count',\n",
    "                                      'tid_type_count','api_call_count'])\n",
    "    for name,group in data.groupby('file_id'):\n",
    "        file_data = file_data.append([{'file_id':name,'label':group.label.iloc[0],\n",
    "                                       'api_type_count':len(group.api.unique()),\n",
    "                                       'tid_type_count':len(group.tid.unique()),\n",
    "                            'api_call_count':group.tid.count()}], ignore_index=True)\n",
    "    return file_data\n",
    "\n",
    "file_data = groupby_fileid(train_data)\n",
    "file_data.head(10)"
   ]
  },
  {
   "cell_type": "markdown",
   "metadata": {},
   "source": [
    "### 根据文件类型分组"
   ]
  },
  {
   "cell_type": "code",
   "execution_count": 10,
   "metadata": {},
   "outputs": [
    {
     "name": "stdout",
     "output_type": "stream",
     "text": [
      "  label  api_type_count  tid_type_count  api_call_count\n",
      "0     0       49.093750        6.765625     3497.109375\n",
      "1     1       41.333333       13.166667     1400.500000\n",
      "2     2       31.400000        2.000000     1465.200000\n",
      "3     3       61.500000       26.125000     5289.750000\n",
      "4     5       55.594595        9.648649     6782.783784\n",
      "5     6       49.666667       21.000000     6931.666667\n",
      "6     7       53.928571       64.000000    21770.714286\n"
     ]
    }
   ],
   "source": [
    "def groupby_label(data):\n",
    "    label_data = pd.DataFrame(columns=['label','api_type_count','tid_type_count','api_call_count'])\n",
    "    for name,group in data.groupby('label'):\n",
    "        label_data = label_data.append([{'label':name,'api_type_count':group.api_type_count.mean(),\n",
    "                                        'tid_type_count':group.tid_type_count.mean(),\n",
    "                                       'api_call_count':group.api_call_count.mean()}], ignore_index=True)\n",
    "    return label_data\n",
    "\n",
    "label_data = groupby_label(file_data)\n",
    "print label_data"
   ]
  },
  {
   "cell_type": "markdown",
   "metadata": {},
   "source": [
    "文件类型与调用的api类型总数的关系，可以看到差异并不明显；"
   ]
  },
  {
   "cell_type": "code",
   "execution_count": 12,
   "metadata": {},
   "outputs": [
    {
     "data": {
      "text/plain": [
       "<Container object of 7 artists>"
      ]
     },
     "execution_count": 12,
     "metadata": {},
     "output_type": "execute_result"
    },
    {
     "name": "stderr",
     "output_type": "stream",
     "text": [
      "/home/kael/Software/anaconda2/envs/python2/lib/python2.7/site-packages/matplotlib/font_manager.py:1297: UserWarning: findfont: Font family [u'sans-serif'] not found. Falling back to DejaVu Sans\n",
      "  (prop.get_family(), self.defaultFamily[fontext]))\n"
     ]
    },
    {
     "data": {
      "image/png": "[encoded data removed]",
      "text/plain": [
       "<matplotlib.figure.Figure at 0x7f9d0014e150>"
      ]
     },
     "metadata": {
      "needs_background": "light"
     },
     "output_type": "display_data"
    }
   ],
   "source": [
    "plt.bar(list(label_data.label), list(label_data.api_type_count))"
   ]
  },
  {
   "cell_type": "markdown",
   "metadata": {},
   "source": [
    "文件类型与使用线程个数的关系，可以看到各个类型之间有较大差异；"
   ]
  },
  {
   "cell_type": "code",
   "execution_count": 13,
   "metadata": {},
   "outputs": [
    {
     "data": {
      "text/plain": [
       "<Container object of 7 artists>"
      ]
     },
     "execution_count": 13,
     "metadata": {},
     "output_type": "execute_result"
    },
    {
     "data": {
      "image/png": "[encoded data removed]",
      "text/plain": [
       "<matplotlib.figure.Figure at 0x7f9d0004ead0>"
      ]
     },
     "metadata": {
      "needs_background": "light"
     },
     "output_type": "display_data"
    }
   ],
   "source": [
    "plt.bar(list(label_data.label), list(label_data.tid_type_count))"
   ]
  },
  {
   "cell_type": "markdown",
   "metadata": {},
   "source": [
    "文件类型与api调用总次数的关系，可以看到主要分为几个阶段，0,12,3,56,7；"
   ]
  },
  {
   "cell_type": "code",
   "execution_count": 15,
   "metadata": {},
   "outputs": [
    {
     "data": {
      "text/plain": [
       "<Container object of 7 artists>"
      ]
     },
     "execution_count": 15,
     "metadata": {},
     "output_type": "execute_result"
    },
    {
     "data": {
      "image/png": "[encoded data removed]",
      "text/plain": [
       "<matplotlib.figure.Figure at 0x7f9cffc0fe50>"
      ]
     },
     "metadata": {
      "needs_background": "light"
     },
     "output_type": "display_data"
    }
   ],
   "source": [
    "plt.bar(list(label_data.label), list(label_data.api_call_count))"
   ]
  },
  {
   "cell_type": "markdown",
   "metadata": {},
   "source": [
    "### 分析api前缀，通过前缀对api进行分组"
   ]
  },
  {
   "cell_type": "markdown",
   "metadata": {},
   "source": [
    "输出所谓程序调用的api种类总数；"
   ]
  },
  {
   "cell_type": "code",
   "execution_count": 16,
   "metadata": {},
   "outputs": [
    {
     "data": {
      "text/plain": [
       "236"
      ]
     },
     "execution_count": 16,
     "metadata": {},
     "output_type": "execute_result"
    }
   ],
   "source": [
    "len(train_data.api.unique())"
   ]
  },
  {
   "cell_type": "markdown",
   "metadata": {},
   "source": [
    "输出所有程序调用的api的前缀总数，api设计中通常前缀意味着同一簇；"
   ]
  },
  {
   "cell_type": "code",
   "execution_count": 17,
   "metadata": {},
   "outputs": [
    {
     "name": "stdout",
     "output_type": "stream",
     "text": [
      "set(['Process32', 'getaddrinfo', 'Copy', 'Uuid', 'Crypt', 'Create', 'Send', 'ioctlsocket', 'Write', 'Start', 'Lookup', 'connect', 'getsockname', 'Internet', 'Encrypt', 'Net', 'Nt', 'Reg', 'select', 'Obtain', 'Draw', 'Thread32', 'Http', 'Get', 'Read', 'Enum', 'Unhook', 'send', 'time', 'Device', 'Delete', 'Cert', 'listen', 'Control', 'Search', 'I', 'Register', 'Remove', 'gethostbyname', 'S', 'Shell', 'W', 'Output', 'Module32', 'closesocket', 'socket', 'Load', 'setsockopt', 'Set', 'Co', 'Ole', 'bind', 'Is', 'Global', '__exception__', 'Ldr', 'Rtl', 'Sizeof', 'Open', 'Find'])\n",
      "60\n"
     ]
    }
   ],
   "source": [
    "api_list = train_data.api.unique()\n",
    "api_prefix = []\n",
    "for api in api_list:\n",
    "    result = re.search(r'[A-Z]', api[1:])\n",
    "    if result:\n",
    "        prefix = api[:result.span()[0]+1]\n",
    "    else:\n",
    "        prefix = api\n",
    "    api_prefix.append(prefix)\n",
    "api_prefix = set(api_prefix)\n",
    "print api_prefix\n",
    "print len(api_prefix)"
   ]
  },
  {
   "cell_type": "markdown",
   "metadata": {},
   "source": [
    "api分析需要针对api的用途做进一步分类处理，暂时搁置，TODO；"
   ]
  },
  {
   "cell_type": "markdown",
   "metadata": {},
   "source": [
    "## 建模\n",
    "\n",
    "1. 读取全部数据；\n",
    "2. 划分数据集；\n",
    "3. 对训练数据，根据文件id分组，根据labe分组；\n",
    "4. 相应字段归一化；\n",
    "5. 训练kNN模型；\n",
    "6. 使用验证数据计算模型得分，k为1；"
   ]
  },
  {
   "cell_type": "code",
   "execution_count": 39,
   "metadata": {},
   "outputs": [],
   "source": [
    "train_data = pd.read_csv(train_path)"
   ]
  },
  {
   "cell_type": "code",
   "execution_count": 40,
   "metadata": {},
   "outputs": [
    {
     "data": {
      "text/html": [
       "<div>\n",
       "<style>\n",
       "    .dataframe thead tr:only-child th {\n",
       "        text-align: right;\n",
       "    }\n",
       "\n",
       "    .dataframe thead th {\n",
       "        text-align: left;\n",
       "    }\n",
       "\n",
       "    .dataframe tbody tr th {\n",
       "        vertical-align: top;\n",
       "    }\n",
       "</style>\n",
       "<table border=\"1\" class=\"dataframe\">\n",
       "  <thead>\n",
       "    <tr style=\"text-align: right;\">\n",
       "      <th></th>\n",
       "      <th>file_id</th>\n",
       "      <th>label</th>\n",
       "      <th>api_type_count</th>\n",
       "      <th>tid_type_count</th>\n",
       "      <th>api_call_count</th>\n",
       "    </tr>\n",
       "  </thead>\n",
       "  <tbody>\n",
       "    <tr>\n",
       "      <th>0</th>\n",
       "      <td>1</td>\n",
       "      <td>5</td>\n",
       "      <td>116</td>\n",
       "      <td>11</td>\n",
       "      <td>6786</td>\n",
       "    </tr>\n",
       "    <tr>\n",
       "      <th>1</th>\n",
       "      <td>2</td>\n",
       "      <td>2</td>\n",
       "      <td>30</td>\n",
       "      <td>4</td>\n",
       "      <td>816</td>\n",
       "    </tr>\n",
       "    <tr>\n",
       "      <th>2</th>\n",
       "      <td>3</td>\n",
       "      <td>0</td>\n",
       "      <td>42</td>\n",
       "      <td>1</td>\n",
       "      <td>463</td>\n",
       "    </tr>\n",
       "    <tr>\n",
       "      <th>3</th>\n",
       "      <td>4</td>\n",
       "      <td>0</td>\n",
       "      <td>51</td>\n",
       "      <td>9</td>\n",
       "      <td>2046</td>\n",
       "    </tr>\n",
       "    <tr>\n",
       "      <th>4</th>\n",
       "      <td>5</td>\n",
       "      <td>0</td>\n",
       "      <td>65</td>\n",
       "      <td>6</td>\n",
       "      <td>10002</td>\n",
       "    </tr>\n",
       "  </tbody>\n",
       "</table>\n",
       "</div>"
      ],
      "text/plain": [
       "  file_id label api_type_count tid_type_count api_call_count\n",
       "0       1     5            116             11           6786\n",
       "1       2     2             30              4            816\n",
       "2       3     0             42              1            463\n",
       "3       4     0             51              9           2046\n",
       "4       5     0             65              6          10002"
      ]
     },
     "execution_count": 40,
     "metadata": {},
     "output_type": "execute_result"
    }
   ],
   "source": [
    "file_data = groupby_fileid(train_data)\n",
    "file_data.head(5)"
   ]
  },
  {
   "cell_type": "code",
   "execution_count": 41,
   "metadata": {},
   "outputs": [
    {
     "data": {
      "text/html": [
       "<div>\n",
       "<style>\n",
       "    .dataframe thead tr:only-child th {\n",
       "        text-align: right;\n",
       "    }\n",
       "\n",
       "    .dataframe thead th {\n",
       "        text-align: left;\n",
       "    }\n",
       "\n",
       "    .dataframe tbody tr th {\n",
       "        vertical-align: top;\n",
       "    }\n",
       "</style>\n",
       "<table border=\"1\" class=\"dataframe\">\n",
       "  <thead>\n",
       "    <tr style=\"text-align: right;\">\n",
       "      <th></th>\n",
       "      <th>label</th>\n",
       "      <th>api_type_count</th>\n",
       "      <th>tid_type_count</th>\n",
       "      <th>api_call_count</th>\n",
       "    </tr>\n",
       "  </thead>\n",
       "  <tbody>\n",
       "    <tr>\n",
       "      <th>0</th>\n",
       "      <td>5</td>\n",
       "      <td>0.680473</td>\n",
       "      <td>0.00509165</td>\n",
       "      <td>0.00763902</td>\n",
       "    </tr>\n",
       "    <tr>\n",
       "      <th>1</th>\n",
       "      <td>2</td>\n",
       "      <td>0.171598</td>\n",
       "      <td>0.00152749</td>\n",
       "      <td>0.000917583</td>\n",
       "    </tr>\n",
       "    <tr>\n",
       "      <th>2</th>\n",
       "      <td>0</td>\n",
       "      <td>0.242604</td>\n",
       "      <td>0</td>\n",
       "      <td>0.000520151</td>\n",
       "    </tr>\n",
       "    <tr>\n",
       "      <th>3</th>\n",
       "      <td>0</td>\n",
       "      <td>0.295858</td>\n",
       "      <td>0.00407332</td>\n",
       "      <td>0.0023024</td>\n",
       "    </tr>\n",
       "    <tr>\n",
       "      <th>4</th>\n",
       "      <td>0</td>\n",
       "      <td>0.378698</td>\n",
       "      <td>0.00254582</td>\n",
       "      <td>0.0112598</td>\n",
       "    </tr>\n",
       "  </tbody>\n",
       "</table>\n",
       "</div>"
      ],
      "text/plain": [
       "  label api_type_count tid_type_count api_call_count\n",
       "0     5       0.680473     0.00509165     0.00763902\n",
       "1     2       0.171598     0.00152749    0.000917583\n",
       "2     0       0.242604              0    0.000520151\n",
       "3     0       0.295858     0.00407332      0.0023024\n",
       "4     0       0.378698     0.00254582      0.0112598"
      ]
     },
     "execution_count": 41,
     "metadata": {},
     "output_type": "execute_result"
    }
   ],
   "source": [
    "df = file_data[['api_type_count','tid_type_count','api_call_count']]\n",
    "df.head(5)\n",
    "# min/max归一化处理\n",
    "file_data[['api_type_count','tid_type_count','api_call_count']] = (df - df.min()) / (df.max() - df.min())\n",
    "file_data = file_data.drop('file_id', axis=1)\n",
    "file_data.head(5)"
   ]
  },
  {
   "cell_type": "markdown",
   "metadata": {},
   "source": [
    "由于数据是倾斜的，其中0和5文件很多，其余很少，这里考虑采取过抽样的方式来优化这一问题；"
   ]
  },
  {
   "cell_type": "code",
   "execution_count": 56,
   "metadata": {},
   "outputs": [
    {
     "data": {
      "text/html": [
       "<div>\n",
       "<style>\n",
       "    .dataframe thead tr:only-child th {\n",
       "        text-align: right;\n",
       "    }\n",
       "\n",
       "    .dataframe thead th {\n",
       "        text-align: left;\n",
       "    }\n",
       "\n",
       "    .dataframe tbody tr th {\n",
       "        vertical-align: top;\n",
       "    }\n",
       "</style>\n",
       "<table border=\"1\" class=\"dataframe\">\n",
       "  <thead>\n",
       "    <tr style=\"text-align: right;\">\n",
       "      <th></th>\n",
       "      <th>api_type_count</th>\n",
       "      <th>tid_type_count</th>\n",
       "      <th>api_call_count</th>\n",
       "    </tr>\n",
       "    <tr>\n",
       "      <th>label</th>\n",
       "      <th></th>\n",
       "      <th></th>\n",
       "      <th></th>\n",
       "    </tr>\n",
       "  </thead>\n",
       "  <tbody>\n",
       "    <tr>\n",
       "      <th>0</th>\n",
       "      <td>4978</td>\n",
       "      <td>4978</td>\n",
       "      <td>4978</td>\n",
       "    </tr>\n",
       "    <tr>\n",
       "      <th>1</th>\n",
       "      <td>502</td>\n",
       "      <td>502</td>\n",
       "      <td>502</td>\n",
       "    </tr>\n",
       "    <tr>\n",
       "      <th>2</th>\n",
       "      <td>1196</td>\n",
       "      <td>1196</td>\n",
       "      <td>1196</td>\n",
       "    </tr>\n",
       "    <tr>\n",
       "      <th>3</th>\n",
       "      <td>820</td>\n",
       "      <td>820</td>\n",
       "      <td>820</td>\n",
       "    </tr>\n",
       "    <tr>\n",
       "      <th>4</th>\n",
       "      <td>100</td>\n",
       "      <td>100</td>\n",
       "      <td>100</td>\n",
       "    </tr>\n",
       "    <tr>\n",
       "      <th>5</th>\n",
       "      <td>4289</td>\n",
       "      <td>4289</td>\n",
       "      <td>4289</td>\n",
       "    </tr>\n",
       "    <tr>\n",
       "      <th>6</th>\n",
       "      <td>515</td>\n",
       "      <td>515</td>\n",
       "      <td>515</td>\n",
       "    </tr>\n",
       "    <tr>\n",
       "      <th>7</th>\n",
       "      <td>1487</td>\n",
       "      <td>1487</td>\n",
       "      <td>1487</td>\n",
       "    </tr>\n",
       "  </tbody>\n",
       "</table>\n",
       "</div>"
      ],
      "text/plain": [
       "       api_type_count  tid_type_count  api_call_count\n",
       "label                                                \n",
       "0                4978            4978            4978\n",
       "1                 502             502             502\n",
       "2                1196            1196            1196\n",
       "3                 820             820             820\n",
       "4                 100             100             100\n",
       "5                4289            4289            4289\n",
       "6                 515             515             515\n",
       "7                1487            1487            1487"
      ]
     },
     "execution_count": 56,
     "metadata": {},
     "output_type": "execute_result"
    }
   ],
   "source": [
    "file_data.groupby('label').count()"
   ]
  },
  {
   "cell_type": "markdown",
   "metadata": {},
   "source": [
    "以4000为标准，对1,2,3,4,6,7进行过抽样；"
   ]
  },
  {
   "cell_type": "code",
   "execution_count": 63,
   "metadata": {},
   "outputs": [
    {
     "data": {
      "text/html": [
       "<div>\n",
       "<style>\n",
       "    .dataframe thead tr:only-child th {\n",
       "        text-align: right;\n",
       "    }\n",
       "\n",
       "    .dataframe thead th {\n",
       "        text-align: left;\n",
       "    }\n",
       "\n",
       "    .dataframe tbody tr th {\n",
       "        vertical-align: top;\n",
       "    }\n",
       "</style>\n",
       "<table border=\"1\" class=\"dataframe\">\n",
       "  <thead>\n",
       "    <tr style=\"text-align: right;\">\n",
       "      <th></th>\n",
       "      <th>api_type_count</th>\n",
       "      <th>tid_type_count</th>\n",
       "      <th>api_call_count</th>\n",
       "    </tr>\n",
       "    <tr>\n",
       "      <th>label</th>\n",
       "      <th></th>\n",
       "      <th></th>\n",
       "      <th></th>\n",
       "    </tr>\n",
       "  </thead>\n",
       "  <tbody>\n",
       "    <tr>\n",
       "      <th>0</th>\n",
       "      <td>4978</td>\n",
       "      <td>4978</td>\n",
       "      <td>4978</td>\n",
       "    </tr>\n",
       "    <tr>\n",
       "      <th>1</th>\n",
       "      <td>4016</td>\n",
       "      <td>4016</td>\n",
       "      <td>4016</td>\n",
       "    </tr>\n",
       "    <tr>\n",
       "      <th>2</th>\n",
       "      <td>4784</td>\n",
       "      <td>4784</td>\n",
       "      <td>4784</td>\n",
       "    </tr>\n",
       "    <tr>\n",
       "      <th>3</th>\n",
       "      <td>4100</td>\n",
       "      <td>4100</td>\n",
       "      <td>4100</td>\n",
       "    </tr>\n",
       "    <tr>\n",
       "      <th>4</th>\n",
       "      <td>4000</td>\n",
       "      <td>4000</td>\n",
       "      <td>4000</td>\n",
       "    </tr>\n",
       "    <tr>\n",
       "      <th>5</th>\n",
       "      <td>4289</td>\n",
       "      <td>4289</td>\n",
       "      <td>4289</td>\n",
       "    </tr>\n",
       "    <tr>\n",
       "      <th>6</th>\n",
       "      <td>4120</td>\n",
       "      <td>4120</td>\n",
       "      <td>4120</td>\n",
       "    </tr>\n",
       "    <tr>\n",
       "      <th>7</th>\n",
       "      <td>4461</td>\n",
       "      <td>4461</td>\n",
       "      <td>4461</td>\n",
       "    </tr>\n",
       "  </tbody>\n",
       "</table>\n",
       "</div>"
      ],
      "text/plain": [
       "       api_type_count  tid_type_count  api_call_count\n",
       "label                                                \n",
       "0                4978            4978            4978\n",
       "1                4016            4016            4016\n",
       "2                4784            4784            4784\n",
       "3                4100            4100            4100\n",
       "4                4000            4000            4000\n",
       "5                4289            4289            4289\n",
       "6                4120            4120            4120\n",
       "7                4461            4461            4461"
      ]
     },
     "execution_count": 63,
     "metadata": {},
     "output_type": "execute_result"
    }
   ],
   "source": [
    "df0 = file_data[file_data.label==0]\n",
    "df5 = file_data[file_data.label==5]\n",
    "\n",
    "df1 = file_data[file_data.label==1]\n",
    "df1 = pd.concat([df1]*8, ignore_index=True)\n",
    "df2 = file_data[file_data.label==2]\n",
    "df2 = pd.concat([df2]*4, ignore_index=True)\n",
    "df3 = file_data[file_data.label==3]\n",
    "df3 = pd.concat([df3]*5, ignore_index=True)\n",
    "df4 = file_data[file_data.label==4]\n",
    "df4 = pd.concat([df4]*40, ignore_index=True)\n",
    "df6 = file_data[file_data.label==6]\n",
    "df6 = pd.concat([df6]*8, ignore_index=True)\n",
    "df7 = file_data[file_data.label==7]\n",
    "df7 = pd.concat([df7]*3, ignore_index=True)\n",
    "file_data = pd.concat([df0, df1, df2, df3, df4, df5, df6, df7], ignore_index=True)\n",
    "file_data.groupby('label').count()"
   ]
  },
  {
   "cell_type": "markdown",
   "metadata": {},
   "source": [
    "划分数据集"
   ]
  },
  {
   "cell_type": "code",
   "execution_count": 64,
   "metadata": {},
   "outputs": [
    {
     "name": "stdout",
     "output_type": "stream",
     "text": [
      "26061\n",
      "8687\n"
     ]
    }
   ],
   "source": [
    "from sklearn.cross_validation import train_test_split\n",
    "x_train, x_valid, y_train, y_valid = train_test_split(file_data.drop('label', axis=1),file_data.label, test_size=0.25, random_state=0)\n",
    "print len(x_train)\n",
    "print len(x_valid)"
   ]
  },
  {
   "cell_type": "markdown",
   "metadata": {},
   "source": [
    "x_train['label'] = y_train\n",
    "x_data = x_train\n",
    "label_data = groupby_label(x_data)\n",
    "x_train = label_data.drop('label', axis=1)\n",
    "y_train = label_data.label\n",
    "y_train = pd.DataFrame(y_train, columns=['label'])\n",
    "x_train"
   ]
  },
  {
   "cell_type": "markdown",
   "metadata": {},
   "source": [
    "x_valid['label'] = y_valid\n",
    "x_data = x_valid\n",
    "file_data = groupby_fileid(x_data)\n",
    "x_valid = file_data.drop(['label','file_id'], axis=1)\n",
    "y_valid = file_data.label\n",
    "y_valid = pd.DataFrame(y_valid, columns=['label'])"
   ]
  },
  {
   "cell_type": "code",
   "execution_count": 65,
   "metadata": {},
   "outputs": [
    {
     "name": "stdout",
     "output_type": "stream",
     "text": [
      "0.811442385173\n"
     ]
    }
   ],
   "source": [
    "from sklearn.neighbors import KNeighborsClassifier as KNN\n",
    "knn = KNN(5)\n",
    "knn.fit(x_train,y_train.astype('int'))\n",
    "scores=knn.score(x_valid, y_valid.astype('int'))\n",
    "print scores"
   ]
  },
  {
   "cell_type": "code",
   "execution_count": 66,
   "metadata": {},
   "outputs": [
    {
     "data": {
      "text/plain": [
       "<Container object of 8 artists>"
      ]
     },
     "execution_count": 66,
     "metadata": {},
     "output_type": "execute_result"
    },
    {
     "data": {
      "image/png": "[encoded data removed]",
      "text/plain": [
       "<matplotlib.figure.Figure at 0x7f9cf29fce10>"
      ]
     },
     "metadata": {
      "needs_background": "light"
     },
     "output_type": "display_data"
    }
   ],
   "source": [
    "y_pred = knn.predict(x_valid)\n",
    "y_pred = list(y_pred)\n",
    "y_valid = list(y_valid)\n",
    "class_result = {}\n",
    "error_result = {}\n",
    "for i in range(len(y_pred)):\n",
    "    class_result[y_valid[i]] = class_result.get(y_valid[i], 0)+1\n",
    "    if y_pred[i] != y_valid[i]:\n",
    "        error_result[y_valid[i]] = error_result.get(y_valid[i], 0)+1\n",
    "\n",
    "plt.bar(class_result.keys(), class_result.values())\n",
    "plt.bar(error_result.keys(), error_result.values())"
   ]
  },
  {
   "cell_type": "markdown",
   "metadata": {},
   "source": [
    "1. 第一版：\n",
    "    1. 做了file id分组统计，构建新特征（api调用类型数、线程数、api调用总数）；\n",
    "    2. 准确率接近70%（注意这是个多分类问题，且分类不均衡，看到，类别1,4非常少，而0和5很多，而在预测错误的占比上看出，相对于0和5，其余几类的错误率更高，这也是因为kNN的k取值问题导致数量少的类别较难被选中，这个不平衡带来的问题kNN难以处理，需要考虑后续优化方案）；\n",
    "    3. 这只是简单的根据每个文件分组构造特征，最重要的没有利用的信息是index，即api调用时序，这个考虑用HMM来做，今天研究一下怎么用到HMM上，并且还有个问题是要求是输出八个类型的概率，这个可以由kNN的k中的组成比例来实现，不是问题；\n",
    "\n",
    "2. 第二版：\n",
    "    1. 做了过抽样；\n",
    "    2. 得到81%的准确率，明显看到1,2,3,4,6的错误率下降了很多；"
   ]
  },
  {
   "cell_type": "markdown",
   "metadata": {},
   "source": [
    "[HMM](https://hmmlearn.readthedocs.io/en/latest/tutorial.html#building-hmm-and-generating-samples)\n",
    "[数据倾斜](https://www.cnblogs.com/gaoss/p/9677466.html)"
   ]
  }
 ],
 "metadata": {
  "kernelspec": {
   "display_name": "Python 2",
   "language": "python",
   "name": "python2"
  },
  "language_info": {
   "codemirror_mode": {
    "name": "ipython",
    "version": 2
   },
   "file_extension": ".py",
   "mimetype": "text/x-python",
   "name": "python",
   "nbconvert_exporter": "python",
   "pygments_lexer": "ipython2",
   "version": "2.7.13"
  }
 },
 "nbformat": 4,
 "nbformat_minor": 2
}
