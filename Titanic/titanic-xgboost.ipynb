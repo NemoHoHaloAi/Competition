{
 "cells": [
  {
   "cell_type": "markdown",
   "metadata": {},
   "source": [
    "# Titanic with Xgboost"
   ]
  },
  {
   "cell_type": "markdown",
   "metadata": {},
   "source": [
    "## Base Process"
   ]
  },
  {
   "cell_type": "markdown",
   "metadata": {},
   "source": [
    "1. Environment\n",
    "2. Data Input\n",
    "3. Feature Engineering\n",
    "4. Model Build\n",
    "5. Parameters Opt\n",
    "6. Else Optimization Method\n",
    "7. Submit"
   ]
  },
  {
   "cell_type": "markdown",
   "metadata": {},
   "source": [
    "## Focus Point"
   ]
  },
  {
   "cell_type": "markdown",
   "metadata": {},
   "source": [
    "1. Age属性不使用现在的拟合方式，而是根据名称中的『Mr』『Mrs』『Miss』等的平均值进行填充。\n",
    "2. Age不做成一个连续值属性，而是使用一个步长进行离散化，变成离散的类目feature。\n",
    "3. Cabin再细化一些，对于有记录的Cabin属性，我们将其分为前面的字母部分(我猜是位置和船层之类的信息) 和 后面的数字部分(应该是房间号，有意思的事情是，如果你仔细看看原始数据，你会发现，这个值大的情况下，似乎获救的可能性高一些)。\n",
    "4. Pclass和Sex俩太重要了，我们试着用它们去组出一个组合属性来试试，这也是另外一种程度的细化。\n",
    "5. 单加一个Child字段，Age<=12的，设为1，其余为0(你去看看数据，确实小盆友优先程度很高啊)\n",
    "6. 如果名字里面有『Mrs』，而Parch>1的，我们猜测她可能是一个母亲，应该获救的概率也会提高，因此可以多加一个Mother字段，此种情况下设为1，其余情况下设为0\n",
    "7. 登船港口可以考虑先去掉试试(Q和C本来就没权重，S有点诡异)\n",
    "8. 把堂兄弟/兄妹 和 Parch 还有自己 个数加在一起组一个Family_size字段(考虑到大家族可能对最后的结果有影响)\n",
    "9. Name是一个我们一直没有触碰的属性，我们可以做一些简单的处理，比如说男性中带某些字眼的(‘Capt’, ‘Don’, ‘Major’, ‘Sir’)可以统一到一个Title，女性也一样。"
   ]
  },
  {
   "cell_type": "markdown",
   "metadata": {},
   "source": [
    "## Enviroment"
   ]
  },
  {
   "cell_type": "code",
   "execution_count": 108,
   "metadata": {},
   "outputs": [],
   "source": [
    "#coding:utf-8\n",
    "## 导入模块以及环境设置\n",
    "import os,sys,time\n",
    "\n",
    "import pandas as pd\n",
    "import numpy as np\n",
    "import sklearn.preprocessing as preprocessing\n",
    "from sklearn.cross_validation import train_test_split\n",
    "from sklearn.metrics import accuracy_score\n",
    "from sklearn.model_selection import GridSearchCV\n",
    "from sklearn.decomposition import PCA\n",
    "import xgboost as xgb\n",
    "from xgboost import XGBClassifier\n",
    "\n",
    "import matplotlib.pyplot as plt\n",
    "import seaborn as sns\n",
    "sns.set(style=\"darkgrid\")\n",
    "sns.set_context('talk')\n",
    "\n",
    "%matplotlib inline"
   ]
  },
  {
   "cell_type": "markdown",
   "metadata": {},
   "source": [
    "## Data Input"
   ]
  },
  {
   "cell_type": "code",
   "execution_count": 2,
   "metadata": {},
   "outputs": [],
   "source": [
    "train_data = pd.read_csv('train.csv')\n",
    "test_data = pd.read_csv('test.csv')"
   ]
  },
  {
   "cell_type": "code",
   "execution_count": 3,
   "metadata": {},
   "outputs": [
    {
     "name": "stdout",
     "output_type": "stream",
     "text": [
      "<class 'pandas.core.frame.DataFrame'>\n",
      "RangeIndex: 891 entries, 0 to 890\n",
      "Data columns (total 12 columns):\n",
      "PassengerId    891 non-null int64\n",
      "Survived       891 non-null int64\n",
      "Pclass         891 non-null int64\n",
      "Name           891 non-null object\n",
      "Sex            891 non-null object\n",
      "Age            714 non-null float64\n",
      "SibSp          891 non-null int64\n",
      "Parch          891 non-null int64\n",
      "Ticket         891 non-null object\n",
      "Fare           891 non-null float64\n",
      "Cabin          204 non-null object\n",
      "Embarked       889 non-null object\n",
      "dtypes: float64(2), int64(5), object(5)\n",
      "memory usage: 83.6+ KB\n"
     ]
    }
   ],
   "source": [
    "train_data.info()"
   ]
  },
  {
   "cell_type": "code",
   "execution_count": 4,
   "metadata": {},
   "outputs": [
    {
     "name": "stdout",
     "output_type": "stream",
     "text": [
      "<class 'pandas.core.frame.DataFrame'>\n",
      "RangeIndex: 418 entries, 0 to 417\n",
      "Data columns (total 11 columns):\n",
      "PassengerId    418 non-null int64\n",
      "Pclass         418 non-null int64\n",
      "Name           418 non-null object\n",
      "Sex            418 non-null object\n",
      "Age            332 non-null float64\n",
      "SibSp          418 non-null int64\n",
      "Parch          418 non-null int64\n",
      "Ticket         418 non-null object\n",
      "Fare           417 non-null float64\n",
      "Cabin          91 non-null object\n",
      "Embarked       418 non-null object\n",
      "dtypes: float64(2), int64(4), object(5)\n",
      "memory usage: 36.0+ KB\n"
     ]
    }
   ],
   "source": [
    "test_data.info()"
   ]
  },
  {
   "cell_type": "markdown",
   "metadata": {},
   "source": [
    "能够看到Age字段有少量缺失，Cabin字段大量缺失，需要关注一下。"
   ]
  },
  {
   "cell_type": "markdown",
   "metadata": {},
   "source": [
    "## Data Preprocess"
   ]
  },
  {
   "cell_type": "markdown",
   "metadata": {},
   "source": [
    "### 字符mapping到数值\n",
    "\n",
    "由于很多计算都需要数值型数据，因此将个别字符型mapping到数值上。"
   ]
  },
  {
   "cell_type": "code",
   "execution_count": 5,
   "metadata": {},
   "outputs": [
    {
     "data": {
      "text/plain": [
       "Index([u'PassengerId', u'Survived', u'Pclass', u'Name', u'Sex', u'Age',\n",
       "       u'SibSp', u'Parch', u'Ticket', u'Fare', u'Cabin', u'Embarked'],\n",
       "      dtype='object')"
      ]
     },
     "execution_count": 5,
     "metadata": {},
     "output_type": "execute_result"
    }
   ],
   "source": [
    "train_data.columns"
   ]
  },
  {
   "cell_type": "code",
   "execution_count": 6,
   "metadata": {},
   "outputs": [],
   "source": [
    "sex_map = {'male':0, 'female':1}\n",
    "train_data['Sex'] = train_data.Sex.map(sex_map)\n",
    "test_data['Sex'] = test_data.Sex.map(sex_map)"
   ]
  },
  {
   "cell_type": "code",
   "execution_count": 7,
   "metadata": {},
   "outputs": [],
   "source": [
    "embarked_map = {'S':0, 'C':1, 'Q':2}\n",
    "train_data['Embarked'] = train_data.Embarked.map(embarked_map)\n",
    "test_data['Embarked'] = test_data.Embarked.map(embarked_map)"
   ]
  },
  {
   "cell_type": "markdown",
   "metadata": {},
   "source": [
    "## Feature Engineering"
   ]
  },
  {
   "cell_type": "markdown",
   "metadata": {},
   "source": [
    "### Data Analysis、Dig、Full、New\n",
    "\n",
    "简单过滤一下能够得到以下信息：\n",
    "1. PassengerId基本没用，这个是用于后期test数据检验的，需要后面drop掉。\n",
    "2. Survived是目标字段。\n",
    "3. Pclass、Sex、Age是三个最直接的可以直接用于分析的字段。\n",
    "4. Age由于是数值型，但是我们数据量较少，考虑离散化。\n",
    "5. Name可以根据tital提取出跟年龄相关的数据。\n",
    "6. SibSp、Parch的作用不敢肯定，表面看有关系，具体要看可视化的结果。\n",
    "7. Ticket作为票号，规律不知，而且不是纯数值。\n",
    "8. Fare可以作为Pclass的补充，生成新字段。\n",
    "9. Cabin缺失很多。\n",
    "10. Embarked可能影响了上船后人们的位置，比如后上船的人可能更靠近逃生口？只是猜测。\n",
    "\n",
    "总之，每个字段都需要分析、可视化后，观察跟Survived的关系来决定该字段是直接使用，还是挖掘、跟别的字段组合后使用。"
   ]
  },
  {
   "cell_type": "code",
   "execution_count": 8,
   "metadata": {},
   "outputs": [
    {
     "name": "stdout",
     "output_type": "stream",
     "text": [
      "幸存/总人数：0.383838383838\n"
     ]
    }
   ],
   "source": [
    "print '幸存/总人数：'+str(1.*len(train_data[train_data.Survived==1])/len(train_data))"
   ]
  },
  {
   "cell_type": "code",
   "execution_count": 9,
   "metadata": {},
   "outputs": [
    {
     "data": {
      "text/plain": [
       "<matplotlib.axes._subplots.AxesSubplot at 0x7fa85327a710>"
      ]
     },
     "execution_count": 9,
     "metadata": {},
     "output_type": "execute_result"
    },
    {
     "data": {
      "image/png": "[encoded data removed]",
      "text/plain": [
       "<matplotlib.figure.Figure at 0x7fa8532d2710>"
      ]
     },
     "metadata": {
      "needs_background": "light"
     },
     "output_type": "display_data"
    }
   ],
   "source": [
    "plt.figure(figsize=(10,10))\n",
    "train_corr = train_data.corr()\n",
    "sns.heatmap(train_corr, center=0, annot=True)"
   ]
  },
  {
   "cell_type": "markdown",
   "metadata": {},
   "source": [
    "可以看到PassengerId跟其他字段均没有任何联系，这个就不需要分析了。"
   ]
  },
  {
   "cell_type": "markdown",
   "metadata": {},
   "source": [
    "#### Name\n",
    "分割FamilyName、PersonalName和Title\n",
    "\n",
    "分割后的好处是可以结合SibSp、Parch来将一些数据作为一个Family整合，也方便后续其他字段集合Name分析。"
   ]
  },
  {
   "cell_type": "markdown",
   "metadata": {},
   "source": [
    "##### new"
   ]
  },
  {
   "cell_type": "code",
   "execution_count": 10,
   "metadata": {},
   "outputs": [],
   "source": [
    "train_data['Family_name'] = train_data.Name.apply(lambda n:(n.split(',')[0].strip()))\n",
    "train_data['Personal_name'] = train_data.Name.apply(lambda n:(n.split(',')[1].split('.')[1].strip()))\n",
    "train_data['Title'] = train_data.Name.apply(lambda n:(n.split(',')[1].split('.')[0].strip()))\n",
    "\n",
    "test_data['Family_name'] = test_data.Name.apply(lambda n:(n.split(',')[0].strip()))\n",
    "test_data['Personal_name'] = test_data.Name.apply(lambda n:(n.split(',')[1].split('.')[1].strip()))\n",
    "test_data['Title'] = test_data.Name.apply(lambda n:(n.split(',')[1].split('.')[0].strip()))"
   ]
  },
  {
   "cell_type": "code",
   "execution_count": 11,
   "metadata": {},
   "outputs": [
    {
     "data": {
      "text/plain": [
       "array(['Mr', 'Mrs', 'Miss', 'Master', 'Don', 'Rev', 'Dr', 'Mme', 'Ms',\n",
       "       'Major', 'Lady', 'Sir', 'Mlle', 'Col', 'Capt', 'the Countess',\n",
       "       'Jonkheer'], dtype=object)"
      ]
     },
     "execution_count": 11,
     "metadata": {},
     "output_type": "execute_result"
    }
   ],
   "source": [
    "train_data.Title.unique()"
   ]
  },
  {
   "cell_type": "code",
   "execution_count": 12,
   "metadata": {},
   "outputs": [
    {
     "data": {
      "text/plain": [
       "array(['Mr', 'Mrs', 'Miss', 'Master', 'Ms', 'Col', 'Rev', 'Dr', 'Dona'], dtype=object)"
      ]
     },
     "execution_count": 12,
     "metadata": {},
     "output_type": "execute_result"
    }
   ],
   "source": [
    "test_data.Title.unique()"
   ]
  },
  {
   "cell_type": "code",
   "execution_count": 13,
   "metadata": {},
   "outputs": [],
   "source": [
    "title_map = {'Mr':0,'Mrs':1,'Miss':2,'Master':3,'Don':4,'Rev':5,'Dr':6,'Mme':7,\n",
    "            'Ms':8,'Major':9,'Lady':10,'Sir':11,'Mlle':12,'Col':13,'Capt':14,\n",
    "            'the Countess':15,'Rev':16,'Dr':17,'Dona':18,'Jonkheer':19}\n",
    "\n",
    "train_data['Title'] = train_data.Title.map(title_map)\n",
    "test_data['Title'] = test_data.Title.map(title_map)"
   ]
  },
  {
   "cell_type": "code",
   "execution_count": 14,
   "metadata": {},
   "outputs": [
    {
     "data": {
      "text/plain": [
       "Title    0.178213\n",
       "dtype: float64"
      ]
     },
     "execution_count": 14,
     "metadata": {},
     "output_type": "execute_result"
    }
   ],
   "source": [
    "train_data[['Title']].corrwith(train_data.Survived)"
   ]
  },
  {
   "cell_type": "markdown",
   "metadata": {},
   "source": [
    "可以看到，Title字段跟是否幸存存在很不错的关系。"
   ]
  },
  {
   "cell_type": "markdown",
   "metadata": {},
   "source": [
    "#### Age\n",
    "\n",
    "1. 该字段有一定缺失值。\n",
    "2. Age的影响在于两点：年幼年长的或许可以优先逃生、年轻力壮的生存能力更强。\n",
    "\n",
    "先不考虑缺失值，分析剩余数据与幸存率的关系，下面以多个step为参考的幸存率关系图。"
   ]
  },
  {
   "cell_type": "markdown",
   "metadata": {},
   "source": [
    "##### Full\n",
    "\n",
    "考虑从Title中获取，用具有同一个Title的其他乘客的平均值设置。"
   ]
  },
  {
   "cell_type": "code",
   "execution_count": 15,
   "metadata": {},
   "outputs": [],
   "source": [
    "train_age_title_map = dict(train_data.groupby(by='Title')['Age'].mean().fillna(20))\n",
    "test_age_title_map = dict(test_data.groupby(by='Title')['Age'].mean().fillna(20))"
   ]
  },
  {
   "cell_type": "code",
   "execution_count": 16,
   "metadata": {},
   "outputs": [],
   "source": [
    "def train_full_age(row):\n",
    "    row['Age'] = row['Age'] if not pd.isnull(row['Age']) else train_age_title_map[row['Title']]\n",
    "    return row\n",
    "\n",
    "def test_full_age(row):\n",
    "    row['Age'] = row['Age'] if not pd.isnull(row['Age']) else test_age_title_map[row['Title']]\n",
    "    return row"
   ]
  },
  {
   "cell_type": "code",
   "execution_count": 17,
   "metadata": {},
   "outputs": [],
   "source": [
    "train_data = train_data.apply(train_full_age, axis=1)\n",
    "test_data = test_data.apply(test_full_age, axis=1)"
   ]
  },
  {
   "cell_type": "code",
   "execution_count": 18,
   "metadata": {},
   "outputs": [
    {
     "name": "stdout",
     "output_type": "stream",
     "text": [
      "train data Age has null:False,test data Age has null:False\n"
     ]
    }
   ],
   "source": [
    "print 'train data Age has null:'+str(train_data.Age.hasnans)+',test data Age has null:'+str(test_data.Age.hasnans)"
   ]
  },
  {
   "cell_type": "markdown",
   "metadata": {},
   "source": [
    "##### Dig"
   ]
  },
  {
   "cell_type": "code",
   "execution_count": 19,
   "metadata": {},
   "outputs": [],
   "source": [
    "age_data = train_data[['Age','Survived', 'Sex']].copy()"
   ]
  },
  {
   "cell_type": "code",
   "execution_count": 20,
   "metadata": {},
   "outputs": [],
   "source": [
    "age_data['Age_3'] = age_data.Age.apply(lambda a:int(a/3))\n",
    "age_data['Age_5'] = age_data.Age.apply(lambda a:int(a/5))\n",
    "age_data['Age_8'] = age_data.Age.apply(lambda a:int(a/8))\n",
    "age_data['Age_10'] = age_data.Age.apply(lambda a:int(a/10))\n",
    "age_data['Age_15'] = age_data.Age.apply(lambda a:int(a/15))\n",
    "age_data['Age_20'] = age_data.Age.apply(lambda a:int(a/20))\n",
    "# 儿童-6、少年7-14、青年15-35、中年36-60、老年61-\n",
    "age_data['Age_x'] = age_data.Age.apply(lambda a:0 if a<=6 else (1 if a<=14 else (2 if a<=35 else (3 if a<=60 else 4))))\n",
    "age_data['Age_child'] = age_data.Age.apply(lambda a:0 if a<=6 else 1)"
   ]
  },
  {
   "cell_type": "code",
   "execution_count": 21,
   "metadata": {},
   "outputs": [
    {
     "data": {
      "text/plain": [
       "<matplotlib.axes._subplots.AxesSubplot at 0x7fa84fe0afd0>"
      ]
     },
     "execution_count": 21,
     "metadata": {},
     "output_type": "execute_result"
    },
    {
     "data": {
      "image/png": "[encoded data removed]",
      "text/plain": [
       "<matplotlib.figure.Figure at 0x7fa892db8bd0>"
      ]
     },
     "metadata": {
      "needs_background": "light"
     },
     "output_type": "display_data"
    }
   ],
   "source": [
    "plt.figure(figsize=(10,4))\n",
    "age_corr = age_data.corrwith(age_data.Survived)\n",
    "age_corr.plot(kind='bar')"
   ]
  },
  {
   "cell_type": "markdown",
   "metadata": {},
   "source": [
    "从相关性来看，最高的是Age_child，也就是是否是儿童，其次是Age_8，按照步长为8划分的年龄段，均不到-0.2。\n",
    "\n",
    "尝试加入性别再看看。"
   ]
  },
  {
   "cell_type": "code",
   "execution_count": 22,
   "metadata": {},
   "outputs": [
    {
     "data": {
      "text/plain": [
       "<matplotlib.axes._subplots.AxesSubplot at 0x7fa8887ac2d0>"
      ]
     },
     "execution_count": 22,
     "metadata": {},
     "output_type": "execute_result"
    },
    {
     "data": {
      "image/png": "[encoded data removed]",
      "text/plain": [
       "<matplotlib.figure.Figure at 0x7fa84d76d0d0>"
      ]
     },
     "metadata": {
      "needs_background": "light"
     },
     "output_type": "display_data"
    }
   ],
   "source": [
    "def is_youngman(row):\n",
    "    row['Is_youngman'] = 1 if row['Age_8']>=2 and row['Age_8']<=6 and row['Sex']==0 else 0\n",
    "    return row\n",
    "age_data = age_data.apply(is_youngman, axis=1)\n",
    "Survived_0 = age_data.Is_youngman[age_data.Survived == 0].value_counts()\n",
    "Survived_1 = age_data.Is_youngman[age_data.Survived == 1].value_counts()\n",
    "df=pd.DataFrame({u'Survived':Survived_1, u'Unsurvived':Survived_0})\n",
    "df.plot(kind='bar', stacked=True)"
   ]
  },
  {
   "cell_type": "markdown",
   "metadata": {},
   "source": [
    "明显看到这一属性还是很有用的，大大提升了男性的幸存率，看看相关系数。"
   ]
  },
  {
   "cell_type": "code",
   "execution_count": 23,
   "metadata": {},
   "outputs": [
    {
     "name": "stdout",
     "output_type": "stream",
     "text": [
      "Is_youngman corr with Survived:-0.516985258962\n"
     ]
    }
   ],
   "source": [
    "print 'Is_youngman corr with Survived:'+str(age_data.Is_youngman.corr(age_data.Survived))"
   ]
  },
  {
   "cell_type": "markdown",
   "metadata": {},
   "source": [
    "##### new"
   ]
  },
  {
   "cell_type": "code",
   "execution_count": 24,
   "metadata": {},
   "outputs": [],
   "source": [
    "train_data['Age_8'] = train_data.Age.apply(lambda a:int(a/8))\n",
    "test_data['Age_8'] = test_data.Age.apply(lambda a:int(a/8))\n",
    "\n",
    "train_data['Is_child'] =train_data.Age.apply(lambda a:1 if a<=6 else 0)\n",
    "test_data['Is_child'] = test_data.Age.apply(lambda a:1 if a<=6 else 0)\n",
    "\n",
    "# 测试结果显示该字段带来的负面作用大于正面\n",
    "#train_data = train_data.apply(is_youngman, axis=1)\n",
    "#test_data = test_data.apply(is_youngman, axis=1)"
   ]
  },
  {
   "cell_type": "markdown",
   "metadata": {},
   "source": [
    "#### Sex\n",
    "\n",
    "毫无疑问，性别是一个非常重要的属性，并且它是完成的，没有nan值，nice。\n",
    "\n",
    "PS:0 for male, 1 for female"
   ]
  },
  {
   "cell_type": "code",
   "execution_count": 25,
   "metadata": {},
   "outputs": [],
   "source": [
    "sex_data = train_data[['Sex','Pclass','Survived']].copy()"
   ]
  },
  {
   "cell_type": "markdown",
   "metadata": {},
   "source": [
    "##### Dig"
   ]
  },
  {
   "cell_type": "code",
   "execution_count": 26,
   "metadata": {},
   "outputs": [
    {
     "data": {
      "text/plain": [
       "<matplotlib.text.Text at 0x7fa84d7a49d0>"
      ]
     },
     "execution_count": 26,
     "metadata": {},
     "output_type": "execute_result"
    },
    {
     "data": {
      "image/png": "[encoded data removed]",
      "text/plain": [
       "<matplotlib.figure.Figure at 0x7fa84fabf550>"
      ]
     },
     "metadata": {
      "needs_background": "light"
     },
     "output_type": "display_data"
    }
   ],
   "source": [
    "Survived_0 = sex_data.Sex[sex_data.Survived == 0].value_counts()\n",
    "Survived_1 = sex_data.Sex[sex_data.Survived == 1].value_counts()\n",
    "df=pd.DataFrame({u'Survived':Survived_1, u'Unsurvived':Survived_0})\n",
    "df.plot(kind='bar', stacked=True)\n",
    "plt.title(u\"pasenger survived status\")\n",
    "plt.xlabel(u\"Sex\") \n",
    "plt.ylabel(u\"Count\") "
   ]
  },
  {
   "cell_type": "markdown",
   "metadata": {},
   "source": [
    "可以看到，女性幸存率远远高于男性。\n",
    "\n",
    "结合Pclass来看呢。"
   ]
  },
  {
   "cell_type": "code",
   "execution_count": 27,
   "metadata": {},
   "outputs": [
    {
     "data": {
      "text/plain": [
       "<matplotlib.text.Text at 0x7fa84d5d1890>"
      ]
     },
     "execution_count": 27,
     "metadata": {},
     "output_type": "execute_result"
    },
    {
     "data": {
      "image/png": "[encoded data removed]",
      "text/plain": [
       "<matplotlib.figure.Figure at 0x7fa84fde7bd0>"
      ]
     },
     "metadata": {
      "needs_background": "light"
     },
     "output_type": "display_data"
    }
   ],
   "source": [
    "Survived_0_pclass1 = sex_data.Sex[sex_data.Pclass==1][sex_data.Survived==0].value_counts()\n",
    "Survived_0_pclass2 = sex_data.Sex[sex_data.Pclass==2][sex_data.Survived==0].value_counts()\n",
    "Survived_0_pclass3 = sex_data.Sex[sex_data.Pclass==3][sex_data.Survived==0].value_counts()\n",
    "Survived_1_pclass1 = sex_data.Sex[sex_data.Pclass==1][sex_data.Survived==1].value_counts()\n",
    "Survived_1_pclass2 = sex_data.Sex[sex_data.Pclass==2][sex_data.Survived==1].value_counts()\n",
    "Survived_1_pclass3 = sex_data.Sex[sex_data.Pclass==3][sex_data.Survived==1].value_counts()\n",
    "df=pd.DataFrame({u'Survived:pclass==1':Survived_1_pclass1,\n",
    "                 u'Survived:pclass==2':Survived_1_pclass2,\n",
    "                 u'Survived:pclass==3':Survived_1_pclass3,\n",
    "                 u'Unsurvived:pclass==1':Survived_0_pclass1,\n",
    "                 u'Unsurvived:pclass==2':Survived_0_pclass2,\n",
    "                 u'Unsurvived:pclass==3':Survived_0_pclass3,})\n",
    "df.plot(kind='bar', stacked=True)\n",
    "plt.title(u\"pasenger survived status\")\n",
    "plt.xlabel(u\"Sex\") \n",
    "plt.ylabel(u\"Count\") "
   ]
  },
  {
   "cell_type": "markdown",
   "metadata": {},
   "source": [
    "可以看到，pclass为2,3的男性乘客的幸存率很低，而pclass为1,2的女性乘客则非常高，可以利用这两个特点。"
   ]
  },
  {
   "cell_type": "markdown",
   "metadata": {},
   "source": [
    "##### new"
   ]
  },
  {
   "cell_type": "code",
   "execution_count": 28,
   "metadata": {},
   "outputs": [],
   "source": [
    "def new_female_pclass12(row):\n",
    "    row['Is_female_pclass12'] = 1 if(row['Sex']==1 and row['Pclass'] in [1,2]) else 0\n",
    "    return row\n",
    "\n",
    "def new_male_pclass23(row):\n",
    "    row['Is_male_pclass23'] = 1 if(row['Sex']==0 and row['Pclass'] in [2,3]) else 0\n",
    "    return row"
   ]
  },
  {
   "cell_type": "code",
   "execution_count": 29,
   "metadata": {},
   "outputs": [],
   "source": [
    "train_data = train_data.apply(new_female_pclass12, axis=1)\n",
    "test_data = test_data.apply(new_female_pclass12, axis=1)\n",
    "\n",
    "train_data = train_data.apply(new_male_pclass23, axis=1)\n",
    "test_data = test_data.apply(new_male_pclass23, axis=1)"
   ]
  },
  {
   "cell_type": "code",
   "execution_count": 30,
   "metadata": {},
   "outputs": [
    {
     "data": {
      "text/plain": [
       "<matplotlib.axes._subplots.AxesSubplot at 0x7fa84fcf11d0>"
      ]
     },
     "execution_count": 30,
     "metadata": {},
     "output_type": "execute_result"
    },
    {
     "data": {
      "image/png": "[encoded data removed]",
      "text/plain": [
       "<matplotlib.figure.Figure at 0x7fa84d7915d0>"
      ]
     },
     "metadata": {
      "needs_background": "light"
     },
     "output_type": "display_data"
    }
   ],
   "source": [
    "train_data[['Is_female_pclass12','Is_male_pclass23']].corrwith(train_data.Survived).plot(kind='bar')"
   ]
  },
  {
   "cell_type": "markdown",
   "metadata": {},
   "source": [
    "#### Pclass\n",
    "\n",
    "之前的热图可以看到Pclass跟Survived的相关性有-0.34，非常高了，说明船舱等级同样对与是否幸存影响很大。"
   ]
  },
  {
   "cell_type": "markdown",
   "metadata": {},
   "source": [
    "##### Dig"
   ]
  },
  {
   "cell_type": "code",
   "execution_count": 31,
   "metadata": {},
   "outputs": [],
   "source": [
    "pclass_data = train_data[['Pclass','Fare','Survived','Sex']].copy()"
   ]
  },
  {
   "cell_type": "code",
   "execution_count": 32,
   "metadata": {},
   "outputs": [
    {
     "data": {
      "text/plain": [
       "<matplotlib.text.Text at 0x7fa84d4d9e50>"
      ]
     },
     "execution_count": 32,
     "metadata": {},
     "output_type": "execute_result"
    },
    {
     "data": {
      "image/png": "[encoded data removed]",
      "text/plain": [
       "<matplotlib.figure.Figure at 0x7fa84d7e8ed0>"
      ]
     },
     "metadata": {
      "needs_background": "light"
     },
     "output_type": "display_data"
    }
   ],
   "source": [
    "Survived_0 = pclass_data.Pclass[pclass_data.Survived==0].value_counts()\n",
    "Survived_1 = pclass_data.Pclass[pclass_data.Survived==1].value_counts()\n",
    "df=pd.DataFrame({u'Survived':Survived_1,\n",
    "                 u'Unsurvived':Survived_0,})\n",
    "df.plot(kind='bar', stacked=True)\n",
    "plt.title(u\"pasenger survived status\")\n",
    "plt.xlabel(u\"Pclass\") \n",
    "plt.ylabel(u\"Count\") "
   ]
  },
  {
   "cell_type": "markdown",
   "metadata": {},
   "source": [
    "非常明显的差异表现，更高级的船舱对应更高的幸存率。\n",
    "\n",
    "我们知道虽然Pclass有3个级别，但是对应应该有更多的细分，比如是否靠窗、是否有独立卫生间等等，因此结合Fare细分处理。\n",
    "\n",
    "将原本的Pclass:1,2,3细分为11,12,13,21,22,23,31,32,33"
   ]
  },
  {
   "cell_type": "code",
   "execution_count": 33,
   "metadata": {},
   "outputs": [],
   "source": [
    "quantile_1_25 = pclass_data[pclass_data.Pclass==1].Fare.quantile(0.25)\n",
    "quantile_1_50 = pclass_data[pclass_data.Pclass==1].Fare.quantile(0.5)\n",
    "quantile_1_75 = pclass_data[pclass_data.Pclass==1].Fare.quantile(0.75)\n",
    "quantile_1_100 = pclass_data[pclass_data.Pclass==1].Fare.quantile(1)\n",
    "\n",
    "quantile_2_25 = pclass_data[pclass_data.Pclass==2].Fare.quantile(0.25)\n",
    "quantile_2_50 = pclass_data[pclass_data.Pclass==2].Fare.quantile(0.5)\n",
    "quantile_2_75 = pclass_data[pclass_data.Pclass==2].Fare.quantile(0.75)\n",
    "quantile_2_100 = pclass_data[pclass_data.Pclass==2].Fare.quantile(1)\n",
    "\n",
    "quantile_3_25 = pclass_data[pclass_data.Pclass==2].Fare.quantile(0.25)\n",
    "quantile_3_50 = pclass_data[pclass_data.Pclass==2].Fare.quantile(0.5)\n",
    "quantile_3_75 = pclass_data[pclass_data.Pclass==2].Fare.quantile(0.75)\n",
    "quantile_3_100 = pclass_data[pclass_data.Pclass==2].Fare.quantile(1)\n",
    "\n",
    "quantiles = [[quantile_1_25,quantile_1_50,quantile_1_75,quantile_1_100],\n",
    "             [quantile_2_25,quantile_2_50,quantile_2_75,quantile_2_100],\n",
    "             [quantile_3_25,quantile_3_50,quantile_3_75,quantile_3_100]]\n",
    "\n",
    "def pclass_x(row):\n",
    "    pclass = int(row['Pclass'])\n",
    "    fare = row['Fare']\n",
    "    #row['Pclass_x'] = 10*pclass+(1 if fare<=quantiles[pclass-1][0] else (2 if fare<=quantiles[pclass-1][1] else (3 if fare<=quantiles[pclass-1][2] else 4)))\n",
    "    row['Pclass_x'] = 10*pclass+(1 if fare<=quantiles[pclass-1][1] else 2)\n",
    "    row['Pclass_x'] = 0 if row['Pclass_x'] in [11,12,22] else 1\n",
    "    #row['Pclass_sex'] = 10*pclass+row['Sex']\n",
    "    return row"
   ]
  },
  {
   "cell_type": "code",
   "execution_count": 34,
   "metadata": {},
   "outputs": [
    {
     "data": {
      "text/plain": [
       "<matplotlib.text.Text at 0x7fa84d3fc8d0>"
      ]
     },
     "execution_count": 34,
     "metadata": {},
     "output_type": "execute_result"
    },
    {
     "data": {
      "image/png": "[encoded data removed]",
      "text/plain": [
       "<matplotlib.figure.Figure at 0x7fa84fd55210>"
      ]
     },
     "metadata": {
      "needs_background": "light"
     },
     "output_type": "display_data"
    }
   ],
   "source": [
    "pclass_data = pclass_data.apply(pclass_x, axis=1)\n",
    "\n",
    "Survived_0 = pclass_data.Pclass_x[pclass_data.Survived==0].value_counts()\n",
    "Survived_1 = pclass_data.Pclass_x[pclass_data.Survived==1].value_counts()\n",
    "df=pd.DataFrame({u'Survived':Survived_1,\n",
    "                 u'Unsurvived':Survived_0,})\n",
    "df.plot(kind='bar', stacked=True)\n",
    "plt.title(u\"pasenger survived status\")\n",
    "plt.xlabel(u\"Pclass_x\") \n",
    "plt.ylabel(u\"Count\")"
   ]
  },
  {
   "cell_type": "markdown",
   "metadata": {},
   "source": [
    "再看看相关性。"
   ]
  },
  {
   "cell_type": "code",
   "execution_count": 35,
   "metadata": {},
   "outputs": [
    {
     "name": "stdout",
     "output_type": "stream",
     "text": [
      "Pclass_x corr Survived:-0.348304312531\n"
     ]
    }
   ],
   "source": [
    "print 'Pclass_x corr Survived:'+str(pclass_data.Pclass_x.corr(pclass_data.Survived))"
   ]
  },
  {
   "cell_type": "markdown",
   "metadata": {},
   "source": [
    "略高于Pclass，可以使用。"
   ]
  },
  {
   "cell_type": "markdown",
   "metadata": {},
   "source": [
    "##### new"
   ]
  },
  {
   "cell_type": "code",
   "execution_count": 36,
   "metadata": {},
   "outputs": [],
   "source": [
    "train_data = train_data.apply(pclass_x, axis=1)\n",
    "test_data = test_data.apply(pclass_x, axis=1)"
   ]
  },
  {
   "cell_type": "markdown",
   "metadata": {},
   "source": [
    "#### SibSp & Parch\n",
    "\n",
    "整合一个家庭人数字段看看效果如何。"
   ]
  },
  {
   "cell_type": "markdown",
   "metadata": {},
   "source": [
    "##### Dig"
   ]
  },
  {
   "cell_type": "code",
   "execution_count": 37,
   "metadata": {},
   "outputs": [],
   "source": [
    "family_data = train_data[['SibSp','Parch','Survived']].copy()"
   ]
  },
  {
   "cell_type": "code",
   "execution_count": 38,
   "metadata": {},
   "outputs": [],
   "source": [
    "def familys(row):\n",
    "    row['Family'] = row['SibSp']+row['Parch']+1\n",
    "    row['Family'] = row['Family'] if row['Family']<=3 else 4\n",
    "    return row"
   ]
  },
  {
   "cell_type": "code",
   "execution_count": 39,
   "metadata": {},
   "outputs": [
    {
     "data": {
      "text/plain": [
       "<matplotlib.text.Text at 0x7fa84cce9390>"
      ]
     },
     "execution_count": 39,
     "metadata": {},
     "output_type": "execute_result"
    },
    {
     "data": {
      "image/png": "[encoded data removed]",
      "text/plain": [
       "<matplotlib.figure.Figure at 0x7fa84d2dd890>"
      ]
     },
     "metadata": {
      "needs_background": "light"
     },
     "output_type": "display_data"
    }
   ],
   "source": [
    "family_data = family_data.apply(familys, axis=1)\n",
    "\n",
    "Survived_0 = family_data.Family[pclass_data.Survived==0].value_counts()\n",
    "Survived_1 = family_data.Family[pclass_data.Survived==1].value_counts()\n",
    "df=pd.DataFrame({u'Survived':Survived_1,\n",
    "                 u'Unsurvived':Survived_0,})\n",
    "df.plot(kind='bar', stacked=True)\n",
    "plt.title(u\"pasenger survived status\")\n",
    "plt.xlabel(u\"Family\") \n",
    "plt.ylabel(u\"Count\")"
   ]
  },
  {
   "cell_type": "markdown",
   "metadata": {},
   "source": [
    "可以看到，还是有一些影响的，相对而言，家人多的幸存几率更大，再看看相关系数。"
   ]
  },
  {
   "cell_type": "code",
   "execution_count": 40,
   "metadata": {},
   "outputs": [
    {
     "name": "stdout",
     "output_type": "stream",
     "text": [
      "Family corr Survived:0.124413217827\n"
     ]
    }
   ],
   "source": [
    "print 'Family corr Survived:'+str(family_data.Family.corr(family_data.Survived))"
   ]
  },
  {
   "cell_type": "markdown",
   "metadata": {},
   "source": [
    "很不错的相关系数。"
   ]
  },
  {
   "cell_type": "markdown",
   "metadata": {},
   "source": [
    "##### new"
   ]
  },
  {
   "cell_type": "code",
   "execution_count": 41,
   "metadata": {},
   "outputs": [],
   "source": [
    "train_data = train_data.apply(familys, axis=1)\n",
    "test_data = test_data.apply(familys, axis=1)"
   ]
  },
  {
   "cell_type": "markdown",
   "metadata": {},
   "source": [
    "#### Fare\n",
    "\n",
    "票价分析同年龄分析，划分上使用分位数。本身Fare具有0.26的相关性，也是很高的。"
   ]
  },
  {
   "cell_type": "code",
   "execution_count": 42,
   "metadata": {},
   "outputs": [],
   "source": [
    "fare_data = train_data[['Fare','Survived']].copy()"
   ]
  },
  {
   "cell_type": "code",
   "execution_count": 43,
   "metadata": {},
   "outputs": [
    {
     "data": {
      "text/plain": [
       "<matplotlib.text.Text at 0x7fa84d1fe1d0>"
      ]
     },
     "execution_count": 43,
     "metadata": {},
     "output_type": "execute_result"
    },
    {
     "data": {
      "image/png": "[encoded data removed]",
      "text/plain": [
       "<matplotlib.figure.Figure at 0x7fa84d882e90>"
      ]
     },
     "metadata": {
      "needs_background": "light"
     },
     "output_type": "display_data"
    }
   ],
   "source": [
    "quantile_25 = fare_data.Fare.quantile(0.25)\n",
    "quantile_50 = fare_data.Fare.quantile(0.50)\n",
    "quantile_75 = fare_data.Fare.quantile(0.75)\n",
    "quantile_100 = fare_data.Fare.quantile(0.100)\n",
    "\n",
    "fare_data['Fare_x'] = fare_data.Fare.apply(lambda f:0 if f<=quantile_25 else (1 if f<=quantile_50 else (2 if f<=quantile_75 else 3)))\n",
    "\n",
    "Survived_0 = fare_data.Fare_x[fare_data.Survived==0].value_counts()\n",
    "Survived_1 = fare_data.Fare_x[fare_data.Survived==1].value_counts()\n",
    "df=pd.DataFrame({u'Survived':Survived_1,\n",
    "                 u'Unsurvived':Survived_0,})\n",
    "df.plot(kind='bar', stacked=True)\n",
    "plt.title(u\"pasenger survived status\")\n",
    "plt.xlabel(u\"Fare_x\") \n",
    "plt.ylabel(u\"Count\")"
   ]
  },
  {
   "cell_type": "code",
   "execution_count": 44,
   "metadata": {},
   "outputs": [
    {
     "name": "stdout",
     "output_type": "stream",
     "text": [
      "Fare corr with Survived:0.299356824981\n"
     ]
    }
   ],
   "source": [
    "print 'Fare corr with Survived:'+str(fare_data.Fare_x.corr(fare_data.Survived))"
   ]
  },
  {
   "cell_type": "markdown",
   "metadata": {},
   "source": [
    "能够看到该值略高于原Fare，可以使用。"
   ]
  },
  {
   "cell_type": "markdown",
   "metadata": {},
   "source": [
    "##### new"
   ]
  },
  {
   "cell_type": "code",
   "execution_count": 45,
   "metadata": {},
   "outputs": [],
   "source": [
    "train_data['Fare_x'] = train_data.Fare.apply(lambda f:0 if f<=quantile_25 else (1 if f<=quantile_50 else (2 if f<=quantile_75 else 3)))\n",
    "test_data['Fare_x'] = test_data.Fare.apply(lambda f:0 if f<=quantile_25 else (1 if f<=quantile_50 else (2 if f<=quantile_75 else 3)))"
   ]
  },
  {
   "cell_type": "markdown",
   "metadata": {},
   "source": [
    "#### Cabin\n",
    "\n",
    "由于Cabin存在大量缺失值，且缺失原因不明，因此不能填充它，但是我们可以考虑根据是否缺失这一特点来可视化一下。"
   ]
  },
  {
   "cell_type": "code",
   "execution_count": 46,
   "metadata": {},
   "outputs": [],
   "source": [
    "cabin_data = train_data[['Cabin','Survived']].copy()"
   ]
  },
  {
   "cell_type": "code",
   "execution_count": 47,
   "metadata": {},
   "outputs": [
    {
     "data": {
      "text/plain": [
       "<matplotlib.axes._subplots.AxesSubplot at 0x7fa84ccf3510>"
      ]
     },
     "execution_count": 47,
     "metadata": {},
     "output_type": "execute_result"
    },
    {
     "data": {
      "image/png": "[encoded data removed]",
      "text/plain": [
       "<matplotlib.figure.Figure at 0x7fa84d2081d0>"
      ]
     },
     "metadata": {
      "needs_background": "light"
     },
     "output_type": "display_data"
    }
   ],
   "source": [
    "cabin_data['Has_cabin'] = cabin_data.Cabin.apply(lambda c:0 if pd.isnull(c) else 1)\n",
    "\n",
    "Survived_0 = cabin_data.Has_cabin[cabin_data.Survived==0].value_counts()\n",
    "Survived_1 = cabin_data.Has_cabin[cabin_data.Survived==1].value_counts()\n",
    "df=pd.DataFrame({u'Survived':Survived_1,\n",
    "                 u'Unsurvived':Survived_0,})\n",
    "df.plot(kind='bar', stacked=True)"
   ]
  },
  {
   "cell_type": "markdown",
   "metadata": {},
   "source": [
    "可以看到，具有Cabin值的乘客中，大部分都幸存了，这个不确定原因，但是不妨碍我们使用这一特征。"
   ]
  },
  {
   "cell_type": "markdown",
   "metadata": {},
   "source": [
    "##### new"
   ]
  },
  {
   "cell_type": "code",
   "execution_count": 48,
   "metadata": {},
   "outputs": [],
   "source": [
    "train_data['Has_cabin'] = train_data.Cabin.apply(lambda c:0 if pd.isnull(c) else 1)\n",
    "test_data['Has_cabin'] = test_data.Cabin.apply(lambda c:0 if pd.isnull(c) else 1)"
   ]
  },
  {
   "cell_type": "markdown",
   "metadata": {},
   "source": [
    "#### Embarked\n",
    "\n",
    "这一属性本身具有0.11的相关性，实际考虑可能登船顺序跟船舱位置有关。"
   ]
  },
  {
   "cell_type": "markdown",
   "metadata": {},
   "source": [
    "##### Full"
   ]
  },
  {
   "cell_type": "code",
   "execution_count": 49,
   "metadata": {},
   "outputs": [],
   "source": [
    "train_data.Embarked.fillna(0, inplace=True)\n",
    "test_data.Embarked.fillna(0, inplace=True)"
   ]
  },
  {
   "cell_type": "markdown",
   "metadata": {},
   "source": [
    "##### Dig"
   ]
  },
  {
   "cell_type": "code",
   "execution_count": 50,
   "metadata": {},
   "outputs": [],
   "source": [
    "embarked_data = train_data[['Embarked','Pclass','Survived']].copy()"
   ]
  },
  {
   "cell_type": "code",
   "execution_count": 51,
   "metadata": {},
   "outputs": [
    {
     "data": {
      "text/plain": [
       "<matplotlib.axes._subplots.AxesSubplot at 0x7fa84d19ea50>"
      ]
     },
     "execution_count": 51,
     "metadata": {},
     "output_type": "execute_result"
    },
    {
     "data": {
      "image/png": "[encoded data removed]",
      "text/plain": [
       "<matplotlib.figure.Figure at 0x7fa84d166b50>"
      ]
     },
     "metadata": {
      "needs_background": "light"
     },
     "output_type": "display_data"
    }
   ],
   "source": [
    "Survived_0 = embarked_data.Embarked[embarked_data.Pclass==3][embarked_data.Survived==0].value_counts()\n",
    "Survived_1 = embarked_data.Embarked[embarked_data.Pclass==3][embarked_data.Survived==1].value_counts()\n",
    "df=pd.DataFrame({u'Survived':Survived_1,\n",
    "                 u'Unsurvived':Survived_0,})\n",
    "df.plot(kind='bar', stacked=True)"
   ]
  },
  {
   "cell_type": "markdown",
   "metadata": {},
   "source": [
    "可以看到，数据非常不平衡，因此暂不考虑此字段。"
   ]
  },
  {
   "cell_type": "markdown",
   "metadata": {},
   "source": [
    "### Useless Feature Drop\n",
    "\n",
    "当前字段有："
   ]
  },
  {
   "cell_type": "code",
   "execution_count": 52,
   "metadata": {},
   "outputs": [
    {
     "data": {
      "text/plain": [
       "Index([u'PassengerId', u'Survived', u'Pclass', u'Name', u'Sex', u'Age',\n",
       "       u'SibSp', u'Parch', u'Ticket', u'Fare', u'Cabin', u'Embarked',\n",
       "       u'Family_name', u'Personal_name', u'Title', u'Age_8', u'Is_child',\n",
       "       u'Is_female_pclass12', u'Is_male_pclass23', u'Pclass_x', u'Family',\n",
       "       u'Fare_x', u'Has_cabin'],\n",
       "      dtype='object')"
      ]
     },
     "execution_count": 52,
     "metadata": {},
     "output_type": "execute_result"
    }
   ],
   "source": [
    "train_data.columns"
   ]
  },
  {
   "cell_type": "markdown",
   "metadata": {},
   "source": [
    "#### 丢弃前暂存后续有用的字段"
   ]
  },
  {
   "cell_type": "code",
   "execution_count": 53,
   "metadata": {},
   "outputs": [],
   "source": [
    "target_data = train_data.Survived.copy()\n",
    "passengerId_data = test_data.PassengerId.copy()"
   ]
  },
  {
   "cell_type": "markdown",
   "metadata": {},
   "source": [
    "#### 分析可丢弃的字段\n",
    "\n",
    "1. PassengerId:只在上传kaggle时有用。\n",
    "2. Survived:目标字段需要丢弃。\n",
    "3. Name、Family_name、Personal_name:名字相关。\n",
    "4. Age:使用Age_8、Is_child代替。\n",
    "5. Fare:使用Fare_x代替。\n",
    "6. Cabin:使用Has_cabin代替。\n",
    "7. SibSp、Parch:使用Family代替。\n",
    "8. Ticket:不知道咋用。"
   ]
  },
  {
   "cell_type": "code",
   "execution_count": 54,
   "metadata": {},
   "outputs": [],
   "source": [
    "drop_list = ['PassengerId', 'Name', 'Family_name', 'Personal_name', 'Age', 'Fare', 'Cabin', 'SibSp', 'Parch', 'Ticket']\n",
    "\n",
    "train_data.drop(drop_list, axis=1, inplace=True)\n",
    "test_data.drop(drop_list, axis=1, inplace=True)"
   ]
  },
  {
   "cell_type": "markdown",
   "metadata": {},
   "source": [
    "#### 最终热图"
   ]
  },
  {
   "cell_type": "code",
   "execution_count": 55,
   "metadata": {},
   "outputs": [
    {
     "data": {
      "text/plain": [
       "<matplotlib.axes._subplots.AxesSubplot at 0x7fa8532d2090>"
      ]
     },
     "execution_count": 55,
     "metadata": {},
     "output_type": "execute_result"
    },
    {
     "data": {
      "image/png": "[encoded data removed]",
      "text/plain": [
       "<matplotlib.figure.Figure at 0x7fa84ce2bb90>"
      ]
     },
     "metadata": {
      "needs_background": "light"
     },
     "output_type": "display_data"
    }
   ],
   "source": [
    "plt.figure(figsize=(10,10))\n",
    "train_corr = train_data.corr()\n",
    "sns.heatmap(train_corr, center=0, annot=True)"
   ]
  },
  {
   "cell_type": "markdown",
   "metadata": {},
   "source": [
    "可以看到，Pclass和Pclass_x有0.88的相关性，说明这两个字段保持一次即可，而他们各自与Survived的相关性上Pclass_x更高一些，因此保留Pclass_x，也就是存在特征之间有重叠的信息，这里我们用PCA降维试一下。"
   ]
  },
  {
   "cell_type": "markdown",
   "metadata": {},
   "source": [
    "#### 丢弃Survived"
   ]
  },
  {
   "cell_type": "code",
   "execution_count": 56,
   "metadata": {},
   "outputs": [],
   "source": [
    "train_data.drop(['Survived'], axis=1, inplace=True)"
   ]
  },
  {
   "cell_type": "markdown",
   "metadata": {},
   "source": [
    "## Data Process"
   ]
  },
  {
   "cell_type": "markdown",
   "metadata": {},
   "source": [
    "### PCA"
   ]
  },
  {
   "cell_type": "code",
   "execution_count": 59,
   "metadata": {},
   "outputs": [
    {
     "name": "stdout",
     "output_type": "stream",
     "text": [
      "explained_variance_ratio:[ 0.47546066  0.22798916  0.15387244  0.05432671  0.03209418]\n",
      "sum pca.explained_variance_ratio_:0.943743158063\n"
     ]
    }
   ],
   "source": [
    "pca = PCA(n_components=5).fit(train_data)\n",
    "print 'explained_variance_ratio:'+str(pca.explained_variance_ratio_)\n",
    "print 'sum pca.explained_variance_ratio_:'+str(sum(pca.explained_variance_ratio_))"
   ]
  },
  {
   "cell_type": "code",
   "execution_count": 60,
   "metadata": {},
   "outputs": [],
   "source": [
    "train_data = pd.DataFrame(pca.transform(train_data))\n",
    "test_data = pd.DataFrame(pca.transform(test_data))"
   ]
  },
  {
   "cell_type": "markdown",
   "metadata": {},
   "source": [
    "### Data Split"
   ]
  },
  {
   "cell_type": "code",
   "execution_count": 61,
   "metadata": {},
   "outputs": [],
   "source": [
    "x_train, x_valid, y_train, y_valid = train_test_split(train_data, target_data, test_size=0.2, random_state=6)"
   ]
  },
  {
   "cell_type": "markdown",
   "metadata": {},
   "source": [
    "## Model Build"
   ]
  },
  {
   "cell_type": "markdown",
   "metadata": {},
   "source": [
    "### Define Create Method"
   ]
  },
  {
   "cell_type": "code",
   "execution_count": 102,
   "metadata": {},
   "outputs": [],
   "source": [
    "def xgbc_build(max_depth=3, learning_rate=0.1, n_estimators=100, silent=True, gamma=0, \n",
    "               min_child_weight=1, max_delta_step=0, subsample=1, colsample_bytree=1, \n",
    "               base_score=0.383838383838, random_state=0):\n",
    "    return XGBClassifier(max_depth=max_depth, learning_rate=learning_rate, \n",
    "                         n_estimators=n_estimators, silent=silent, \n",
    "                         gamma=gamma,min_child_weight=min_child_weight, \n",
    "                         max_delta_step=max_delta_step, random_state=random_state,\n",
    "                         subsample=subsample, colsample_bytree=colsample_bytree, \n",
    "                         base_score=base_score)"
   ]
  },
  {
   "cell_type": "markdown",
   "metadata": {},
   "source": [
    "### Define Score Method"
   ]
  },
  {
   "cell_type": "code",
   "execution_count": 103,
   "metadata": {},
   "outputs": [],
   "source": [
    "def score(y_true, y_pred):\n",
    "    return accuracy_score(y_true, y_pred)"
   ]
  },
  {
   "cell_type": "markdown",
   "metadata": {},
   "source": [
    "### Base Model Valid"
   ]
  },
  {
   "cell_type": "code",
   "execution_count": 104,
   "metadata": {},
   "outputs": [
    {
     "name": "stdout",
     "output_type": "stream",
     "text": [
      "Base Model in Valid:0.854748603352\n"
     ]
    }
   ],
   "source": [
    "xgbc = xgbc_build()\n",
    "xgbc.fit(x_train, y_train)\n",
    "y_hat = xgbc.predict(x_valid)\n",
    "print 'Base Model in Valid:'+str(score(y_valid, y_hat))"
   ]
  },
  {
   "cell_type": "markdown",
   "metadata": {},
   "source": [
    "0.860335195531，很不错的准确率了，下面看看参数优化后对准确率的影响吧。"
   ]
  },
  {
   "cell_type": "markdown",
   "metadata": {},
   "source": [
    "## Parameters Opt"
   ]
  },
  {
   "cell_type": "markdown",
   "metadata": {},
   "source": [
    "### max_depth & min_child_weight"
   ]
  },
  {
   "cell_type": "code",
   "execution_count": 65,
   "metadata": {},
   "outputs": [
    {
     "name": "stdout",
     "output_type": "stream",
     "text": [
      "0.817415730337\n",
      "{'max_depth': 3, 'min_child_weight': 0.5}\n",
      "Base Model in Valid:0.849162011173\n"
     ]
    }
   ],
   "source": [
    "params = {'max_depth':range(1,10), 'min_child_weight':[0.5,0.6,0.7,0.8,0.9,1]}\n",
    "\n",
    "xgbc_opt = xgbc_build()\n",
    "\n",
    "gs = GridSearchCV(xgbc_opt, params)\n",
    "gs.fit(x_train, y_train)\n",
    "\n",
    "print gs.best_score_\n",
    "print gs.best_params_\n",
    "\n",
    "y_hat_opt = gs.predict(x_valid)\n",
    "print 'Base Model in Valid:'+str(score(y_valid, y_hat_opt))"
   ]
  },
  {
   "cell_type": "markdown",
   "metadata": {},
   "source": [
    "### gamma"
   ]
  },
  {
   "cell_type": "code",
   "execution_count": 66,
   "metadata": {},
   "outputs": [
    {
     "name": "stdout",
     "output_type": "stream",
     "text": [
      "0.797752808989\n",
      "{'gamma': 0.3}\n",
      "Base Model in Valid:0.832402234637\n"
     ]
    }
   ],
   "source": [
    "params = {'gamma':[0,0.1,0.2,0.3,0.4,0.5]}\n",
    "\n",
    "xgbc_opt = xgbc_build(max_depth=7, min_child_weight=0.8)\n",
    "\n",
    "gs = GridSearchCV(xgbc_opt, params)\n",
    "gs.fit(x_train, y_train)\n",
    "\n",
    "print gs.best_score_\n",
    "print gs.best_params_\n",
    "\n",
    "y_hat_opt = gs.predict(x_valid)\n",
    "print 'Base Model in Valid:'+str(score(y_valid, y_hat_opt))"
   ]
  },
  {
   "cell_type": "markdown",
   "metadata": {},
   "source": [
    "过拟合了，因此gamma还是使用0。"
   ]
  },
  {
   "cell_type": "markdown",
   "metadata": {},
   "source": [
    "### subsample & colsample_bytree"
   ]
  },
  {
   "cell_type": "code",
   "execution_count": 67,
   "metadata": {},
   "outputs": [
    {
     "name": "stdout",
     "output_type": "stream",
     "text": [
      "0.810393258427\n",
      "{'subsample': 0.9, 'colsample_bytree': 0.6}\n",
      "Base Model in Valid:0.821229050279\n"
     ]
    }
   ],
   "source": [
    "params = {'subsample': [0.6, 0.7, 0.8, 0.9, 1], 'colsample_bytree': [0.6, 0.7, 0.8, 0.9, 1]}\n",
    "\n",
    "xgbc_opt = xgbc_build(max_depth=7, min_child_weight=0.8)\n",
    "\n",
    "gs = GridSearchCV(xgbc_opt, params)\n",
    "gs.fit(x_train, y_train)\n",
    "\n",
    "print gs.best_score_\n",
    "print gs.best_params_\n",
    "\n",
    "y_hat_opt = gs.predict(x_valid)\n",
    "print 'Base Model in Valid:'+str(score(y_valid, y_hat_opt))"
   ]
  },
  {
   "cell_type": "markdown",
   "metadata": {},
   "source": [
    "依然有过拟合的问题。"
   ]
  },
  {
   "cell_type": "markdown",
   "metadata": {},
   "source": [
    "### learning_rate & n_estimators"
   ]
  },
  {
   "cell_type": "code",
   "execution_count": 68,
   "metadata": {},
   "outputs": [
    {
     "name": "stdout",
     "output_type": "stream",
     "text": [
      "0.811797752809\n",
      "{'n_estimators': 80, 'learning_rate': 0.08}\n",
      "Base Model in Valid:0.837988826816\n"
     ]
    }
   ],
   "source": [
    "params = {'learning_rate': [0.08,0.09,0.1,0.11,0.12], 'n_estimators': range(50,160,10)}\n",
    "\n",
    "xgbc_opt = xgbc_build(max_depth=5, min_child_weight=0.8)\n",
    "\n",
    "gs = GridSearchCV(xgbc_opt, params)\n",
    "gs.fit(x_train, y_train)\n",
    "\n",
    "print gs.best_score_\n",
    "print gs.best_params_\n",
    "\n",
    "y_hat_opt = gs.predict(x_valid)\n",
    "print 'Base Model in Valid:'+str(score(y_valid, y_hat_opt))"
   ]
  },
  {
   "cell_type": "markdown",
   "metadata": {},
   "source": [
    "### Final Model"
   ]
  },
  {
   "cell_type": "code",
   "execution_count": 69,
   "metadata": {},
   "outputs": [
    {
     "name": "stdout",
     "output_type": "stream",
     "text": [
      "Param Opt Model in Valid:0.821229050279\n"
     ]
    }
   ],
   "source": [
    "xgbc_final = xgbc_build(max_depth=5, min_child_weight=0.8, n_estimators=130)\n",
    "xgbc_final.fit(x_train, y_train)\n",
    "y_hat_final = xgbc_final.predict(x_valid)\n",
    "print 'Param Opt Model in Valid:'+str(score(y_valid, y_hat_final))"
   ]
  },
  {
   "cell_type": "markdown",
   "metadata": {},
   "source": [
    "## Else Optimization Method\n",
    "\n",
    "先来看看错误case的情况。"
   ]
  },
  {
   "cell_type": "code",
   "execution_count": 70,
   "metadata": {},
   "outputs": [
    {
     "data": {
      "text/html": [
       "<div>\n",
       "<style>\n",
       "    .dataframe thead tr:only-child th {\n",
       "        text-align: right;\n",
       "    }\n",
       "\n",
       "    .dataframe thead th {\n",
       "        text-align: left;\n",
       "    }\n",
       "\n",
       "    .dataframe tbody tr th {\n",
       "        vertical-align: top;\n",
       "    }\n",
       "</style>\n",
       "<table border=\"1\" class=\"dataframe\">\n",
       "  <thead>\n",
       "    <tr style=\"text-align: right;\">\n",
       "      <th></th>\n",
       "      <th>0</th>\n",
       "      <th>1</th>\n",
       "      <th>2</th>\n",
       "      <th>3</th>\n",
       "      <th>4</th>\n",
       "      <th>Survived</th>\n",
       "      <th>Pred_survived</th>\n",
       "    </tr>\n",
       "  </thead>\n",
       "  <tbody>\n",
       "    <tr>\n",
       "      <th>17</th>\n",
       "      <td>-1.251401</td>\n",
       "      <td>0.723882</td>\n",
       "      <td>0.692992</td>\n",
       "      <td>-0.209069</td>\n",
       "      <td>-0.566460</td>\n",
       "      <td>1</td>\n",
       "      <td>0</td>\n",
       "    </tr>\n",
       "    <tr>\n",
       "      <th>169</th>\n",
       "      <td>-1.086604</td>\n",
       "      <td>-0.231844</td>\n",
       "      <td>-0.467992</td>\n",
       "      <td>-0.078744</td>\n",
       "      <td>-0.886281</td>\n",
       "      <td>0</td>\n",
       "      <td>1</td>\n",
       "    </tr>\n",
       "    <tr>\n",
       "      <th>510</th>\n",
       "      <td>-1.405714</td>\n",
       "      <td>-0.563567</td>\n",
       "      <td>1.721321</td>\n",
       "      <td>-0.172742</td>\n",
       "      <td>1.239934</td>\n",
       "      <td>1</td>\n",
       "      <td>0</td>\n",
       "    </tr>\n",
       "    <tr>\n",
       "      <th>79</th>\n",
       "      <td>0.748680</td>\n",
       "      <td>-0.456512</td>\n",
       "      <td>1.001667</td>\n",
       "      <td>-0.216469</td>\n",
       "      <td>0.063908</td>\n",
       "      <td>1</td>\n",
       "      <td>0</td>\n",
       "    </tr>\n",
       "    <tr>\n",
       "      <th>621</th>\n",
       "      <td>-0.748902</td>\n",
       "      <td>2.136564</td>\n",
       "      <td>-1.946663</td>\n",
       "      <td>-0.244777</td>\n",
       "      <td>-0.429718</td>\n",
       "      <td>1</td>\n",
       "      <td>0</td>\n",
       "    </tr>\n",
       "  </tbody>\n",
       "</table>\n",
       "</div>"
      ],
      "text/plain": [
       "            0         1         2         3         4  Survived  Pred_survived\n",
       "17  -1.251401  0.723882  0.692992 -0.209069 -0.566460         1              0\n",
       "169 -1.086604 -0.231844 -0.467992 -0.078744 -0.886281         0              1\n",
       "510 -1.405714 -0.563567  1.721321 -0.172742  1.239934         1              0\n",
       "79   0.748680 -0.456512  1.001667 -0.216469  0.063908         1              0\n",
       "621 -0.748902  2.136564 -1.946663 -0.244777 -0.429718         1              0"
      ]
     },
     "execution_count": 70,
     "metadata": {},
     "output_type": "execute_result"
    }
   ],
   "source": [
    "bad_case_index = [True if y==1 else False for y in y_valid+y_hat_final]\n",
    "valid_data = x_valid.copy()\n",
    "valid_data['Survived'] = y_valid\n",
    "valid_data['Pred_survived'] = y_hat_opt\n",
    "valid_data[bad_case_index][:5]"
   ]
  },
  {
   "cell_type": "markdown",
   "metadata": {},
   "source": [
    "可以看到，大部分划分错误的数据都是非儿童、不是pclass为1,2的女性等结果为幸存，但是预测为没有幸存，也就是说似乎还有一个隐藏的属性会导致乘客幸存但是我们的数据中没有，因此漏掉了很多数据，嗯嗯嗯，到底是什么呢。"
   ]
  },
  {
   "cell_type": "markdown",
   "metadata": {},
   "source": [
    "### 多模型融合\n",
    "\n",
    "使用不同的划分数据集训练多个模型，提高模型的泛化能力。"
   ]
  },
  {
   "cell_type": "code",
   "execution_count": 105,
   "metadata": {},
   "outputs": [
    {
     "name": "stdout",
     "output_type": "stream",
     "text": [
      "Drop 0, and xgb model 0 score:0.854748603352\n",
      "Drop 1, and xgb model 1 score:0.854748603352\n",
      "Drop 2, and xgb model 2 score:0.854748603352\n",
      "Drop 3, and xgb model 3 score:0.854748603352\n",
      "Drop 4, and xgb model 4 score:0.854748603352\n"
     ]
    }
   ],
   "source": [
    "xgbcs = []\n",
    "for i in range(len(train_data.columns)):\n",
    "    tmp = train_data#.drop([train_data.columns[i]], axis=1)\n",
    "    x, x_, y, y_ = train_test_split(tmp, target_data, test_size=0.2, random_state=6)\n",
    "    xgb = xgbc_build(random_state=i)\n",
    "    xgb.fit(x, y)#, early_stopping_rounds=30, eval_set=[(x_valid,y_valid)], verbose=True)\n",
    "    y_hat = xgb.predict(x_)\n",
    "    print 'Drop '+str(train_data.columns[i])+', and xgb model '+str(i)+' score:'+str(score(y_, y_hat))\n",
    "    xgbcs.append(xgb)"
   ]
  },
  {
   "cell_type": "code",
   "execution_count": 106,
   "metadata": {},
   "outputs": [],
   "source": [
    "def pred_x(x):\n",
    "    ys = [0]*len(x)\n",
    "    for i in range(len(xgbcs)):\n",
    "        xgb = xgbcs[i]\n",
    "        tmp = x#.drop([x.columns[i]], axis=1)\n",
    "        y_hat = xgb.predict(tmp)\n",
    "        ys = [y_hat[i]+ys[i] for i in range(len(x))]\n",
    "    return [1 if y>len(xgbcs)/2. else 0 for y in ys]"
   ]
  },
  {
   "cell_type": "code",
   "execution_count": 107,
   "metadata": {},
   "outputs": [
    {
     "name": "stdout",
     "output_type": "stream",
     "text": [
      "0.854748603352\n"
     ]
    }
   ],
   "source": [
    "y_hat_multi = pred_x(x_valid)\n",
    "print score(y_hat_multi, y_valid)"
   ]
  },
  {
   "cell_type": "markdown",
   "metadata": {},
   "source": [
    "## 记录\n",
    "\n",
    "1. 第一版：模型在valid上的得分最终为0.843575418994。\n",
    "2. 第二版：对base_score修正为0.383838，在valid上最终得分为0.849162011173。\n",
    "3. 第三版：增加Is_youngman字段，在valid上最终得分为0.793296089385，说明这一特征的加入起到的负面影响更大，先去掉吧。\n",
    "4. 第四版：增加了多模型融合，对测试集、验证集有提升，但是提交kaggle得分没变。\n",
    "5. 第五版：增加PCA，目前应该是存在数据维度较高问题的。"
   ]
  },
  {
   "cell_type": "markdown",
   "metadata": {},
   "source": [
    "## Submit"
   ]
  },
  {
   "cell_type": "markdown",
   "metadata": {},
   "source": [
    "### 第一次提交"
   ]
  },
  {
   "cell_type": "code",
   "execution_count": 82,
   "metadata": {},
   "outputs": [],
   "source": [
    "y_test_hat = xgbc.predict(test_data)\n",
    "y_test_hat_final = xgbc_final.predict(test_data)\n",
    "y_test_hat_multi = pred_x(test_data)"
   ]
  },
  {
   "cell_type": "code",
   "execution_count": 83,
   "metadata": {},
   "outputs": [],
   "source": [
    "pd.DataFrame({'PassengerId':list(passengerId_data), 'Survived':y_test_hat}).to_csv('submission_base.csv', index=False)\n",
    "pd.DataFrame({'PassengerId':list(passengerId_data), 'Survived':y_test_hat_final}).to_csv('submission_opt.csv', index=False)\n",
    "pd.DataFrame({'PassengerId':list(passengerId_data), 'Survived':y_test_hat_multi}).to_csv('submission_multi.csv', index=False)"
   ]
  },
  {
   "cell_type": "markdown",
   "metadata": {},
   "source": [
    "#### 得分\n",
    "\n",
    "排名7288 in 9,879 teams，得分0.76555。"
   ]
  }
 ],
 "metadata": {
  "kernelspec": {
   "display_name": "Python 2",
   "language": "python",
   "name": "python2"
  },
  "language_info": {
   "codemirror_mode": {
    "name": "ipython",
    "version": 2
   },
   "file_extension": ".py",
   "mimetype": "text/x-python",
   "name": "python",
   "nbconvert_exporter": "python",
   "pygments_lexer": "ipython2",
   "version": "2.7.13"
  }
 },
 "nbformat": 4,
 "nbformat_minor": 2
}
