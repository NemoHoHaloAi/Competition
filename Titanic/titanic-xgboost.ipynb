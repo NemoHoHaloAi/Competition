{
 "cells": [
  {
   "cell_type": "markdown",
   "metadata": {},
   "source": [
    "# Titanic with Xgboost"
   ]
  },
  {
   "cell_type": "markdown",
   "metadata": {},
   "source": [
    "## Base Process"
   ]
  },
  {
   "cell_type": "markdown",
   "metadata": {},
   "source": [
    "1. Environment\n",
    "2. Data Input\n",
    "3. Feature Engineering\n",
    "4. Model Build\n",
    "5. Parameters Opt\n",
    "6. Else Optimization Method\n",
    "7. Submit"
   ]
  },
  {
   "cell_type": "markdown",
   "metadata": {},
   "source": [
    "## Focus Point"
   ]
  },
  {
   "cell_type": "markdown",
   "metadata": {},
   "source": [
    "1. Age属性不使用现在的拟合方式，而是根据名称中的『Mr』『Mrs』『Miss』等的平均值进行填充。\n",
    "2. Age不做成一个连续值属性，而是使用一个步长进行离散化，变成离散的类目feature。\n",
    "3. Cabin再细化一些，对于有记录的Cabin属性，我们将其分为前面的字母部分(我猜是位置和船层之类的信息) 和 后面的数字部分(应该是房间号，有意思的事情是，如果你仔细看看原始数据，你会发现，这个值大的情况下，似乎获救的可能性高一些)。\n",
    "4. Pclass和Sex俩太重要了，我们试着用它们去组出一个组合属性来试试，这也是另外一种程度的细化。\n",
    "5. 单加一个Child字段，Age<=12的，设为1，其余为0(你去看看数据，确实小盆友优先程度很高啊)\n",
    "6. 如果名字里面有『Mrs』，而Parch>1的，我们猜测她可能是一个母亲，应该获救的概率也会提高，因此可以多加一个Mother字段，此种情况下设为1，其余情况下设为0\n",
    "7. 登船港口可以考虑先去掉试试(Q和C本来就没权重，S有点诡异)\n",
    "8. 把堂兄弟/兄妹 和 Parch 还有自己 个数加在一起组一个Family_size字段(考虑到大家族可能对最后的结果有影响)\n",
    "9. Name是一个我们一直没有触碰的属性，我们可以做一些简单的处理，比如说男性中带某些字眼的(‘Capt’, ‘Don’, ‘Major’, ‘Sir’)可以统一到一个Title，女性也一样。"
   ]
  },
  {
   "cell_type": "markdown",
   "metadata": {},
   "source": [
    "## Enviroment"
   ]
  },
  {
   "cell_type": "code",
   "execution_count": 1,
   "metadata": {},
   "outputs": [
    {
     "name": "stderr",
     "output_type": "stream",
     "text": [
      "/home/kael/Software/anaconda2/envs/python2/lib/python2.7/site-packages/sklearn/cross_validation.py:41: DeprecationWarning: This module was deprecated in version 0.18 in favor of the model_selection module into which all the refactored classes and functions are moved. Also note that the interface of the new CV iterators are different from that of this module. This module will be removed in 0.20.\n",
      "  \"This module will be removed in 0.20.\", DeprecationWarning)\n"
     ]
    }
   ],
   "source": [
    "#coding:utf-8\n",
    "## 导入模块以及环境设置\n",
    "import os,sys,time\n",
    "\n",
    "import pandas as pd\n",
    "import numpy as np\n",
    "\n",
    "import sklearn.preprocessing as preprocessing\n",
    "from sklearn.preprocessing import OneHotEncoder, LabelEncoder\n",
    "from sklearn.cross_validation import train_test_split\n",
    "from sklearn.metrics import accuracy_score\n",
    "from sklearn.model_selection import GridSearchCV\n",
    "from sklearn.decomposition import PCA\n",
    "from sklearn import feature_selection\n",
    "from sklearn import model_selection\n",
    "\n",
    "from sklearn import svm, tree, linear_model, neighbors, naive_bayes, ensemble, discriminant_analysis, gaussian_process\n",
    "import xgboost as xgb\n",
    "from xgboost import XGBClassifier\n",
    "\n",
    "import matplotlib.pyplot as plt\n",
    "import matplotlib.pylab as pylab\n",
    "import seaborn as sns\n",
    "\n",
    "%matplotlib inline\n",
    "pylab.rcParams['figure.figsize'] = 12,8\n",
    "sns.set(style=\"darkgrid\")\n",
    "sns.set_context('talk')"
   ]
  },
  {
   "cell_type": "markdown",
   "metadata": {},
   "source": [
    "## Data Input"
   ]
  },
  {
   "cell_type": "code",
   "execution_count": 2,
   "metadata": {},
   "outputs": [],
   "source": [
    "train_data = pd.read_csv('train.csv')\n",
    "test_data = pd.read_csv('test.csv')"
   ]
  },
  {
   "cell_type": "code",
   "execution_count": 3,
   "metadata": {},
   "outputs": [
    {
     "name": "stdout",
     "output_type": "stream",
     "text": [
      "<class 'pandas.core.frame.DataFrame'>\n",
      "RangeIndex: 891 entries, 0 to 890\n",
      "Data columns (total 12 columns):\n",
      "PassengerId    891 non-null int64\n",
      "Survived       891 non-null int64\n",
      "Pclass         891 non-null int64\n",
      "Name           891 non-null object\n",
      "Sex            891 non-null object\n",
      "Age            714 non-null float64\n",
      "SibSp          891 non-null int64\n",
      "Parch          891 non-null int64\n",
      "Ticket         891 non-null object\n",
      "Fare           891 non-null float64\n",
      "Cabin          204 non-null object\n",
      "Embarked       889 non-null object\n",
      "dtypes: float64(2), int64(5), object(5)\n",
      "memory usage: 83.6+ KB\n",
      "None\n",
      "****************************************************************************************************\n",
      "<class 'pandas.core.frame.DataFrame'>\n",
      "RangeIndex: 418 entries, 0 to 417\n",
      "Data columns (total 11 columns):\n",
      "PassengerId    418 non-null int64\n",
      "Pclass         418 non-null int64\n",
      "Name           418 non-null object\n",
      "Sex            418 non-null object\n",
      "Age            332 non-null float64\n",
      "SibSp          418 non-null int64\n",
      "Parch          418 non-null int64\n",
      "Ticket         418 non-null object\n",
      "Fare           417 non-null float64\n",
      "Cabin          91 non-null object\n",
      "Embarked       418 non-null object\n",
      "dtypes: float64(2), int64(4), object(5)\n",
      "memory usage: 36.0+ KB\n",
      "None\n"
     ]
    }
   ],
   "source": [
    "print train_data.info()\n",
    "print '*'*100\n",
    "print test_data.info()"
   ]
  },
  {
   "cell_type": "markdown",
   "metadata": {},
   "source": [
    "能够看到Age、Embarked、Fare字段有少量缺失，Cabin字段大量缺失，需要关注一下。"
   ]
  },
  {
   "cell_type": "markdown",
   "metadata": {},
   "source": [
    "## Feature Engineering"
   ]
  },
  {
   "cell_type": "markdown",
   "metadata": {},
   "source": [
    "### Data Analysis、Dig、Full、New\n",
    "\n",
    "简单过滤一下能够得到以下信息：\n",
    "1. PassengerId基本没用，这个是用于后期test数据检验的，需要后面drop掉。\n",
    "2. Survived是目标字段。\n",
    "3. Pclass、Sex、Age是三个最直接的可以直接用于分析的字段。\n",
    "4. Age由于是数值型，但是我们数据量较少，考虑离散化。\n",
    "5. Name可以根据tital提取出跟年龄相关的数据。\n",
    "6. SibSp、Parch的作用不敢肯定，表面看有关系，具体要看可视化的结果。\n",
    "7. Ticket作为票号，规律不知，而且不是纯数值。\n",
    "8. Fare可以作为Pclass的补充，生成新字段。\n",
    "9. Cabin缺失很多。\n",
    "10. Embarked可能影响了上船后人们的位置，比如后上船的人可能更靠近逃生口？只是猜测。\n",
    "\n",
    "总之，每个字段都需要分析、可视化后，观察跟Survived的关系来决定该字段是直接使用，还是挖掘、跟别的字段组合后使用。"
   ]
  },
  {
   "cell_type": "code",
   "execution_count": 4,
   "metadata": {},
   "outputs": [
    {
     "name": "stdout",
     "output_type": "stream",
     "text": [
      "幸存/总人数：0.383838383838\n"
     ]
    }
   ],
   "source": [
    "survived_ratio = 1.*len(train_data[train_data.Survived==1])/len(train_data)\n",
    "print '幸存/总人数：'+str(survived_ratio)"
   ]
  },
  {
   "cell_type": "code",
   "execution_count": 5,
   "metadata": {},
   "outputs": [
    {
     "data": {
      "text/plain": [
       "<matplotlib.axes._subplots.AxesSubplot at 0x7f65e7eb9790>"
      ]
     },
     "execution_count": 5,
     "metadata": {},
     "output_type": "execute_result"
    },
    {
     "data": {
      "image/png": "[encoded data removed]",
      "text/plain": [
       "<matplotlib.figure.Figure at 0x7f65e7eda610>"
      ]
     },
     "metadata": {
      "needs_background": "light"
     },
     "output_type": "display_data"
    }
   ],
   "source": [
    "plt.figure(figsize=(10,10))\n",
    "train_corr = train_data.corr()\n",
    "sns.heatmap(train_corr, center=0, annot=True)"
   ]
  },
  {
   "cell_type": "markdown",
   "metadata": {},
   "source": [
    "可以看到PassengerId跟其他字段均没有任何联系，这个就不需要分析了。"
   ]
  },
  {
   "cell_type": "markdown",
   "metadata": {},
   "source": [
    "#### Name\n",
    "分割FamilyName、PersonalName和Title\n",
    "\n",
    "分割后的好处是可以结合SibSp、Parch来将一些数据作为一个Family整合，也方便后续其他字段集合Name分析。"
   ]
  },
  {
   "cell_type": "markdown",
   "metadata": {},
   "source": [
    "##### new"
   ]
  },
  {
   "cell_type": "code",
   "execution_count": 6,
   "metadata": {},
   "outputs": [],
   "source": [
    "train_data['Family_name'] = train_data.Name.apply(lambda n:(n.split(',')[0].strip()))\n",
    "train_data['Personal_name'] = train_data.Name.apply(lambda n:(n.split(',')[1].split('.')[1].strip()))\n",
    "train_data['Title'] = train_data.Name.apply(lambda n:(n.split(',')[1].split('.')[0].strip()))\n",
    "\n",
    "test_data['Family_name'] = test_data.Name.apply(lambda n:(n.split(',')[0].strip()))\n",
    "test_data['Personal_name'] = test_data.Name.apply(lambda n:(n.split(',')[1].split('.')[1].strip()))\n",
    "test_data['Title'] = test_data.Name.apply(lambda n:(n.split(',')[1].split('.')[0].strip()))"
   ]
  },
  {
   "cell_type": "markdown",
   "metadata": {},
   "source": [
    "#### Age\n",
    "\n",
    "1. 该字段有一定缺失值。\n",
    "2. Age的影响在于两点：年幼年长的或许可以优先逃生、年轻力壮的生存能力更强。"
   ]
  },
  {
   "cell_type": "markdown",
   "metadata": {},
   "source": [
    "##### Full\n",
    "\n",
    "考虑从Title中获取，用具有同一个Title的其他乘客的平均值设置。"
   ]
  },
  {
   "cell_type": "code",
   "execution_count": 7,
   "metadata": {},
   "outputs": [],
   "source": [
    "train_age_title_map = dict(train_data.groupby(by='Title')['Age'].mean().fillna(20))\n",
    "test_age_title_map = dict(test_data.groupby(by='Title')['Age'].mean().fillna(20))"
   ]
  },
  {
   "cell_type": "code",
   "execution_count": 8,
   "metadata": {},
   "outputs": [],
   "source": [
    "def train_full_age(row):\n",
    "    row['Age'] = row['Age'] if not pd.isnull(row['Age']) else train_age_title_map[row['Title']]\n",
    "    return row\n",
    "\n",
    "def test_full_age(row):\n",
    "    row['Age'] = row['Age'] if not pd.isnull(row['Age']) else test_age_title_map[row['Title']]\n",
    "    return row"
   ]
  },
  {
   "cell_type": "code",
   "execution_count": 9,
   "metadata": {},
   "outputs": [],
   "source": [
    "train_data = train_data.apply(train_full_age, axis=1)\n",
    "test_data = test_data.apply(test_full_age, axis=1)"
   ]
  },
  {
   "cell_type": "code",
   "execution_count": 10,
   "metadata": {},
   "outputs": [
    {
     "name": "stdout",
     "output_type": "stream",
     "text": [
      "train data Age has null:False,test data Age has null:False\n"
     ]
    }
   ],
   "source": [
    "print 'train data Age has null:'+str(train_data.Age.hasnans)+',test data Age has null:'+str(test_data.Age.hasnans)"
   ]
  },
  {
   "cell_type": "markdown",
   "metadata": {},
   "source": [
    "##### Dig"
   ]
  },
  {
   "cell_type": "code",
   "execution_count": 11,
   "metadata": {},
   "outputs": [],
   "source": [
    "age_data = train_data[['Age','Survived', 'Sex']].copy()"
   ]
  },
  {
   "cell_type": "code",
   "execution_count": 12,
   "metadata": {},
   "outputs": [],
   "source": [
    "age_data['Age_3'] = age_data.Age.apply(lambda a:int(a/3))\n",
    "age_data['Age_5'] = age_data.Age.apply(lambda a:int(a/5))\n",
    "age_data['Age_8'] = age_data.Age.apply(lambda a:int(a/8))\n",
    "age_data['Age_10'] = age_data.Age.apply(lambda a:int(a/10))\n",
    "age_data['Age_15'] = age_data.Age.apply(lambda a:int(a/15))\n",
    "age_data['Age_20'] = age_data.Age.apply(lambda a:int(a/20))\n",
    "# 儿童-6、少年7-14、青年15-35、中年36-60、老年61-\n",
    "age_data['Age_x'] = age_data.Age.apply(lambda a:0 if a<=6 else (1 if a<=14 else (2 if a<=35 else (3 if a<=60 else 4))))\n",
    "age_data['Age_child'] = age_data.Age.apply(lambda a:0 if a<=6 else 1)"
   ]
  },
  {
   "cell_type": "code",
   "execution_count": 13,
   "metadata": {},
   "outputs": [
    {
     "data": {
      "text/plain": [
       "<matplotlib.axes._subplots.AxesSubplot at 0x7f65e46f7ad0>"
      ]
     },
     "execution_count": 13,
     "metadata": {},
     "output_type": "execute_result"
    },
    {
     "data": {
      "image/png": "[encoded data removed]",
      "text/plain": [
       "<matplotlib.figure.Figure at 0x7f65e472ad50>"
      ]
     },
     "metadata": {
      "needs_background": "light"
     },
     "output_type": "display_data"
    }
   ],
   "source": [
    "plt.figure(figsize=(10,4))\n",
    "age_corr = age_data.drop(['Sex'],axis=1).corrwith(age_data.Survived)\n",
    "age_corr.plot(kind='bar')"
   ]
  },
  {
   "cell_type": "markdown",
   "metadata": {},
   "source": [
    "从相关性来看，最高的是Age_child，也就是是否是儿童，其次是Age_8，按照步长为8划分的年龄段，均不到-0.2。\n",
    "\n",
    "尝试加入性别再看看。"
   ]
  },
  {
   "cell_type": "code",
   "execution_count": 14,
   "metadata": {},
   "outputs": [
    {
     "data": {
      "text/plain": [
       "<matplotlib.axes._subplots.AxesSubplot at 0x7f65dfbc0d50>"
      ]
     },
     "execution_count": 14,
     "metadata": {},
     "output_type": "execute_result"
    },
    {
     "data": {
      "image/png": "[encoded data removed]",
      "text/plain": [
       "<matplotlib.figure.Figure at 0x7f65dfbc0590>"
      ]
     },
     "metadata": {
      "needs_background": "light"
     },
     "output_type": "display_data"
    }
   ],
   "source": [
    "def is_youngman(row):\n",
    "    row['Is_youngman'] = 1 if row['Age_8']>=2 and row['Age_8']<=6 and row['Sex']=='male' else 0\n",
    "    return row\n",
    "age_data = age_data.apply(is_youngman, axis=1)\n",
    "Survived_0 = age_data.Is_youngman[age_data.Survived == 0].value_counts()\n",
    "Survived_1 = age_data.Is_youngman[age_data.Survived == 1].value_counts()\n",
    "df=pd.DataFrame({u'Survived':Survived_1, u'Unsurvived':Survived_0})\n",
    "df.plot(kind='bar', stacked=True)"
   ]
  },
  {
   "cell_type": "markdown",
   "metadata": {},
   "source": [
    "明显看到这一属性还是很有用的，大大提升了男性的幸存率，看看相关系数。"
   ]
  },
  {
   "cell_type": "code",
   "execution_count": 15,
   "metadata": {},
   "outputs": [
    {
     "name": "stdout",
     "output_type": "stream",
     "text": [
      "Is_youngman corr with Survived:-0.516985258962\n"
     ]
    }
   ],
   "source": [
    "print 'Is_youngman corr with Survived:'+str(age_data.Is_youngman.corr(age_data.Survived))"
   ]
  },
  {
   "cell_type": "markdown",
   "metadata": {},
   "source": [
    "##### new"
   ]
  },
  {
   "cell_type": "code",
   "execution_count": 16,
   "metadata": {},
   "outputs": [],
   "source": [
    "train_data['Age_8'] = train_data.Age.apply(lambda a:int(a/8))\n",
    "test_data['Age_8'] = test_data.Age.apply(lambda a:int(a/8))\n",
    "\n",
    "train_data['Is_child'] =train_data.Age.apply(lambda a:1 if a<=6 else 0)\n",
    "test_data['Is_child'] = test_data.Age.apply(lambda a:1 if a<=6 else 0)\n",
    "\n",
    "train_data = train_data.apply(is_youngman, axis=1)\n",
    "test_data = test_data.apply(is_youngman, axis=1)"
   ]
  },
  {
   "cell_type": "markdown",
   "metadata": {},
   "source": [
    "#### Sex\n",
    "\n",
    "毫无疑问，性别是一个非常重要的属性，并且它是完成的，没有nan值，nice。\n",
    "\n",
    "PS:0 for male, 1 for female"
   ]
  },
  {
   "cell_type": "code",
   "execution_count": 17,
   "metadata": {},
   "outputs": [],
   "source": [
    "sex_data = train_data[['Sex','Pclass','Survived']].copy()"
   ]
  },
  {
   "cell_type": "markdown",
   "metadata": {},
   "source": [
    "##### Dig"
   ]
  },
  {
   "cell_type": "code",
   "execution_count": 18,
   "metadata": {},
   "outputs": [
    {
     "data": {
      "text/plain": [
       "<matplotlib.text.Text at 0x7f65df9d6890>"
      ]
     },
     "execution_count": 18,
     "metadata": {},
     "output_type": "execute_result"
    },
    {
     "data": {
      "image/png": "[encoded data removed]",
      "text/plain": [
       "<matplotlib.figure.Figure at 0x7f65e400b510>"
      ]
     },
     "metadata": {
      "needs_background": "light"
     },
     "output_type": "display_data"
    }
   ],
   "source": [
    "Survived_0 = sex_data.Sex[sex_data.Survived == 0].value_counts()\n",
    "Survived_1 = sex_data.Sex[sex_data.Survived == 1].value_counts()\n",
    "df=pd.DataFrame({u'Survived':Survived_1, u'Unsurvived':Survived_0})\n",
    "df.plot(kind='bar', stacked=True)\n",
    "plt.title(u\"pasenger survived status\")\n",
    "plt.xlabel(u\"Sex\") \n",
    "plt.ylabel(u\"Count\") "
   ]
  },
  {
   "cell_type": "markdown",
   "metadata": {},
   "source": [
    "可以看到，女性幸存率远远高于男性。\n",
    "\n",
    "结合Pclass来看呢。"
   ]
  },
  {
   "cell_type": "code",
   "execution_count": 19,
   "metadata": {},
   "outputs": [
    {
     "data": {
      "text/plain": [
       "<matplotlib.text.Text at 0x7f65df930d90>"
      ]
     },
     "execution_count": 19,
     "metadata": {},
     "output_type": "execute_result"
    },
    {
     "data": {
      "image/png": "[encoded data removed]",
      "text/plain": [
       "<matplotlib.figure.Figure at 0x7f65dfa65bd0>"
      ]
     },
     "metadata": {
      "needs_background": "light"
     },
     "output_type": "display_data"
    }
   ],
   "source": [
    "Survived_0_pclass1 = sex_data.Sex[sex_data.Pclass==1][sex_data.Survived==0].value_counts()\n",
    "Survived_0_pclass2 = sex_data.Sex[sex_data.Pclass==2][sex_data.Survived==0].value_counts()\n",
    "Survived_0_pclass3 = sex_data.Sex[sex_data.Pclass==3][sex_data.Survived==0].value_counts()\n",
    "Survived_1_pclass1 = sex_data.Sex[sex_data.Pclass==1][sex_data.Survived==1].value_counts()\n",
    "Survived_1_pclass2 = sex_data.Sex[sex_data.Pclass==2][sex_data.Survived==1].value_counts()\n",
    "Survived_1_pclass3 = sex_data.Sex[sex_data.Pclass==3][sex_data.Survived==1].value_counts()\n",
    "df=pd.DataFrame({u'Survived:pclass==1':Survived_1_pclass1,\n",
    "                 u'Survived:pclass==2':Survived_1_pclass2,\n",
    "                 u'Survived:pclass==3':Survived_1_pclass3,\n",
    "                 u'Unsurvived:pclass==1':Survived_0_pclass1,\n",
    "                 u'Unsurvived:pclass==2':Survived_0_pclass2,\n",
    "                 u'Unsurvived:pclass==3':Survived_0_pclass3,})\n",
    "df.plot(kind='bar', stacked=True)\n",
    "plt.title(u\"pasenger survived status\")\n",
    "plt.xlabel(u\"Sex\") \n",
    "plt.ylabel(u\"Count\") "
   ]
  },
  {
   "cell_type": "markdown",
   "metadata": {},
   "source": [
    "可以看到，pclass为2,3的男性乘客的幸存率很低，而pclass为1,2的女性乘客则非常高，可以利用这两个特点。"
   ]
  },
  {
   "cell_type": "markdown",
   "metadata": {},
   "source": [
    "##### new"
   ]
  },
  {
   "cell_type": "code",
   "execution_count": 20,
   "metadata": {},
   "outputs": [],
   "source": [
    "def new_female_pclass12(row):\n",
    "    row['Is_female_pclass12'] = 1 if(row['Sex']=='female' and row['Pclass'] in [1,2]) else 0\n",
    "    return row\n",
    "\n",
    "def new_male_pclass23(row):\n",
    "    row['Is_male_pclass23'] = 1 if(row['Sex']=='male' and row['Pclass'] in [2,3]) else 0\n",
    "    return row"
   ]
  },
  {
   "cell_type": "code",
   "execution_count": 21,
   "metadata": {},
   "outputs": [],
   "source": [
    "train_data = train_data.apply(new_female_pclass12, axis=1)\n",
    "test_data = test_data.apply(new_female_pclass12, axis=1)\n",
    "\n",
    "train_data = train_data.apply(new_male_pclass23, axis=1)\n",
    "test_data = test_data.apply(new_male_pclass23, axis=1)"
   ]
  },
  {
   "cell_type": "code",
   "execution_count": 22,
   "metadata": {},
   "outputs": [
    {
     "data": {
      "text/plain": [
       "<matplotlib.axes._subplots.AxesSubplot at 0x7f65df607f50>"
      ]
     },
     "execution_count": 22,
     "metadata": {},
     "output_type": "execute_result"
    },
    {
     "data": {
      "image/png": "[encoded data removed]",
      "text/plain": [
       "<matplotlib.figure.Figure at 0x7f65e4022850>"
      ]
     },
     "metadata": {
      "needs_background": "light"
     },
     "output_type": "display_data"
    }
   ],
   "source": [
    "train_data[['Is_female_pclass12','Is_male_pclass23']].corrwith(train_data.Survived).plot(kind='bar')"
   ]
  },
  {
   "cell_type": "markdown",
   "metadata": {},
   "source": [
    "#### Pclass\n",
    "\n",
    "之前的热图可以看到Pclass跟Survived的相关性有-0.34，非常高了，说明船舱等级同样对与是否幸存影响很大。"
   ]
  },
  {
   "cell_type": "markdown",
   "metadata": {},
   "source": [
    "##### Dig"
   ]
  },
  {
   "cell_type": "code",
   "execution_count": 23,
   "metadata": {},
   "outputs": [],
   "source": [
    "pclass_data = train_data[['Pclass','Fare','Survived','Sex']].copy()"
   ]
  },
  {
   "cell_type": "code",
   "execution_count": 24,
   "metadata": {},
   "outputs": [
    {
     "data": {
      "text/plain": [
       "<matplotlib.text.Text at 0x7f65dfb3e910>"
      ]
     },
     "execution_count": 24,
     "metadata": {},
     "output_type": "execute_result"
    },
    {
     "data": {
      "image/png": "[encoded data removed]",
      "text/plain": [
       "<matplotlib.figure.Figure at 0x7f65e4a23950>"
      ]
     },
     "metadata": {
      "needs_background": "light"
     },
     "output_type": "display_data"
    }
   ],
   "source": [
    "Survived_0 = pclass_data.Pclass[pclass_data.Survived==0].value_counts()\n",
    "Survived_1 = pclass_data.Pclass[pclass_data.Survived==1].value_counts()\n",
    "df=pd.DataFrame({u'Survived':Survived_1,\n",
    "                 u'Unsurvived':Survived_0,})\n",
    "df.plot(kind='bar', stacked=True)\n",
    "plt.title(u\"pasenger survived status\")\n",
    "plt.xlabel(u\"Pclass\") \n",
    "plt.ylabel(u\"Count\") "
   ]
  },
  {
   "cell_type": "markdown",
   "metadata": {},
   "source": [
    "非常明显的差异表现，更高级的船舱对应更高的幸存率。\n",
    "\n",
    "我们知道虽然Pclass有3个级别，但是对应应该有更多的细分，比如是否靠窗、是否有独立卫生间等等，因此结合Fare细分处理。\n",
    "\n",
    "将原本的Pclass:1,2,3细分为11,12,13,21,22,23,31,32,33"
   ]
  },
  {
   "cell_type": "code",
   "execution_count": 25,
   "metadata": {},
   "outputs": [],
   "source": [
    "quantile_1_25 = pclass_data[pclass_data.Pclass==1].Fare.quantile(0.25)\n",
    "quantile_1_50 = pclass_data[pclass_data.Pclass==1].Fare.quantile(0.5)\n",
    "quantile_1_75 = pclass_data[pclass_data.Pclass==1].Fare.quantile(0.75)\n",
    "quantile_1_100 = pclass_data[pclass_data.Pclass==1].Fare.quantile(1)\n",
    "\n",
    "quantile_2_25 = pclass_data[pclass_data.Pclass==2].Fare.quantile(0.25)\n",
    "quantile_2_50 = pclass_data[pclass_data.Pclass==2].Fare.quantile(0.5)\n",
    "quantile_2_75 = pclass_data[pclass_data.Pclass==2].Fare.quantile(0.75)\n",
    "quantile_2_100 = pclass_data[pclass_data.Pclass==2].Fare.quantile(1)\n",
    "\n",
    "quantile_3_25 = pclass_data[pclass_data.Pclass==2].Fare.quantile(0.25)\n",
    "quantile_3_50 = pclass_data[pclass_data.Pclass==2].Fare.quantile(0.5)\n",
    "quantile_3_75 = pclass_data[pclass_data.Pclass==2].Fare.quantile(0.75)\n",
    "quantile_3_100 = pclass_data[pclass_data.Pclass==2].Fare.quantile(1)\n",
    "\n",
    "quantiles = [[quantile_1_25,quantile_1_50,quantile_1_75,quantile_1_100],\n",
    "             [quantile_2_25,quantile_2_50,quantile_2_75,quantile_2_100],\n",
    "             [quantile_3_25,quantile_3_50,quantile_3_75,quantile_3_100]]\n",
    "\n",
    "def pclass_x(row):\n",
    "    pclass = int(row['Pclass'])\n",
    "    fare = row['Fare']\n",
    "    #row['Pclass_x'] = 10*pclass+(1 if fare<=quantiles[pclass-1][0] else (2 if fare<=quantiles[pclass-1][1] else (3 if fare<=quantiles[pclass-1][2] else 4)))\n",
    "    row['Pclass_x'] = 10*pclass+(1 if fare<=quantiles[pclass-1][1] else 2)\n",
    "    row['Pclass_x'] = 0 if row['Pclass_x'] in [11,12,22] else 1\n",
    "    #row['Pclass_sex'] = 10*pclass+row['Sex']\n",
    "    return row"
   ]
  },
  {
   "cell_type": "code",
   "execution_count": 26,
   "metadata": {},
   "outputs": [
    {
     "data": {
      "text/plain": [
       "<matplotlib.text.Text at 0x7f65df2c2450>"
      ]
     },
     "execution_count": 26,
     "metadata": {},
     "output_type": "execute_result"
    },
    {
     "data": {
      "image/png": "[encoded data removed]",
      "text/plain": [
       "<matplotlib.figure.Figure at 0x7f65e4976bd0>"
      ]
     },
     "metadata": {
      "needs_background": "light"
     },
     "output_type": "display_data"
    }
   ],
   "source": [
    "pclass_data = pclass_data.apply(pclass_x, axis=1)\n",
    "\n",
    "Survived_0 = pclass_data.Pclass_x[pclass_data.Survived==0].value_counts()\n",
    "Survived_1 = pclass_data.Pclass_x[pclass_data.Survived==1].value_counts()\n",
    "df=pd.DataFrame({u'Survived':Survived_1,\n",
    "                 u'Unsurvived':Survived_0,})\n",
    "df.plot(kind='bar', stacked=True)\n",
    "plt.title(u\"pasenger survived status\")\n",
    "plt.xlabel(u\"Pclass_x\") \n",
    "plt.ylabel(u\"Count\")"
   ]
  },
  {
   "cell_type": "markdown",
   "metadata": {},
   "source": [
    "再看看相关性。"
   ]
  },
  {
   "cell_type": "code",
   "execution_count": 27,
   "metadata": {},
   "outputs": [
    {
     "name": "stdout",
     "output_type": "stream",
     "text": [
      "Pclass_x corr Survived:-0.348304312531\n"
     ]
    }
   ],
   "source": [
    "print 'Pclass_x corr Survived:'+str(pclass_data.Pclass_x.corr(pclass_data.Survived))"
   ]
  },
  {
   "cell_type": "markdown",
   "metadata": {},
   "source": [
    "略高于Pclass，可以使用。"
   ]
  },
  {
   "cell_type": "markdown",
   "metadata": {},
   "source": [
    "##### new"
   ]
  },
  {
   "cell_type": "code",
   "execution_count": 28,
   "metadata": {},
   "outputs": [],
   "source": [
    "train_data = train_data.apply(pclass_x, axis=1)\n",
    "test_data = test_data.apply(pclass_x, axis=1)"
   ]
  },
  {
   "cell_type": "markdown",
   "metadata": {},
   "source": [
    "#### SibSp & Parch\n",
    "\n",
    "整合一个家庭人数字段看看效果如何。"
   ]
  },
  {
   "cell_type": "markdown",
   "metadata": {},
   "source": [
    "##### Dig"
   ]
  },
  {
   "cell_type": "code",
   "execution_count": 29,
   "metadata": {},
   "outputs": [],
   "source": [
    "family_data = train_data[['SibSp','Parch','Survived']].copy()"
   ]
  },
  {
   "cell_type": "code",
   "execution_count": 30,
   "metadata": {},
   "outputs": [],
   "source": [
    "def familys(row):\n",
    "    row['Family'] = row['SibSp']+row['Parch']+1\n",
    "    row['Family'] = row['Family'] if row['Family']<=3 else 4\n",
    "    return row"
   ]
  },
  {
   "cell_type": "code",
   "execution_count": 31,
   "metadata": {},
   "outputs": [
    {
     "data": {
      "text/plain": [
       "<matplotlib.text.Text at 0x7f65df94e910>"
      ]
     },
     "execution_count": 31,
     "metadata": {},
     "output_type": "execute_result"
    },
    {
     "data": {
      "image/png": "[encoded data removed]",
      "text/plain": [
       "<matplotlib.figure.Figure at 0x7f65e411fb90>"
      ]
     },
     "metadata": {
      "needs_background": "light"
     },
     "output_type": "display_data"
    }
   ],
   "source": [
    "family_data = family_data.apply(familys, axis=1)\n",
    "\n",
    "Survived_0 = family_data.Family[pclass_data.Survived==0].value_counts()\n",
    "Survived_1 = family_data.Family[pclass_data.Survived==1].value_counts()\n",
    "df=pd.DataFrame({u'Survived':Survived_1,\n",
    "                 u'Unsurvived':Survived_0,})\n",
    "df.plot(kind='bar', stacked=True)\n",
    "plt.title(u\"pasenger survived status\")\n",
    "plt.xlabel(u\"Family\") \n",
    "plt.ylabel(u\"Count\")"
   ]
  },
  {
   "cell_type": "markdown",
   "metadata": {},
   "source": [
    "可以看到，还是有一些影响的，相对而言，家人多的幸存几率更大，再看看相关系数。"
   ]
  },
  {
   "cell_type": "code",
   "execution_count": 32,
   "metadata": {},
   "outputs": [
    {
     "name": "stdout",
     "output_type": "stream",
     "text": [
      "Family corr Survived:0.124413217827\n"
     ]
    }
   ],
   "source": [
    "print 'Family corr Survived:'+str(family_data.Family.corr(family_data.Survived))"
   ]
  },
  {
   "cell_type": "markdown",
   "metadata": {},
   "source": [
    "很不错的相关系数，再看看是否独自一人对幸存的影响。"
   ]
  },
  {
   "cell_type": "code",
   "execution_count": 33,
   "metadata": {},
   "outputs": [
    {
     "data": {
      "text/plain": [
       "<matplotlib.axes._subplots.AxesSubplot at 0x7f65df958690>"
      ]
     },
     "execution_count": 33,
     "metadata": {},
     "output_type": "execute_result"
    },
    {
     "data": {
      "image/png": "[encoded data removed]",
      "text/plain": [
       "<matplotlib.figure.Figure at 0x7f65df607ed0>"
      ]
     },
     "metadata": {
      "needs_background": "light"
     },
     "output_type": "display_data"
    }
   ],
   "source": [
    "family_data['Is_alone'] = family_data.Family.apply(lambda f:1 if f<=1 else 0)\n",
    "\n",
    "Survived_0 = family_data.Is_alone[pclass_data.Survived==0].value_counts()\n",
    "Survived_1 = family_data.Is_alone[pclass_data.Survived==1].value_counts()\n",
    "df=pd.DataFrame({u'Survived':Survived_1,\n",
    "                 u'Unsurvived':Survived_0,})\n",
    "df.plot(kind='bar', stacked=True)"
   ]
  },
  {
   "cell_type": "code",
   "execution_count": 34,
   "metadata": {},
   "outputs": [
    {
     "name": "stdout",
     "output_type": "stream",
     "text": [
      "Family corr Survived:-0.2033670857\n"
     ]
    }
   ],
   "source": [
    "print 'Family corr Survived:'+str(family_data.Is_alone.corr(family_data.Survived))"
   ]
  },
  {
   "cell_type": "markdown",
   "metadata": {},
   "source": [
    "##### new"
   ]
  },
  {
   "cell_type": "code",
   "execution_count": 35,
   "metadata": {},
   "outputs": [],
   "source": [
    "train_data = train_data.apply(familys, axis=1)\n",
    "test_data = test_data.apply(familys, axis=1)\n",
    "\n",
    "train_data['Is_alone'] = train_data.Family.apply(lambda f:1 if f<=1 else 0)\n",
    "test_data['Is_alone'] = test_data.Family.apply(lambda f:1 if f<=1 else 0)"
   ]
  },
  {
   "cell_type": "markdown",
   "metadata": {},
   "source": [
    "#### Fare\n",
    "\n",
    "票价分析同年龄分析，划分上使用分位数。本身Fare具有0.26的相关性，也是很高的。"
   ]
  },
  {
   "cell_type": "markdown",
   "metadata": {},
   "source": [
    "##### full"
   ]
  },
  {
   "cell_type": "code",
   "execution_count": 36,
   "metadata": {},
   "outputs": [],
   "source": [
    "train_data.Fare.fillna(train_data.Fare.mean(), inplace=True)\n",
    "test_data.Fare.fillna(test_data.Fare.mean(), inplace=True)"
   ]
  },
  {
   "cell_type": "markdown",
   "metadata": {},
   "source": [
    "##### Dig"
   ]
  },
  {
   "cell_type": "code",
   "execution_count": 37,
   "metadata": {},
   "outputs": [],
   "source": [
    "fare_data = train_data[['Fare','Survived']].copy()"
   ]
  },
  {
   "cell_type": "code",
   "execution_count": 38,
   "metadata": {},
   "outputs": [
    {
     "data": {
      "text/plain": [
       "<matplotlib.text.Text at 0x7f65df450cd0>"
      ]
     },
     "execution_count": 38,
     "metadata": {},
     "output_type": "execute_result"
    },
    {
     "data": {
      "image/png": "[encoded data removed]",
      "text/plain": [
       "<matplotlib.figure.Figure at 0x7f65e48b21d0>"
      ]
     },
     "metadata": {
      "needs_background": "light"
     },
     "output_type": "display_data"
    }
   ],
   "source": [
    "fare_data['Fare_x'] = pd.qcut(fare_data['Fare'], 4)\n",
    "\n",
    "Survived_0 = fare_data.Fare_x[fare_data.Survived==0].value_counts()\n",
    "Survived_1 = fare_data.Fare_x[fare_data.Survived==1].value_counts()\n",
    "df=pd.DataFrame({u'Survived':Survived_1,\n",
    "                 u'Unsurvived':Survived_0,})\n",
    "df.plot(kind='bar', stacked=True)\n",
    "plt.title(u\"pasenger survived status\")\n",
    "plt.xlabel(u\"Fare_x\") \n",
    "plt.ylabel(u\"Count\")"
   ]
  },
  {
   "cell_type": "markdown",
   "metadata": {},
   "source": [
    "##### new"
   ]
  },
  {
   "cell_type": "code",
   "execution_count": 39,
   "metadata": {},
   "outputs": [],
   "source": [
    "train_data['Fare_x'] = pd.qcut(train_data['Fare'], 4)\n",
    "test_data['Fare_x'] = pd.qcut(test_data['Fare'], 4)"
   ]
  },
  {
   "cell_type": "markdown",
   "metadata": {},
   "source": [
    "#### Cabin\n",
    "\n",
    "由于Cabin存在大量缺失值，且缺失原因不明，因此不能填充它，但是我们可以考虑根据是否缺失这一特点来可视化一下。"
   ]
  },
  {
   "cell_type": "code",
   "execution_count": 40,
   "metadata": {},
   "outputs": [],
   "source": [
    "cabin_data = train_data[['Cabin','Survived']].copy()"
   ]
  },
  {
   "cell_type": "code",
   "execution_count": 41,
   "metadata": {},
   "outputs": [
    {
     "data": {
      "text/plain": [
       "<matplotlib.axes._subplots.AxesSubplot at 0x7f65df450e10>"
      ]
     },
     "execution_count": 41,
     "metadata": {},
     "output_type": "execute_result"
    },
    {
     "data": {
      "image/png": "[encoded data removed]",
      "text/plain": [
       "<matplotlib.figure.Figure at 0x7f65df476dd0>"
      ]
     },
     "metadata": {
      "needs_background": "light"
     },
     "output_type": "display_data"
    }
   ],
   "source": [
    "cabin_data['Has_cabin'] = cabin_data.Cabin.apply(lambda c:0 if pd.isnull(c) else 1)\n",
    "\n",
    "Survived_0 = cabin_data.Has_cabin[cabin_data.Survived==0].value_counts()\n",
    "Survived_1 = cabin_data.Has_cabin[cabin_data.Survived==1].value_counts()\n",
    "df=pd.DataFrame({u'Survived':Survived_1,\n",
    "                 u'Unsurvived':Survived_0,})\n",
    "df.plot(kind='bar', stacked=True)"
   ]
  },
  {
   "cell_type": "markdown",
   "metadata": {},
   "source": [
    "可以看到，具有Cabin值的乘客中，大部分都幸存了，这个不确定原因，但是不妨碍我们使用这一特征。"
   ]
  },
  {
   "cell_type": "markdown",
   "metadata": {},
   "source": [
    "##### new"
   ]
  },
  {
   "cell_type": "code",
   "execution_count": 42,
   "metadata": {},
   "outputs": [],
   "source": [
    "train_data['Has_cabin'] = train_data.Cabin.apply(lambda c:0 if pd.isnull(c) else 1)\n",
    "test_data['Has_cabin'] = test_data.Cabin.apply(lambda c:0 if pd.isnull(c) else 1)"
   ]
  },
  {
   "cell_type": "markdown",
   "metadata": {},
   "source": [
    "#### Embarked\n",
    "\n",
    "这一属性本身具有0.11的相关性，实际考虑可能登船顺序跟船舱位置有关。"
   ]
  },
  {
   "cell_type": "markdown",
   "metadata": {},
   "source": [
    "##### Full"
   ]
  },
  {
   "cell_type": "code",
   "execution_count": 43,
   "metadata": {},
   "outputs": [],
   "source": [
    "# 使用数量最多的S填充\n",
    "train_data.Embarked.fillna('S', inplace=True)\n",
    "test_data.Embarked.fillna('S', inplace=True)"
   ]
  },
  {
   "cell_type": "markdown",
   "metadata": {},
   "source": [
    "##### Dig"
   ]
  },
  {
   "cell_type": "code",
   "execution_count": 44,
   "metadata": {},
   "outputs": [],
   "source": [
    "embarked_data = train_data[['Embarked', 'Survived']].copy()"
   ]
  },
  {
   "cell_type": "code",
   "execution_count": 45,
   "metadata": {},
   "outputs": [
    {
     "data": {
      "text/plain": [
       "<matplotlib.axes._subplots.AxesSubplot at 0x7f65df1d1690>"
      ]
     },
     "execution_count": 45,
     "metadata": {},
     "output_type": "execute_result"
    },
    {
     "data": {
      "image/png": "[encoded data removed]",
      "text/plain": [
       "<matplotlib.figure.Figure at 0x7f65df1f0410>"
      ]
     },
     "metadata": {
      "needs_background": "light"
     },
     "output_type": "display_data"
    }
   ],
   "source": [
    "Survived_0 = embarked_data.Embarked[embarked_data.Survived==0].value_counts()\n",
    "Survived_1 = embarked_data.Embarked[embarked_data.Survived==1].value_counts()\n",
    "df=pd.DataFrame({u'Survived':Survived_1,\n",
    "                 u'Unsurvived':Survived_0,})\n",
    "df.plot(kind='bar', stacked=True)"
   ]
  },
  {
   "cell_type": "markdown",
   "metadata": {},
   "source": [
    "可以看到，数据非常不平衡，因此暂不考虑此字段。"
   ]
  },
  {
   "cell_type": "markdown",
   "metadata": {},
   "source": [
    "### Useless Feature Drop\n",
    "\n",
    "当前字段有："
   ]
  },
  {
   "cell_type": "code",
   "execution_count": 46,
   "metadata": {},
   "outputs": [
    {
     "data": {
      "text/plain": [
       "Index([u'PassengerId', u'Survived', u'Pclass', u'Name', u'Sex', u'Age',\n",
       "       u'SibSp', u'Parch', u'Ticket', u'Fare', u'Cabin', u'Embarked',\n",
       "       u'Family_name', u'Personal_name', u'Title', u'Age_8', u'Is_child',\n",
       "       u'Is_youngman', u'Is_female_pclass12', u'Is_male_pclass23', u'Pclass_x',\n",
       "       u'Family', u'Is_alone', u'Fare_x', u'Has_cabin'],\n",
       "      dtype='object')"
      ]
     },
     "execution_count": 46,
     "metadata": {},
     "output_type": "execute_result"
    }
   ],
   "source": [
    "train_data.columns"
   ]
  },
  {
   "cell_type": "markdown",
   "metadata": {},
   "source": [
    "#### 丢弃前暂存后续有用的字段"
   ]
  },
  {
   "cell_type": "code",
   "execution_count": 47,
   "metadata": {},
   "outputs": [],
   "source": [
    "target_data = train_data.Survived.copy()\n",
    "passengerId_data = test_data.PassengerId.copy()"
   ]
  },
  {
   "cell_type": "markdown",
   "metadata": {},
   "source": [
    "#### 分析可丢弃的字段\n",
    "\n",
    "1. PassengerId:只在上传kaggle时有用。\n",
    "2. Survived:目标字段需要丢弃。\n",
    "3. Name、Family_name、Personal_name:名字相关。\n",
    "4. Ticket:不知道咋用。\n",
    "5. Age:被Age_8代替。\n",
    "6. SibSp、Parch:被Family、Is_alone代替。\n",
    "7. Fare:被Fare_x代替。\n",
    "8. Pclass:被Pclass_x代替。"
   ]
  },
  {
   "cell_type": "code",
   "execution_count": 48,
   "metadata": {},
   "outputs": [],
   "source": [
    "drop_list = ['PassengerId', 'Name', 'Family_name', 'Personal_name', \n",
    "             'Cabin', 'Ticket', 'Age', 'SibSp', 'Parch', 'Fare', 'Pclass']\n",
    "\n",
    "train_data.drop(drop_list, axis=1, inplace=True)\n",
    "test_data.drop(drop_list, axis=1, inplace=True)"
   ]
  },
  {
   "cell_type": "markdown",
   "metadata": {},
   "source": [
    "#### 最终热图"
   ]
  },
  {
   "cell_type": "code",
   "execution_count": 49,
   "metadata": {},
   "outputs": [
    {
     "data": {
      "text/plain": [
       "<matplotlib.axes._subplots.AxesSubplot at 0x7f65def1a610>"
      ]
     },
     "execution_count": 49,
     "metadata": {},
     "output_type": "execute_result"
    },
    {
     "data": {
      "image/png": "[encoded data removed]",
      "text/plain": [
       "<matplotlib.figure.Figure at 0x7f65df4e7510>"
      ]
     },
     "metadata": {
      "needs_background": "light"
     },
     "output_type": "display_data"
    }
   ],
   "source": [
    "plt.figure(figsize=(10,10))\n",
    "train_corr = train_data.corr()\n",
    "sns.heatmap(train_corr, center=0, annot=True)"
   ]
  },
  {
   "cell_type": "markdown",
   "metadata": {},
   "source": [
    "#### 丢弃Survived"
   ]
  },
  {
   "cell_type": "code",
   "execution_count": 50,
   "metadata": {},
   "outputs": [],
   "source": [
    "train_data.drop(['Survived'], axis=1, inplace=True)"
   ]
  },
  {
   "cell_type": "markdown",
   "metadata": {},
   "source": [
    "## Data Process"
   ]
  },
  {
   "cell_type": "markdown",
   "metadata": {},
   "source": [
    "### 字符mapping到数值\n",
    "\n",
    "由于很多计算都需要数值型数据，因此将个别字符型mapping到数值上。"
   ]
  },
  {
   "cell_type": "code",
   "execution_count": 51,
   "metadata": {},
   "outputs": [],
   "source": [
    "label = LabelEncoder()\n",
    "for dataset in [train_data,test_data]:    \n",
    "    dataset['Sex_Code'] = label.fit_transform(dataset['Sex'])\n",
    "    dataset['Embarked_Code'] = label.fit_transform(dataset['Embarked'])\n",
    "    dataset['Title_Code'] = label.fit_transform(dataset['Title'])\n",
    "    dataset['Fare_Code'] = label.fit_transform(dataset['Fare_x'])\n",
    "    \n",
    "train_data.drop(['Sex','Embarked','Title','Fare_x'], axis=1, inplace=True)\n",
    "test_data.drop(['Sex','Embarked','Title','Fare_x'], axis=1, inplace=True)"
   ]
  },
  {
   "cell_type": "code",
   "execution_count": 52,
   "metadata": {},
   "outputs": [
    {
     "data": {
      "text/plain": [
       "Index([u'Age_8', u'Is_child', u'Is_youngman', u'Is_female_pclass12',\n",
       "       u'Is_male_pclass23', u'Pclass_x', u'Family', u'Is_alone', u'Has_cabin',\n",
       "       u'Sex_Code', u'Embarked_Code', u'Title_Code', u'Fare_Code'],\n",
       "      dtype='object')"
      ]
     },
     "execution_count": 52,
     "metadata": {},
     "output_type": "execute_result"
    }
   ],
   "source": [
    "train_data.columns"
   ]
  },
  {
   "cell_type": "markdown",
   "metadata": {},
   "source": [
    "### PCA"
   ]
  },
  {
   "cell_type": "markdown",
   "metadata": {},
   "source": [
    "pca = PCA(n_components=5).fit(train_data)\n",
    "print 'explained_variance_ratio:'+str(pca.explained_variance_ratio_)\n",
    "print 'sum pca.explained_variance_ratio_:'+str(sum(pca.explained_variance_ratio_))\n",
    "\n",
    "train_data = pd.DataFrame(pca.transform(train_data))\n",
    "test_data = pd.DataFrame(pca.transform(test_data))"
   ]
  },
  {
   "cell_type": "markdown",
   "metadata": {},
   "source": [
    "## Model Build"
   ]
  },
  {
   "cell_type": "code",
   "execution_count": 53,
   "metadata": {},
   "outputs": [
    {
     "name": "stderr",
     "output_type": "stream",
     "text": [
      "/home/kael/Software/anaconda2/envs/python2/lib/python2.7/site-packages/sklearn/linear_model/stochastic_gradient.py:84: FutureWarning: max_iter and tol parameters have been added in <class 'sklearn.linear_model.passive_aggressive.PassiveAggressiveClassifier'> in 0.19. If both are left unset, they default to max_iter=5 and tol=None. If tol is not None, max_iter defaults to max_iter=1000. From 0.21, default max_iter will be 1000, and default tol will be 1e-3.\n",
      "  \"and default tol will be 1e-3.\" % type(self), FutureWarning)\n",
      "/home/kael/Software/anaconda2/envs/python2/lib/python2.7/site-packages/sklearn/linear_model/stochastic_gradient.py:84: FutureWarning: max_iter and tol parameters have been added in <class 'sklearn.linear_model.stochastic_gradient.SGDClassifier'> in 0.19. If both are left unset, they default to max_iter=5 and tol=None. If tol is not None, max_iter defaults to max_iter=1000. From 0.21, default max_iter will be 1000, and default tol will be 1e-3.\n",
      "  \"and default tol will be 1e-3.\" % type(self), FutureWarning)\n",
      "/home/kael/Software/anaconda2/envs/python2/lib/python2.7/site-packages/sklearn/linear_model/stochastic_gradient.py:84: FutureWarning: max_iter and tol parameters have been added in <class 'sklearn.linear_model.perceptron.Perceptron'> in 0.19. If both are left unset, they default to max_iter=5 and tol=None. If tol is not None, max_iter defaults to max_iter=1000. From 0.21, default max_iter will be 1000, and default tol will be 1e-3.\n",
      "  \"and default tol will be 1e-3.\" % type(self), FutureWarning)\n"
     ]
    },
    {
     "data": {
      "text/html": [
       "<div>\n",
       "<style>\n",
       "    .dataframe thead tr:only-child th {\n",
       "        text-align: right;\n",
       "    }\n",
       "\n",
       "    .dataframe thead th {\n",
       "        text-align: left;\n",
       "    }\n",
       "\n",
       "    .dataframe tbody tr th {\n",
       "        vertical-align: top;\n",
       "    }\n",
       "</style>\n",
       "<table border=\"1\" class=\"dataframe\">\n",
       "  <thead>\n",
       "    <tr style=\"text-align: right;\">\n",
       "      <th></th>\n",
       "      <th>MLA Name</th>\n",
       "      <th>MLA Parameters</th>\n",
       "      <th>MLA Train Accuracy Mean</th>\n",
       "      <th>MLA Test Accuracy Mean</th>\n",
       "      <th>MLA Test Accuracy 3*STD</th>\n",
       "      <th>MLA Time</th>\n",
       "    </tr>\n",
       "  </thead>\n",
       "  <tbody>\n",
       "    <tr>\n",
       "      <th>21</th>\n",
       "      <td>XGBClassifier</td>\n",
       "      <td>{'reg_alpha': 0, 'n_jobs': 1, 'colsample_bytre...</td>\n",
       "      <td>0.857865</td>\n",
       "      <td>0.824627</td>\n",
       "      <td>0.0682744</td>\n",
       "      <td>0.0204056</td>\n",
       "    </tr>\n",
       "    <tr>\n",
       "      <th>3</th>\n",
       "      <td>GradientBoostingClassifier</td>\n",
       "      <td>{'presort': 'auto', 'loss': 'deviance', 'min_i...</td>\n",
       "      <td>0.87191</td>\n",
       "      <td>0.81791</td>\n",
       "      <td>0.0680538</td>\n",
       "      <td>0.0529069</td>\n",
       "    </tr>\n",
       "    <tr>\n",
       "      <th>6</th>\n",
       "      <td>LogisticRegressionCV</td>\n",
       "      <td>{'scoring': None, 'n_jobs': 1, 'verbose': 0, '...</td>\n",
       "      <td>0.831273</td>\n",
       "      <td>0.81791</td>\n",
       "      <td>0.0421229</td>\n",
       "      <td>0.201841</td>\n",
       "    </tr>\n",
       "    <tr>\n",
       "      <th>0</th>\n",
       "      <td>AdaBoostClassifier</td>\n",
       "      <td>{'n_estimators': 50, 'base_estimator': None, '...</td>\n",
       "      <td>0.835581</td>\n",
       "      <td>0.817537</td>\n",
       "      <td>0.0754996</td>\n",
       "      <td>0.0969837</td>\n",
       "    </tr>\n",
       "    <tr>\n",
       "      <th>14</th>\n",
       "      <td>SVC</td>\n",
       "      <td>{'kernel': 'rbf', 'C': 1.0, 'verbose': False, ...</td>\n",
       "      <td>0.840449</td>\n",
       "      <td>0.816418</td>\n",
       "      <td>0.0600317</td>\n",
       "      <td>0.0460294</td>\n",
       "    </tr>\n",
       "    <tr>\n",
       "      <th>2</th>\n",
       "      <td>ExtraTreesClassifier</td>\n",
       "      <td>{'warm_start': False, 'oob_score': False, 'n_j...</td>\n",
       "      <td>0.919476</td>\n",
       "      <td>0.814925</td>\n",
       "      <td>0.0579933</td>\n",
       "      <td>0.0202605</td>\n",
       "    </tr>\n",
       "    <tr>\n",
       "      <th>8</th>\n",
       "      <td>RidgeClassifierCV</td>\n",
       "      <td>{'normalize': False, 'alphas': (0.1, 1.0, 10.0...</td>\n",
       "      <td>0.831086</td>\n",
       "      <td>0.813806</td>\n",
       "      <td>0.0408083</td>\n",
       "      <td>0.00232277</td>\n",
       "    </tr>\n",
       "    <tr>\n",
       "      <th>19</th>\n",
       "      <td>LinearDiscriminantAnalysis</td>\n",
       "      <td>{'solver': 'svd', 'priors': None, 'n_component...</td>\n",
       "      <td>0.831461</td>\n",
       "      <td>0.812313</td>\n",
       "      <td>0.0472409</td>\n",
       "      <td>0.00171828</td>\n",
       "    </tr>\n",
       "    <tr>\n",
       "      <th>15</th>\n",
       "      <td>NuSVC</td>\n",
       "      <td>{'kernel': 'rbf', 'verbose': False, 'probabili...</td>\n",
       "      <td>0.833146</td>\n",
       "      <td>0.810448</td>\n",
       "      <td>0.0791221</td>\n",
       "      <td>0.0552248</td>\n",
       "    </tr>\n",
       "    <tr>\n",
       "      <th>4</th>\n",
       "      <td>RandomForestClassifier</td>\n",
       "      <td>{'warm_start': False, 'oob_score': False, 'n_j...</td>\n",
       "      <td>0.91236</td>\n",
       "      <td>0.808582</td>\n",
       "      <td>0.073923</td>\n",
       "      <td>0.0213416</td>\n",
       "    </tr>\n",
       "    <tr>\n",
       "      <th>16</th>\n",
       "      <td>LinearSVC</td>\n",
       "      <td>{'loss': 'squared_hinge', 'C': 1.0, 'verbose':...</td>\n",
       "      <td>0.826779</td>\n",
       "      <td>0.808209</td>\n",
       "      <td>0.058209</td>\n",
       "      <td>0.0275814</td>\n",
       "    </tr>\n",
       "    <tr>\n",
       "      <th>5</th>\n",
       "      <td>GaussianProcessClassifier</td>\n",
       "      <td>{'warm_start': False, 'kernel': None, 'n_jobs'...</td>\n",
       "      <td>0.889888</td>\n",
       "      <td>0.806343</td>\n",
       "      <td>0.0486522</td>\n",
       "      <td>0.091071</td>\n",
       "    </tr>\n",
       "    <tr>\n",
       "      <th>1</th>\n",
       "      <td>BaggingClassifier</td>\n",
       "      <td>{'warm_start': False, 'max_samples': 1.0, 'bas...</td>\n",
       "      <td>0.913109</td>\n",
       "      <td>0.801119</td>\n",
       "      <td>0.0562047</td>\n",
       "      <td>0.0215463</td>\n",
       "    </tr>\n",
       "    <tr>\n",
       "      <th>17</th>\n",
       "      <td>DecisionTreeClassifier</td>\n",
       "      <td>{'presort': False, 'splitter': 'best', 'min_im...</td>\n",
       "      <td>0.919476</td>\n",
       "      <td>0.798881</td>\n",
       "      <td>0.0739908</td>\n",
       "      <td>0.00141518</td>\n",
       "    </tr>\n",
       "    <tr>\n",
       "      <th>18</th>\n",
       "      <td>ExtraTreeClassifier</td>\n",
       "      <td>{'splitter': 'random', 'min_impurity_decrease'...</td>\n",
       "      <td>0.919476</td>\n",
       "      <td>0.796269</td>\n",
       "      <td>0.101391</td>\n",
       "      <td>0.00105388</td>\n",
       "    </tr>\n",
       "    <tr>\n",
       "      <th>13</th>\n",
       "      <td>KNeighborsClassifier</td>\n",
       "      <td>{'n_neighbors': 5, 'n_jobs': 1, 'algorithm': '...</td>\n",
       "      <td>0.850375</td>\n",
       "      <td>0.796269</td>\n",
       "      <td>0.0662626</td>\n",
       "      <td>0.001123</td>\n",
       "    </tr>\n",
       "    <tr>\n",
       "      <th>20</th>\n",
       "      <td>QuadraticDiscriminantAnalysis</td>\n",
       "      <td>{'priors': None, 'store_covariances': None, 'r...</td>\n",
       "      <td>0.819288</td>\n",
       "      <td>0.785075</td>\n",
       "      <td>0.0767751</td>\n",
       "      <td>0.0014286</td>\n",
       "    </tr>\n",
       "    <tr>\n",
       "      <th>12</th>\n",
       "      <td>GaussianNB</td>\n",
       "      <td>{'priors': None}</td>\n",
       "      <td>0.781835</td>\n",
       "      <td>0.770522</td>\n",
       "      <td>0.0613633</td>\n",
       "      <td>0.00118849</td>\n",
       "    </tr>\n",
       "    <tr>\n",
       "      <th>11</th>\n",
       "      <td>BernoulliNB</td>\n",
       "      <td>{'binarize': 0.0, 'alpha': 1.0, 'fit_prior': T...</td>\n",
       "      <td>0.782397</td>\n",
       "      <td>0.764552</td>\n",
       "      <td>0.078908</td>\n",
       "      <td>0.00137746</td>\n",
       "    </tr>\n",
       "    <tr>\n",
       "      <th>10</th>\n",
       "      <td>Perceptron</td>\n",
       "      <td>{'warm_start': False, 'n_iter': None, 'n_jobs'...</td>\n",
       "      <td>0.768727</td>\n",
       "      <td>0.762687</td>\n",
       "      <td>0.139203</td>\n",
       "      <td>0.00115392</td>\n",
       "    </tr>\n",
       "    <tr>\n",
       "      <th>7</th>\n",
       "      <td>PassiveAggressiveClassifier</td>\n",
       "      <td>{'warm_start': False, 'loss': 'hinge', 'C': 1....</td>\n",
       "      <td>0.759176</td>\n",
       "      <td>0.754478</td>\n",
       "      <td>0.162972</td>\n",
       "      <td>0.0012265</td>\n",
       "    </tr>\n",
       "    <tr>\n",
       "      <th>9</th>\n",
       "      <td>SGDClassifier</td>\n",
       "      <td>{'warm_start': False, 'loss': 'hinge', 'n_jobs...</td>\n",
       "      <td>0.730337</td>\n",
       "      <td>0.732836</td>\n",
       "      <td>0.305053</td>\n",
       "      <td>0.00117016</td>\n",
       "    </tr>\n",
       "  </tbody>\n",
       "</table>\n",
       "</div>"
      ],
      "text/plain": [
       "                         MLA Name  \\\n",
       "21                  XGBClassifier   \n",
       "3      GradientBoostingClassifier   \n",
       "6            LogisticRegressionCV   \n",
       "0              AdaBoostClassifier   \n",
       "14                            SVC   \n",
       "2            ExtraTreesClassifier   \n",
       "8               RidgeClassifierCV   \n",
       "19     LinearDiscriminantAnalysis   \n",
       "15                          NuSVC   \n",
       "4          RandomForestClassifier   \n",
       "16                      LinearSVC   \n",
       "5       GaussianProcessClassifier   \n",
       "1               BaggingClassifier   \n",
       "17         DecisionTreeClassifier   \n",
       "18            ExtraTreeClassifier   \n",
       "13           KNeighborsClassifier   \n",
       "20  QuadraticDiscriminantAnalysis   \n",
       "12                     GaussianNB   \n",
       "11                    BernoulliNB   \n",
       "10                     Perceptron   \n",
       "7     PassiveAggressiveClassifier   \n",
       "9                   SGDClassifier   \n",
       "\n",
       "                                       MLA Parameters MLA Train Accuracy Mean  \\\n",
       "21  {'reg_alpha': 0, 'n_jobs': 1, 'colsample_bytre...                0.857865   \n",
       "3   {'presort': 'auto', 'loss': 'deviance', 'min_i...                 0.87191   \n",
       "6   {'scoring': None, 'n_jobs': 1, 'verbose': 0, '...                0.831273   \n",
       "0   {'n_estimators': 50, 'base_estimator': None, '...                0.835581   \n",
       "14  {'kernel': 'rbf', 'C': 1.0, 'verbose': False, ...                0.840449   \n",
       "2   {'warm_start': False, 'oob_score': False, 'n_j...                0.919476   \n",
       "8   {'normalize': False, 'alphas': (0.1, 1.0, 10.0...                0.831086   \n",
       "19  {'solver': 'svd', 'priors': None, 'n_component...                0.831461   \n",
       "15  {'kernel': 'rbf', 'verbose': False, 'probabili...                0.833146   \n",
       "4   {'warm_start': False, 'oob_score': False, 'n_j...                 0.91236   \n",
       "16  {'loss': 'squared_hinge', 'C': 1.0, 'verbose':...                0.826779   \n",
       "5   {'warm_start': False, 'kernel': None, 'n_jobs'...                0.889888   \n",
       "1   {'warm_start': False, 'max_samples': 1.0, 'bas...                0.913109   \n",
       "17  {'presort': False, 'splitter': 'best', 'min_im...                0.919476   \n",
       "18  {'splitter': 'random', 'min_impurity_decrease'...                0.919476   \n",
       "13  {'n_neighbors': 5, 'n_jobs': 1, 'algorithm': '...                0.850375   \n",
       "20  {'priors': None, 'store_covariances': None, 'r...                0.819288   \n",
       "12                                   {'priors': None}                0.781835   \n",
       "11  {'binarize': 0.0, 'alpha': 1.0, 'fit_prior': T...                0.782397   \n",
       "10  {'warm_start': False, 'n_iter': None, 'n_jobs'...                0.768727   \n",
       "7   {'warm_start': False, 'loss': 'hinge', 'C': 1....                0.759176   \n",
       "9   {'warm_start': False, 'loss': 'hinge', 'n_jobs...                0.730337   \n",
       "\n",
       "   MLA Test Accuracy Mean MLA Test Accuracy 3*STD    MLA Time  \n",
       "21               0.824627               0.0682744   0.0204056  \n",
       "3                 0.81791               0.0680538   0.0529069  \n",
       "6                 0.81791               0.0421229    0.201841  \n",
       "0                0.817537               0.0754996   0.0969837  \n",
       "14               0.816418               0.0600317   0.0460294  \n",
       "2                0.814925               0.0579933   0.0202605  \n",
       "8                0.813806               0.0408083  0.00232277  \n",
       "19               0.812313               0.0472409  0.00171828  \n",
       "15               0.810448               0.0791221   0.0552248  \n",
       "4                0.808582                0.073923   0.0213416  \n",
       "16               0.808209                0.058209   0.0275814  \n",
       "5                0.806343               0.0486522    0.091071  \n",
       "1                0.801119               0.0562047   0.0215463  \n",
       "17               0.798881               0.0739908  0.00141518  \n",
       "18               0.796269                0.101391  0.00105388  \n",
       "13               0.796269               0.0662626    0.001123  \n",
       "20               0.785075               0.0767751   0.0014286  \n",
       "12               0.770522               0.0613633  0.00118849  \n",
       "11               0.764552                0.078908  0.00137746  \n",
       "10               0.762687                0.139203  0.00115392  \n",
       "7                0.754478                0.162972   0.0012265  \n",
       "9                0.732836                0.305053  0.00117016  "
      ]
     },
     "execution_count": 53,
     "metadata": {},
     "output_type": "execute_result"
    }
   ],
   "source": [
    "# 构建所有待测试的模型实例，参数都是默认\n",
    "MLA = [\n",
    "    #Ensemble Methods\n",
    "    ensemble.AdaBoostClassifier(),\n",
    "    ensemble.BaggingClassifier(),\n",
    "    ensemble.ExtraTreesClassifier(),\n",
    "    ensemble.GradientBoostingClassifier(),\n",
    "    ensemble.RandomForestClassifier(),\n",
    "\n",
    "    #Gaussian Processes\n",
    "    gaussian_process.GaussianProcessClassifier(),\n",
    "    \n",
    "    #GLM\n",
    "    linear_model.LogisticRegressionCV(),\n",
    "    linear_model.PassiveAggressiveClassifier(),\n",
    "    linear_model.RidgeClassifierCV(),\n",
    "    linear_model.SGDClassifier(),\n",
    "    linear_model.Perceptron(),\n",
    "    \n",
    "    #Navies Bayes\n",
    "    naive_bayes.BernoulliNB(),\n",
    "    naive_bayes.GaussianNB(),\n",
    "    \n",
    "    #Nearest Neighbor\n",
    "    neighbors.KNeighborsClassifier(),\n",
    "    \n",
    "    #SVM\n",
    "    svm.SVC(probability=True),\n",
    "    svm.NuSVC(probability=True),\n",
    "    svm.LinearSVC(),\n",
    "    \n",
    "    #Trees    \n",
    "    tree.DecisionTreeClassifier(),\n",
    "    tree.ExtraTreeClassifier(),\n",
    "    \n",
    "    #Discriminant Analysis\n",
    "    discriminant_analysis.LinearDiscriminantAnalysis(),\n",
    "    discriminant_analysis.QuadraticDiscriminantAnalysis(),\n",
    "\n",
    "    \n",
    "    #xgboost: http://xgboost.readthedocs.io/en/latest/model.html\n",
    "    XGBClassifier()    \n",
    "]\n",
    "\n",
    "#split dataset in cross-validation with this splitter class: http://scikit-learn.org/stable/modules/generated/sklearn.model_selection.ShuffleSplit.html#sklearn.model_selection.ShuffleSplit\n",
    "#note: this is an alternative to train_test_split\n",
    "cv_split = model_selection.ShuffleSplit(n_splits = 10, test_size = .3, train_size = .6, random_state = 0) # run model 10x with 60/30 split intentionally leaving out 10%\n",
    "\n",
    "#create table to compare MLA metrics\n",
    "MLA_columns = ['MLA Name', 'MLA Parameters','MLA Train Accuracy Mean', 'MLA Test Accuracy Mean', 'MLA Test Accuracy 3*STD' ,'MLA Time']\n",
    "MLA_compare = pd.DataFrame(columns = MLA_columns)\n",
    "\n",
    "row_index = 0\n",
    "for alg in MLA:\n",
    "\n",
    "    #set name and parameters\n",
    "    MLA_name = alg.__class__.__name__\n",
    "    MLA_compare.loc[row_index, 'MLA Name'] = MLA_name\n",
    "    MLA_compare.loc[row_index, 'MLA Parameters'] = str(alg.get_params())\n",
    "    \n",
    "    #score model with cross validation: http://scikit-learn.org/stable/modules/generated/sklearn.model_selection.cross_validate.html#sklearn.model_selection.cross_validate\n",
    "    cv_results = model_selection.cross_validate(alg, train_data, target_data, cv  = cv_split)\n",
    "\n",
    "    MLA_compare.loc[row_index, 'MLA Time'] = cv_results['fit_time'].mean()\n",
    "    MLA_compare.loc[row_index, 'MLA Train Accuracy Mean'] = cv_results['train_score'].mean()\n",
    "    MLA_compare.loc[row_index, 'MLA Test Accuracy Mean'] = cv_results['test_score'].mean()   \n",
    "    #if this is a non-bias random sample, then +/-3 standard deviations (std) from the mean, should statistically capture 99.7% of the subsets\n",
    "    MLA_compare.loc[row_index, 'MLA Test Accuracy 3*STD'] = cv_results['test_score'].std()*3   #let's know the worst that can happen!\n",
    "    \n",
    "\n",
    "    #save MLA predictions - see section 6 for usage\n",
    "    #alg.fit(train_data, target_data)\n",
    "    #MLA_predict[MLA_name] = alg.predict(train_data)\n",
    "    \n",
    "    row_index+=1\n",
    "\n",
    "    \n",
    "#print and sort table: https://pandas.pydata.org/pandas-docs/stable/generated/pandas.DataFrame.sort_values.html\n",
    "MLA_compare.sort_values(by = ['MLA Test Accuracy Mean'], ascending = False, inplace = True)\n",
    "MLA_compare"
   ]
  },
  {
   "cell_type": "code",
   "execution_count": 54,
   "metadata": {},
   "outputs": [
    {
     "data": {
      "text/plain": [
       "<matplotlib.text.Text at 0x7f65defcb610>"
      ]
     },
     "execution_count": 54,
     "metadata": {},
     "output_type": "execute_result"
    },
    {
     "data": {
      "image/png": "[encoded data removed]",
      "text/plain": [
       "<matplotlib.figure.Figure at 0x7f65df22c190>"
      ]
     },
     "metadata": {
      "needs_background": "light"
     },
     "output_type": "display_data"
    }
   ],
   "source": [
    "#barplot using https://seaborn.pydata.org/generated/seaborn.barplot.html\n",
    "sns.barplot(x='MLA Test Accuracy Mean', y = 'MLA Name', data = MLA_compare, color = 'm')\n",
    "\n",
    "#prettify using pyplot: https://matplotlib.org/api/pyplot_api.html\n",
    "plt.title('Machine Learning Algorithm Accuracy Score \\n')\n",
    "plt.xlabel('Accuracy Score (%)')\n",
    "plt.ylabel('Algorithm')"
   ]
  },
  {
   "cell_type": "code",
   "execution_count": 55,
   "metadata": {},
   "outputs": [
    {
     "name": "stdout",
     "output_type": "stream",
     "text": [
      "Hard Voting Training w/bin score mean: 87.55\n",
      "Hard Voting Test w/bin score mean: 82.46\n",
      "Hard Voting Test w/bin score 3*std: +/- 5.48\n",
      "----------\n",
      "Soft Voting Training w/bin score mean: 88.73\n",
      "Soft Voting Test w/bin score mean: 81.90\n",
      "Soft Voting Test w/bin score 3*std: +/- 4.48\n",
      "----------\n"
     ]
    }
   ],
   "source": [
    "#why choose one model, when you can pick them all with voting classifier\n",
    "#http://scikit-learn.org/stable/modules/generated/sklearn.ensemble.VotingClassifier.html\n",
    "#removed models w/o attribute 'predict_proba' required for vote classifier and models with a 1.0 correlation to another model\n",
    "vote_est = [\n",
    "    #Ensemble Methods: http://scikit-learn.org/stable/modules/ensemble.html\n",
    "    ('ada', ensemble.AdaBoostClassifier()),\n",
    "    ('bc', ensemble.BaggingClassifier()),\n",
    "    ('etc',ensemble.ExtraTreesClassifier()),\n",
    "    ('gbc', ensemble.GradientBoostingClassifier()),\n",
    "    ('rfc', ensemble.RandomForestClassifier()),\n",
    "\n",
    "    #Gaussian Processes: http://scikit-learn.org/stable/modules/gaussian_process.html#gaussian-process-classification-gpc\n",
    "    ('gpc', gaussian_process.GaussianProcessClassifier()),\n",
    "    \n",
    "    #GLM: http://scikit-learn.org/stable/modules/linear_model.html#logistic-regression\n",
    "    ('lr', linear_model.LogisticRegressionCV()),\n",
    "    \n",
    "    #Navies Bayes: http://scikit-learn.org/stable/modules/naive_bayes.html\n",
    "    ('bnb', naive_bayes.BernoulliNB()),\n",
    "    ('gnb', naive_bayes.GaussianNB()),\n",
    "    \n",
    "    #Nearest Neighbor: http://scikit-learn.org/stable/modules/neighbors.html\n",
    "    ('knn', neighbors.KNeighborsClassifier()),\n",
    "    \n",
    "    #SVM: http://scikit-learn.org/stable/modules/svm.html\n",
    "    ('svc', svm.SVC(probability=True)),\n",
    "    \n",
    "    #xgboost: http://xgboost.readthedocs.io/en/latest/model.html\n",
    "   ('xgb', XGBClassifier())\n",
    "\n",
    "]\n",
    "\n",
    "\n",
    "#Hard Vote or majority rules\n",
    "vote_hard = ensemble.VotingClassifier(estimators = vote_est , voting = 'hard')\n",
    "vote_hard_cv = model_selection.cross_validate(vote_hard, train_data, target_data, cv= cv_split)\n",
    "vote_hard.fit(train_data, target_data)\n",
    "\n",
    "print(\"Hard Voting Training w/bin score mean: {:.2f}\". format(vote_hard_cv['train_score'].mean()*100)) \n",
    "print(\"Hard Voting Test w/bin score mean: {:.2f}\". format(vote_hard_cv['test_score'].mean()*100))\n",
    "print(\"Hard Voting Test w/bin score 3*std: +/- {:.2f}\". format(vote_hard_cv['test_score'].std()*100*3))\n",
    "print('*'*100)\n",
    "\n",
    "\n",
    "#Soft Vote or weighted probabilities\n",
    "vote_soft = ensemble.VotingClassifier(estimators = vote_est , voting = 'soft')\n",
    "vote_soft_cv = model_selection.cross_validate(vote_soft, train_data, target_data, cv  = cv_split)\n",
    "vote_soft.fit(train_data, target_data)\n",
    "\n",
    "print(\"Soft Voting Training w/bin score mean: {:.2f}\". format(vote_soft_cv['train_score'].mean()*100)) \n",
    "print(\"Soft Voting Test w/bin score mean: {:.2f}\". format(vote_soft_cv['test_score'].mean()*100))\n",
    "print(\"Soft Voting Test w/bin score 3*std: +/- {:.2f}\". format(vote_soft_cv['test_score'].std()*100*3))\n",
    "print('*'*100)"
   ]
  },
  {
   "cell_type": "markdown",
   "metadata": {},
   "source": [
    "## Submit"
   ]
  },
  {
   "cell_type": "code",
   "execution_count": 56,
   "metadata": {},
   "outputs": [],
   "source": [
    "y_hat = vote_soft.predict(test_data)\n",
    "pd.DataFrame({'PassengerId':list(passengerId_data), 'Survived':y_hat}).to_csv('submission_mlax.csv', index=False)"
   ]
  },
  {
   "cell_type": "markdown",
   "metadata": {},
   "source": [
    "#### 得分情况\n",
    "\n",
    "* 第一次：排名7288 in 9,879 teams，得分0.76555，Top 74%。"
   ]
  },
  {
   "cell_type": "markdown",
   "metadata": {},
   "source": [
    "## 记录\n",
    "\n",
    "1. 第一版：模型在valid上的得分最终为0.843575418994。\n",
    "2. 第二版：对base_score修正为0.383838，在valid上最终得分为0.849162011173。\n",
    "3. 第三版：增加Is_youngman字段，在valid上最终得分为0.793296089385，说明这一特征的加入起到的负面影响更大，先去掉吧。\n",
    "4. 第四版：增加了多模型融合，对测试集、验证集有提升，但是提交kaggle得分没变。\n",
    "5. 第五版：增加PCA，目前应该是存在数据维度较高问题的。\n",
    "6. 第六版：选择不同的算法得到的不同模型进行融合，而不仅仅是使用xgboost。"
   ]
  },
  {
   "cell_type": "markdown",
   "metadata": {},
   "source": [
    "## Knowledge Point"
   ]
  },
  {
   "cell_type": "markdown",
   "metadata": {},
   "source": [
    "1. mapping操作：将字符型字段的每个取值都映射到一个数字上，可以使用LabelEnconder。\n",
    "2. age等的离散化操作：可以使用pd.qcut、pd.cuta来实现:\n",
    "    * qcut是根据这些值的频率来选择箱子的均匀间隔，即每个箱子中含有的数的数量是相同的\n",
    "    * cut将根据值本身来选择箱子均匀间隔，即每个箱子的间距都是相同的\n",
    "3. 根据条件对一列中的某些位置赋值：dataset['IsAlone'].loc[dataset['FamilySize'] > 1] = 0。\n",
    "4. 多模型举手表决：ensemble.VotingClassifier。\n",
    "5. 多模型对比：model build部分，将结果拼接到一个DataFrame方便可视化。"
   ]
  }
 ],
 "metadata": {
  "kernelspec": {
   "display_name": "Python 2",
   "language": "python",
   "name": "python2"
  },
  "language_info": {
   "codemirror_mode": {
    "name": "ipython",
    "version": 2
   },
   "file_extension": ".py",
   "mimetype": "text/x-python",
   "name": "python",
   "nbconvert_exporter": "python",
   "pygments_lexer": "ipython2",
   "version": "2.7.13"
  }
 },
 "nbformat": 4,
 "nbformat_minor": 2
}
